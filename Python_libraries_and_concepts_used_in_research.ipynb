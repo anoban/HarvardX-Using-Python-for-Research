{
 "cells": [
  {
   "cell_type": "markdown",
   "id": "d49df10e-67b8-4d16-a47b-bff1453d0787",
   "metadata": {},
   "source": [
    "## **Scope rules**\n",
    "-------"
   ]
  },
  {
   "cell_type": "markdown",
   "id": "78942f02-2e01-48d6-b584-f1fb9d2a9344",
   "metadata": {},
   "source": [
    "**When in different places of the code functions/variables with same name are defined, how does Python decides to select one among them??**    \n",
    "**Each variable name belongs to a certain abstract environment aka namespace**   \n",
    "      \n",
    "**When having to select one among many identically named variables/functions Python uses _Scope rules_    \n",
    "Python searches for the object with provided name, layer by layer, moving from inner layers towards outer layers and uses the first object it encounters with the provided variable name**"
   ]
  },
  {
   "cell_type": "markdown",
   "id": "aba54f3c-ceb1-46d7-9ac1-9f60d7fadfc8",
   "metadata": {},
   "source": [
    "**Scope rules are represented by the acronym LEGB which stands for:     \n",
    "&emsp; &emsp; &emsp; &emsp; &emsp; L - Local: the current function you are in       \n",
    "&emsp; &emsp; &emsp; &emsp; &emsp; E - Enclosing function: the function that called the current function       \n",
    "&emsp; &emsp; &emsp; &emsp; &emsp; G - Global: the module in which the function was defined       \n",
    "&emsp; &emsp; &emsp; &emsp; &emsp; B - Built-in: Python's defaults**"
   ]
  },
  {
   "cell_type": "markdown",
   "id": "de8c7c6b-ceb6-424e-b209-0d24d22ea180",
   "metadata": {},
   "source": [
    "**If Python cannot find the object with requested name anywhere it raises a `name error exception`.**"
   ]
  },
  {
   "cell_type": "code",
   "execution_count": 3,
   "id": "de433b56-076e-465b-acd5-19dba9eadf05",
   "metadata": {},
   "outputs": [],
   "source": [
    "def update():\n",
    "    x.append(1)"
   ]
  },
  {
   "cell_type": "code",
   "execution_count": 5,
   "id": "482dfae6-d313-4186-9062-a71eae9c46cb",
   "metadata": {},
   "outputs": [
    {
     "ename": "NameError",
     "evalue": "name 'x' is not defined",
     "output_type": "error",
     "traceback": [
      "\u001b[1;31m---------------------------------------------------------------------------\u001b[0m",
      "\u001b[1;31mNameError\u001b[0m                                 Traceback (most recent call last)",
      "\u001b[1;32m~\\AppData\\Local\\Temp/ipykernel_6704/539576767.py\u001b[0m in \u001b[0;36m<module>\u001b[1;34m\u001b[0m\n\u001b[1;32m----> 1\u001b[1;33m \u001b[0mupdate\u001b[0m\u001b[1;33m(\u001b[0m\u001b[1;33m)\u001b[0m\u001b[1;33m\u001b[0m\u001b[1;33m\u001b[0m\u001b[0m\n\u001b[0m",
      "\u001b[1;32m~\\AppData\\Local\\Temp/ipykernel_6704/2769190616.py\u001b[0m in \u001b[0;36mupdate\u001b[1;34m()\u001b[0m\n\u001b[0;32m      1\u001b[0m \u001b[1;32mdef\u001b[0m \u001b[0mupdate\u001b[0m\u001b[1;33m(\u001b[0m\u001b[1;33m)\u001b[0m\u001b[1;33m:\u001b[0m\u001b[1;33m\u001b[0m\u001b[1;33m\u001b[0m\u001b[0m\n\u001b[1;32m----> 2\u001b[1;33m     \u001b[0mx\u001b[0m\u001b[1;33m.\u001b[0m\u001b[0mappend\u001b[0m\u001b[1;33m(\u001b[0m\u001b[1;36m1\u001b[0m\u001b[1;33m)\u001b[0m\u001b[1;33m\u001b[0m\u001b[1;33m\u001b[0m\u001b[0m\n\u001b[0m",
      "\u001b[1;31mNameError\u001b[0m: name 'x' is not defined"
     ]
    }
   ],
   "source": [
    "update()"
   ]
  },
  {
   "cell_type": "markdown",
   "id": "1f252077-8246-42fb-b4d3-c3422ec57f03",
   "metadata": {},
   "source": [
    "**`NameError: name 'x' is not defined`**"
   ]
  },
  {
   "cell_type": "code",
   "execution_count": 6,
   "id": "f2f5d28a-171a-4309-8429-5494799b764f",
   "metadata": {},
   "outputs": [],
   "source": [
    "x = [1,2]"
   ]
  },
  {
   "cell_type": "code",
   "execution_count": 7,
   "id": "2c97f402-8a59-40e0-ba8c-83f485d405ba",
   "metadata": {},
   "outputs": [],
   "source": [
    "update()"
   ]
  },
  {
   "cell_type": "code",
   "execution_count": 8,
   "id": "b626a479-1cc2-415f-96e8-4a5507dc2b89",
   "metadata": {},
   "outputs": [
    {
     "data": {
      "text/plain": [
       "[1, 2, 1]"
      ]
     },
     "execution_count": 8,
     "metadata": {},
     "output_type": "execute_result"
    }
   ],
   "source": [
    "x # updated"
   ]
  },
  {
   "cell_type": "markdown",
   "id": "c5828c5c-ecb3-4872-a089-e4a38c364b93",
   "metadata": {},
   "source": [
    "**Python first looked for the variable `x` inside the function `update` but couldn't find any inside the `local` scope, then it skips the `enclosing function` scope since it is absent, and moves to `global` scope which indeed has the `x` variable. Since this is the first object with the requested name, Python will use this object**\n"
   ]
  },
  {
   "cell_type": "code",
   "execution_count": 13,
   "id": "f6d499d2-2ed3-4726-bf7d-b49c27709125",
   "metadata": {},
   "outputs": [],
   "source": [
    "def update(n,x):\n",
    "    n = 2  # local variable\n",
    "    x.append(4)\n",
    "    print(\"update: \",n,x) "
   ]
  },
  {
   "cell_type": "code",
   "execution_count": 14,
   "id": "d01d8d05-c953-4d8b-a2a5-9150ea90f284",
   "metadata": {},
   "outputs": [],
   "source": [
    "def main(): # enclosing function for the update() function\n",
    "    n = 1  # local variable\n",
    "    x = [0,1,2,3]  # local variable\n",
    "    print(\"main: \",n,x)\n",
    "    update(n,x)  # update() function is called within the main() function\n",
    "    print(\"main: \",n,x)"
   ]
  },
  {
   "cell_type": "code",
   "execution_count": 16,
   "id": "f908cd8e-d798-40de-b002-9fbadae4e402",
   "metadata": {},
   "outputs": [
    {
     "name": "stdout",
     "output_type": "stream",
     "text": [
      "main:  1 [0, 1, 2, 3]\n",
      "update:  2 [0, 1, 2, 3, 4]\n",
      "main:  1 [0, 1, 2, 3, 4]\n"
     ]
    }
   ],
   "source": [
    "main()"
   ]
  },
  {
   "cell_type": "markdown",
   "id": "b6dbfaf8-6f9d-4a94-a29d-fad638dcb2d8",
   "metadata": {},
   "source": [
    "**In the `main()` function `n,x` are defined locally; exist only inside the scope of that function.    \n",
    "At the first `print` statement Python will print the locally defined variables    \n",
    "Then the `update()` function is called form the local scope: which modifies the locally declared `x` not `n`   \n",
    "`Update()` then prints the modified object `x` from the enclosing function's scope and `n` from its own local scope sine that `n` is the first `n` Python finds according to LEGB rule, not the enclosing function `main()`'s `n` variable     \n",
    "`n = 1` defined under `main()`'s local scope cannot be modified by the enclosed `update()`'s `n = 2` definition: integer objects are immutable   \n",
    "But the list `x` can be modified by `update()`'s `x.append(4)` call, since lists are mutable  \n",
    "Then Python returns to the enclosing function from the enclosed function  \n",
    "Then the second print statement returns the unmodified variable `n` and the modified list `x` from the local scope of enclosing `main()` function**"
   ]
  },
  {
   "cell_type": "code",
   "execution_count": 18,
   "id": "d0766d7a-b742-4c06-b671-eba41d100b24",
   "metadata": {},
   "outputs": [
    {
     "name": "stdout",
     "output_type": "stream",
     "text": [
      "2\n",
      "1\n"
     ]
    }
   ],
   "source": [
    "def increment(n):\n",
    "    n += 1\n",
    "    print(n)\n",
    "\n",
    "n = 1\n",
    "increment(n)\n",
    "print(n)"
   ]
  },
  {
   "cell_type": "markdown",
   "id": "96adce22-69db-4a96-b3b7-8b3e30273b1b",
   "metadata": {},
   "source": [
    "**While `n` is defined globally on line 3, it is also defined locally in `increment`. Therefore, the function will print one greater than 1 due to the function and its argument, but the local `n` will not change.**"
   ]
  },
  {
   "cell_type": "code",
   "execution_count": 32,
   "id": "cf06941a-a8e5-4f65-9270-cac22f607a5a",
   "metadata": {},
   "outputs": [],
   "source": [
    "def increment(n):\n",
    "    n += 1"
   ]
  },
  {
   "cell_type": "code",
   "execution_count": 37,
   "id": "a7f3bc9e-fd16-43c6-b5f3-c4fd72c43abd",
   "metadata": {},
   "outputs": [
    {
     "name": "stdout",
     "output_type": "stream",
     "text": [
      "None\n"
     ]
    },
    {
     "ename": "TypeError",
     "evalue": "'<' not supported between instances of 'NoneType' and 'int'",
     "output_type": "error",
     "traceback": [
      "\u001b[1;31m---------------------------------------------------------------------------\u001b[0m",
      "\u001b[1;31mTypeError\u001b[0m                                 Traceback (most recent call last)",
      "\u001b[1;32m~\\AppData\\Local\\Temp/ipykernel_6704/530282093.py\u001b[0m in \u001b[0;36m<module>\u001b[1;34m\u001b[0m\n\u001b[0;32m      1\u001b[0m \u001b[0mn\u001b[0m \u001b[1;33m=\u001b[0m \u001b[1;36m1\u001b[0m\u001b[1;33m\u001b[0m\u001b[1;33m\u001b[0m\u001b[0m\n\u001b[0;32m      2\u001b[0m \u001b[1;33m\u001b[0m\u001b[0m\n\u001b[1;32m----> 3\u001b[1;33m \u001b[1;32mwhile\u001b[0m \u001b[0mn\u001b[0m \u001b[1;33m<\u001b[0m \u001b[1;36m10\u001b[0m\u001b[1;33m:\u001b[0m\u001b[1;33m\u001b[0m\u001b[1;33m\u001b[0m\u001b[0m\n\u001b[0m\u001b[0;32m      4\u001b[0m     \u001b[0mn\u001b[0m \u001b[1;33m=\u001b[0m \u001b[0mincrement\u001b[0m\u001b[1;33m(\u001b[0m\u001b[0mn\u001b[0m\u001b[1;33m)\u001b[0m\u001b[1;33m\u001b[0m\u001b[1;33m\u001b[0m\u001b[0m\n\u001b[0;32m      5\u001b[0m \u001b[1;33m\u001b[0m\u001b[0m\n",
      "\u001b[1;31mTypeError\u001b[0m: '<' not supported between instances of 'NoneType' and 'int'"
     ]
    }
   ],
   "source": [
    "n = 1\n",
    "\n",
    "while n < 10:\n",
    "    n = increment(n)\n",
    "print(n)"
   ]
  },
  {
   "cell_type": "markdown",
   "id": "d5dea601-55f7-44d4-8515-cf583edff908",
   "metadata": {},
   "source": [
    "**`'<' not supported between instances of 'NoneType' and 'int'` thrown since `increment()` doesn't return an output; this its output is of type `NoneType`**"
   ]
  },
  {
   "cell_type": "code",
   "execution_count": 38,
   "id": "51ce3360-4934-4ea8-b9fb-273a9f12c6b9",
   "metadata": {},
   "outputs": [],
   "source": [
    "def increment(n):\n",
    "    n += 1\n",
    "    return n"
   ]
  },
  {
   "cell_type": "code",
   "execution_count": 40,
   "id": "96f4c601-27b4-49ca-8008-9a9b0f9af9b5",
   "metadata": {},
   "outputs": [
    {
     "name": "stdout",
     "output_type": "stream",
     "text": [
      "10\n"
     ]
    }
   ],
   "source": [
    "n = 1\n",
    "\n",
    "while n < 10:\n",
    "    n = increment(n)\n",
    "print(n)"
   ]
  },
  {
   "cell_type": "markdown",
   "id": "a6bde029-e8f1-46a6-bec8-ec54175a8a41",
   "metadata": {},
   "source": [
    "`return(n)` will ensure that the function returns the value. This new value will be assigned to `n`. The while loop will continue until the condition is met."
   ]
  },
  {
   "cell_type": "markdown",
   "id": "7c2f17fb-56cd-4206-9672-2667685ba6a0",
   "metadata": {},
   "source": [
    "### **Classes and object oriented programming**\n",
    "-----------"
   ]
  },
  {
   "cell_type": "markdown",
   "id": "9d38ec79-8de8-4107-bc1c-ad3b7e0947d0",
   "metadata": {},
   "source": [
    "**When an exisiting object type does not fully satisfy the needs a new object type can be created known as a `class`.   \n",
    "Often when a new type of object is created it will most definitely share certain characters with pre-existing object types.   \n",
    "This brings inheritance, which is fundamental to OOP.    \n",
    "Inheritance means defining a new object type (a new class) that inherits properties from existing object types**"
   ]
  },
  {
   "cell_type": "markdown",
   "id": "e622e3d5-4732-4f17-9f60-084886bdc9b2",
   "metadata": {},
   "source": [
    "**e.g. A new class can be defined that does everything what Python's default `list` does, in additional methods that satisfy our needs**"
   ]
  },
  {
   "cell_type": "code",
   "execution_count": 67,
   "id": "99555f61-dd2c-4792-bf2d-17c2bea4e28d",
   "metadata": {},
   "outputs": [],
   "source": [
    "my_list = [2,6,43,7,6,7,8,243,3]  # a lsit object"
   ]
  },
  {
   "cell_type": "code",
   "execution_count": 61,
   "id": "0a6e73a2-4f1c-4e04-b725-9a7d13e62bab",
   "metadata": {},
   "outputs": [],
   "source": [
    "my_list.sort() # sorts the original list"
   ]
  },
  {
   "cell_type": "code",
   "execution_count": 62,
   "id": "0462556b-b24d-429b-9034-1a4419c51818",
   "metadata": {},
   "outputs": [
    {
     "data": {
      "text/plain": [
       "[2, 3, 6, 6, 7, 7, 8, 43, 243]"
      ]
     },
     "execution_count": 62,
     "metadata": {},
     "output_type": "execute_result"
    }
   ],
   "source": [
    "my_list"
   ]
  },
  {
   "cell_type": "markdown",
   "id": "21bd246d-0817-4f0c-8287-ed46c3731b7d",
   "metadata": {},
   "source": [
    "## **New classes are defined using the `class` statement**"
   ]
  },
  {
   "cell_type": "code",
   "execution_count": null,
   "id": "8202ca71-4dc3-43c1-bd4e-d0da74ffd020",
   "metadata": {},
   "outputs": [],
   "source": [
    "class MyList(list):\n",
    "    # pending definitions\n",
    "    "
   ]
  },
  {
   "cell_type": "markdown",
   "id": "c6b9ca4a-1e97-42cc-ad78-f0f85b9cbb85",
   "metadata": {},
   "source": [
    "### Name of the class `\"MyList\"` immediately follows the word `class`.   \n",
    "**MyList is followed by paranthesis, on order to specify inheritance;     \n",
    "When a new class is created via inheritance the new class inherits the attributes defined for the base class (the class it's inheriting attributes from); in this clase a `list` class.**"
   ]
  },
  {
   "cell_type": "markdown",
   "id": "00d14e46-1a4a-42bf-866b-7ba2b3bd2e36",
   "metadata": {},
   "source": [
    "**`class` statement specifies the internal structure of the new class, what methods & operations are supported.   \n",
    "This does not create a new object of the newly defined class type.  \n",
    "When an object of a particular type (class) is created that object is sometimes called an _instance_ of that class.    \n",
    "This is similar to defining functions using `def`, which just defines what that function does when called but does not invoke the function!**"
   ]
  },
  {
   "cell_type": "code",
   "execution_count": 54,
   "id": "85e30f3e-c6b7-4b70-b50c-3f604034b654",
   "metadata": {},
   "outputs": [
    {
     "data": {
      "text/plain": [
       "2"
      ]
     },
     "execution_count": 54,
     "metadata": {},
     "output_type": "execute_result"
    }
   ],
   "source": [
    "min(my_list) # minimum value in the list"
   ]
  },
  {
   "cell_type": "code",
   "execution_count": 56,
   "id": "6ec4d340-8b8e-43df-b4ea-a92645c97c62",
   "metadata": {},
   "outputs": [
    {
     "data": {
      "text/plain": [
       "243"
      ]
     },
     "execution_count": 56,
     "metadata": {},
     "output_type": "execute_result"
    }
   ],
   "source": [
    "max(my_list) # maximum value in the list"
   ]
  },
  {
   "cell_type": "code",
   "execution_count": 68,
   "id": "5906d73a-e091-4549-8a41-084964ea6a61",
   "metadata": {},
   "outputs": [
    {
     "data": {
      "text/plain": [
       "[2, 6, 43, 7, 6, 7, 8, 243, 3]"
      ]
     },
     "execution_count": 68,
     "metadata": {},
     "output_type": "execute_result"
    }
   ],
   "source": [
    "my_list"
   ]
  },
  {
   "cell_type": "code",
   "execution_count": 69,
   "id": "d42184c3-fdcb-4795-8425-f72a2f3b17e4",
   "metadata": {},
   "outputs": [],
   "source": [
    "my_list.remove(243)  # remove() removes elements form list objects"
   ]
  },
  {
   "cell_type": "code",
   "execution_count": 70,
   "id": "ab2de5c2-7ed7-49e2-9360-e91920872268",
   "metadata": {},
   "outputs": [
    {
     "data": {
      "text/plain": [
       "[2, 6, 43, 7, 6, 7, 8, 3]"
      ]
     },
     "execution_count": 70,
     "metadata": {},
     "output_type": "execute_result"
    }
   ],
   "source": [
    "my_list"
   ]
  },
  {
   "cell_type": "markdown",
   "id": "73c111a5-e8a1-496f-b4b1-273090ca3bfe",
   "metadata": {},
   "source": [
    "**When an element occurs multiple times in a list `remove()` removes only the first element**   "
   ]
  },
  {
   "cell_type": "code",
   "execution_count": 72,
   "id": "b9e2b14b-4cac-42fc-911b-104203f83792",
   "metadata": {},
   "outputs": [
    {
     "data": {
      "text/plain": [
       "[2, 6, 43, 7, 6, 7, 8, 3]"
      ]
     },
     "execution_count": 72,
     "metadata": {},
     "output_type": "execute_result"
    }
   ],
   "source": [
    "my_list  # has two 7s"
   ]
  },
  {
   "cell_type": "code",
   "execution_count": 73,
   "id": "19c9516d-131b-40b2-b6d3-e96e8a90d3a1",
   "metadata": {},
   "outputs": [],
   "source": [
    "my_list.remove(7)"
   ]
  },
  {
   "cell_type": "code",
   "execution_count": 76,
   "id": "137c3137-6585-4118-9002-ab6700acfa73",
   "metadata": {},
   "outputs": [
    {
     "data": {
      "text/plain": [
       "[2, 6, 43, 6, 7, 8, 3]"
      ]
     },
     "execution_count": 76,
     "metadata": {},
     "output_type": "execute_result"
    }
   ],
   "source": [
    "my_list  # note that only the first 7 is removed"
   ]
  },
  {
   "cell_type": "code",
   "execution_count": 78,
   "id": "522dcd18-31d9-481c-8917-f462ab364acb",
   "metadata": {},
   "outputs": [],
   "source": [
    "class MyList(list):\n",
    "    def remove_min(self):\n",
    "        self.remove(min(self))  # min() finds the minimum & remove() removes that minimum value\n",
    "    def remove_max(self):\n",
    "        self.remove(max(self))  # max() finds the maximum & remove() removes that maximum value"
   ]
  },
  {
   "cell_type": "markdown",
   "id": "07a7a2d6-4701-4317-a084-654bd856e804",
   "metadata": {},
   "source": [
    "Functions defined inside classes are known as instance methods as they operate on an instance of a class.   \n",
    "e.g **`remove_min()`, `remove_max()`**  \n",
    "By convention the name of the class instance is called `self` and it is always passes as the first argument of functions defined as part of a class.    \n"
   ]
  },
  {
   "cell_type": "code",
   "execution_count": 79,
   "id": "acda6751-3f75-45c3-b655-3543351a16be",
   "metadata": {},
   "outputs": [],
   "source": [
    "x = [3,23,5,12,5,6,67,8,456,8,4,2,9,0,12]\n",
    "X = [\"John\",\"James\",\"Lolly\",\"Molly\",67,2,123,6,87,\"Grace\",\"Rosalia\"]"
   ]
  },
  {
   "cell_type": "code",
   "execution_count": 82,
   "id": "e11c6552-6287-4868-beaa-3261f0de8780",
   "metadata": {},
   "outputs": [],
   "source": [
    "y = MyList(x)  # creating a new MyList class object by copying the elements of list object x"
   ]
  },
  {
   "cell_type": "code",
   "execution_count": 84,
   "id": "575c2716-8fff-4b85-a54a-80a5a9761172",
   "metadata": {},
   "outputs": [
    {
     "data": {
      "text/plain": [
       "[3, 23, 5, 12, 5, 6, 67, 8, 456, 8, 4, 2, 9, 0, 12]"
      ]
     },
     "execution_count": 84,
     "metadata": {},
     "output_type": "execute_result"
    }
   ],
   "source": [
    "y"
   ]
  },
  {
   "cell_type": "code",
   "execution_count": 87,
   "id": "ddb7dfb2-80ff-4f3f-a29f-de8c07d5912a",
   "metadata": {},
   "outputs": [
    {
     "data": {
      "text/plain": [
       "__main__.MyList"
      ]
     },
     "execution_count": 87,
     "metadata": {},
     "output_type": "execute_result"
    }
   ],
   "source": [
    "type(y)"
   ]
  },
  {
   "cell_type": "code",
   "execution_count": 90,
   "id": "61225678-8045-4b0e-8e05-c9a6a59c9642",
   "metadata": {},
   "outputs": [
    {
     "data": {
      "text/plain": [
       "['__add__',\n",
       " '__class__',\n",
       " '__class_getitem__',\n",
       " '__contains__',\n",
       " '__delattr__',\n",
       " '__delitem__',\n",
       " '__dir__',\n",
       " '__doc__',\n",
       " '__eq__',\n",
       " '__format__',\n",
       " '__ge__',\n",
       " '__getattribute__',\n",
       " '__getitem__',\n",
       " '__gt__',\n",
       " '__hash__',\n",
       " '__iadd__',\n",
       " '__imul__',\n",
       " '__init__',\n",
       " '__init_subclass__',\n",
       " '__iter__',\n",
       " '__le__',\n",
       " '__len__',\n",
       " '__lt__',\n",
       " '__mul__',\n",
       " '__ne__',\n",
       " '__new__',\n",
       " '__reduce__',\n",
       " '__reduce_ex__',\n",
       " '__repr__',\n",
       " '__reversed__',\n",
       " '__rmul__',\n",
       " '__setattr__',\n",
       " '__setitem__',\n",
       " '__sizeof__',\n",
       " '__str__',\n",
       " '__subclasshook__',\n",
       " 'append',\n",
       " 'clear',\n",
       " 'copy',\n",
       " 'count',\n",
       " 'extend',\n",
       " 'index',\n",
       " 'insert',\n",
       " 'pop',\n",
       " 'remove',\n",
       " 'reverse',\n",
       " 'sort']"
      ]
     },
     "execution_count": 90,
     "metadata": {},
     "output_type": "execute_result"
    }
   ],
   "source": [
    "dir(x)"
   ]
  },
  {
   "cell_type": "code",
   "execution_count": 89,
   "id": "56db7c7a-0da9-4ac2-81a2-919a72c29ec0",
   "metadata": {},
   "outputs": [
    {
     "data": {
      "text/plain": [
       "['__add__',\n",
       " '__class__',\n",
       " '__class_getitem__',\n",
       " '__contains__',\n",
       " '__delattr__',\n",
       " '__delitem__',\n",
       " '__dict__',\n",
       " '__dir__',\n",
       " '__doc__',\n",
       " '__eq__',\n",
       " '__format__',\n",
       " '__ge__',\n",
       " '__getattribute__',\n",
       " '__getitem__',\n",
       " '__gt__',\n",
       " '__hash__',\n",
       " '__iadd__',\n",
       " '__imul__',\n",
       " '__init__',\n",
       " '__init_subclass__',\n",
       " '__iter__',\n",
       " '__le__',\n",
       " '__len__',\n",
       " '__lt__',\n",
       " '__module__',\n",
       " '__mul__',\n",
       " '__ne__',\n",
       " '__new__',\n",
       " '__reduce__',\n",
       " '__reduce_ex__',\n",
       " '__repr__',\n",
       " '__reversed__',\n",
       " '__rmul__',\n",
       " '__setattr__',\n",
       " '__setitem__',\n",
       " '__sizeof__',\n",
       " '__str__',\n",
       " '__subclasshook__',\n",
       " '__weakref__',\n",
       " 'append',\n",
       " 'clear',\n",
       " 'copy',\n",
       " 'count',\n",
       " 'extend',\n",
       " 'index',\n",
       " 'insert',\n",
       " 'pop',\n",
       " 'remove',\n",
       " 'remove_max',\n",
       " 'remove_min',\n",
       " 'reverse',\n",
       " 'sort']"
      ]
     },
     "execution_count": 89,
     "metadata": {},
     "output_type": "execute_result"
    }
   ],
   "source": [
    "dir(y)"
   ]
  },
  {
   "cell_type": "markdown",
   "id": "ca817c44-c7c0-4577-8cb9-0a7aa270d438",
   "metadata": {},
   "source": [
    "**Note the presence of `'remove_max'`, `'remove_min'` methods in addition to the default methods for `list` objects.**"
   ]
  },
  {
   "cell_type": "code",
   "execution_count": 92,
   "id": "1d5f628a-37e7-4127-95e8-80608a9cae38",
   "metadata": {},
   "outputs": [
    {
     "data": {
      "text/plain": [
       "False"
      ]
     },
     "execution_count": 92,
     "metadata": {},
     "output_type": "execute_result"
    }
   ],
   "source": [
    "dir(x) == dir(y)"
   ]
  },
  {
   "cell_type": "code",
   "execution_count": 103,
   "id": "ec4d1b78-3ee4-42f3-8617-97f6e288e32e",
   "metadata": {},
   "outputs": [
    {
     "data": {
      "text/plain": [
       "{'__dict__', '__module__', '__weakref__', 'remove_max', 'remove_min'}"
      ]
     },
     "execution_count": 103,
     "metadata": {},
     "output_type": "execute_result"
    }
   ],
   "source": [
    "set(dir(x)).symmetric_difference(set(dir(y)))  # methods that are not present in both classes (list & MyList)"
   ]
  },
  {
   "cell_type": "code",
   "execution_count": 105,
   "id": "4d79e7e8-f342-4c79-a4c8-d981925a2772",
   "metadata": {},
   "outputs": [
    {
     "data": {
      "text/plain": [
       "[3, 23, 5, 12, 5, 6, 67, 8, 456, 8, 4, 2, 9, 0, 12]"
      ]
     },
     "execution_count": 105,
     "metadata": {},
     "output_type": "execute_result"
    }
   ],
   "source": [
    "y"
   ]
  },
  {
   "cell_type": "code",
   "execution_count": 107,
   "id": "0b472708-f851-4ae6-8968-ecfb3da4bd86",
   "metadata": {},
   "outputs": [],
   "source": [
    "y.remove_min()"
   ]
  },
  {
   "cell_type": "code",
   "execution_count": 109,
   "id": "95f98d69-7e39-4494-881f-25c952ef4c9e",
   "metadata": {},
   "outputs": [
    {
     "data": {
      "text/plain": [
       "[3, 23, 5, 12, 5, 6, 67, 8, 456, 8, 4, 9, 12]"
      ]
     },
     "execution_count": 109,
     "metadata": {},
     "output_type": "execute_result"
    }
   ],
   "source": [
    "y  # 2 is gone"
   ]
  },
  {
   "cell_type": "code",
   "execution_count": 111,
   "id": "9921a063-d713-4c28-84c7-6e97dbd568ab",
   "metadata": {},
   "outputs": [],
   "source": [
    "y.remove_max()"
   ]
  },
  {
   "cell_type": "code",
   "execution_count": 113,
   "id": "68878850-d3ab-4e2a-8ffb-18dcfbb02fa2",
   "metadata": {},
   "outputs": [
    {
     "data": {
      "text/plain": [
       "[3, 23, 5, 12, 5, 6, 8, 8, 4, 9, 12]"
      ]
     },
     "execution_count": 113,
     "metadata": {},
     "output_type": "execute_result"
    }
   ],
   "source": [
    "y  # 456 is gone"
   ]
  },
  {
   "cell_type": "code",
   "execution_count": 120,
   "id": "a150de53-9a4a-47d0-86e2-43598d1ebb9b",
   "metadata": {},
   "outputs": [],
   "source": [
    "class NewList(list):\n",
    "    def remove_max(self):\n",
    "        self.remove(max(self))\n",
    "    def append_sum(self):\n",
    "        self.append(sum(self))      "
   ]
  },
  {
   "cell_type": "code",
   "execution_count": 122,
   "id": "68ceefe8-49f8-4af7-8920-435921544c95",
   "metadata": {},
   "outputs": [],
   "source": [
    "x = NewList([1,2,3])"
   ]
  },
  {
   "cell_type": "code",
   "execution_count": 124,
   "id": "7205241d-6e6b-4965-a484-3fa68b2f16d6",
   "metadata": {},
   "outputs": [
    {
     "data": {
      "text/plain": [
       "__main__.NewList"
      ]
     },
     "execution_count": 124,
     "metadata": {},
     "output_type": "execute_result"
    }
   ],
   "source": [
    "type(x)"
   ]
  },
  {
   "cell_type": "code",
   "execution_count": null,
   "id": "131981bd-15f7-4b71-9b74-55dfc4fde8f1",
   "metadata": {},
   "outputs": [],
   "source": [
    "# while max(x) < 10:   # hashed as this cell will run forever since the while condition will always be met!\n",
    "    x.remove_max()\n",
    "    x.append_sum()"
   ]
  },
  {
   "cell_type": "markdown",
   "id": "595ed094-ce15-472b-9fe2-8a1346002000",
   "metadata": {},
   "source": [
    "## **NumPy**\n",
    "-----------"
   ]
  },
  {
   "cell_type": "markdown",
   "id": "7ae9ff6c-747e-4648-a06a-7ac1c9890027",
   "metadata": {},
   "source": [
    "**NumPy arrays are an additional data type provided by NumPy; used for representing vectors and matrices.   \n",
    "Unlike dynamically growing python lists size of NumPy arrays are fixed when they're constructed.     \n",
    "Elements of all NumPy arrays must be of same data type; leading to more efficient and simpler code.    \n",
    "By default these elements are floating points.**"
   ]
  },
  {
   "cell_type": "code",
   "execution_count": 1,
   "id": "8314c009-6fa2-42d5-bf5f-db211db6c25b",
   "metadata": {},
   "outputs": [],
   "source": [
    "import numpy as np"
   ]
  },
  {
   "cell_type": "code",
   "execution_count": 3,
   "id": "43781611-ba18-4a19-bd33-e8c5c55471d9",
   "metadata": {},
   "outputs": [],
   "source": [
    "zero_vector = np.zeros(5) # to have 5 elements in the vector"
   ]
  },
  {
   "cell_type": "code",
   "execution_count": 4,
   "id": "0909a7f2-e07f-45ed-950a-a5733160d1f0",
   "metadata": {},
   "outputs": [
    {
     "data": {
      "text/plain": [
       "array([0., 0., 0., 0., 0.])"
      ]
     },
     "execution_count": 4,
     "metadata": {},
     "output_type": "execute_result"
    }
   ],
   "source": [
    "zero_vector"
   ]
  },
  {
   "cell_type": "code",
   "execution_count": 5,
   "id": "318a2276-b46c-4bf7-9422-e896ed2feade",
   "metadata": {},
   "outputs": [],
   "source": [
    "zero_matrix = np.zeros((5,3))  # matrix with 5 rows and 3 columns"
   ]
  },
  {
   "cell_type": "markdown",
   "id": "d755103c-9f22-4605-abd8-d70a4a0ee134",
   "metadata": {},
   "source": [
    "When creating matrices the input is also one but **has to be a tuple**   \n",
    "This tuple specifies two things:   \n",
    "&emsp; &emsp; &emsp; &emsp; **First argument - number of rows in the matrix    \n",
    "&emsp; &emsp; &emsp; &emsp; Second argument - number of columns in the matrix**"
   ]
  },
  {
   "cell_type": "code",
   "execution_count": 6,
   "id": "3954f023-f361-4b65-a10e-479ffb4d1075",
   "metadata": {},
   "outputs": [
    {
     "data": {
      "text/plain": [
       "array([[0., 0., 0.],\n",
       "       [0., 0., 0.],\n",
       "       [0., 0., 0.],\n",
       "       [0., 0., 0.],\n",
       "       [0., 0., 0.]])"
      ]
     },
     "execution_count": 6,
     "metadata": {},
     "output_type": "execute_result"
    }
   ],
   "source": [
    "zero_matrix"
   ]
  },
  {
   "cell_type": "markdown",
   "id": "3fa75b49-104b-4ea4-973c-5ea380bc49df",
   "metadata": {},
   "source": [
    "**`np.zeros()`'s elements will always will be zeroes!**"
   ]
  },
  {
   "cell_type": "markdown",
   "id": "979fa38d-d9b9-4077-a2fc-004d72607e5b",
   "metadata": {},
   "source": [
    "**`np.ones()` will always creates vectors/matrices containing ones**"
   ]
  },
  {
   "cell_type": "code",
   "execution_count": 9,
   "id": "8db7b4a4-e3a6-4fe1-8021-01d16cc77623",
   "metadata": {},
   "outputs": [],
   "source": [
    "ones_vector = np.ones(10)"
   ]
  },
  {
   "cell_type": "code",
   "execution_count": 11,
   "id": "335d0b4c-0414-4298-8b39-9801803b7bd2",
   "metadata": {},
   "outputs": [
    {
     "data": {
      "text/plain": [
       "array([1., 1., 1., 1., 1., 1., 1., 1., 1., 1.])"
      ]
     },
     "execution_count": 11,
     "metadata": {},
     "output_type": "execute_result"
    }
   ],
   "source": [
    "ones_vector"
   ]
  },
  {
   "cell_type": "code",
   "execution_count": 13,
   "id": "23fa6e87-a57e-4e34-9d6e-aa88ec423f48",
   "metadata": {},
   "outputs": [],
   "source": [
    "ones_matrix = np.ones((5,5))"
   ]
  },
  {
   "cell_type": "code",
   "execution_count": 15,
   "id": "3b8acc89-4d71-4e18-bf3d-1a2957d3a422",
   "metadata": {},
   "outputs": [
    {
     "data": {
      "text/plain": [
       "array([[1., 1., 1., 1., 1.],\n",
       "       [1., 1., 1., 1., 1.],\n",
       "       [1., 1., 1., 1., 1.],\n",
       "       [1., 1., 1., 1., 1.],\n",
       "       [1., 1., 1., 1., 1.]])"
      ]
     },
     "execution_count": 15,
     "metadata": {},
     "output_type": "execute_result"
    }
   ],
   "source": [
    "ones_matrix"
   ]
  },
  {
   "cell_type": "markdown",
   "id": "325e01e6-1666-4abd-9559-4cc923ad6294",
   "metadata": {},
   "source": [
    "**`np.empty` will create vectors and matrices that allocates the required space for the object but does not initialize it; meaning the content of such empty NumPy objects could be anything i.e whatever happens to be in the computer's memory at the location where the array is set up**"
   ]
  },
  {
   "cell_type": "code",
   "execution_count": 19,
   "id": "b78538a2-b0ff-4dc0-a0e5-411d74810b7b",
   "metadata": {},
   "outputs": [],
   "source": [
    "empty_vector = np.empty(9)"
   ]
  },
  {
   "cell_type": "code",
   "execution_count": 20,
   "id": "d97fb2b6-d141-4450-9a82-bf30348d198d",
   "metadata": {},
   "outputs": [
    {
     "data": {
      "text/plain": [
       "array([0.000e+000, 0.000e+000, 0.000e+000, 0.000e+000, 0.000e+000,\n",
       "       7.035e-321, 0.000e+000, 0.000e+000, 0.000e+000])"
      ]
     },
     "execution_count": 20,
     "metadata": {},
     "output_type": "execute_result"
    }
   ],
   "source": [
    "empty_vector"
   ]
  },
  {
   "cell_type": "code",
   "execution_count": 24,
   "id": "c5a64025-5a1e-46e1-94b4-8d4a8188ccf2",
   "metadata": {},
   "outputs": [],
   "source": [
    "empty_matrix = np.empty((8,8))"
   ]
  },
  {
   "cell_type": "code",
   "execution_count": 25,
   "id": "f553bb0a-a472-4f2e-b846-8e53ab7d66c9",
   "metadata": {},
   "outputs": [
    {
     "data": {
      "text/plain": [
       "array([[4.3477777e-322, 0.0000000e+000, 4.9406565e-324, 6.2167845e-317,\n",
       "        0.0000000e+000, 0.0000000e+000, 0.0000000e+000, 0.0000000e+000],\n",
       "       [0.0000000e+000, 0.0000000e+000, 0.0000000e+000, 0.0000000e+000,\n",
       "        0.0000000e+000, 0.0000000e+000, 0.0000000e+000, 0.0000000e+000],\n",
       "       [0.0000000e+000, 0.0000000e+000, 0.0000000e+000, 0.0000000e+000,\n",
       "        0.0000000e+000, 0.0000000e+000, 0.0000000e+000, 0.0000000e+000],\n",
       "       [0.0000000e+000, 0.0000000e+000, 0.0000000e+000, 0.0000000e+000,\n",
       "        0.0000000e+000, 0.0000000e+000, 0.0000000e+000, 0.0000000e+000],\n",
       "       [0.0000000e+000, 0.0000000e+000, 0.0000000e+000, 0.0000000e+000,\n",
       "        0.0000000e+000, 0.0000000e+000, 0.0000000e+000, 0.0000000e+000],\n",
       "       [0.0000000e+000, 0.0000000e+000, 0.0000000e+000, 0.0000000e+000,\n",
       "        0.0000000e+000, 0.0000000e+000, 0.0000000e+000, 0.0000000e+000],\n",
       "       [0.0000000e+000, 0.0000000e+000, 0.0000000e+000, 0.0000000e+000,\n",
       "        0.0000000e+000, 0.0000000e+000, 0.0000000e+000, 0.0000000e+000],\n",
       "       [0.0000000e+000, 0.0000000e+000, 0.0000000e+000, 0.0000000e+000,\n",
       "        0.0000000e+000, 0.0000000e+000, 0.0000000e+000, 0.0000000e+000]])"
      ]
     },
     "execution_count": 25,
     "metadata": {},
     "output_type": "execute_result"
    }
   ],
   "source": [
    "empty_matrix"
   ]
  },
  {
   "cell_type": "markdown",
   "id": "50fadc93-55ea-4d6d-abad-4568d309b4ed",
   "metadata": {},
   "source": [
    "**When dealing with very large arrays and when you know for certain that each element of the array will be updated in future, creating empty NumPy arrays will save some computation time.**"
   ]
  },
  {
   "cell_type": "markdown",
   "id": "84f6cbd8-529f-4021-b9d1-18c5bf957515",
   "metadata": {},
   "source": [
    "**NumPy arrays can also be created by directly providing the elements by the `np.array()` function. The input is typically a list of objects.**"
   ]
  },
  {
   "cell_type": "code",
   "execution_count": 27,
   "id": "a0aa61dd-b4ff-449c-8588-28b313cb8498",
   "metadata": {},
   "outputs": [],
   "source": [
    "x = np.array([1,2,3,4,5])"
   ]
  },
  {
   "cell_type": "code",
   "execution_count": 29,
   "id": "3af4b67a-dc0a-4b5b-87e1-b3f3663c5b14",
   "metadata": {},
   "outputs": [],
   "source": [
    "y = np.array([2,4,6,8,10])"
   ]
  },
  {
   "cell_type": "code",
   "execution_count": 31,
   "id": "0f21a023-0dcd-488a-a8ec-da6e3b80ad7f",
   "metadata": {},
   "outputs": [
    {
     "data": {
      "text/plain": [
       "array([1, 2, 3, 4, 5])"
      ]
     },
     "execution_count": 31,
     "metadata": {},
     "output_type": "execute_result"
    }
   ],
   "source": [
    "x"
   ]
  },
  {
   "cell_type": "code",
   "execution_count": 33,
   "id": "074673df-72b4-443f-9fd0-199bb5717499",
   "metadata": {},
   "outputs": [
    {
     "data": {
      "text/plain": [
       "array([ 2,  4,  6,  8, 10])"
      ]
     },
     "execution_count": 33,
     "metadata": {},
     "output_type": "execute_result"
    }
   ],
   "source": [
    "y"
   ]
  },
  {
   "cell_type": "markdown",
   "id": "2d8e5645-7e8a-4de1-8995-c3611d4c4d10",
   "metadata": {},
   "source": [
    "**When creating NumPy matrices (two dimensional NumPy arrays) elements of each row is specified as a list (as nested lists)**"
   ]
  },
  {
   "cell_type": "code",
   "execution_count": 46,
   "id": "8a5affeb-facb-406a-9544-9033d9c1fb61",
   "metadata": {},
   "outputs": [],
   "source": [
    "X = np.array([[1,2,3,4,5],  # it is critical to enclose all the lists representing each rows inside an enclosing list\n",
    "             [3,4,5,6,7],\n",
    "             [5,6,7,8,9],\n",
    "             [7,8,9,10,11],\n",
    "             [9,11,13,15,17]])             "
   ]
  },
  {
   "cell_type": "code",
   "execution_count": 47,
   "id": "3b9a76bc-2aee-4404-ad54-ea3033708fcc",
   "metadata": {},
   "outputs": [
    {
     "data": {
      "text/plain": [
       "array([[ 1,  2,  3,  4,  5],\n",
       "       [ 3,  4,  5,  6,  7],\n",
       "       [ 5,  6,  7,  8,  9],\n",
       "       [ 7,  8,  9, 10, 11],\n",
       "       [ 9, 11, 13, 15, 17]])"
      ]
     },
     "execution_count": 47,
     "metadata": {},
     "output_type": "execute_result"
    }
   ],
   "source": [
    "X"
   ]
  },
  {
   "cell_type": "code",
   "execution_count": 48,
   "id": "35f1d84a-5b69-49ea-88e6-c360899087aa",
   "metadata": {},
   "outputs": [
    {
     "data": {
      "text/plain": [
       "numpy.ndarray"
      ]
     },
     "execution_count": 48,
     "metadata": {},
     "output_type": "execute_result"
    }
   ],
   "source": [
    "type(X)"
   ]
  },
  {
   "cell_type": "markdown",
   "id": "aa3d1a84-915e-4e15-8a7e-7149ff5aefd5",
   "metadata": {},
   "source": [
    "### **When having to turn the table (matrix/two dimensional array) sideways; an operation called taking the transpose of a matrix:**  \n",
    "--------\n",
    "### **i.e first row becomes the first column, second row the second column, so on and so forth**"
   ]
  },
  {
   "cell_type": "code",
   "execution_count": 50,
   "id": "8de598ac-918f-455f-a8c6-377389696fce",
   "metadata": {},
   "outputs": [
    {
     "data": {
      "text/plain": [
       "array([[ 1,  3,  5,  7,  9],\n",
       "       [ 2,  4,  6,  8, 11],\n",
       "       [ 3,  5,  7,  9, 13],\n",
       "       [ 4,  6,  8, 10, 15],\n",
       "       [ 5,  7,  9, 11, 17]])"
      ]
     },
     "execution_count": 50,
     "metadata": {},
     "output_type": "execute_result"
    }
   ],
   "source": [
    "X.transpose()  # note the rotations"
   ]
  },
  {
   "cell_type": "code",
   "execution_count": 52,
   "id": "0977fa45-c6c8-4adf-8c5e-9b9b29fe6463",
   "metadata": {},
   "outputs": [],
   "source": [
    "t = np.array([[3,6],\n",
    "              [5,7]])"
   ]
  },
  {
   "cell_type": "code",
   "execution_count": 54,
   "id": "78461fe6-b6cd-4f2f-a762-94bd71e896c0",
   "metadata": {},
   "outputs": [
    {
     "data": {
      "text/plain": [
       "array([[3, 6],\n",
       "       [5, 7]])"
      ]
     },
     "execution_count": 54,
     "metadata": {},
     "output_type": "execute_result"
    }
   ],
   "source": [
    "t"
   ]
  },
  {
   "cell_type": "code",
   "execution_count": 56,
   "id": "45d89e72-44b4-4f4d-bb0e-9de55036aff9",
   "metadata": {},
   "outputs": [
    {
     "data": {
      "text/plain": [
       "array([[3, 5],\n",
       "       [6, 7]])"
      ]
     },
     "execution_count": 56,
     "metadata": {},
     "output_type": "execute_result"
    }
   ],
   "source": [
    "t.transpose()"
   ]
  },
  {
   "cell_type": "markdown",
   "id": "8cd7f74b-3113-4cf7-a7a0-7d36fe441b67",
   "metadata": {},
   "source": [
    "### **Slicing NumPy arrays**"
   ]
  },
  {
   "cell_type": "markdown",
   "id": "ee886032-a049-4763-8f05-3374a7e137da",
   "metadata": {},
   "source": [
    "**Both NumPy arrays and matrices can be sliced.    \n",
    "Python's indexing applies here as well, when slicing start index is included but the stop index is not!**"
   ]
  },
  {
   "cell_type": "markdown",
   "id": "0d097d31-62b1-44cd-868c-7bfab32b2c02",
   "metadata": {},
   "source": [
    "**NumPy arrays can be created with 3 or 4 dimensions as well, in such cases colon `:` character is used to in place of a fixed value for an index, which means that array elements corresponding to all values of particular index will be returned.**"
   ]
  },
  {
   "cell_type": "code",
   "execution_count": 76,
   "id": "85897ca7-b59a-4ea9-9300-a3ae6f428313",
   "metadata": {},
   "outputs": [],
   "source": [
    "x = np.array([1,2,3])  # 1D array\n",
    "y = np.array([2,4,6])  # 1D array\n",
    "\n",
    "X = np.array([[1,2,3],\n",
    "              [4,5,6]])  # 2D array\n",
    "Y = np.array([[2,4,6],\n",
    "              [8,10,12]])  # 2D array"
   ]
  },
  {
   "cell_type": "markdown",
   "id": "d33c52e8-b594-4df5-ac59-fa942d916bbc",
   "metadata": {},
   "source": [
    "**Accessing elements of NumPy arrays**"
   ]
  },
  {
   "cell_type": "code",
   "execution_count": 77,
   "id": "1e4e9739-12e3-4d93-809c-d49a953e8f72",
   "metadata": {},
   "outputs": [
    {
     "data": {
      "text/plain": [
       "1"
      ]
     },
     "execution_count": 77,
     "metadata": {},
     "output_type": "execute_result"
    }
   ],
   "source": [
    "x[0]  # just like Python's lists"
   ]
  },
  {
   "cell_type": "code",
   "execution_count": 78,
   "id": "aa117199-30f4-41a9-9f83-fad6bd62f966",
   "metadata": {},
   "outputs": [
    {
     "data": {
      "text/plain": [
       "3"
      ]
     },
     "execution_count": 78,
     "metadata": {},
     "output_type": "execute_result"
    }
   ],
   "source": [
    "x[2]"
   ]
  },
  {
   "cell_type": "code",
   "execution_count": 79,
   "id": "76d5fc28-7a20-4b90-9470-b5e708280a07",
   "metadata": {},
   "outputs": [
    {
     "data": {
      "text/plain": [
       "array([1, 2])"
      ]
     },
     "execution_count": 79,
     "metadata": {},
     "output_type": "execute_result"
    }
   ],
   "source": [
    "x[0:2]  # slicing"
   ]
  },
  {
   "cell_type": "code",
   "execution_count": 80,
   "id": "b06f5eb0-b876-4b00-bcab-cb7a85042740",
   "metadata": {},
   "outputs": [
    {
     "data": {
      "text/plain": [
       "array([2, 3])"
      ]
     },
     "execution_count": 80,
     "metadata": {},
     "output_type": "execute_result"
    }
   ],
   "source": [
    "x[1:3]"
   ]
  },
  {
   "cell_type": "code",
   "execution_count": 81,
   "id": "ca1ddd9b-cab8-4daa-a0ff-14df68c422bc",
   "metadata": {},
   "outputs": [
    {
     "data": {
      "text/plain": [
       "array([1, 2, 3])"
      ]
     },
     "execution_count": 81,
     "metadata": {},
     "output_type": "execute_result"
    }
   ],
   "source": [
    "X[0]  # returns the first row"
   ]
  },
  {
   "cell_type": "code",
   "execution_count": 82,
   "id": "1a56d40e-3e05-4f7d-9195-a773f4f5bf31",
   "metadata": {},
   "outputs": [
    {
     "data": {
      "text/plain": [
       "1"
      ]
     },
     "execution_count": 82,
     "metadata": {},
     "output_type": "execute_result"
    }
   ],
   "source": [
    "X[0][0]  # returns the first element of first row"
   ]
  },
  {
   "cell_type": "code",
   "execution_count": 84,
   "id": "93c0f76e-2537-4a48-9ef9-87266df93c1a",
   "metadata": {},
   "outputs": [
    {
     "data": {
      "text/plain": [
       "5"
      ]
     },
     "execution_count": 84,
     "metadata": {},
     "output_type": "execute_result"
    }
   ],
   "source": [
    "X[1][1]  # returns the second element of second row"
   ]
  },
  {
   "cell_type": "markdown",
   "id": "b95b1a61-28da-4e5d-93e6-f773cf81e29d",
   "metadata": {},
   "source": [
    "### **Adding NumPy arrays**"
   ]
  },
  {
   "cell_type": "code",
   "execution_count": 89,
   "id": "0837c264-8690-4d24-86df-15d5f09c50cb",
   "metadata": {},
   "outputs": [
    {
     "data": {
      "text/plain": [
       "array([3, 6, 9])"
      ]
     },
     "execution_count": 89,
     "metadata": {},
     "output_type": "execute_result"
    }
   ],
   "source": [
    "x+y  # simple element wise addition"
   ]
  },
  {
   "cell_type": "code",
   "execution_count": 90,
   "id": "641f297b-d5bb-4c5c-8027-5aeceae240bd",
   "metadata": {},
   "outputs": [
    {
     "data": {
      "text/plain": [
       "array([[ 3,  6,  9],\n",
       "       [12, 15, 18]])"
      ]
     },
     "execution_count": 90,
     "metadata": {},
     "output_type": "execute_result"
    }
   ],
   "source": [
    "X+Y  # arrays of identical dimensions can be added; elements with identical indices are added\n",
    "# i.e X[0][0] + Y[0][0], X[0][1] + Y[0][1] so on"
   ]
  },
  {
   "cell_type": "code",
   "execution_count": 3,
   "id": "adda2342-3075-4d33-927c-c807412a4116",
   "metadata": {},
   "outputs": [],
   "source": [
    "a = np.array([1,2,3,4])\n",
    "b = np.array([6,7,8])"
   ]
  },
  {
   "cell_type": "code",
   "execution_count": 5,
   "id": "c2956c33-9bd6-4ef3-8fee-189283af97ba",
   "metadata": {},
   "outputs": [
    {
     "ename": "ValueError",
     "evalue": "operands could not be broadcast together with shapes (4,) (3,) ",
     "output_type": "error",
     "traceback": [
      "\u001b[1;31m---------------------------------------------------------------------------\u001b[0m",
      "\u001b[1;31mValueError\u001b[0m                                Traceback (most recent call last)",
      "\u001b[1;32m~\\AppData\\Local\\Temp/ipykernel_1232/2182137353.py\u001b[0m in \u001b[0;36m<module>\u001b[1;34m\u001b[0m\n\u001b[1;32m----> 1\u001b[1;33m \u001b[0ma\u001b[0m \u001b[1;33m+\u001b[0m \u001b[0mb\u001b[0m  \u001b[1;31m# arrays of different dimensions cannot be added, even one dimensional arrays (vectors)\u001b[0m\u001b[1;33m\u001b[0m\u001b[1;33m\u001b[0m\u001b[0m\n\u001b[0m",
      "\u001b[1;31mValueError\u001b[0m: operands could not be broadcast together with shapes (4,) (3,) "
     ]
    }
   ],
   "source": [
    "a + b  # arrays of different dimensions cannot be added, even one dimensional arrays (vectors)"
   ]
  },
  {
   "cell_type": "code",
   "execution_count": 6,
   "id": "bd7b80fd-3c6b-4830-9df9-3028b07e4697",
   "metadata": {},
   "outputs": [],
   "source": [
    "c = np.array([1,2,3,4])"
   ]
  },
  {
   "cell_type": "code",
   "execution_count": 7,
   "id": "562d3daa-9311-4345-b57e-5dda9c18f3f6",
   "metadata": {},
   "outputs": [
    {
     "data": {
      "text/plain": [
       "array([2, 4, 6, 8])"
      ]
     },
     "execution_count": 7,
     "metadata": {},
     "output_type": "execute_result"
    }
   ],
   "source": [
    "a + c"
   ]
  },
  {
   "cell_type": "code",
   "execution_count": 18,
   "id": "d01f27a7-6c3d-4f73-a655-49298c2dce5b",
   "metadata": {},
   "outputs": [],
   "source": [
    "even = np.array([2,4,6,8,10,12,14,16,18,20])  # len = 10"
   ]
  },
  {
   "cell_type": "code",
   "execution_count": 19,
   "id": "65466d69-c4a3-4592-be85-ffde029a7902",
   "metadata": {},
   "outputs": [],
   "source": [
    "odd = np.array([1,3,5,7,9,11,13,15,17,19])  # len = 10"
   ]
  },
  {
   "cell_type": "code",
   "execution_count": 20,
   "id": "960cc4db-417d-4292-b2da-efdd44518165",
   "metadata": {},
   "outputs": [
    {
     "data": {
      "text/plain": [
       "array([ 3,  7, 11, 15, 19, 23, 27, 31, 35, 39])"
      ]
     },
     "execution_count": 20,
     "metadata": {},
     "output_type": "execute_result"
    }
   ],
   "source": [
    "odd + even"
   ]
  },
  {
   "cell_type": "code",
   "execution_count": 22,
   "id": "c4fb7923-63c3-4177-b287-37c9a8e22bb3",
   "metadata": {},
   "outputs": [
    {
     "data": {
      "text/plain": [
       "array([ 2,  4,  6,  8, 10, 12, 14, 16, 18, 20])"
      ]
     },
     "execution_count": 22,
     "metadata": {},
     "output_type": "execute_result"
    }
   ],
   "source": [
    "even[:]  # returns all elements"
   ]
  },
  {
   "cell_type": "code",
   "execution_count": 23,
   "id": "83cc3868-3fba-4223-b011-9af385e20ef3",
   "metadata": {},
   "outputs": [
    {
     "data": {
      "text/plain": [
       "array([16, 18, 20])"
      ]
     },
     "execution_count": 23,
     "metadata": {},
     "output_type": "execute_result"
    }
   ],
   "source": [
    "even[7:]  # returns all elements from index 7"
   ]
  },
  {
   "cell_type": "code",
   "execution_count": 25,
   "id": "6954ac40-502b-44b9-924f-dd7ea1f4f57e",
   "metadata": {},
   "outputs": [
    {
     "data": {
      "text/plain": [
       "array([2, 4, 6, 8])"
      ]
     },
     "execution_count": 25,
     "metadata": {},
     "output_type": "execute_result"
    }
   ],
   "source": [
    "even[:4]  # returns all elements upto index 3 - Python excludes last index by default"
   ]
  },
  {
   "cell_type": "code",
   "execution_count": 27,
   "id": "57035f51-39ba-4ddc-b48b-85b1f72031f1",
   "metadata": {},
   "outputs": [
    {
     "data": {
      "text/plain": [
       "array([2, 4])"
      ]
     },
     "execution_count": 27,
     "metadata": {},
     "output_type": "execute_result"
    }
   ],
   "source": [
    "even[:2]  # 1st, 2nd elements"
   ]
  },
  {
   "cell_type": "code",
   "execution_count": 29,
   "id": "034a69fb-0876-42b7-b29d-f5224787ab2b",
   "metadata": {},
   "outputs": [
    {
     "data": {
      "text/plain": [
       "array([10, 12, 14, 16])"
      ]
     },
     "execution_count": 29,
     "metadata": {},
     "output_type": "execute_result"
    }
   ],
   "source": [
    "even[4:8]  # 4th, 5th, 6th & 7th elements"
   ]
  },
  {
   "cell_type": "code",
   "execution_count": 31,
   "id": "f63679aa-95a9-43dd-b58f-612aef4bde99",
   "metadata": {},
   "outputs": [
    {
     "data": {
      "text/plain": [
       "array([15, 19, 23])"
      ]
     },
     "execution_count": 31,
     "metadata": {},
     "output_type": "execute_result"
    }
   ],
   "source": [
    "even[1:4] + odd[5:8]"
   ]
  },
  {
   "cell_type": "code",
   "execution_count": 33,
   "id": "082cc0a7-f456-4803-b0e7-cbc5e0cd45a2",
   "metadata": {},
   "outputs": [],
   "source": [
    "X = np.array([[1,2,3],\n",
    "              [4,5,6]]) \n",
    "Y = np.array([[2,4,6],\n",
    "              [8,10,12]])"
   ]
  },
  {
   "cell_type": "code",
   "execution_count": 35,
   "id": "f51ea5e5-a3d7-4d47-9c49-4085d41e9e39",
   "metadata": {},
   "outputs": [
    {
     "data": {
      "text/plain": [
       "array([4, 5, 6])"
      ]
     },
     "execution_count": 35,
     "metadata": {},
     "output_type": "execute_result"
    }
   ],
   "source": [
    "X[1]  # 2nd row"
   ]
  },
  {
   "cell_type": "code",
   "execution_count": 37,
   "id": "cec0efac-44b2-4118-88ac-a678fd8bbd29",
   "metadata": {},
   "outputs": [
    {
     "data": {
      "text/plain": [
       "array([[1, 2, 3],\n",
       "       [4, 5, 6]])"
      ]
     },
     "execution_count": 37,
     "metadata": {},
     "output_type": "execute_result"
    }
   ],
   "source": [
    "X[0:2]  # 1st & 2nd rows"
   ]
  },
  {
   "cell_type": "code",
   "execution_count": 39,
   "id": "298dcfbb-3caf-4b26-a509-3f13211b5ea0",
   "metadata": {},
   "outputs": [
    {
     "data": {
      "text/plain": [
       "array([2, 5])"
      ]
     },
     "execution_count": 39,
     "metadata": {},
     "output_type": "execute_result"
    }
   ],
   "source": [
    "X[:,1]  # returns 2nd column"
   ]
  },
  {
   "cell_type": "markdown",
   "id": "00106a13-0643-4298-8de4-1448418dffc1",
   "metadata": {},
   "source": [
    "**Comma separates the specifications for rows and columns in that order.     \n",
    "In `X[:,2]` `;` means all rows and `2` means 3rd column**"
   ]
  },
  {
   "cell_type": "code",
   "execution_count": 41,
   "id": "4c7bd5c6-5d97-4e21-ae90-fbc8ffbc94ae",
   "metadata": {},
   "outputs": [
    {
     "data": {
      "text/plain": [
       "array([ 4, 10])"
      ]
     },
     "execution_count": 41,
     "metadata": {},
     "output_type": "execute_result"
    }
   ],
   "source": [
    "Y[:,1]"
   ]
  },
  {
   "cell_type": "code",
   "execution_count": 43,
   "id": "9976f123-abb1-434d-bb82-d2bffbb26242",
   "metadata": {},
   "outputs": [],
   "source": [
    "large_array = np.array([[1,2,3,4,5,6,7,8],\n",
    "                        [2,4,6,8,10,12,14,16],\n",
    "                        [4,8,12,16,20,24,28,32],\n",
    "                        [8,16,24,32,40,48,56,64],\n",
    "                        [16,32,48,64,80,96,112,124],\n",
    "                        [32,64,96,128,160,192,224,248]])"
   ]
  },
  {
   "cell_type": "code",
   "execution_count": 45,
   "id": "3a0467ef-21e4-4644-b2d0-d5a12b10a461",
   "metadata": {},
   "outputs": [
    {
     "data": {
      "text/plain": [
       "array([ 2,  4,  8, 16, 32, 64])"
      ]
     },
     "execution_count": 45,
     "metadata": {},
     "output_type": "execute_result"
    }
   ],
   "source": [
    "large_array[:,1]  # second column"
   ]
  },
  {
   "cell_type": "code",
   "execution_count": 47,
   "id": "53f44fe4-6185-4220-9ca2-68d5dab5c33f",
   "metadata": {},
   "outputs": [
    {
     "data": {
      "text/plain": [
       "array([ 4,  8, 12, 16, 20, 24, 28, 32])"
      ]
     },
     "execution_count": 47,
     "metadata": {},
     "output_type": "execute_result"
    }
   ],
   "source": [
    "large_array[2,:]  # third row"
   ]
  },
  {
   "cell_type": "code",
   "execution_count": 49,
   "id": "42c60dc3-921c-42de-ab75-e5c6aea829ce",
   "metadata": {},
   "outputs": [
    {
     "data": {
      "text/plain": [
       "12"
      ]
     },
     "execution_count": 49,
     "metadata": {},
     "output_type": "execute_result"
    }
   ],
   "source": [
    "large_array[2,2]  # intersect of 3rd row & 3rd column"
   ]
  },
  {
   "cell_type": "code",
   "execution_count": 50,
   "id": "3d072ec2-1d73-4d42-bfd1-21c1665a792b",
   "metadata": {},
   "outputs": [
    {
     "data": {
      "text/plain": [
       "array([[  8,  10,  12,  14,  16],\n",
       "       [ 16,  20,  24,  28,  32],\n",
       "       [ 32,  40,  48,  56,  64],\n",
       "       [ 64,  80,  96, 112, 124],\n",
       "       [128, 160, 192, 224, 248]])"
      ]
     },
     "execution_count": 50,
     "metadata": {},
     "output_type": "execute_result"
    }
   ],
   "source": [
    "large_array[1:,3:]"
   ]
  },
  {
   "cell_type": "markdown",
   "id": "22828a1d-769c-4e53-9cac-38768b78173d",
   "metadata": {},
   "source": [
    "**[`1:,` represents all rows besides first row     \n",
    "`3:]` represents all columns from the third column**"
   ]
  },
  {
   "cell_type": "code",
   "execution_count": 52,
   "id": "3802bd0e-0945-4856-8ab9-d5edc82ba28d",
   "metadata": {},
   "outputs": [
    {
     "data": {
      "text/plain": [
       "array([[ 24,  32,  40],\n",
       "       [ 48,  64,  80],\n",
       "       [ 96, 128, 160]])"
      ]
     },
     "execution_count": 52,
     "metadata": {},
     "output_type": "execute_result"
    }
   ],
   "source": [
    "large_array[3:6,2:5]"
   ]
  },
  {
   "cell_type": "markdown",
   "id": "0cc8504b-1157-406c-96bb-08ff617b19c9",
   "metadata": {},
   "source": [
    "**`[3:6` specifies 3rd, 4th & 5th rows    \n",
    "`,2:5]` specifies 2nd, 3rd & 4th columns    \n",
    "Thus the sliced matrix is the intersect that satisfies both of these conditions.**"
   ]
  },
  {
   "cell_type": "markdown",
   "id": "52327191-53d0-4a22-8695-f1c3f792df21",
   "metadata": {},
   "source": [
    "### **Caution**\n",
    "--------------"
   ]
  },
  {
   "cell_type": "code",
   "execution_count": 54,
   "id": "b1cdabf4-3977-4831-bc96-6fd882733c14",
   "metadata": {},
   "outputs": [],
   "source": [
    "m = [5,10,15,20]\n",
    "n = [4,8,12,16]"
   ]
  },
  {
   "cell_type": "code",
   "execution_count": 56,
   "id": "566436b2-8057-48ef-a2c1-cd838db5f8af",
   "metadata": {},
   "outputs": [
    {
     "data": {
      "text/plain": [
       "[5, 10, 15, 20, 4, 8, 12, 16]"
      ]
     },
     "execution_count": 56,
     "metadata": {},
     "output_type": "execute_result"
    }
   ],
   "source": [
    "m + n  # in Python's lists, elements are appended when adding i.e concatanates those two lists"
   ]
  },
  {
   "cell_type": "code",
   "execution_count": 58,
   "id": "aeac0af9-0f4e-4d1e-954a-306db9ff382e",
   "metadata": {},
   "outputs": [],
   "source": [
    "M = np.array(m)\n",
    "N = np.array(n)"
   ]
  },
  {
   "cell_type": "code",
   "execution_count": 60,
   "id": "4a1c7198-6e77-4378-9378-fa7bf602c445",
   "metadata": {},
   "outputs": [
    {
     "data": {
      "text/plain": [
       "array([ 9, 18, 27, 36])"
      ]
     },
     "execution_count": 60,
     "metadata": {},
     "output_type": "execute_result"
    }
   ],
   "source": [
    "M + N  # in NumPy arrays element wise addition takes place when two arrays are added"
   ]
  },
  {
   "cell_type": "code",
   "execution_count": 62,
   "id": "915e53bc-d7da-4678-8b76-64fcd6a3fb27",
   "metadata": {},
   "outputs": [
    {
     "data": {
      "text/plain": [
       "array([4, 5])"
      ]
     },
     "execution_count": 62,
     "metadata": {},
     "output_type": "execute_result"
    }
   ],
   "source": [
    "a = np.array([1,2])\n",
    "b = np.array([3,4,5])\n",
    "b[a]"
   ]
  },
  {
   "cell_type": "markdown",
   "id": "ea7e328c-33d7-490c-8b08-f682c917b71d",
   "metadata": {},
   "source": [
    "**`a = [1,2]` so `b[a]` means `b[1,2]` which represents 2nd & 3rd element of the array.         \n",
    "Since b is a one dimensional NumPy array and not a list, the `,` separator here does not stand for separating row & column indices but just specifies row indices!**    \n",
    "**`b[1,2]` just means `b[1:3]`**"
   ]
  },
  {
   "cell_type": "code",
   "execution_count": 66,
   "id": "0342d881-13a4-4bd4-b2f6-9af06be94aa5",
   "metadata": {},
   "outputs": [
    {
     "ename": "IndexError",
     "evalue": "too many indices for array: array is 1-dimensional, but 2 were indexed",
     "output_type": "error",
     "traceback": [
      "\u001b[1;31m---------------------------------------------------------------------------\u001b[0m",
      "\u001b[1;31mIndexError\u001b[0m                                Traceback (most recent call last)",
      "\u001b[1;32m~\\AppData\\Local\\Temp/ipykernel_1232/2677152169.py\u001b[0m in \u001b[0;36m<module>\u001b[1;34m\u001b[0m\n\u001b[1;32m----> 1\u001b[1;33m \u001b[0mb\u001b[0m\u001b[1;33m[\u001b[0m\u001b[0ma\u001b[0m\u001b[1;33m]\u001b[0m \u001b[1;33m==\u001b[0m \u001b[0mb\u001b[0m\u001b[1;33m[\u001b[0m\u001b[1;36m1\u001b[0m\u001b[1;33m,\u001b[0m\u001b[1;36m2\u001b[0m\u001b[1;33m]\u001b[0m  \u001b[1;31m# error\u001b[0m\u001b[1;33m\u001b[0m\u001b[1;33m\u001b[0m\u001b[0m\n\u001b[0m",
      "\u001b[1;31mIndexError\u001b[0m: too many indices for array: array is 1-dimensional, but 2 were indexed"
     ]
    }
   ],
   "source": [
    "b[a] == b[1,2]  # error"
   ]
  },
  {
   "cell_type": "code",
   "execution_count": 68,
   "id": "b777f123-b947-444f-ad65-1467244642ba",
   "metadata": {},
   "outputs": [
    {
     "data": {
      "text/plain": [
       "array([ True,  True])"
      ]
     },
     "execution_count": 68,
     "metadata": {},
     "output_type": "execute_result"
    }
   ],
   "source": [
    "b[a] == b[np.array([1,2])]  # voila  NOTE THE DIFFERENCES"
   ]
  },
  {
   "cell_type": "code",
   "execution_count": 73,
   "id": "0e4f6795-e75b-49fb-99ba-803cf7947d11",
   "metadata": {},
   "outputs": [
    {
     "data": {
      "text/plain": [
       "array([ True,  True])"
      ]
     },
     "execution_count": 73,
     "metadata": {},
     "output_type": "execute_result"
    }
   ],
   "source": [
    "b[a] == b[1:3]"
   ]
  },
  {
   "cell_type": "code",
   "execution_count": 74,
   "id": "cb98f387-7445-49b5-bef9-ed5c2815d664",
   "metadata": {},
   "outputs": [
    {
     "data": {
      "text/plain": [
       "array([ True,  True])"
      ]
     },
     "execution_count": 74,
     "metadata": {},
     "output_type": "execute_result"
    }
   ],
   "source": [
    "b[1:3] == b[np.array([1,2])]"
   ]
  },
  {
   "cell_type": "code",
   "execution_count": 76,
   "id": "a34aa1e6-89a4-409b-88d1-972d39072e32",
   "metadata": {},
   "outputs": [
    {
     "data": {
      "text/plain": [
       "False"
      ]
     },
     "execution_count": 76,
     "metadata": {},
     "output_type": "execute_result"
    }
   ],
   "source": [
    "a = np.array([1,2])\n",
    "b = np.array([3,4,5])\n",
    "c = b[1:]\n",
    "b[a] is c  # false because different objects with identical elements"
   ]
  },
  {
   "cell_type": "code",
   "execution_count": 78,
   "id": "e8a8138b-d71e-46e8-b9fc-31e3fd5c74cb",
   "metadata": {},
   "outputs": [
    {
     "data": {
      "text/plain": [
       "array([ True,  True])"
      ]
     },
     "execution_count": 78,
     "metadata": {},
     "output_type": "execute_result"
    }
   ],
   "source": [
    "b[a] == c  # voila"
   ]
  },
  {
   "cell_type": "code",
   "execution_count": 109,
   "id": "c86dae2e-afe0-4ff5-a129-4d1e90367f12",
   "metadata": {},
   "outputs": [
    {
     "data": {
      "text/plain": [
       "True"
      ]
     },
     "execution_count": 109,
     "metadata": {},
     "output_type": "execute_result"
    }
   ],
   "source": [
    "all(b[a] == c)  # gives a single boolean instead of separate booleans for each index\n",
    "                # True will be returned only if all booleans are true (multiplication)"
   ]
  },
  {
   "cell_type": "markdown",
   "id": "3a9db7b3-6ac7-47a2-a1c3-1cee7e366639",
   "metadata": {},
   "source": [
    "### **Indexing NumPy arrays**\n",
    "----------------"
   ]
  },
  {
   "cell_type": "markdown",
   "id": "81f91965-d9fb-4262-a92c-39eaa7f23c6e",
   "metadata": {},
   "source": [
    "**NumPy arrays can be indexed with other arrays or other sequence like objects.**"
   ]
  },
  {
   "cell_type": "code",
   "execution_count": 110,
   "id": "17a7f75b-0d57-4962-8625-ab4b3f1f1fac",
   "metadata": {},
   "outputs": [],
   "source": [
    "z1 = np.array([1,3,5,7,9])"
   ]
  },
  {
   "cell_type": "code",
   "execution_count": 111,
   "id": "cb009578-b4e1-49cf-8fee-dbc0192f8ac9",
   "metadata": {},
   "outputs": [],
   "source": [
    "z2 = z1 + 1   # 1 added to each element of z1"
   ]
  },
  {
   "cell_type": "code",
   "execution_count": 112,
   "id": "7a17de51-5c21-40d5-9716-658559a50eab",
   "metadata": {},
   "outputs": [
    {
     "data": {
      "text/plain": [
       "array([ 2,  4,  6,  8, 10])"
      ]
     },
     "execution_count": 112,
     "metadata": {},
     "output_type": "execute_result"
    }
   ],
   "source": [
    "z2"
   ]
  },
  {
   "cell_type": "code",
   "execution_count": 113,
   "id": "b40786ca-f78e-403e-be35-95791d6ec68e",
   "metadata": {},
   "outputs": [],
   "source": [
    "index = [0,2,3]"
   ]
  },
  {
   "cell_type": "code",
   "execution_count": 114,
   "id": "b5885dc5-f06b-41ec-b1bc-8bd226e66f5b",
   "metadata": {},
   "outputs": [
    {
     "data": {
      "text/plain": [
       "array([1, 5, 7])"
      ]
     },
     "execution_count": 114,
     "metadata": {},
     "output_type": "execute_result"
    }
   ],
   "source": [
    "z1[index]   # returns the elements of z1 specified by the list index"
   ]
  },
  {
   "cell_type": "markdown",
   "id": "d3ab8fa3-1f53-4615-803a-2e179b630b80",
   "metadata": {},
   "source": [
    "**Indices of NumPy arrays can also be defined as NumPy arrays.**"
   ]
  },
  {
   "cell_type": "code",
   "execution_count": 115,
   "id": "37a154a8-7072-4204-bb08-eedd963f407b",
   "metadata": {},
   "outputs": [],
   "source": [
    "ind = np.array([1,3,4])"
   ]
  },
  {
   "cell_type": "code",
   "execution_count": 116,
   "id": "98536188-a0e3-40b4-ab48-b5e3be03ab56",
   "metadata": {},
   "outputs": [
    {
     "data": {
      "text/plain": [
       "array([3, 7, 9])"
      ]
     },
     "execution_count": 116,
     "metadata": {},
     "output_type": "execute_result"
    }
   ],
   "source": [
    "z1[ind]"
   ]
  },
  {
   "cell_type": "code",
   "execution_count": 117,
   "id": "198ca229-b6af-4003-a0a7-c1dd0b33a448",
   "metadata": {},
   "outputs": [
    {
     "data": {
      "text/plain": [
       "array([2, 6, 8])"
      ]
     },
     "execution_count": 117,
     "metadata": {},
     "output_type": "execute_result"
    }
   ],
   "source": [
    "z2[index]"
   ]
  },
  {
   "cell_type": "code",
   "execution_count": 118,
   "id": "0487d950-54e1-46a5-8045-c18fb34d192f",
   "metadata": {},
   "outputs": [
    {
     "data": {
      "text/plain": [
       "array([ 4,  8, 10])"
      ]
     },
     "execution_count": 118,
     "metadata": {},
     "output_type": "execute_result"
    }
   ],
   "source": [
    "z2[ind]"
   ]
  },
  {
   "cell_type": "markdown",
   "id": "5c281bbd-ec39-4b7d-8ee2-74af29261675",
   "metadata": {},
   "source": [
    "**NumPy arrays can also be indexed using logical indices.    \n",
    "An array consisting of booleans (True & False) can be used for indexing. (Boolean arrays / Logical arrays)**    "
   ]
  },
  {
   "cell_type": "code",
   "execution_count": 125,
   "id": "dc0e9676-9a97-4e21-9def-320080a5a73c",
   "metadata": {},
   "outputs": [],
   "source": [
    "array = np.array([2,4,6,8,10,12,14,16,18,20])"
   ]
  },
  {
   "cell_type": "code",
   "execution_count": 126,
   "id": "d075de0f-7825-49e2-8831-e186f1c51d0d",
   "metadata": {},
   "outputs": [
    {
     "data": {
      "text/plain": [
       "array([False, False, False,  True,  True,  True,  True,  True,  True,\n",
       "        True])"
      ]
     },
     "execution_count": 126,
     "metadata": {},
     "output_type": "execute_result"
    }
   ],
   "source": [
    "array > 6  # returns a boolean array"
   ]
  },
  {
   "cell_type": "code",
   "execution_count": 127,
   "id": "3406990b-263b-48a2-9861-3be196c737cf",
   "metadata": {},
   "outputs": [
    {
     "data": {
      "text/plain": [
       "array([False, False,  True,  True,  True,  True,  True,  True,  True,\n",
       "        True])"
      ]
     },
     "execution_count": 127,
     "metadata": {},
     "output_type": "execute_result"
    }
   ],
   "source": [
    "array >= 6"
   ]
  },
  {
   "cell_type": "code",
   "execution_count": 128,
   "id": "a5f49f71-b5d7-4dfa-b935-d55ef4787d3d",
   "metadata": {},
   "outputs": [
    {
     "data": {
      "text/plain": [
       "False"
      ]
     },
     "execution_count": 128,
     "metadata": {},
     "output_type": "execute_result"
    }
   ],
   "source": [
    "all(array >= 6)  # True will be returned only if all booleans are true"
   ]
  },
  {
   "cell_type": "code",
   "execution_count": 129,
   "id": "fb07f327-43d9-43ce-8717-174edd8d6552",
   "metadata": {},
   "outputs": [
    {
     "data": {
      "text/plain": [
       "array([ True,  True,  True,  True,  True, False, False, False, False,\n",
       "       False])"
      ]
     },
     "execution_count": 129,
     "metadata": {},
     "output_type": "execute_result"
    }
   ],
   "source": [
    "array <= 11"
   ]
  },
  {
   "cell_type": "markdown",
   "id": "9819324b-92c1-46b9-a52f-11bd13329fc5",
   "metadata": {},
   "source": [
    "**_Using boolean arrays to index NumPy arrays_**"
   ]
  },
  {
   "cell_type": "code",
   "execution_count": 131,
   "id": "2e64b0c3-dcd2-4770-b5e7-86f8968a094e",
   "metadata": {},
   "outputs": [
    {
     "data": {
      "text/plain": [
       "array([2, 4, 6, 8])"
      ]
     },
     "execution_count": 131,
     "metadata": {},
     "output_type": "execute_result"
    }
   ],
   "source": [
    "array[array < 10]  # returns elements of NumPy array that satisfy the indexing criteria"
   ]
  },
  {
   "cell_type": "code",
   "execution_count": 133,
   "id": "844f0166-53fc-422e-bc83-fdcdd70b48bf",
   "metadata": {},
   "outputs": [],
   "source": [
    "new_array = array ** 2"
   ]
  },
  {
   "cell_type": "code",
   "execution_count": 135,
   "id": "c3dc0c66-1910-4ad4-9c70-ccbcadebbcb5",
   "metadata": {},
   "outputs": [
    {
     "data": {
      "text/plain": [
       "array([ 2,  4,  6,  8, 10, 12, 14, 16, 18, 20])"
      ]
     },
     "execution_count": 135,
     "metadata": {},
     "output_type": "execute_result"
    }
   ],
   "source": [
    "array"
   ]
  },
  {
   "cell_type": "code",
   "execution_count": 136,
   "id": "b3084024-e678-4f23-9d85-5f0ba4cfbe72",
   "metadata": {},
   "outputs": [
    {
     "data": {
      "text/plain": [
       "array([  4,  16,  36,  64, 100, 144, 196, 256, 324, 400], dtype=int32)"
      ]
     },
     "execution_count": 136,
     "metadata": {},
     "output_type": "execute_result"
    }
   ],
   "source": [
    "new_array"
   ]
  },
  {
   "cell_type": "code",
   "execution_count": 138,
   "id": "e429bae7-079a-49ef-a1fa-985b0a70218b",
   "metadata": {},
   "outputs": [
    {
     "data": {
      "text/plain": [
       "array([ 36,  64, 100, 144, 196, 256, 324, 400], dtype=int32)"
      ]
     },
     "execution_count": 138,
     "metadata": {},
     "output_type": "execute_result"
    }
   ],
   "source": [
    "new_array[array > 5]"
   ]
  },
  {
   "cell_type": "markdown",
   "id": "53a7a759-d9d2-4a6b-aafe-7ee65c77b83b",
   "metadata": {},
   "source": [
    "**Here `\"new_array\"` is indexed with a logical vector of a different array `\"array\"`.   \n",
    "This is what happens here:**     \n",
    "       \n",
    "**`array > 5` is `array([False, False, True, True, True, True, True, True, True, True])` so Python returns the elements of `\"new_array\"` whose indices are `True` in the indexing array `\"array\"`.**    \n",
    "       \n",
    "**`new_array[array > 5]` = `new_array[[False, False, True, True, True, True, True, True, True, True]]` =   \n",
    "`new_array[2:]`**"
   ]
  },
  {
   "cell_type": "code",
   "execution_count": 144,
   "id": "5c60ee20-812c-46c7-be39-3db826be48e4",
   "metadata": {},
   "outputs": [
    {
     "data": {
      "text/plain": [
       "array([ True,  True,  True,  True,  True,  True,  True,  True])"
      ]
     },
     "execution_count": 144,
     "metadata": {},
     "output_type": "execute_result"
    }
   ],
   "source": [
    "new_array[array > 5] == new_array[[False, False, True, True, True, True, True, True, True, True]]"
   ]
  },
  {
   "cell_type": "code",
   "execution_count": 155,
   "id": "393d5835-c73e-404a-923e-25d1296ae05e",
   "metadata": {},
   "outputs": [
    {
     "data": {
      "text/plain": [
       "True"
      ]
     },
     "execution_count": 155,
     "metadata": {},
     "output_type": "execute_result"
    }
   ],
   "source": [
    "all(new_array[array > 5] == new_array[[False, False, True, True, True, True, True, True, True, True]])"
   ]
  },
  {
   "cell_type": "code",
   "execution_count": 159,
   "id": "6fcb4c00-682b-4178-a36d-36c20df40c2e",
   "metadata": {},
   "outputs": [
    {
     "data": {
      "text/plain": [
       "True"
      ]
     },
     "execution_count": 159,
     "metadata": {},
     "output_type": "execute_result"
    }
   ],
   "source": [
    "all(new_array[[False, False, True, True, True, True, True, True, True, True]] == new_array[2:])"
   ]
  },
  {
   "cell_type": "markdown",
   "id": "1e7f7b2e-7d15-478c-bbf4-a202f268b35a",
   "metadata": {},
   "source": [
    "**A logical vector can be constructed from NumPy arrays to index other arrays**"
   ]
  },
  {
   "cell_type": "code",
   "execution_count": 160,
   "id": "3ebb7f16-2c6e-4d0c-9b30-cdd70efaa62a",
   "metadata": {},
   "outputs": [],
   "source": [
    "indices = array >= 6"
   ]
  },
  {
   "cell_type": "code",
   "execution_count": 162,
   "id": "84988e33-69dd-4392-a92a-7157b6f6b3c7",
   "metadata": {},
   "outputs": [
    {
     "data": {
      "text/plain": [
       "array([False, False,  True,  True,  True,  True,  True,  True,  True,\n",
       "        True])"
      ]
     },
     "execution_count": 162,
     "metadata": {},
     "output_type": "execute_result"
    }
   ],
   "source": [
    "indices  # a logical array"
   ]
  },
  {
   "cell_type": "code",
   "execution_count": 163,
   "id": "41d0cd45-453f-410a-8641-5a44feee5a7a",
   "metadata": {},
   "outputs": [
    {
     "data": {
      "text/plain": [
       "array([ 6,  8, 10, 12, 14, 16, 18, 20])"
      ]
     },
     "execution_count": 163,
     "metadata": {},
     "output_type": "execute_result"
    }
   ],
   "source": [
    "array[indices]"
   ]
  },
  {
   "cell_type": "code",
   "execution_count": 164,
   "id": "22370e16-3c83-4e46-9586-d9d20717e2aa",
   "metadata": {},
   "outputs": [
    {
     "data": {
      "text/plain": [
       "array([ 36,  64, 100, 144, 196, 256, 324, 400], dtype=int32)"
      ]
     },
     "execution_count": 164,
     "metadata": {},
     "output_type": "execute_result"
    }
   ],
   "source": [
    "new_array[indices]"
   ]
  },
  {
   "cell_type": "code",
   "execution_count": 166,
   "id": "9e74698f-4ac7-44bd-83b1-8b74a456a706",
   "metadata": {},
   "outputs": [
    {
     "data": {
      "text/plain": [
       "array([ True,  True,  True,  True,  True,  True,  True,  True])"
      ]
     },
     "execution_count": 166,
     "metadata": {},
     "output_type": "execute_result"
    }
   ],
   "source": [
    "new_array[indices] == new_array[2:]"
   ]
  },
  {
   "cell_type": "code",
   "execution_count": 168,
   "id": "6293acba-9b90-44eb-9421-333bc1b762b9",
   "metadata": {},
   "outputs": [
    {
     "data": {
      "text/plain": [
       "True"
      ]
     },
     "execution_count": 168,
     "metadata": {},
     "output_type": "execute_result"
    }
   ],
   "source": [
    "all(new_array[indices] == new_array[2:])"
   ]
  },
  {
   "cell_type": "markdown",
   "id": "3ae547f8-0c78-4cd9-bb4d-8f7e4600039c",
   "metadata": {},
   "source": [
    "### **When slicing arrays with `:` the result is a view of original array within the specified indices. And when the elements of slices are modified the original array will also be modified.** \n",
    "### **But when slicing arrays with `arrays`/`lists` that have indices separated by commas, returned arrays are copies of original array not a view of original array, thes original array isn't modified when the slices are modified**"
   ]
  },
  {
   "cell_type": "code",
   "execution_count": 210,
   "id": "d2f02760-b93d-4ad5-814d-da05c3a9ba0f",
   "metadata": {},
   "outputs": [],
   "source": [
    "array = np.array([5,10,15,20])"
   ]
  },
  {
   "cell_type": "code",
   "execution_count": 211,
   "id": "78ffff59-902e-44ec-bd1c-b04014654465",
   "metadata": {},
   "outputs": [],
   "source": [
    "sliced_array = array[0:2]   # slicing using colon"
   ]
  },
  {
   "cell_type": "code",
   "execution_count": 212,
   "id": "abfb71e5-8d9c-4a25-806f-4df41256023f",
   "metadata": {},
   "outputs": [
    {
     "data": {
      "text/plain": [
       "array([ 5, 10])"
      ]
     },
     "execution_count": 212,
     "metadata": {},
     "output_type": "execute_result"
    }
   ],
   "source": [
    "sliced_array"
   ]
  },
  {
   "cell_type": "code",
   "execution_count": 213,
   "id": "29db22b8-b940-45bb-a22f-9000fea4a507",
   "metadata": {},
   "outputs": [],
   "source": [
    "sliced_array[0] = 6  # modifying contents"
   ]
  },
  {
   "cell_type": "code",
   "execution_count": 214,
   "id": "a0613afb-a4ec-44de-a348-4bae5d6f7cee",
   "metadata": {},
   "outputs": [
    {
     "data": {
      "text/plain": [
       "array([ 6, 10])"
      ]
     },
     "execution_count": 214,
     "metadata": {},
     "output_type": "execute_result"
    }
   ],
   "source": [
    "sliced_array"
   ]
  },
  {
   "cell_type": "code",
   "execution_count": 215,
   "id": "37968c6a-5aac-4a23-891b-51e1a0d324cc",
   "metadata": {},
   "outputs": [
    {
     "data": {
      "text/plain": [
       "array([ 6, 10, 15, 20])"
      ]
     },
     "execution_count": 215,
     "metadata": {},
     "output_type": "execute_result"
    }
   ],
   "source": [
    "array  # 0th element is modified here also!!"
   ]
  },
  {
   "cell_type": "markdown",
   "id": "f75ed50a-ab3a-4124-9377-12a5fb50b220",
   "metadata": {},
   "source": [
    "### **Slicing arrays with `arrays`/`lists` as indices**"
   ]
  },
  {
   "cell_type": "code",
   "execution_count": 216,
   "id": "fbf42f91-6ca7-4a42-ae26-84bd65c583bb",
   "metadata": {},
   "outputs": [],
   "source": [
    "array = np.array([5,10,15,20,25,30])"
   ]
  },
  {
   "cell_type": "code",
   "execution_count": 217,
   "id": "26ab19bc-abf0-4e51-92f4-6c5803945856",
   "metadata": {},
   "outputs": [],
   "source": [
    "index_list = [0,2,4]  # index list"
   ]
  },
  {
   "cell_type": "code",
   "execution_count": 218,
   "id": "feea9659-0ce6-4246-8eb0-5d1a43405221",
   "metadata": {},
   "outputs": [
    {
     "data": {
      "text/plain": [
       "array([ 5, 15, 25])"
      ]
     },
     "execution_count": 218,
     "metadata": {},
     "output_type": "execute_result"
    }
   ],
   "source": [
    "array[index_list]"
   ]
  },
  {
   "cell_type": "code",
   "execution_count": 219,
   "id": "f187eea5-2c53-4cc3-b8a4-4ad625f7abf0",
   "metadata": {},
   "outputs": [],
   "source": [
    "new_array = array[index_list]"
   ]
  },
  {
   "cell_type": "code",
   "execution_count": 220,
   "id": "99f88786-0e2f-46e6-9552-5cb3d9764453",
   "metadata": {},
   "outputs": [
    {
     "data": {
      "text/plain": [
       "array([ 5, 15, 25])"
      ]
     },
     "execution_count": 220,
     "metadata": {},
     "output_type": "execute_result"
    }
   ],
   "source": [
    "new_array"
   ]
  },
  {
   "cell_type": "code",
   "execution_count": 221,
   "id": "d3a58483-076d-4ca6-9dfa-94df06cfc47e",
   "metadata": {},
   "outputs": [],
   "source": [
    "new_array[0] = 7"
   ]
  },
  {
   "cell_type": "code",
   "execution_count": 222,
   "id": "de8b75a5-47e1-45bf-ac61-54c3591973d0",
   "metadata": {},
   "outputs": [
    {
     "data": {
      "text/plain": [
       "array([ 7, 15, 25])"
      ]
     },
     "execution_count": 222,
     "metadata": {},
     "output_type": "execute_result"
    }
   ],
   "source": [
    "new_array"
   ]
  },
  {
   "cell_type": "code",
   "execution_count": 223,
   "id": "aa2e4f58-855d-45ca-a1ad-931a16c20798",
   "metadata": {},
   "outputs": [
    {
     "data": {
      "text/plain": [
       "array([ 5, 10, 15, 20, 25, 30])"
      ]
     },
     "execution_count": 223,
     "metadata": {},
     "output_type": "execute_result"
    }
   ],
   "source": [
    "array   #  original array is untouched"
   ]
  },
  {
   "cell_type": "code",
   "execution_count": 224,
   "id": "ae456c15-40fa-4f0c-8554-e193920bc7d8",
   "metadata": {},
   "outputs": [],
   "source": [
    "index_array = np.array([0,2,4])  # index array"
   ]
  },
  {
   "cell_type": "code",
   "execution_count": 225,
   "id": "baeb5b43-3740-4f10-bae6-9cc48f2465e5",
   "metadata": {},
   "outputs": [],
   "source": [
    "New_array = array[index_array]"
   ]
  },
  {
   "cell_type": "code",
   "execution_count": 226,
   "id": "991d6f65-3db7-4b83-b17e-77264935d5ce",
   "metadata": {},
   "outputs": [
    {
     "data": {
      "text/plain": [
       "array([ 5, 15, 25])"
      ]
     },
     "execution_count": 226,
     "metadata": {},
     "output_type": "execute_result"
    }
   ],
   "source": [
    "New_array"
   ]
  },
  {
   "cell_type": "code",
   "execution_count": 227,
   "id": "e586a36b-0786-43db-b980-389f4a6942e9",
   "metadata": {},
   "outputs": [],
   "source": [
    "New_array[0] = 8"
   ]
  },
  {
   "cell_type": "code",
   "execution_count": 228,
   "id": "eb4f9494-45ee-459e-80e3-3afb332818aa",
   "metadata": {},
   "outputs": [
    {
     "data": {
      "text/plain": [
       "array([ 8, 15, 25])"
      ]
     },
     "execution_count": 228,
     "metadata": {},
     "output_type": "execute_result"
    }
   ],
   "source": [
    "New_array"
   ]
  },
  {
   "cell_type": "code",
   "execution_count": 229,
   "id": "2a4387b1-9462-4804-9835-9220b2ce2ff1",
   "metadata": {},
   "outputs": [
    {
     "data": {
      "text/plain": [
       "array([ 5, 10, 15, 20, 25, 30])"
      ]
     },
     "execution_count": 229,
     "metadata": {},
     "output_type": "execute_result"
    }
   ],
   "source": [
    "array   #  original array is untouched"
   ]
  },
  {
   "cell_type": "markdown",
   "id": "1a126cfb-4a65-48d3-adb1-68cf31c09dfc",
   "metadata": {},
   "source": [
    "## **Building & examining NumPy arrays**"
   ]
  },
  {
   "cell_type": "markdown",
   "id": "f41b0b55-43aa-4291-a1af-ff6d93147263",
   "metadata": {},
   "source": [
    "There are few methods to construct arrays with fixed start & end values with the middle elements uniformly spaces between the start & end.  \n",
    "**`linspace`**"
   ]
  },
  {
   "cell_type": "code",
   "execution_count": 237,
   "id": "f83a5b40-8730-4620-9a81-2d70cc8140b2",
   "metadata": {},
   "outputs": [],
   "source": [
    "tens = np.linspace(start = 0, stop = 100, num = 11)   # both limits will be included in the array"
   ]
  },
  {
   "cell_type": "markdown",
   "id": "bf875074-305f-45a2-a31d-92601faad809",
   "metadata": {},
   "source": [
    "**Similar to `R`'s seq()**"
   ]
  },
  {
   "cell_type": "code",
   "execution_count": 239,
   "id": "47dc95e9-7e6f-4a0c-93f9-3ccf6566cb72",
   "metadata": {},
   "outputs": [
    {
     "data": {
      "text/plain": [
       "array([  0.,  10.,  20.,  30.,  40.,  50.,  60.,  70.,  80.,  90., 100.])"
      ]
     },
     "execution_count": 239,
     "metadata": {},
     "output_type": "execute_result"
    }
   ],
   "source": [
    "tens   # evenly spaced"
   ]
  },
  {
   "cell_type": "markdown",
   "id": "b4487688-ac7b-4814-9271-779319b9a26e",
   "metadata": {},
   "source": [
    "**To construct an array with elements spaced evenly on a log scale NumPy's `logspace` is used.**   \n",
    "### **In `logspace()` the first argument is the log of the starting point!!! If the first element is `10` and an array in `log10` scale is needed the first argument of `np.logspace()` should be `log10` of `10` which is 1!**   \n",
    "### **Endpoint argument should alse be passed as the log of end value! i.e if the end value is `1000` and `log10` scale is used the endpoint argument should be `log10` of `1000` which is `3`.**"
   ]
  },
  {
   "cell_type": "code",
   "execution_count": 248,
   "id": "dc8e4dc6-b70b-4a7a-9947-4f2e036ea0fb",
   "metadata": {},
   "outputs": [],
   "source": [
    "logs = np.logspace(1,2,11)  # 10**1 = 10, 10 ** 2 =100"
   ]
  },
  {
   "cell_type": "code",
   "execution_count": 249,
   "id": "1793ed96-a33e-4b8a-b636-d88cc2a20972",
   "metadata": {},
   "outputs": [
    {
     "data": {
      "text/plain": [
       "array([ 10.        ,  12.58925412,  15.84893192,  19.95262315,\n",
       "        25.11886432,  31.6227766 ,  39.81071706,  50.11872336,\n",
       "        63.09573445,  79.43282347, 100.        ])"
      ]
     },
     "execution_count": 249,
     "metadata": {},
     "output_type": "execute_result"
    }
   ],
   "source": [
    "logs"
   ]
  },
  {
   "cell_type": "markdown",
   "id": "b6ca59be-e2a5-4e54-b484-8dd1723d7e1c",
   "metadata": {},
   "source": [
    "**Creating a base 10 logarithmic array of 20 values between 250 & 1000**"
   ]
  },
  {
   "cell_type": "code",
   "execution_count": 250,
   "id": "af82d376-c124-4910-bfe9-5836d08c2f18",
   "metadata": {},
   "outputs": [],
   "source": [
    "log_array = np.logspace(start = np.log10(250), stop = np.log10(1000), num = 20)"
   ]
  },
  {
   "cell_type": "code",
   "execution_count": 253,
   "id": "1b39aae7-ec5b-4cda-8dcd-58d6e7f41695",
   "metadata": {},
   "outputs": [
    {
     "data": {
      "text/plain": [
       "array([ 250.        ,  268.92264656,  289.27755932,  311.17314737,\n",
       "        334.72602531,  360.06163438,  387.31491057,  416.6310032 ,\n",
       "        448.16604807,  482.08799897,  518.57752222,  557.82895888,\n",
       "        600.05135979,  645.46959897,  694.32557131,  746.87948083,\n",
       "        803.41122657,  864.22189328,  929.63535501, 1000.        ])"
      ]
     },
     "execution_count": 253,
     "metadata": {},
     "output_type": "execute_result"
    }
   ],
   "source": [
    "log_array"
   ]
  },
  {
   "cell_type": "markdown",
   "id": "29b6b8af-4e95-4b83-b644-ed37fbb936f5",
   "metadata": {},
   "source": [
    "**To find out the shape of arrays (similar to R's `dim()`)**"
   ]
  },
  {
   "cell_type": "code",
   "execution_count": 260,
   "id": "a0f17bcb-4019-48cc-a924-493a60ff3d6f",
   "metadata": {},
   "outputs": [
    {
     "data": {
      "text/plain": [
       "(20,)"
      ]
     },
     "execution_count": 260,
     "metadata": {},
     "output_type": "execute_result"
    }
   ],
   "source": [
    "log_array.shape  # 20 rows no columns"
   ]
  },
  {
   "cell_type": "code",
   "execution_count": 261,
   "id": "e1c45557-48be-486a-acaf-a8f260a0d962",
   "metadata": {},
   "outputs": [],
   "source": [
    "large_array = np.array([[1,2,3,4,5,6,7,8],\n",
    "                        [2,4,6,8,10,12,14,16],\n",
    "                        [4,8,12,16,20,24,28,32],\n",
    "                        [8,16,24,32,40,48,56,64],\n",
    "                        [16,32,48,64,80,96,112,124],\n",
    "                        [32,64,96,128,160,192,224,248]])"
   ]
  },
  {
   "cell_type": "code",
   "execution_count": 262,
   "id": "75e58382-72f9-43da-8a71-9a8c8b0b1696",
   "metadata": {},
   "outputs": [
    {
     "data": {
      "text/plain": [
       "(6, 8)"
      ]
     },
     "execution_count": 262,
     "metadata": {},
     "output_type": "execute_result"
    }
   ],
   "source": [
    "large_array.shape   # 6 rows & 8 columns"
   ]
  },
  {
   "cell_type": "markdown",
   "id": "13ad79fc-fa5d-469e-912d-30977f397e4e",
   "metadata": {},
   "source": [
    "**To find out number of elements in an array**"
   ]
  },
  {
   "cell_type": "code",
   "execution_count": 264,
   "id": "45a00577-5831-401d-a067-9c0f90d46651",
   "metadata": {},
   "outputs": [
    {
     "data": {
      "text/plain": [
       "48"
      ]
     },
     "execution_count": 264,
     "metadata": {},
     "output_type": "execute_result"
    }
   ],
   "source": [
    "large_array.size    # 6*8"
   ]
  },
  {
   "cell_type": "code",
   "execution_count": 265,
   "id": "690c59e8-ba0b-4f8c-bc99-918830dd55a8",
   "metadata": {},
   "outputs": [
    {
     "data": {
      "text/plain": [
       "20"
      ]
     },
     "execution_count": 265,
     "metadata": {},
     "output_type": "execute_result"
    }
   ],
   "source": [
    "log_array.size"
   ]
  },
  {
   "cell_type": "markdown",
   "id": "ef51e7fd-f975-4ea3-940e-08d0c1453819",
   "metadata": {},
   "source": [
    "**`.size` & `.shape` are not followed by parantheses, as these are data attributes not methods!!**"
   ]
  },
  {
   "cell_type": "markdown",
   "id": "c1a2a590-a466-4dc9-aca5-b2ae7901edfb",
   "metadata": {},
   "source": [
    "**Logical operations on arrays**"
   ]
  },
  {
   "cell_type": "code",
   "execution_count": 270,
   "id": "42a6910f-e0e2-4577-9358-06dde991ee0b",
   "metadata": {},
   "outputs": [],
   "source": [
    "import random as rd\n",
    "\n",
    "seq = np.array([rd.uniform(0,1) for i in range(0,1000)])"
   ]
  },
  {
   "cell_type": "code",
   "execution_count": 272,
   "id": "283f8da2-5965-4eef-8090-f92f46611647",
   "metadata": {},
   "outputs": [
    {
     "data": {
      "text/plain": [
       "(1000,)"
      ]
     },
     "execution_count": 272,
     "metadata": {},
     "output_type": "execute_result"
    }
   ],
   "source": [
    "seq.shape"
   ]
  },
  {
   "cell_type": "code",
   "execution_count": 275,
   "id": "016886aa-dee6-4538-926c-5d74ba73e2d0",
   "metadata": {},
   "outputs": [
    {
     "data": {
      "text/plain": [
       "83"
      ]
     },
     "execution_count": 275,
     "metadata": {},
     "output_type": "execute_result"
    }
   ],
   "source": [
    "sum(seq > 0.9)   # only 89 entries out of 1000 are grater than 0.9"
   ]
  },
  {
   "cell_type": "code",
   "execution_count": 277,
   "id": "ff2914ac-3713-4954-93a1-2906d2607346",
   "metadata": {},
   "outputs": [
    {
     "data": {
      "text/plain": [
       "906"
      ]
     },
     "execution_count": 277,
     "metadata": {},
     "output_type": "execute_result"
    }
   ],
   "source": [
    "sum(seq >= 0.1)   # 906 entries out of 1000 are greater than or equal to 0.1"
   ]
  },
  {
   "cell_type": "markdown",
   "id": "1ff2d273-60ca-46fa-abce-9f74a0b85a78",
   "metadata": {},
   "source": [
    "### **_NumPy has its own `random()` module!_**"
   ]
  },
  {
   "cell_type": "code",
   "execution_count": 281,
   "id": "02e159aa-e15f-488b-bbdb-ba885cf2615d",
   "metadata": {},
   "outputs": [
    {
     "data": {
      "text/plain": [
       "array([0.47276887, 0.01219506, 0.83776761, 0.05067586, 0.95787249])"
      ]
     },
     "execution_count": 281,
     "metadata": {},
     "output_type": "execute_result"
    }
   ],
   "source": [
    "np.random.random(5)   # by default the interval is 0 to 1 "
   ]
  },
  {
   "cell_type": "code",
   "execution_count": 282,
   "id": "bda6c72a-0512-425f-a06d-b88162fe9881",
   "metadata": {},
   "outputs": [
    {
     "data": {
      "text/plain": [
       "array([0.60674685, 0.60241287, 0.95608131, 0.79903568, 0.43787754,\n",
       "       0.54953734, 0.61013414, 0.55582387, 0.46478531, 0.01758654])"
      ]
     },
     "execution_count": 282,
     "metadata": {},
     "output_type": "execute_result"
    }
   ],
   "source": [
    "np.random.random(10)"
   ]
  },
  {
   "cell_type": "code",
   "execution_count": 283,
   "id": "b7695d64-3ce3-4371-ab53-da02fa674003",
   "metadata": {},
   "outputs": [],
   "source": [
    "x = np.random.random(10)"
   ]
  },
  {
   "cell_type": "markdown",
   "id": "7e122b4f-fc7c-4d21-86d6-be03545cfab1",
   "metadata": {},
   "source": [
    "**`np.any()` to find any of the array's elements satisfy the passed logical condition**"
   ]
  },
  {
   "cell_type": "code",
   "execution_count": 284,
   "id": "1c9ae938-1b20-4d21-af01-6aa4ada2df94",
   "metadata": {},
   "outputs": [
    {
     "data": {
      "text/plain": [
       "True"
      ]
     },
     "execution_count": 284,
     "metadata": {},
     "output_type": "execute_result"
    }
   ],
   "source": [
    "np.any(x > 0.9)"
   ]
  },
  {
   "cell_type": "markdown",
   "id": "d2c0de83-f673-4474-875f-ae4f7a43a3b9",
   "metadata": {},
   "source": [
    "**`np.all()` to find out if all the elements of array satisfy the passed logical condition**"
   ]
  },
  {
   "cell_type": "code",
   "execution_count": 285,
   "id": "71b635ac-4bd2-4381-964c-a239733b1e3e",
   "metadata": {},
   "outputs": [
    {
     "data": {
      "text/plain": [
       "True"
      ]
     },
     "execution_count": 285,
     "metadata": {},
     "output_type": "execute_result"
    }
   ],
   "source": [
    "np.all(x >= 0.1)"
   ]
  },
  {
   "cell_type": "markdown",
   "id": "1fce8061-054d-4d7d-9533-2af89f6ff25a",
   "metadata": {},
   "source": [
    "#### **Prime numbers are integers that are divisible only by 1 and themselves without remainder**"
   ]
  },
  {
   "cell_type": "code",
   "execution_count": 291,
   "id": "7e76088d-242a-48f7-b7e7-55e41c89e332",
   "metadata": {},
   "outputs": [
    {
     "data": {
      "text/plain": [
       "False"
      ]
     },
     "execution_count": 291,
     "metadata": {},
     "output_type": "execute_result"
    }
   ],
   "source": [
    "x = 20\n",
    "not np.any([x%i == 0 for i in range(2, x)])"
   ]
  },
  {
   "cell_type": "markdown",
   "id": "d4e2467c-a698-403a-845f-5c02ae204636",
   "metadata": {},
   "source": [
    "**`x % i == 0` tests if `x` has a remainder when divided by `i`. If this is `not` `true` for all values strictly between `1` and `x`, it must be prime!**"
   ]
  },
  {
   "cell_type": "code",
   "execution_count": null,
   "id": "6ce58504-2e08-44a8-afe0-09dde7e433de",
   "metadata": {},
   "outputs": [],
   "source": []
  }
 ],
 "metadata": {
  "kernelspec": {
   "display_name": "Python 3 (ipykernel)",
   "language": "python",
   "name": "python3"
  },
  "language_info": {
   "codemirror_mode": {
    "name": "ipython",
    "version": 3
   },
   "file_extension": ".py",
   "mimetype": "text/x-python",
   "name": "python",
   "nbconvert_exporter": "python",
   "pygments_lexer": "ipython3",
   "version": "3.10.0"
  }
 },
 "nbformat": 4,
 "nbformat_minor": 5
}
