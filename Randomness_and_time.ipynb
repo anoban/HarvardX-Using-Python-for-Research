{
 "cells": [
  {
   "cell_type": "markdown",
   "id": "53927406-6fae-45cb-bf0a-3b919da91143",
   "metadata": {},
   "source": [
    "## **Simulating random numbers and random processes using Python**\n",
    "------------------"
   ]
  },
  {
   "cell_type": "markdown",
   "id": "870b5d3d-f317-468a-8b77-2801b743d0b2",
   "metadata": {},
   "source": [
    "### **_Simulating coin flips_**"
   ]
  },
  {
   "cell_type": "code",
   "execution_count": 2,
   "id": "a2bcbe18-f36f-4817-996c-a877b744970a",
   "metadata": {},
   "outputs": [],
   "source": [
    "import random"
   ]
  },
  {
   "cell_type": "code",
   "execution_count": 27,
   "id": "9898a467-0c38-4dc9-a89a-9999ba3a8af1",
   "metadata": {},
   "outputs": [
    {
     "data": {
      "text/plain": [
       "'H'"
      ]
     },
     "execution_count": 27,
     "metadata": {},
     "output_type": "execute_result"
    }
   ],
   "source": [
    "random.choice([\"H\",\"T\"])"
   ]
  },
  {
   "cell_type": "markdown",
   "id": "bc10dcd7-4ff1-49ad-8be9-2d3074d22539",
   "metadata": {},
   "source": [
    "**It often helps to use booleans to represent heads and tails since there are just two choices in coin flip.**   \n",
    "**`Head = 1`    \n",
    "`Tail = 0`**    "
   ]
  },
  {
   "cell_type": "code",
   "execution_count": 43,
   "id": "88cc016f-8bf0-48f4-a308-c8a246525496",
   "metadata": {},
   "outputs": [
    {
     "data": {
      "text/plain": [
       "0"
      ]
     },
     "execution_count": 43,
     "metadata": {},
     "output_type": "execute_result"
    }
   ],
   "source": [
    "random.choice([0,1])"
   ]
  },
  {
   "cell_type": "markdown",
   "id": "332953e0-bc5c-47b9-80f4-fdb476e5f0f9",
   "metadata": {},
   "source": [
    "### **Simulating rolls of die**"
   ]
  },
  {
   "cell_type": "code",
   "execution_count": 66,
   "id": "0830653b-ed8c-45ff-bf4a-33aa9b112893",
   "metadata": {},
   "outputs": [],
   "source": [
    "die = (range(1,7))"
   ]
  },
  {
   "cell_type": "code",
   "execution_count": 72,
   "id": "d1eb6adb-9b11-429e-8755-9c43a07490eb",
   "metadata": {},
   "outputs": [
    {
     "data": {
      "text/plain": [
       "4"
      ]
     },
     "execution_count": 72,
     "metadata": {},
     "output_type": "execute_result"
    }
   ],
   "source": [
    "random.choice(die)"
   ]
  },
  {
   "cell_type": "code",
   "execution_count": 77,
   "id": "37989023-8735-4970-9fb4-bdefe6886db1",
   "metadata": {},
   "outputs": [],
   "source": [
    "rolls = []\n",
    "\n",
    "for i in range(1,101):\n",
    "    rolls.append(random.choice(die))\n",
    "\n",
    "results = dict()\n",
    "\n",
    "for i in rolls:\n",
    "    results[i] = rolls.count(i)"
   ]
  },
  {
   "cell_type": "code",
   "execution_count": 82,
   "id": "0f80c99c-5347-4229-bf3a-c81d7d28ba7e",
   "metadata": {},
   "outputs": [
    {
     "data": {
      "text/plain": [
       "{4: 17, 6: 18, 3: 20, 2: 19, 5: 17, 1: 9}"
      ]
     },
     "execution_count": 82,
     "metadata": {},
     "output_type": "execute_result"
    }
   ],
   "source": [
    "results"
   ]
  },
  {
   "cell_type": "markdown",
   "id": "cf582901-4bcf-44c0-bacc-66c92784099c",
   "metadata": {},
   "source": [
    "**`random.choice([range(1,7)])` will return `range(1, 7)` since here `\"range(1,7)\"` is the only element of the list passed to `random.choice()` as input.    \n",
    "`random.choice()` expects a sequence object as input, which, in this case is a list having the element \"range(1,7)\".    \n",
    "Contents of the range object won't be considered here.**"
   ]
  },
  {
   "cell_type": "code",
   "execution_count": 84,
   "id": "a090b77a-014a-4b22-a487-1f48fd41b88b",
   "metadata": {},
   "outputs": [
    {
     "data": {
      "text/plain": [
       "range(1, 7)"
      ]
     },
     "execution_count": 84,
     "metadata": {},
     "output_type": "execute_result"
    }
   ],
   "source": [
    "random.choice([range(1,7)])"
   ]
  },
  {
   "cell_type": "code",
   "execution_count": 86,
   "id": "56c9a7cd-3218-4fba-a370-f5cb0a616f81",
   "metadata": {},
   "outputs": [
    {
     "data": {
      "text/plain": [
       "6"
      ]
     },
     "execution_count": 86,
     "metadata": {},
     "output_type": "execute_result"
    }
   ],
   "source": [
    "random.choice(list(range(1,7)))  # this gets the work done"
   ]
  },
  {
   "cell_type": "markdown",
   "id": "39af77f3-7fbc-4079-b0dc-3b5c9c909d10",
   "metadata": {},
   "source": [
    "### **Conside a situation with three dies, one with 6 faces, second one with 8 faces and the third one with 10 faces**"
   ]
  },
  {
   "cell_type": "code",
   "execution_count": 87,
   "id": "d38c8b5d-ec15-4be7-8cee-b463fb48dbe6",
   "metadata": {},
   "outputs": [],
   "source": [
    "six_face = range(1,7)\n",
    "eight_face = range(1,9)\n",
    "ten_face = range(1,11)"
   ]
  },
  {
   "cell_type": "code",
   "execution_count": 90,
   "id": "2c95813a-4d40-4049-abb9-69d6268386b3",
   "metadata": {},
   "outputs": [],
   "source": [
    "dies = [range(1,7), range(1,9), range(1,11)]"
   ]
  },
  {
   "cell_type": "code",
   "execution_count": 143,
   "id": "17efe49a-c5cf-4960-8306-a4b77c08f48a",
   "metadata": {},
   "outputs": [
    {
     "data": {
      "text/plain": [
       "range(1, 7)"
      ]
     },
     "execution_count": 143,
     "metadata": {},
     "output_type": "execute_result"
    }
   ],
   "source": [
    "random.choice(dies)  # one of the three dies is selected randomly"
   ]
  },
  {
   "cell_type": "code",
   "execution_count": 144,
   "id": "8a2658d2-bd6f-466d-86ff-f8fdf26a0ad6",
   "metadata": {},
   "outputs": [
    {
     "data": {
      "text/plain": [
       "3"
      ]
     },
     "execution_count": 144,
     "metadata": {},
     "output_type": "execute_result"
    }
   ],
   "source": [
    "random.choice(random.choice(dies))  # one of the three dies is selected randomly and rolled once"
   ]
  },
  {
   "cell_type": "code",
   "execution_count": 149,
   "id": "78e46c1e-9d10-4dca-88ed-35afe678ce62",
   "metadata": {},
   "outputs": [
    {
     "data": {
      "text/plain": [
       "4"
      ]
     },
     "execution_count": 149,
     "metadata": {},
     "output_type": "execute_result"
    }
   ],
   "source": [
    "random.choice(list([1,2,3,4]))"
   ]
  },
  {
   "cell_type": "code",
   "execution_count": 146,
   "id": "8c056ca9-b50c-46c7-bffd-9760613e7584",
   "metadata": {},
   "outputs": [
    {
     "data": {
      "text/plain": [
       "list"
      ]
     },
     "execution_count": 146,
     "metadata": {},
     "output_type": "execute_result"
    }
   ],
   "source": [
    "type([1,2,3,4])"
   ]
  },
  {
   "cell_type": "code",
   "execution_count": 148,
   "id": "34fac1a1-c3dd-4bea-b9af-beff96b2cd0f",
   "metadata": {},
   "outputs": [
    {
     "data": {
      "text/plain": [
       "[1, 2, 3, 4]"
      ]
     },
     "execution_count": 148,
     "metadata": {},
     "output_type": "execute_result"
    }
   ],
   "source": [
    "list([1,2,3,4])"
   ]
  },
  {
   "cell_type": "code",
   "execution_count": 147,
   "id": "d1dd2631-db88-4e2b-8e6e-28115dbfcea4",
   "metadata": {},
   "outputs": [
    {
     "data": {
      "text/plain": [
       "list"
      ]
     },
     "execution_count": 147,
     "metadata": {},
     "output_type": "execute_result"
    }
   ],
   "source": [
    "type(list([1,2,3,4]))"
   ]
  },
  {
   "cell_type": "code",
   "execution_count": 151,
   "id": "b19d2aff-13ea-4bc9-bd46-284d30b95b0b",
   "metadata": {},
   "outputs": [
    {
     "data": {
      "text/plain": [
       "[4,\n",
       " 6,\n",
       " 3,\n",
       " 2,\n",
       " 2,\n",
       " 2,\n",
       " 5,\n",
       " 3,\n",
       " 3,\n",
       " 6,\n",
       " 2,\n",
       " 5,\n",
       " 3,\n",
       " 4,\n",
       " 3,\n",
       " 5,\n",
       " 2,\n",
       " 1,\n",
       " 2,\n",
       " 1,\n",
       " 3,\n",
       " 6,\n",
       " 3,\n",
       " 6,\n",
       " 4,\n",
       " 5,\n",
       " 4,\n",
       " 6,\n",
       " 6,\n",
       " 2,\n",
       " 1,\n",
       " 5,\n",
       " 5,\n",
       " 4,\n",
       " 2,\n",
       " 2,\n",
       " 5,\n",
       " 4,\n",
       " 4,\n",
       " 2,\n",
       " 6,\n",
       " 1,\n",
       " 6,\n",
       " 4,\n",
       " 5,\n",
       " 4,\n",
       " 4,\n",
       " 5,\n",
       " 6,\n",
       " 5,\n",
       " 3,\n",
       " 6,\n",
       " 1,\n",
       " 3,\n",
       " 6,\n",
       " 2,\n",
       " 5,\n",
       " 2,\n",
       " 6,\n",
       " 2,\n",
       " 4,\n",
       " 3,\n",
       " 3,\n",
       " 2,\n",
       " 2,\n",
       " 1,\n",
       " 2,\n",
       " 4,\n",
       " 4,\n",
       " 3,\n",
       " 3,\n",
       " 6,\n",
       " 6,\n",
       " 3,\n",
       " 3,\n",
       " 3,\n",
       " 2,\n",
       " 3,\n",
       " 4,\n",
       " 6,\n",
       " 3,\n",
       " 5,\n",
       " 6,\n",
       " 6,\n",
       " 3,\n",
       " 1,\n",
       " 4,\n",
       " 5,\n",
       " 3,\n",
       " 2,\n",
       " 5,\n",
       " 1,\n",
       " 1,\n",
       " 6,\n",
       " 5,\n",
       " 4,\n",
       " 5,\n",
       " 4,\n",
       " 2,\n",
       " 5]"
      ]
     },
     "execution_count": 151,
     "metadata": {},
     "output_type": "execute_result"
    }
   ],
   "source": [
    "rolls"
   ]
  },
  {
   "cell_type": "code",
   "execution_count": 155,
   "id": "04384ef8-47e7-46c0-849e-5a1b58b8ed6a",
   "metadata": {},
   "outputs": [
    {
     "data": {
      "text/plain": [
       "[4, 5, 4, 1, 4, 5, 5, 4, 6, 6]"
      ]
     },
     "execution_count": 155,
     "metadata": {},
     "output_type": "execute_result"
    }
   ],
   "source": [
    "random.sample(rolls, 10)  # random.sample() samples specified number of elements from the providedd sequence object"
   ]
  },
  {
   "cell_type": "code",
   "execution_count": 249,
   "id": "72d61d6e-332c-45ae-927b-7c5d05f90082",
   "metadata": {},
   "outputs": [
    {
     "data": {
      "text/plain": [
       "45"
      ]
     },
     "execution_count": 249,
     "metadata": {},
     "output_type": "execute_result"
    }
   ],
   "source": [
    "sum(random.sample(range(10),10))   # this samples 10 elements from a list of 10 elements, there is no randomness\n",
    "                                   # sum() won't change no matter how many times the code is run"
   ]
  },
  {
   "cell_type": "code",
   "execution_count": 250,
   "id": "16e71620-ccbb-49b7-a7f3-97b0bb633830",
   "metadata": {},
   "outputs": [
    {
     "data": {
      "text/plain": [
       "[9, 2, 7, 6, 4, 5, 8, 3, 1, 0]"
      ]
     },
     "execution_count": 250,
     "metadata": {},
     "output_type": "execute_result"
    }
   ],
   "source": [
    "random.sample(range(10),10)"
   ]
  },
  {
   "cell_type": "code",
   "execution_count": 251,
   "id": "3476910f-b899-44bc-839d-14d5eb95e0b5",
   "metadata": {},
   "outputs": [
    {
     "data": {
      "text/plain": [
       "[0, 1, 2, 3, 4, 5, 6, 7, 8, 9]"
      ]
     },
     "execution_count": 251,
     "metadata": {},
     "output_type": "execute_result"
    }
   ],
   "source": [
    "list(range(10))"
   ]
  },
  {
   "cell_type": "code",
   "execution_count": 252,
   "id": "ddaacc16-4532-46ed-815b-2062ec607160",
   "metadata": {},
   "outputs": [
    {
     "data": {
      "text/plain": [
       "58"
      ]
     },
     "execution_count": 252,
     "metadata": {},
     "output_type": "execute_result"
    }
   ],
   "source": [
    "sum([random.choice(range(10)) for i in range(0,10)])  # will work even without the list typecasting"
   ]
  },
  {
   "cell_type": "code",
   "execution_count": 253,
   "id": "d12505fa-8ad7-47f7-8bde-45dc791be4d3",
   "metadata": {},
   "outputs": [
    {
     "data": {
      "text/plain": [
       "46"
      ]
     },
     "execution_count": 253,
     "metadata": {},
     "output_type": "execute_result"
    }
   ],
   "source": [
    "sum(random.choice(range(10)) for i in range(10)) "
   ]
  },
  {
   "cell_type": "markdown",
   "id": "3d10bf9a-6501-4a2e-a279-345238239dcc",
   "metadata": {},
   "source": [
    "## **Examples involving randomness**\n",
    "-----------------"
   ]
  },
  {
   "cell_type": "markdown",
   "id": "12baa59e-8976-4ba9-9618-003b54b8a30a",
   "metadata": {},
   "source": [
    "**Rolling a die 100 times and plotting a histogram of outcomes**"
   ]
  },
  {
   "cell_type": "code",
   "execution_count": 35,
   "id": "64a806cc-6703-4da0-9720-3db009ac0acd",
   "metadata": {},
   "outputs": [],
   "source": [
    "outcomes = []\n",
    "\n",
    "for i in range(0,100):\n",
    "    outcomes.append(random.choice(range(1,7)))"
   ]
  },
  {
   "cell_type": "code",
   "execution_count": 36,
   "id": "69a1a68d-4894-4b66-9c8c-3350c1255c49",
   "metadata": {},
   "outputs": [
    {
     "data": {
      "text/plain": [
       "100"
      ]
     },
     "execution_count": 36,
     "metadata": {},
     "output_type": "execute_result"
    }
   ],
   "source": [
    "len(outcomes)"
   ]
  },
  {
   "cell_type": "code",
   "execution_count": 39,
   "id": "4ad706e1-c667-420a-921b-e521e71c5128",
   "metadata": {},
   "outputs": [
    {
     "data": {
      "text/plain": [
       "(array([0.21, 0.17, 0.21, 0.13, 0.17, 0.11]),\n",
       " array([0.5, 1.5, 2.5, 3.5, 4.5, 5.5, 6.5]),\n",
       " <BarContainer object of 6 artists>)"
      ]
     },
     "execution_count": 39,
     "metadata": {},
     "output_type": "execute_result"
    },
    {
     "data": {
      "image/png": "[encoded data removed]",
      "text/plain": [
       "<Figure size 432x288 with 1 Axes>"
      ]
     },
     "metadata": {
      "needs_background": "light"
     },
     "output_type": "display_data"
    }
   ],
   "source": [
    "import numpy as np\n",
    "import matplotlib.pyplot as plt\n",
    "\n",
    "plt.hist(outcomes, density=True, stacked=True, bins=np.linspace(0.5,6.5,7), color=\"red\")"
   ]
  },
  {
   "cell_type": "code",
   "execution_count": 30,
   "id": "02c2aa63-79ed-4245-a8ce-0f9dafd314d0",
   "metadata": {},
   "outputs": [
    {
     "data": {
      "text/plain": [
       "(array([0.151, 0.171, 0.154, 0.166, 0.158, 0.2  ]),\n",
       " array([0.5, 1.5, 2.5, 3.5, 4.5, 5.5, 6.5]),\n",
       " <BarContainer object of 6 artists>)"
      ]
     },
     "execution_count": 30,
     "metadata": {},
     "output_type": "execute_result"
    },
    {
     "data": {
      "image/png": "[encoded data removed]",
      "text/plain": [
       "<Figure size 432x288 with 1 Axes>"
      ]
     },
     "metadata": {
      "needs_background": "light"
     },
     "output_type": "display_data"
    }
   ],
   "source": [
    "outcomes = []\n",
    "\n",
    "for i in range(0,1000):\n",
    "    outcomes.append(random.choice(range(1,7)))\n",
    "    \n",
    "plt.hist(outcomes, density=True, stacked=True, bins=np.linspace(0.5,6.5,7), color=\"red\")"
   ]
  },
  {
   "cell_type": "code",
   "execution_count": 31,
   "id": "dc865f27-d90f-4a19-abb8-bc56a87a0a75",
   "metadata": {},
   "outputs": [
    {
     "data": {
      "text/plain": [
       "(array([0.1691, 0.1642, 0.1611, 0.1701, 0.167 , 0.1685]),\n",
       " array([0.5, 1.5, 2.5, 3.5, 4.5, 5.5, 6.5]),\n",
       " <BarContainer object of 6 artists>)"
      ]
     },
     "execution_count": 31,
     "metadata": {},
     "output_type": "execute_result"
    },
    {
     "data": {
      "image/png": "[encoded data removed]",
      "text/plain": [
       "<Figure size 432x288 with 1 Axes>"
      ]
     },
     "metadata": {
      "needs_background": "light"
     },
     "output_type": "display_data"
    }
   ],
   "source": [
    "outcomes = []\n",
    "\n",
    "for i in range(0,10000):\n",
    "    outcomes.append(random.choice(range(1,7)))\n",
    "    \n",
    "plt.hist(outcomes, density=True, stacked=True, bins=np.linspace(0.5,6.5,7), color=\"red\")"
   ]
  },
  {
   "cell_type": "code",
   "execution_count": 32,
   "id": "5e75f4bc-1c0d-4c78-907c-cebd4cc211af",
   "metadata": {},
   "outputs": [
    {
     "data": {
      "text/plain": [
       "(array([0.1679 , 0.16695, 0.16641, 0.16479, 0.16638, 0.16757]),\n",
       " array([0.5, 1.5, 2.5, 3.5, 4.5, 5.5, 6.5]),\n",
       " <BarContainer object of 6 artists>)"
      ]
     },
     "execution_count": 32,
     "metadata": {},
     "output_type": "execute_result"
    },
    {
     "data": {
      "image/png": "[encoded data removed]",
      "text/plain": [
       "<Figure size 432x288 with 1 Axes>"
      ]
     },
     "metadata": {
      "needs_background": "light"
     },
     "output_type": "display_data"
    }
   ],
   "source": [
    "outcomes = []\n",
    "\n",
    "for i in range(0,100000):\n",
    "    outcomes.append(random.choice(range(1,7)))\n",
    "    \n",
    "plt.hist(outcomes, density=True, stacked=True, bins=np.linspace(0.5,6.5,7), color=\"red\")"
   ]
  },
  {
   "cell_type": "code",
   "execution_count": 33,
   "id": "d5ea3959-51d5-43be-9671-7f1fd0324a05",
   "metadata": {},
   "outputs": [
    {
     "data": {
      "text/plain": [
       "(array([0.16698 , 0.166365, 0.166559, 0.166615, 0.166074, 0.167407]),\n",
       " array([0.5, 1.5, 2.5, 3.5, 4.5, 5.5, 6.5]),\n",
       " <BarContainer object of 6 artists>)"
      ]
     },
     "execution_count": 33,
     "metadata": {},
     "output_type": "execute_result"
    },
    {
     "data": {
      "image/png": "[encoded data removed]",
      "text/plain": [
       "<Figure size 432x288 with 1 Axes>"
      ]
     },
     "metadata": {
      "needs_background": "light"
     },
     "output_type": "display_data"
    }
   ],
   "source": [
    "outcomes = []\n",
    "\n",
    "for i in range(0,1000000):\n",
    "    outcomes.append(random.choice(range(1,7)))\n",
    "    \n",
    "plt.hist(outcomes, density=True, stacked=True, bins=np.linspace(0.5,6.5,7), color=\"red\")"
   ]
  },
  {
   "cell_type": "markdown",
   "id": "1016842c-df0b-4eff-b154-23488b394950",
   "metadata": {},
   "source": [
    "### **The law of large numbers in statistics suggests that since each outcome must occur at a more/less equal frequencies since all outcomes have equal probabilities (1/6)**   \n",
    "**The larger the number of samples, the more flatter the histogram top becomes**"
   ]
  },
  {
   "cell_type": "markdown",
   "id": "0637af51-9893-4441-98ad-aa36166167d8",
   "metadata": {},
   "source": [
    "**_Rolling 10 independent dies labelled x1,x2,x3.....x10_   \n",
    "Another variable `y` is going to contain the sums of all dies from each roll   \n",
    "Understandably the minimum number `y` can contain is 10 as the smallest number a die can return is 1, and if 1 happen to come from all 10 dies the sum will be 10, by similar logic the maximum value in y will be 60 (6 x 10 dies).     \n",
    "However the probabilities for these two extremes are very low   \n",
    "And the histogram should approximately represent a normal distribution: a bell curve**"
   ]
  },
  {
   "cell_type": "markdown",
   "id": "08791983-f61a-430d-9bc4-2d3dcf4b5d86",
   "metadata": {},
   "source": [
    "**`[random.choice(range(1,7)) for i in range(0,10)]` is a list comprehension that generates a lsit of 10 random numbers from `range(1,7)`**"
   ]
  },
  {
   "cell_type": "code",
   "execution_count": 61,
   "id": "6543b25d-8065-49e8-8cef-4c0dd2c78a4c",
   "metadata": {},
   "outputs": [
    {
     "data": {
      "text/plain": [
       "[1, 1, 3, 4, 2, 6, 3, 5, 1, 2]"
      ]
     },
     "execution_count": 61,
     "metadata": {},
     "output_type": "execute_result"
    }
   ],
   "source": [
    "[random.choice(range(1,7)) for i in range(0,10)]"
   ]
  },
  {
   "cell_type": "code",
   "execution_count": 85,
   "id": "d7c35d4d-3417-4ec5-bb6f-b5f39dbbee8a",
   "metadata": {},
   "outputs": [
    {
     "data": {
      "text/plain": [
       "41"
      ]
     },
     "execution_count": 85,
     "metadata": {},
     "output_type": "execute_result"
    }
   ],
   "source": [
    "sum([random.choice(range(1,7)) for i in range(0,10)])  # sum of all 10 random choices"
   ]
  },
  {
   "cell_type": "code",
   "execution_count": 1,
   "id": "7e2ddb81-3711-44d4-be8b-04d953225b63",
   "metadata": {},
   "outputs": [],
   "source": [
    "import random\n",
    "import numpy as np\n",
    "import matplotlib.pyplot as plt"
   ]
  },
  {
   "cell_type": "code",
   "execution_count": 2,
   "id": "57391fd1-e789-47d4-98fb-4568028d9767",
   "metadata": {},
   "outputs": [
    {
     "data": {
      "text/plain": [
       "(array([0.  , 0.  , 0.  , 0.  , 0.  , 0.  , 0.  , 0.  , 0.  , 0.  , 0.  ,\n",
       "        0.  , 0.  , 0.  , 0.  , 0.  , 0.01, 0.  , 0.01, 0.  , 0.  , 0.  ,\n",
       "        0.  , 0.01, 0.01, 0.02, 0.03, 0.03, 0.03, 0.03, 0.05, 0.03, 0.07,\n",
       "        0.05, 0.08, 0.07, 0.1 , 0.04, 0.07, 0.07, 0.07, 0.04, 0.04, 0.03,\n",
       "        0.  , 0.01, 0.  , 0.  , 0.  , 0.  , 0.  , 0.  , 0.  , 0.  , 0.  ,\n",
       "        0.  , 0.  , 0.  , 0.  , 0.  ]),\n",
       " array([ 0.5,  1.5,  2.5,  3.5,  4.5,  5.5,  6.5,  7.5,  8.5,  9.5, 10.5,\n",
       "        11.5, 12.5, 13.5, 14.5, 15.5, 16.5, 17.5, 18.5, 19.5, 20.5, 21.5,\n",
       "        22.5, 23.5, 24.5, 25.5, 26.5, 27.5, 28.5, 29.5, 30.5, 31.5, 32.5,\n",
       "        33.5, 34.5, 35.5, 36.5, 37.5, 38.5, 39.5, 40.5, 41.5, 42.5, 43.5,\n",
       "        44.5, 45.5, 46.5, 47.5, 48.5, 49.5, 50.5, 51.5, 52.5, 53.5, 54.5,\n",
       "        55.5, 56.5, 57.5, 58.5, 59.5, 60.5]),\n",
       " <BarContainer object of 60 artists>)"
      ]
     },
     "execution_count": 2,
     "metadata": {},
     "output_type": "execute_result"
    },
    {
     "data": {
      "image/png": "[encoded data removed]",
      "text/plain": [
       "<Figure size 432x288 with 1 Axes>"
      ]
     },
     "metadata": {
      "needs_background": "light"
     },
     "output_type": "display_data"
    }
   ],
   "source": [
    "y = []\n",
    "\n",
    "for k in range(0,100):\n",
    "        y.append(sum(random.choice(range(1,7)) for i in range(0,10)))\n",
    "\n",
    "plt.hist(y, density=True, stacked=True, color=\"black\", bins=np.linspace(.5,60.5,61))        "
   ]
  },
  {
   "cell_type": "code",
   "execution_count": 3,
   "id": "5d24bbbd-2129-43c6-8c4b-f2f8598f4923",
   "metadata": {},
   "outputs": [
    {
     "data": {
      "text/plain": [
       "(array([0.    , 0.    , 0.    , 0.    , 0.    , 0.    , 0.    , 0.    ,\n",
       "        0.    , 0.    , 0.    , 0.    , 0.    , 0.    , 0.    , 0.0001,\n",
       "        0.    , 0.0002, 0.0004, 0.0015, 0.0028, 0.0042, 0.0068, 0.0085,\n",
       "        0.0136, 0.0209, 0.0238, 0.0338, 0.0394, 0.047 , 0.0582, 0.0652,\n",
       "        0.0687, 0.0724, 0.0741, 0.0696, 0.0734, 0.0637, 0.0549, 0.0466,\n",
       "        0.0392, 0.0328, 0.0241, 0.0187, 0.0128, 0.01  , 0.0054, 0.0029,\n",
       "        0.0017, 0.0012, 0.0007, 0.0005, 0.0002, 0.    , 0.    , 0.    ,\n",
       "        0.    , 0.    , 0.    , 0.    ]),\n",
       " array([ 0.5,  1.5,  2.5,  3.5,  4.5,  5.5,  6.5,  7.5,  8.5,  9.5, 10.5,\n",
       "        11.5, 12.5, 13.5, 14.5, 15.5, 16.5, 17.5, 18.5, 19.5, 20.5, 21.5,\n",
       "        22.5, 23.5, 24.5, 25.5, 26.5, 27.5, 28.5, 29.5, 30.5, 31.5, 32.5,\n",
       "        33.5, 34.5, 35.5, 36.5, 37.5, 38.5, 39.5, 40.5, 41.5, 42.5, 43.5,\n",
       "        44.5, 45.5, 46.5, 47.5, 48.5, 49.5, 50.5, 51.5, 52.5, 53.5, 54.5,\n",
       "        55.5, 56.5, 57.5, 58.5, 59.5, 60.5]),\n",
       " <BarContainer object of 60 artists>)"
      ]
     },
     "execution_count": 3,
     "metadata": {},
     "output_type": "execute_result"
    },
    {
     "data": {
      "image/png": "[encoded data removed]",
      "text/plain": [
       "<Figure size 432x288 with 1 Axes>"
      ]
     },
     "metadata": {
      "needs_background": "light"
     },
     "output_type": "display_data"
    }
   ],
   "source": [
    "y = []\n",
    "\n",
    "for k in range(0,10000):\n",
    "        y.append(sum(random.choice(range(1,7)) for i in range(0,10)))\n",
    "\n",
    "plt.hist(y, density=True, stacked=True, color=\"black\", bins=np.linspace(.5,60.5,61))    "
   ]
  },
  {
   "cell_type": "code",
   "execution_count": 4,
   "id": "c0df404a-d5a4-4ee5-9dee-4a44e6f23fa2",
   "metadata": {},
   "outputs": [
    {
     "data": {
      "text/plain": [
       "(array([0.0000e+00, 0.0000e+00, 0.0000e+00, 0.0000e+00, 0.0000e+00,\n",
       "        0.0000e+00, 0.0000e+00, 0.0000e+00, 0.0000e+00, 0.0000e+00,\n",
       "        0.0000e+00, 0.0000e+00, 6.0000e-06, 5.0000e-06, 3.4000e-05,\n",
       "        9.2000e-05, 1.8300e-04, 4.0700e-04, 7.5400e-04, 1.4450e-03,\n",
       "        2.4460e-03, 4.0140e-03, 6.3730e-03, 9.6140e-03, 1.3837e-02,\n",
       "        1.9292e-02, 2.5268e-02, 3.2819e-02, 4.0523e-02, 4.8469e-02,\n",
       "        5.6395e-02, 6.2841e-02, 6.7889e-02, 7.1517e-02, 7.2868e-02,\n",
       "        7.1014e-02, 6.8276e-02, 6.2827e-02, 5.6123e-02, 4.8299e-02,\n",
       "        4.0347e-02, 3.2565e-02, 2.5374e-02, 1.9168e-02, 1.3666e-02,\n",
       "        9.5560e-03, 6.2460e-03, 4.0840e-03, 2.4350e-03, 1.4220e-03,\n",
       "        7.5200e-04, 4.1000e-04, 1.9300e-04, 9.0000e-05, 4.1000e-05,\n",
       "        1.6000e-05, 3.0000e-06, 2.0000e-06, 0.0000e+00, 0.0000e+00]),\n",
       " array([ 0.5,  1.5,  2.5,  3.5,  4.5,  5.5,  6.5,  7.5,  8.5,  9.5, 10.5,\n",
       "        11.5, 12.5, 13.5, 14.5, 15.5, 16.5, 17.5, 18.5, 19.5, 20.5, 21.5,\n",
       "        22.5, 23.5, 24.5, 25.5, 26.5, 27.5, 28.5, 29.5, 30.5, 31.5, 32.5,\n",
       "        33.5, 34.5, 35.5, 36.5, 37.5, 38.5, 39.5, 40.5, 41.5, 42.5, 43.5,\n",
       "        44.5, 45.5, 46.5, 47.5, 48.5, 49.5, 50.5, 51.5, 52.5, 53.5, 54.5,\n",
       "        55.5, 56.5, 57.5, 58.5, 59.5, 60.5]),\n",
       " <BarContainer object of 60 artists>)"
      ]
     },
     "execution_count": 4,
     "metadata": {},
     "output_type": "execute_result"
    },
    {
     "data": {
      "image/png": "[encoded data removed]",
      "text/plain": [
       "<Figure size 432x288 with 1 Axes>"
      ]
     },
     "metadata": {
      "needs_background": "light"
     },
     "output_type": "display_data"
    }
   ],
   "source": [
    "y = []\n",
    "\n",
    "for k in range(0,1000000):\n",
    "        y.append(sum(random.choice(range(1,7)) for i in range(0,10)))\n",
    "\n",
    "plt.hist(y, density=True, stacked=True, color=\"black\", bins=np.linspace(.5,60.5,61))    "
   ]
  },
  {
   "cell_type": "markdown",
   "id": "db528adf-7816-48ae-84fa-b92a86616dd8",
   "metadata": {},
   "source": [
    "**Adding a `;` after the pyplot code will suppress the arrays from being returned**"
   ]
  },
  {
   "cell_type": "code",
   "execution_count": 5,
   "id": "d499b275-d2b8-47c1-9313-c552ccc1fdff",
   "metadata": {},
   "outputs": [
    {
     "data": {
      "image/png": "[encoded data removed]",
      "text/plain": [
       "<Figure size 432x288 with 1 Axes>"
      ]
     },
     "metadata": {
      "needs_background": "light"
     },
     "output_type": "display_data"
    }
   ],
   "source": [
    "y = []\n",
    "\n",
    "for k in range(0,10000000):\n",
    "        y.append(sum(random.choice(range(1,7)) for i in range(0,10)))\n",
    "\n",
    "plt.hist(y, density=True, stacked=True, color=\"black\", bins=np.linspace(.5,60.5,61));    "
   ]
  },
  {
   "cell_type": "markdown",
   "id": "570f2d60-dd92-44fd-8b1a-765e507b0e11",
   "metadata": {},
   "source": [
    "**In the above plots, there is no bars for lowermost and highest regions not because no such combinations occured but because these plots are density plots; which show proportions of each outcome not their counts!**"
   ]
  },
  {
   "cell_type": "code",
   "execution_count": 6,
   "id": "92dde11a-d1d9-4366-a2f6-541a4ce79a66",
   "metadata": {},
   "outputs": [
    {
     "data": {
      "image/png": "[encoded data removed]",
      "text/plain": [
       "<Figure size 432x288 with 1 Axes>"
      ]
     },
     "metadata": {
      "needs_background": "light"
     },
     "output_type": "display_data"
    }
   ],
   "source": [
    "y = []\n",
    "\n",
    "for k in range(0,100):\n",
    "        y.append(sum(random.choice(range(1,7)) for i in range(0,10)))\n",
    "\n",
    "plt.hist(y, color=\"black\", bins=np.linspace(.5,60.5,61));        "
   ]
  },
  {
   "cell_type": "code",
   "execution_count": 7,
   "id": "1500befb-e835-49c6-86d3-1169d7e7a7d7",
   "metadata": {},
   "outputs": [
    {
     "data": {
      "image/png": "[encoded data removed]",
      "text/plain": [
       "<Figure size 432x288 with 1 Axes>"
      ]
     },
     "metadata": {
      "needs_background": "light"
     },
     "output_type": "display_data"
    }
   ],
   "source": [
    "y = []\n",
    "\n",
    "for k in range(0,1000):\n",
    "        y.append(sum(random.choice(range(1,7)) for i in range(0,10)))\n",
    "\n",
    "plt.hist(y, color=\"black\", bins=np.linspace(.5,60.5,61));  "
   ]
  },
  {
   "cell_type": "code",
   "execution_count": 8,
   "id": "4abe12f4-1710-44c6-b5b4-4d8c786b08b2",
   "metadata": {},
   "outputs": [
    {
     "data": {
      "image/png": "[encoded data removed]",
      "text/plain": [
       "<Figure size 432x288 with 1 Axes>"
      ]
     },
     "metadata": {
      "needs_background": "light"
     },
     "output_type": "display_data"
    }
   ],
   "source": [
    "y = []\n",
    "\n",
    "for k in range(0,10000):\n",
    "        y.append(sum(random.choice(range(1,7)) for i in range(0,10)))\n",
    "\n",
    "plt.hist(y, color=\"black\", bins=np.linspace(.5,60.5,61)); "
   ]
  },
  {
   "cell_type": "code",
   "execution_count": 9,
   "id": "fda715ae-e7bb-4d95-b79d-09276b8abcda",
   "metadata": {},
   "outputs": [
    {
     "data": {
      "image/png": "[encoded data removed]",
      "text/plain": [
       "<Figure size 432x288 with 1 Axes>"
      ]
     },
     "metadata": {
      "needs_background": "light"
     },
     "output_type": "display_data"
    }
   ],
   "source": [
    "y = []\n",
    "\n",
    "for k in range(0,100000):\n",
    "        y.append(sum(random.choice(range(1,7)) for i in range(0,10)))\n",
    "\n",
    "plt.hist(y, color=\"black\", bins=np.linspace(.5,60.5,61)); "
   ]
  },
  {
   "cell_type": "code",
   "execution_count": 10,
   "id": "0359f86a-f342-4cca-a1b5-a7d762777582",
   "metadata": {},
   "outputs": [
    {
     "data": {
      "image/png": "[encoded data removed]",
      "text/plain": [
       "<Figure size 432x288 with 1 Axes>"
      ]
     },
     "metadata": {
      "needs_background": "light"
     },
     "output_type": "display_data"
    }
   ],
   "source": [
    "y = []\n",
    "\n",
    "for k in range(0,1000000):\n",
    "        y.append(sum(random.choice(range(1,7)) for i in range(0,10)))\n",
    "\n",
    "plt.hist(y, color=\"black\", bins=np.linspace(.5,60.5,61)); "
   ]
  },
  {
   "cell_type": "code",
   "execution_count": 12,
   "id": "1a7f375b-a5c4-4bd4-a78f-218c7d25cf6e",
   "metadata": {},
   "outputs": [
    {
     "data": {
      "text/plain": [
       "'C:\\\\Users\\\\Anoba\\\\Documents\\\\Python\\\\Using_Python_for_Research'"
      ]
     },
     "execution_count": 12,
     "metadata": {},
     "output_type": "execute_result"
    }
   ],
   "source": [
    "import os\n",
    "os.getcwd()"
   ]
  },
  {
   "cell_type": "code",
   "execution_count": 22,
   "id": "eddd2dc4-2576-45e3-b9d5-76e8b5649350",
   "metadata": {},
   "outputs": [
    {
     "data": {
      "image/png": "[encoded data removed]",
      "text/plain": [
       "<Figure size 432x288 with 1 Axes>"
      ]
     },
     "metadata": {
      "needs_background": "light"
     },
     "output_type": "display_data"
    }
   ],
   "source": [
    "y = []\n",
    "\n",
    "for k in range(0,100000):\n",
    "        y.append(sum(random.choice(range(1,7)) for i in range(0,10)))\n",
    "\n",
    "plt.hist(y, color=\"black\", bins=np.linspace(.5,60.5,61)); \n",
    "plt.xlabel(\"Sum of die outcomes\")\n",
    "plt.ylabel(\"Frequency\")\n",
    "plt.savefig(\"Normdist.jpeg\", dpi=2500)"
   ]
  },
  {
   "cell_type": "code",
   "execution_count": 10,
   "id": "34552408-edd5-446b-8e87-660c6a67cf10",
   "metadata": {},
   "outputs": [
    {
     "data": {
      "text/plain": [
       "2"
      ]
     },
     "execution_count": 10,
     "metadata": {},
     "output_type": "execute_result"
    }
   ],
   "source": [
    "import random\n",
    "random.choice(list((1,2,3,4)))"
   ]
  },
  {
   "cell_type": "code",
   "execution_count": 11,
   "id": "ece9551d-b45a-4205-81d3-54a253388b92",
   "metadata": {},
   "outputs": [
    {
     "data": {
      "text/plain": [
       "[1, 2, 3, 4]"
      ]
     },
     "execution_count": 11,
     "metadata": {},
     "output_type": "execute_result"
    }
   ],
   "source": [
    "list((1,2,3,4))"
   ]
  },
  {
   "cell_type": "markdown",
   "id": "df5fc6fe-a40b-4dd3-8581-c5736d5f57ef",
   "metadata": {},
   "source": [
    "**The so-called central limit theorem (CLT) states that the sum of a large number of random variables _regardless of their distribution_ will approximately follow a normal distribution** "
   ]
  },
  {
   "cell_type": "markdown",
   "id": "50fe4d60-36ce-46f5-b158-3c55b767a4a6",
   "metadata": {},
   "source": [
    "### **Normal distribution is sometimes called the Gaussian distribution** "
   ]
  },
  {
   "cell_type": "markdown",
   "id": "78f051bf-e392-4342-ba05-220417a46669",
   "metadata": {},
   "source": [
    "**Using the `NumPy`'s `random` module**"
   ]
  },
  {
   "cell_type": "markdown",
   "id": "8c381b5e-b9c5-472c-a741-9c75b3782f96",
   "metadata": {},
   "source": [
    "**Generating numbers from standard uniform distribution; which is a completely flat distribution between 0 & 1   \n",
    "Where any value between 0 and 1 are equally likely.**"
   ]
  },
  {
   "cell_type": "code",
   "execution_count": 1,
   "id": "cd546a74-05f1-4114-989d-cb00fd9bed7c",
   "metadata": {},
   "outputs": [
    {
     "data": {
      "text/plain": [
       "0.5205266635574513"
      ]
     },
     "execution_count": 1,
     "metadata": {},
     "output_type": "execute_result"
    }
   ],
   "source": [
    "import numpy as np\n",
    "np.random.random()   # for standard uniform distribution"
   ]
  },
  {
   "cell_type": "code",
   "execution_count": 2,
   "id": "ce90bcb7-eb3c-4f79-b114-1bbf2fa3e2ac",
   "metadata": {},
   "outputs": [
    {
     "data": {
      "text/plain": [
       "[0.5407666577227388,\n",
       " 0.24937912030113485,\n",
       " 0.3572385747000788,\n",
       " 0.15688024887357888,\n",
       " 0.5446374248844293,\n",
       " 0.9262797828072471,\n",
       " 0.44432353674857006,\n",
       " 0.2734143323453678,\n",
       " 0.192649596904093,\n",
       " 0.3050231572265384]"
      ]
     },
     "execution_count": 2,
     "metadata": {},
     "output_type": "execute_result"
    }
   ],
   "source": [
    "[np.random.random() for i in range(10)]"
   ]
  },
  {
   "cell_type": "code",
   "execution_count": 3,
   "id": "d649856e-743e-4452-9ac2-35f9029c4e1e",
   "metadata": {},
   "outputs": [
    {
     "data": {
      "text/plain": [
       "array([0.02044353, 0.23751258, 0.98896043, 0.48409395, 0.56909524,\n",
       "       0.14572804, 0.0196577 , 0.05382215, 0.86216678, 0.04746837])"
      ]
     },
     "execution_count": 3,
     "metadata": {},
     "output_type": "execute_result"
    }
   ],
   "source": [
    "# to generate an array of numbers from the standard uniform distribution\n",
    "np.random.random(10)  # ten random numbers"
   ]
  },
  {
   "cell_type": "code",
   "execution_count": 4,
   "id": "8a0cabe2-d4e4-4724-9ae8-469379be08e9",
   "metadata": {},
   "outputs": [
    {
     "data": {
      "text/plain": [
       "array([[0.88021866, 0.5358982 ],\n",
       "       [0.24833228, 0.1875425 ],\n",
       "       [0.79819809, 0.89498425],\n",
       "       [0.25624967, 0.59875156],\n",
       "       [0.00520535, 0.3015475 ]])"
      ]
     },
     "execution_count": 4,
     "metadata": {},
     "output_type": "execute_result"
    }
   ],
   "source": [
    "# to generate a 2D array of random numbers from the random uniform distribution\n",
    "np.random.random((5,2))  # pass the dimension of the array in a tuple"
   ]
  },
  {
   "cell_type": "markdown",
   "id": "3f541b34-91ad-480f-baf1-cf131612dacc",
   "metadata": {},
   "source": [
    "## **Normal distribution**\n",
    "------------------\n",
    "**Requires mean and standard deviation as input arguments.**"
   ]
  },
  {
   "cell_type": "code",
   "execution_count": 5,
   "id": "581b2628-6f1d-46ac-bc5d-684cf757d861",
   "metadata": {},
   "outputs": [
    {
     "data": {
      "text/plain": [
       "0.29493757824932115"
      ]
     },
     "execution_count": 5,
     "metadata": {},
     "output_type": "execute_result"
    }
   ],
   "source": [
    "np.random.normal(0,1)  # mean = 0, sd = 1"
   ]
  },
  {
   "cell_type": "markdown",
   "id": "46f45c51-665b-4a70-a537-07d934d20093",
   "metadata": {},
   "source": [
    "**A normal distribution with mean 0 and standard deviation 1 is called _Standard normal distribution._**"
   ]
  },
  {
   "cell_type": "markdown",
   "id": "e00e2e12-001d-48eb-9ab8-ebc55b825692",
   "metadata": {},
   "source": [
    "To generate an array of numbers from the normal distribution the dimension of the array can be passed as the third argument."
   ]
  },
  {
   "cell_type": "code",
   "execution_count": 6,
   "id": "761d921e-4ec1-4292-80cd-85433885d700",
   "metadata": {},
   "outputs": [
    {
     "data": {
      "text/plain": [
       "array([-2.50572096,  2.02825673,  4.46304059, -2.68092012,  4.74134544,\n",
       "        2.2424007 ,  1.61078503, -0.03271674,  2.55648066,  8.71366473])"
      ]
     },
     "execution_count": 6,
     "metadata": {},
     "output_type": "execute_result"
    }
   ],
   "source": [
    "np.random.normal(2,2.5,10)  # mean, sd and length"
   ]
  },
  {
   "cell_type": "code",
   "execution_count": 7,
   "id": "34ddc9a5-8cdc-425f-890f-6cfb765e9543",
   "metadata": {},
   "outputs": [
    {
     "data": {
      "text/plain": [
       "array([[1.45827448, 0.98852385, 4.57336679, 1.39094586],\n",
       "       [2.91404031, 2.00959175, 1.57012328, 1.68427639],\n",
       "       [2.83777633, 3.84018924, 6.22671883, 4.23801662]])"
      ]
     },
     "execution_count": 7,
     "metadata": {},
     "output_type": "execute_result"
    }
   ],
   "source": [
    "np.random.normal(3,1.5,(3,4))  # to get a 2D array pass the dimension of the array as third argument is a tuple"
   ]
  },
  {
   "cell_type": "markdown",
   "id": "9ff9094a-15fd-4c81-a8e0-d4e1ce152c7a",
   "metadata": {},
   "source": [
    "### **Repeating the die simulation using NumPy arrays**"
   ]
  },
  {
   "cell_type": "markdown",
   "id": "0c1dab9f-dbb9-4d86-a94b-1bfaf1f15f5f",
   "metadata": {},
   "source": [
    "**There will be 10 columns for each die storing the results of die roll.   \n",
    "Row wise sum will give the sum of all dies rolled once.**     \n"
   ]
  },
  {
   "cell_type": "markdown",
   "id": "0bf99b5d-0d04-4825-9001-359f6e8858d1",
   "metadata": {},
   "source": [
    "**`.random.randint()` generates a random integer from specified srguments.    \n",
    "first argument is lowest value, second is highest value and the third is the dimension of output array!**"
   ]
  },
  {
   "cell_type": "code",
   "execution_count": 8,
   "id": "bc3fd847-1b41-4159-924b-31b69bdad55b",
   "metadata": {},
   "outputs": [
    {
     "data": {
      "text/plain": [
       "array([[5, 3, 3, ..., 1, 6, 3],\n",
       "       [3, 4, 5, ..., 3, 4, 5],\n",
       "       [2, 2, 2, ..., 4, 6, 4],\n",
       "       ...,\n",
       "       [5, 6, 6, ..., 2, 5, 2],\n",
       "       [2, 3, 6, ..., 2, 1, 6],\n",
       "       [2, 4, 1, ..., 5, 2, 4]])"
      ]
     },
     "execution_count": 8,
     "metadata": {},
     "output_type": "execute_result"
    }
   ],
   "source": [
    "np.random.randint(1,7,(1000,10))    # min = 1, max = 6, dim = 1000 rows x 10 columns"
   ]
  },
  {
   "cell_type": "code",
   "execution_count": 9,
   "id": "8d518dc0-13ec-4720-be0c-bc811ed5d10d",
   "metadata": {},
   "outputs": [
    {
     "data": {
      "text/plain": [
       "(1000, 10)"
      ]
     },
     "execution_count": 9,
     "metadata": {},
     "output_type": "execute_result"
    }
   ],
   "source": [
    "np.random.randint(1,7,(1000,10)).shape  # voila - simulating 1000 rolls of 10 dies"
   ]
  },
  {
   "cell_type": "markdown",
   "id": "fad88939-d2f4-4ed4-a9e7-3482d4a89390",
   "metadata": {},
   "source": [
    "**Here we have rolled 10 dies 1000 times**"
   ]
  },
  {
   "cell_type": "markdown",
   "id": "beb7f7de-5a7c-4844-8eba-e133d6110a35",
   "metadata": {},
   "source": [
    "**To extract data row-wise**"
   ]
  },
  {
   "cell_type": "code",
   "execution_count": 10,
   "id": "f9c338ab-ccf1-49fe-ad8d-41e8a3864505",
   "metadata": {},
   "outputs": [],
   "source": [
    "table = np.random.randint(1,7,(1000,10))"
   ]
  },
  {
   "cell_type": "code",
   "execution_count": 11,
   "id": "1c3712a5-e68e-4be6-8960-097ac5f26468",
   "metadata": {},
   "outputs": [
    {
     "data": {
      "text/plain": [
       "array([5, 6, 6, 1, 4, 2, 1, 3, 2, 2])"
      ]
     },
     "execution_count": 11,
     "metadata": {},
     "output_type": "execute_result"
    }
   ],
   "source": [
    "table[0,:]  # first row - results of all dies in first roll"
   ]
  },
  {
   "cell_type": "code",
   "execution_count": 12,
   "id": "5fdc69db-6d7f-4c5d-bf0d-5f555c1bfae4",
   "metadata": {},
   "outputs": [
    {
     "data": {
      "text/plain": [
       "32"
      ]
     },
     "execution_count": 12,
     "metadata": {},
     "output_type": "execute_result"
    }
   ],
   "source": [
    "sum(table[0,:])  # sum of the results of all 10 dies in first roll"
   ]
  },
  {
   "cell_type": "code",
   "execution_count": 13,
   "id": "04a1dac1-3ede-4709-ac32-3385521a3a2d",
   "metadata": {},
   "outputs": [],
   "source": [
    "sums = []\n",
    "\n",
    "for i in range(0,1000):\n",
    "    sums.append(sum(table[i,:]))"
   ]
  },
  {
   "cell_type": "code",
   "execution_count": 14,
   "id": "fa3ebf0b-ef01-4e28-8749-0fea92954f8f",
   "metadata": {},
   "outputs": [
    {
     "data": {
      "text/plain": [
       "1000"
      ]
     },
     "execution_count": 14,
     "metadata": {},
     "output_type": "execute_result"
    }
   ],
   "source": [
    "len(sums)  # voila"
   ]
  },
  {
   "cell_type": "code",
   "execution_count": 15,
   "id": "c4c1259f-cf08-4087-8bfd-a151afd3eca9",
   "metadata": {},
   "outputs": [
    {
     "data": {
      "image/png": "[encoded data removed]",
      "text/plain": [
       "<Figure size 432x288 with 1 Axes>"
      ]
     },
     "metadata": {
      "needs_background": "light"
     },
     "output_type": "display_data"
    }
   ],
   "source": [
    "import matplotlib.pyplot as plt\n",
    "plt.hist(sums, density=True, stacked=True, color=\"green\", bins=np.linspace(0.5,60.5, 61));"
   ]
  },
  {
   "cell_type": "markdown",
   "id": "70e55097-4dc0-4894-8002-11bdfd0280dc",
   "metadata": {},
   "source": [
    "**Making plots using list comprehension**"
   ]
  },
  {
   "cell_type": "code",
   "execution_count": 16,
   "id": "995cb548-2039-4d14-b906-4b58b4500b5a",
   "metadata": {},
   "outputs": [],
   "source": [
    "# sums = [sum(np.random.randint(1,7,(100000,10))[i,:]) for i in range(0,100000)]   # for 100000 rolls\n",
    "# plt.hist(sums, density=True, stacked=True, color=\"green\", bins=np.linspace(0.5,60.5, 61));       # hashed\n",
    "# this code is theoretically correct but takes forever to run"
   ]
  },
  {
   "cell_type": "markdown",
   "id": "a116037a-cf66-4140-9162-001e83bb3c36",
   "metadata": {},
   "source": [
    "**The above code can be written in a more easily comprehensible way as follows:**"
   ]
  },
  {
   "cell_type": "code",
   "execution_count": 19,
   "id": "e07b31e0-023e-4edf-a6f8-90b4edec3878",
   "metadata": {},
   "outputs": [
    {
     "data": {
      "image/png": "[encoded data removed]",
      "text/plain": [
       "<Figure size 432x288 with 1 Axes>"
      ]
     },
     "metadata": {
      "needs_background": "light"
     },
     "output_type": "display_data"
    }
   ],
   "source": [
    "sums = []\n",
    "matrix = np.random.randint(1,7,(100000,10))  # a matrix with 100000 rows and 10 columns\n",
    "\n",
    "for i in range(0,100000):\n",
    "    sums.append(sum(matrix[i,:]))  # appending the row wise sums of die results\n",
    "\n",
    "plt.hist(sums, density=True, stacked=True, color=\"blue\", bins=np.linspace(0.5,60.5,61));\n",
    "plt.grid(color=\"white\", axis='x', which=\"both\")"
   ]
  },
  {
   "cell_type": "markdown",
   "id": "435dd4e5-af96-4bf8-b384-85d1f3e4a0c3",
   "metadata": {},
   "source": [
    "### **Instead of cumputing the sums of rows using loops `np.sum()` can be used with axis specification**"
   ]
  },
  {
   "cell_type": "markdown",
   "id": "57e3aa05-7ed7-43b9-825b-df097f3a6410",
   "metadata": {},
   "source": [
    "**`np.sum(data)` gives the sum of all elements    \n",
    "`np.sum(data, axis=n)` gives sums axis wise   \n",
    "axis=0 column sums   \n",
    "axis=1 row sums   \n",
    "axis=2 used for 3D arrays**"
   ]
  },
  {
   "cell_type": "code",
   "execution_count": 20,
   "id": "4b633db1-e5b8-4009-8d0d-ef07e4683a8f",
   "metadata": {},
   "outputs": [],
   "source": [
    "matrix = np.random.randint(1,7,(100000,10))"
   ]
  },
  {
   "cell_type": "code",
   "execution_count": 21,
   "id": "d7dd6785-1e15-41ad-86dc-b7ef4798494b",
   "metadata": {},
   "outputs": [
    {
     "data": {
      "text/plain": [
       "(100000, 10)"
      ]
     },
     "execution_count": 21,
     "metadata": {},
     "output_type": "execute_result"
    }
   ],
   "source": [
    "matrix.shape"
   ]
  },
  {
   "cell_type": "code",
   "execution_count": 22,
   "id": "95b96b23-3781-4331-8319-cbdf22d6855d",
   "metadata": {},
   "outputs": [],
   "source": [
    "np_sums = np.sum(matrix, axis=1)"
   ]
  },
  {
   "cell_type": "code",
   "execution_count": 23,
   "id": "fb3d3c43-ca93-4868-be0c-fe308b941dca",
   "metadata": {},
   "outputs": [
    {
     "data": {
      "text/plain": [
       "100000"
      ]
     },
     "execution_count": 23,
     "metadata": {},
     "output_type": "execute_result"
    }
   ],
   "source": [
    "len(np_sums)"
   ]
  },
  {
   "cell_type": "code",
   "execution_count": 27,
   "id": "756f70b0-8eee-4c6a-b444-56c8346da25c",
   "metadata": {},
   "outputs": [
    {
     "data": {
      "image/png": "[encoded data removed]",
      "text/plain": [
       "<Figure size 432x288 with 1 Axes>"
      ]
     },
     "metadata": {
      "needs_background": "light"
     },
     "output_type": "display_data"
    }
   ],
   "source": [
    "plt.hist(np_sums, density=True, stacked=True, color=\"crimson\", bins=np.linspace(0.5,60.5,61));"
   ]
  },
  {
   "cell_type": "code",
   "execution_count": 31,
   "id": "6547965a-97da-4b20-b0cb-364f12043c13",
   "metadata": {},
   "outputs": [
    {
     "data": {
      "text/plain": [
       "array([[[0.91734305, 0.6078347 , 0.96251512],\n",
       "        [0.10878381, 0.0658129 , 0.08971383]],\n",
       "\n",
       "       [[0.15023242, 0.23641681, 0.3684405 ],\n",
       "        [0.11069709, 0.42743399, 0.45633977]],\n",
       "\n",
       "       [[0.77241022, 0.36468904, 0.51196174],\n",
       "        [0.27733076, 0.82782835, 0.22316922]],\n",
       "\n",
       "       [[0.62106135, 0.19099103, 0.2208929 ],\n",
       "        [0.779806  , 0.02685308, 0.7517615 ]],\n",
       "\n",
       "       [[0.26362771, 0.46855637, 0.46060608],\n",
       "        [0.82424057, 0.35489559, 0.22264675]]])"
      ]
     },
     "execution_count": 31,
     "metadata": {},
     "output_type": "execute_result"
    }
   ],
   "source": [
    "np.random.random((5,2,3))  "
   ]
  },
  {
   "cell_type": "markdown",
   "id": "8cdd51f3-54be-4f9f-9ce9-f747e5a9942a",
   "metadata": {},
   "source": [
    "**Since random uniform distribution takes only one argument the passed tuple is taken for dimensions argument.   \n",
    "A three dimensional array is returned**"
   ]
  },
  {
   "cell_type": "code",
   "execution_count": 33,
   "id": "b93e01a2-b12f-4f03-92c9-f12d3c84b01f",
   "metadata": {},
   "outputs": [
    {
     "data": {
      "text/plain": [
       "(5, 2, 3)"
      ]
     },
     "execution_count": 33,
     "metadata": {},
     "output_type": "execute_result"
    }
   ],
   "source": [
    "np.random.random((5,2,3)).shape  # whoa"
   ]
  },
  {
   "cell_type": "markdown",
   "id": "0d1c3549-8729-4332-9784-e8129bdf197d",
   "metadata": {},
   "source": [
    "## **Measuring time**"
   ]
  },
  {
   "cell_type": "code",
   "execution_count": 35,
   "id": "4c0c9088-08cc-4403-a353-6b92ead04258",
   "metadata": {},
   "outputs": [],
   "source": [
    "import time"
   ]
  },
  {
   "cell_type": "code",
   "execution_count": 43,
   "id": "5be6017b-ab18-4944-bc87-8249997af9ca",
   "metadata": {},
   "outputs": [
    {
     "data": {
      "text/plain": [
       "1638867589.837891"
      ]
     },
     "execution_count": 43,
     "metadata": {},
     "output_type": "execute_result"
    }
   ],
   "source": [
    "time.time()"
   ]
  },
  {
   "cell_type": "markdown",
   "id": "b88faa6b-559d-4992-b368-df1298c20892",
   "metadata": {},
   "source": [
    "**Return the time in `seconds` since the epoch as a floating point number.**"
   ]
  },
  {
   "cell_type": "code",
   "execution_count": 46,
   "id": "f74903e6-231c-4d29-8eba-49ca78289a14",
   "metadata": {},
   "outputs": [
    {
     "data": {
      "text/plain": [
       "3156250000"
      ]
     },
     "execution_count": 46,
     "metadata": {},
     "output_type": "execute_result"
    }
   ],
   "source": [
    "time.thread_time_ns()"
   ]
  },
  {
   "cell_type": "markdown",
   "id": "ec2c7b0a-3034-497e-be86-578f098fa0e5",
   "metadata": {},
   "source": [
    "**Return the value (in fractional seconds) of the sum of the system and user CPU time of the current thread. It does not include time elapsed during sleep. It is thread-specific by definition. The reference point of the returned value is undefined, so that only the difference between the results of two calls in the same thread is valid.**"
   ]
  },
  {
   "cell_type": "markdown",
   "id": "47af1e29-430e-4354-b800-688782710700",
   "metadata": {},
   "source": [
    "### **Comparing speeds of pure Python and NumPy**"
   ]
  },
  {
   "cell_type": "code",
   "execution_count": 57,
   "id": "73e23a30-e7f7-4110-9df7-2a040fc56e9d",
   "metadata": {},
   "outputs": [
    {
     "name": "stdout",
     "output_type": "stream",
     "text": [
      "Pure Python process time =  4.49774694442749 seconds\n"
     ]
    }
   ],
   "source": [
    "import random\n",
    "\n",
    "start_time = time.time()\n",
    "sums = []\n",
    "for i in range(0,1000000):\n",
    "    s = sum([random.choice(range(1,7)) for k in range(0,10)])\n",
    "    sums.append(s)\n",
    "end_time = time.time()\n",
    "print(\"Pure Python process time = \", end_time - start_time, \"seconds\")"
   ]
  },
  {
   "cell_type": "code",
   "execution_count": 58,
   "id": "9f67c8bb-3393-4290-ab74-74d7440ca614",
   "metadata": {},
   "outputs": [
    {
     "data": {
      "text/plain": [
       "1000000"
      ]
     },
     "execution_count": 58,
     "metadata": {},
     "output_type": "execute_result"
    }
   ],
   "source": [
    "len(sums)"
   ]
  },
  {
   "cell_type": "code",
   "execution_count": 59,
   "id": "a8973752-eed2-4e66-a1e0-8b7da77a39bb",
   "metadata": {},
   "outputs": [
    {
     "name": "stdout",
     "output_type": "stream",
     "text": [
      "NumPy process time =  0.08477354049682617 seconds\n"
     ]
    }
   ],
   "source": [
    "import numpy as np\n",
    "\n",
    "start_time = time.time()\n",
    "matrix = np.random.randint(1,7,(1000000,10))\n",
    "sums = np.sum(matrix, axis=1)\n",
    "end_time = time.time()\n",
    "print(\"NumPy process time = \", end_time - start_time, \"seconds\")"
   ]
  },
  {
   "cell_type": "code",
   "execution_count": 60,
   "id": "ebf28965-716a-4ccc-a233-7714b157479d",
   "metadata": {},
   "outputs": [
    {
     "data": {
      "text/plain": [
       "1000000"
      ]
     },
     "execution_count": 60,
     "metadata": {},
     "output_type": "execute_result"
    }
   ],
   "source": [
    "len(sums)"
   ]
  },
  {
   "cell_type": "code",
   "execution_count": 62,
   "id": "f27b0a4f-de73-478e-a006-7173e8b752b1",
   "metadata": {},
   "outputs": [
    {
     "data": {
      "text/plain": [
       "53.056023354313965"
      ]
     },
     "execution_count": 62,
     "metadata": {},
     "output_type": "execute_result"
    }
   ],
   "source": [
    "4.49774694442749/0.08477354049682617   # NumPy is 50 times faster than pure Python "
   ]
  },
  {
   "cell_type": "markdown",
   "id": "46385a7b-9faa-465d-b4dc-e92996b2a198",
   "metadata": {},
   "source": [
    "# **Random walks**"
   ]
  },
  {
   "cell_type": "markdown",
   "id": "2b0f0267-9039-4dcc-b791-bb40272ac8dc",
   "metadata": {},
   "source": [
    "There are two axes x and y both with both positive and negative domains     \n",
    "A random walk starts from origin     \n",
    "At `t=0`, walker is at the origin `(0,0)`    \n",
    "Step size of the walker is `ds` **(Assuming the walker takes one step per second)**   \n",
    "At `t=2`, walker is at a different point, "
   ]
  }
 ],
 "metadata": {
  "kernelspec": {
   "display_name": "Python 3 (ipykernel)",
   "language": "python",
   "name": "python3"
  },
  "language_info": {
   "codemirror_mode": {
    "name": "ipython",
    "version": 3
   },
   "file_extension": ".py",
   "mimetype": "text/x-python",
   "name": "python",
   "nbconvert_exporter": "python",
   "pygments_lexer": "ipython3",
   "version": "3.9.9"
  }
 },
 "nbformat": 4,
 "nbformat_minor": 5
}
