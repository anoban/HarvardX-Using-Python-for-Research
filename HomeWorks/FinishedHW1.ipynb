{
 "cells": [
  {
   "cell_type": "markdown",
   "metadata": {},
   "source": [
    "# Using Python for Research Homework: Week 1\n",
    "\n",
    "In this homework, we will use objects, functions, and randomness to find the length of documents, approximate $\\pi$, and smooth out random noise."
   ]
  },
  {
   "cell_type": "markdown",
   "metadata": {},
   "source": [
    "### Exercise 1\n",
    "\n",
    "In this five-part exercise, we will count the frequency of each letter in a given string.\n",
    "\n",
    "#### Exercise 1a\n",
    "\n",
    "- Import the `string` library.\n",
    "- Create a variable `alphabet` that consists of the lowercase and uppercase letters in the English alphabet using the `ascii_letters` data attribute of the `string` library."
   ]
  },
  {
   "cell_type": "code",
   "execution_count": 1,
   "metadata": {},
   "outputs": [],
   "source": [
    "import string\n",
    "alphabet = string.ascii_letters"
   ]
  },
  {
   "cell_type": "markdown",
   "metadata": {},
   "source": [
    "#### Exercise 1b\n",
    "- The lower and upper case letters of the English alphabet should stored as the string variable `alphabet`.\n",
    "- Consider the sentence 'Jim quickly realized that the beautiful gowns are expensive'. Create a dictionary `count_letters` with keys consisting of each unique letter in the sentence and values consisting of the number of times each letter is used in this sentence. Count upper case and lower case letters separately in the dictionary."
   ]
  },
  {
   "cell_type": "code",
   "execution_count": 2,
   "metadata": {},
   "outputs": [],
   "source": [
    "count_letters = dict()\n",
    "\n",
    "for letter in alphabet:\n",
    "    count = 'Jim quickly realized that the beautiful gowns are expensive'.count(letter)\n",
    "    if count > 0:\n",
    "        count_letters[letter] = count\n",
    "    else:\n",
    "        pass"
   ]
  },
  {
   "cell_type": "code",
   "execution_count": 3,
   "metadata": {},
   "outputs": [
    {
     "data": {
      "text/plain": [
       "{'a': 4,\n",
       " 'b': 1,\n",
       " 'c': 1,\n",
       " 'd': 1,\n",
       " 'e': 8,\n",
       " 'f': 1,\n",
       " 'g': 1,\n",
       " 'h': 2,\n",
       " 'i': 5,\n",
       " 'k': 1,\n",
       " 'l': 3,\n",
       " 'm': 1,\n",
       " 'n': 2,\n",
       " 'o': 1,\n",
       " 'p': 1,\n",
       " 'q': 1,\n",
       " 'r': 2,\n",
       " 's': 2,\n",
       " 't': 4,\n",
       " 'u': 3,\n",
       " 'v': 1,\n",
       " 'w': 1,\n",
       " 'x': 1,\n",
       " 'y': 1,\n",
       " 'z': 1,\n",
       " 'J': 1}"
      ]
     },
     "execution_count": 3,
     "metadata": {},
     "output_type": "execute_result"
    }
   ],
   "source": [
    "count_letters"
   ]
  },
  {
   "cell_type": "code",
   "execution_count": 4,
   "metadata": {},
   "outputs": [
    {
     "data": {
      "text/plain": [
       "dict_values([4, 1, 1, 1, 8, 1, 1, 2, 5, 1, 3, 1, 2, 1, 1, 1, 2, 2, 4, 3, 1, 1, 1, 1, 1, 1])"
      ]
     },
     "execution_count": 4,
     "metadata": {},
     "output_type": "execute_result"
    }
   ],
   "source": [
    "count_letters.values()"
   ]
  },
  {
   "cell_type": "code",
   "execution_count": 5,
   "metadata": {},
   "outputs": [],
   "source": [
    "sentence = \"Jim quickly realized that the beautiful gowns are expensive\"\n",
    "\n",
    "Unique_letters = set(\"Jim quickly realized that the beautiful gowns are expensive\")\n",
    "Unique_letters = list(Unique_letters)\n",
    "l = []\n",
    "m = []\n",
    "for i in Unique_letters:\n",
    "    l.append(\"Jim quickly realized that the beautiful gowns are expensive\".count(i))\n",
    "    \n",
    "count_letters = dict() \n",
    "\n",
    "i = 0\n",
    "while i < 27:\n",
    "    count_letters[str(Unique_letters[i])] = l[i]\n",
    "    i = i + 1\n",
    "    \n",
    "del count_letters[\" \"]        "
   ]
  },
  {
   "cell_type": "markdown",
   "metadata": {},
   "source": [
    "#### Exercise 1c\n",
    "- Rewrite your code from 1b to make a function called `counter` that takes a string `input_string` and returns a dictionary of letter counts `count_letters`.\n",
    "- Use your function to call `counter(sentence)`."
   ]
  },
  {
   "cell_type": "code",
   "execution_count": 6,
   "metadata": {},
   "outputs": [
    {
     "name": "stdout",
     "output_type": "stream",
     "text": [
      "{'t': 4, 'o': 1, 'h': 2, 'x': 1, 'v': 1, 'r': 2, 'm': 1, 'n': 2, 'f': 1, 'z': 1, 'e': 8, 'p': 1, 'l': 3, 'q': 1, 'c': 1, 'y': 1, 'w': 1, 'J': 1, 'i': 5, 'u': 3, 'd': 1, 'g': 1, 's': 2, 'a': 4, 'b': 1, 'k': 1}\n"
     ]
    }
   ],
   "source": [
    "def counter(input_string):\n",
    "     \n",
    "    Unique_letters = set(input_string)\n",
    "    Unique_letters = list(Unique_letters)\n",
    "    l = []\n",
    "    for i in Unique_letters:\n",
    "        l.append(input_string.count(i))\n",
    "    count_letters = dict() \n",
    "    x = 0\n",
    "    while x < len(Unique_letters):\n",
    "        count_letters[str(Unique_letters[x])] = l[x]\n",
    "        x = x + 1\n",
    "    try:\n",
    "        for p in (\" \",\",\",\"-\",\".\",\"\\n\"):\n",
    "            del count_letters[p]\n",
    "    except:\n",
    "        pass\n",
    "    print(count_letters)      \n",
    " \n",
    "counter(sentence)"
   ]
  },
  {
   "cell_type": "markdown",
   "metadata": {},
   "source": [
    "#### Exercise 1d\n",
    "- Abraham Lincoln was a president during the American Civil War. His famous 1863 Gettysburg Address has been stored as `address`. Use the `counter` function from 1c to return a dictionary consisting of the count of each letter in this address and save it as `address_count`."
   ]
  },
  {
   "cell_type": "code",
   "execution_count": 7,
   "metadata": {},
   "outputs": [
    {
     "name": "stdout",
     "output_type": "stream",
     "text": [
      "{'t': 124, 'o': 93, 'h': 80, 'G': 1, 'v': 24, 'B': 1, 'W': 2, 'r': 79, 'I': 3, 'm': 13, 'N': 1, 'n': 76, 'f': 26, 'e': 165, 'p': 15, 'l': 41, 'F': 1, 'q': 1, 'c': 31, 'y': 10, 'w': 26, 'T': 2, 'i': 65, 'L': 1, 'u': 21, 'd': 58, 'g': 27, 's': 44, 'a': 102, 'b': 13, 'k': 3}\n"
     ]
    }
   ],
   "source": [
    "address = \"\"\"Four score and seven years ago our fathers brought forth on this continent, a new nation, \n",
    "conceived in Liberty, and dedicated to the proposition that all men are created equal. Now we are engaged in a \n",
    "great civil war, testing whether that nation, or any nation so conceived and so dedicated, can long endure. \n",
    "We are met on a great battle-field of that war. We have come to dedicate a portion of that field, as a final \n",
    "resting place for those who here gave their lives that that nation might live. It is altogether fitting and proper \n",
    "that we should do this. But, in a larger sense, we can not dedicate -- we can not consecrate -- we can not hallow -- \n",
    "this ground. The brave men, living and dead, who struggled here, have consecrated it, far above our poor power to add \n",
    "or detract. The world will little note, nor long remember what we say here, but it can never forget what they did here. \n",
    "It is for us the living, rather, to be dedicated here to the unfinished work which they who fought here have thus far so \n",
    "nobly advanced. It is rather for us to be here dedicated to the great task remaining before us -- that from these honored \n",
    "dead we take increased devotion to that cause for which they gave the last full measure of devotion -- that we here \n",
    "highly resolve that these dead shall not have died in vain -- that this nation, under God, shall have a new birth of \n",
    "freedom -- and that government of the people, by the people, for the people, shall not perish from the earth.\"\"\"   \n",
    "\n",
    "address_count = counter(address)\n"
   ]
  },
  {
   "cell_type": "markdown",
   "metadata": {},
   "source": [
    "#### Exercise 1f\n",
    "- The frequency of each letter in the Gettysburg Address is already stored as `address_count`. Use this dictionary to find the most common letter in the Gettysburg address."
   ]
  },
  {
   "cell_type": "code",
   "execution_count": 8,
   "metadata": {},
   "outputs": [],
   "source": [
    "string = \"Jim quickly realized that the beautiful gowns are expensive\""
   ]
  },
  {
   "cell_type": "code",
   "execution_count": 9,
   "metadata": {},
   "outputs": [],
   "source": [
    "count_string = dict()"
   ]
  },
  {
   "cell_type": "code",
   "execution_count": 10,
   "metadata": {},
   "outputs": [],
   "source": [
    "for letter in string:\n",
    "    if letter != \" \":\n",
    "        count_string[letter] = string.count(letter)\n",
    "    else:\n",
    "        pass"
   ]
  },
  {
   "cell_type": "code",
   "execution_count": 11,
   "metadata": {},
   "outputs": [
    {
     "data": {
      "text/plain": [
       "{'J': 1,\n",
       " 'i': 5,\n",
       " 'm': 1,\n",
       " 'q': 1,\n",
       " 'u': 3,\n",
       " 'c': 1,\n",
       " 'k': 1,\n",
       " 'l': 3,\n",
       " 'y': 1,\n",
       " 'r': 2,\n",
       " 'e': 8,\n",
       " 'a': 4,\n",
       " 'z': 1,\n",
       " 'd': 1,\n",
       " 't': 4,\n",
       " 'h': 2,\n",
       " 'b': 1,\n",
       " 'f': 1,\n",
       " 'g': 1,\n",
       " 'o': 1,\n",
       " 'w': 1,\n",
       " 'n': 2,\n",
       " 's': 2,\n",
       " 'x': 1,\n",
       " 'p': 1,\n",
       " 'v': 1}"
      ]
     },
     "execution_count": 11,
     "metadata": {},
     "output_type": "execute_result"
    }
   ],
   "source": [
    "count_string"
   ]
  },
  {
   "cell_type": "code",
   "execution_count": 12,
   "metadata": {},
   "outputs": [
    {
     "data": {
      "text/plain": [
       "dict"
      ]
     },
     "execution_count": 12,
     "metadata": {},
     "output_type": "execute_result"
    }
   ],
   "source": [
    "type(count_string)"
   ]
  },
  {
   "cell_type": "code",
   "execution_count": null,
   "metadata": {},
   "outputs": [],
   "source": []
  },
  {
   "cell_type": "code",
   "execution_count": null,
   "metadata": {},
   "outputs": [],
   "source": []
  },
  {
   "cell_type": "code",
   "execution_count": null,
   "metadata": {},
   "outputs": [],
   "source": []
  },
  {
   "cell_type": "markdown",
   "metadata": {},
   "source": [
    "### Exercise 2\n",
    "\n",
    "Consider a circle inscribed in a square. The ratio of their areas (the ratio of the area of the circle to the area of the square) is $\\frac{\\pi}{4}$. In this six-part exercise, we will find a way to approximate this value.\n",
    "\n",
    "#### Exercise 2a\n",
    "- Using the `math` library, calculate and print the value of $\\frac{\\pi}{4}$"
   ]
  },
  {
   "cell_type": "code",
   "execution_count": 13,
   "metadata": {},
   "outputs": [
    {
     "name": "stdout",
     "output_type": "stream",
     "text": [
      "0.7853981633974483\n"
     ]
    }
   ],
   "source": [
    "import math\n",
    "print(math.pi/4)"
   ]
  },
  {
   "cell_type": "markdown",
   "metadata": {},
   "source": [
    "#### Exercise 2b\n",
    "- Using `random.uniform()`, create a function `rand()` that generates a single float between $-1$ and $1$.\n",
    "- Call `rand()` once. For us to be able to check your solution, we will use `random.seed()` to fix the seed value of the random number generator."
   ]
  },
  {
   "cell_type": "code",
   "execution_count": 14,
   "metadata": {},
   "outputs": [
    {
     "data": {
      "text/plain": [
       "-0.7312715117751976"
      ]
     },
     "execution_count": 14,
     "metadata": {},
     "output_type": "execute_result"
    }
   ],
   "source": [
    "import random # imports module \"random\"\n",
    "\n",
    "random.seed(1) # Fixes the see of the random number generator.\n",
    "\n",
    "def rand():\n",
    "   return(random.uniform(-1,1))\n",
    "\n",
    "rand()"
   ]
  },
  {
   "cell_type": "markdown",
   "metadata": {},
   "source": [
    "#### Exercise 2c\n",
    "- The distance between two points x and y is the square root of the sum of squared differences along each dimension of x and y. Write a function` distance(x, y)` that takes two vectors as its input and outputs the distance between them. Use your function to find the distance between $x=(0,0)$ and $y=(1,1)$."
   ]
  },
  {
   "cell_type": "code",
   "execution_count": 15,
   "metadata": {},
   "outputs": [
    {
     "data": {
      "text/plain": [
       "1.4142135623730951"
      ]
     },
     "execution_count": 15,
     "metadata": {},
     "output_type": "execute_result"
    }
   ],
   "source": [
    "def distance(x, y):\n",
    "    import math\n",
    "    dist = math.sqrt(((x[0] - y[0])**2) + ((x[1] - y[1])**2))\n",
    "    return(dist)\n",
    "\n",
    "distance((0,0), (1,1))"
   ]
  },
  {
   "cell_type": "markdown",
   "metadata": {},
   "source": [
    "#### Exercise 2d\n",
    "\n",
    "- Write a function `in_circle(x, origin)` that determines whether a point in a two dimensional plane falls within a unit circle surrounding a given origin.\n",
    "    - Your function should return a boolean `True` if the distance between `x` and `origin` is less than 1 and `False` otherwise.\n",
    "    - Use `distance(x, y)` as defined in 2c.\n",
    "- Use your function to determine whether the point (1,1) lies within the unit circle centered at (0,0)."
   ]
  },
  {
   "cell_type": "code",
   "execution_count": 16,
   "metadata": {},
   "outputs": [],
   "source": [
    "def in_circle(x, origin = [0,0]):\n",
    "       import math\n",
    "       dist = math.sqrt(((x[0] - origin[0])**2) + ((x[1] - origin[1])**2))\n",
    "       if dist < 1:\n",
    "            return True\n",
    "       else:\n",
    "            return False  "
   ]
  },
  {
   "cell_type": "code",
   "execution_count": 17,
   "metadata": {
    "tags": []
   },
   "outputs": [
    {
     "data": {
      "text/plain": [
       "False"
      ]
     },
     "execution_count": 17,
     "metadata": {},
     "output_type": "execute_result"
    }
   ],
   "source": [
    "in_circle((1,1))"
   ]
  },
  {
   "cell_type": "code",
   "execution_count": 18,
   "metadata": {},
   "outputs": [],
   "source": [
    "random.seed(1)"
   ]
  },
  {
   "cell_type": "code",
   "execution_count": 19,
   "metadata": {},
   "outputs": [],
   "source": [
    "R = 10000\n",
    "\n",
    "random_numbers =[]\n",
    "\n",
    "for i in range(0,10000):\n",
    "    random_numbers.append((rand(), rand()))\n",
    "    \n",
    "inside = []\n",
    "\n",
    "for i in random_numbers:\n",
    "    if in_circle(i) == True:\n",
    "        inside.append(True)\n",
    "    else:\n",
    "        inside.append(False)\n",
    "        "
   ]
  },
  {
   "cell_type": "code",
   "execution_count": 20,
   "metadata": {},
   "outputs": [
    {
     "data": {
      "text/plain": [
       "10000"
      ]
     },
     "execution_count": 20,
     "metadata": {},
     "output_type": "execute_result"
    }
   ],
   "source": [
    "len(inside)"
   ]
  },
  {
   "cell_type": "code",
   "execution_count": 21,
   "metadata": {},
   "outputs": [
    {
     "data": {
      "text/plain": [
       "7790"
      ]
     },
     "execution_count": 21,
     "metadata": {},
     "output_type": "execute_result"
    }
   ],
   "source": [
    "sum(inside) # Boolean True = 1, False = 0"
   ]
  },
  {
   "cell_type": "code",
   "execution_count": 22,
   "metadata": {},
   "outputs": [],
   "source": [
    "proportion = sum(inside)/len(inside)"
   ]
  },
  {
   "cell_type": "code",
   "execution_count": 23,
   "metadata": {},
   "outputs": [
    {
     "data": {
      "text/plain": [
       "0.779"
      ]
     },
     "execution_count": 23,
     "metadata": {},
     "output_type": "execute_result"
    }
   ],
   "source": [
    "proportion"
   ]
  },
  {
   "cell_type": "markdown",
   "metadata": {},
   "source": [
    "**_Code given by edX_**    \n",
    "\n",
    "`random.seed(1)`\n",
    "\n",
    "`inside = []`      \n",
    "`R = 10000`    \n",
    "`for i in range(R):`      \n",
    "&emsp; &emsp; &emsp; &emsp; `point = [rand(), rand()]`      \n",
    "&emsp; &emsp; &emsp; &emsp; `inside.append(in_circle(point))`\n",
    "\n",
    "`print(sum(inside) / R)`    \n",
    "`0.779`  "
   ]
  },
  {
   "cell_type": "code",
   "execution_count": 24,
   "metadata": {},
   "outputs": [],
   "source": [
    "import math"
   ]
  },
  {
   "cell_type": "code",
   "execution_count": 25,
   "metadata": {},
   "outputs": [
    {
     "data": {
      "text/plain": [
       "0.7853981633974483"
      ]
     },
     "execution_count": 25,
     "metadata": {},
     "output_type": "execute_result"
    }
   ],
   "source": [
    "math.pi/4"
   ]
  },
  {
   "cell_type": "code",
   "execution_count": 26,
   "metadata": {},
   "outputs": [
    {
     "data": {
      "text/plain": [
       "0.006398163397448253"
      ]
     },
     "execution_count": 26,
     "metadata": {},
     "output_type": "execute_result"
    }
   ],
   "source": [
    "(math.pi/4) - proportion"
   ]
  },
  {
   "cell_type": "code",
   "execution_count": 27,
   "metadata": {},
   "outputs": [],
   "source": [
    "random.seed(1)\n",
    "\n",
    "x = []\n",
    "\n",
    "for i in range(0,1000):\n",
    "    x.append(random.uniform(0,1))"
   ]
  },
  {
   "cell_type": "code",
   "execution_count": 28,
   "metadata": {},
   "outputs": [],
   "source": [
    "def moving_window_average(centre, n_neighbours):\n",
    "    window_width = (2*n_neighbours+1)  # evenly spaced from either sides of centre\n",
    "    window_start_index = (centre-n_neighbours)\n",
    "    window_end_index = (centre+n_neighbours+1) # list slicing will stop 1 index before the terminal index\n",
    "    window_sum = sum(x[window_start_index:window_end_index])  # total of all elements inside the window\n",
    "    return window_sum/window_width  # mean of the window\n",
    "    "
   ]
  },
  {
   "cell_type": "code",
   "execution_count": 29,
   "metadata": {
    "tags": []
   },
   "outputs": [
    {
     "data": {
      "text/plain": [
       "0.45325045824763405"
      ]
     },
     "execution_count": 29,
     "metadata": {},
     "output_type": "execute_result"
    }
   ],
   "source": [
    "moving_window_average(9,5)  # 0.45325045824763405"
   ]
  },
  {
   "cell_type": "code",
   "execution_count": 30,
   "metadata": {},
   "outputs": [],
   "source": [
    "def MVA(n_neighbours):\n",
    "    seq = []\n",
    "    for i in range(0,1000):\n",
    "        if i < (999-n_neighbours):\n",
    "            seq.append(sum(x[i : (i+(2*n_neighbours)+1)]) / ((2*n_neighbours)+1))\n",
    "        else:\n",
    "            pass\n",
    "    minimum = min(seq)\n",
    "    maximum = max(seq)\n",
    "    return([minimum, maximum])                   "
   ]
  },
  {
   "cell_type": "code",
   "execution_count": 31,
   "metadata": {},
   "outputs": [
    {
     "data": {
      "text/plain": [
       "[0.03816158094808993, 0.9510005995001753]"
      ]
     },
     "execution_count": 31,
     "metadata": {},
     "output_type": "execute_result"
    }
   ],
   "source": [
    "MVA(1)"
   ]
  },
  {
   "cell_type": "code",
   "execution_count": 32,
   "metadata": {},
   "outputs": [
    {
     "data": {
      "text/plain": [
       "[0.3041477707891983, 0.7631568204800142]"
      ]
     },
     "execution_count": 32,
     "metadata": {},
     "output_type": "execute_result"
    }
   ],
   "source": [
    "MVA(7)"
   ]
  },
  {
   "cell_type": "code",
   "execution_count": 33,
   "metadata": {},
   "outputs": [
    {
     "name": "stdout",
     "output_type": "stream",
     "text": [
      "for n_neighbours =  1 : [0.03816158094808993, 0.9510005995001753]\n",
      "for n_neighbours =  2 : [0.11050047254034456, 0.9121462444497416]\n",
      "for n_neighbours =  3 : [0.18268711153577014, 0.8964262339570169]\n",
      "for n_neighbours =  4 : [0.2363289786358497, 0.8593436734733525]\n",
      "for n_neighbours =  5 : [0.2686241474150845, 0.7728525560925408]\n",
      "for n_neighbours =  6 : [0.26122500035438756, 0.7683263756645504]\n",
      "for n_neighbours =  7 : [0.3041477707891983, 0.7631568204800142]\n",
      "for n_neighbours =  8 : [0.29942121825755064, 0.7460167136483833]\n",
      "for n_neighbours =  9 : [0.3035884749888967, 0.7442838713465039]\n"
     ]
    }
   ],
   "source": [
    "for i in range(1,10):\n",
    "    print(\"for n_neighbours = \", i, \":\", MVA(i))"
   ]
  },
  {
   "cell_type": "code",
   "execution_count": 34,
   "metadata": {},
   "outputs": [],
   "source": [
    "def MVA_range(n_neighbours):\n",
    "    seq = []\n",
    "    for i in range(0,1000):\n",
    "        if i < (999-n_neighbours):\n",
    "            seq.append(sum(x[i : (i+(2*n_neighbours)+1)]) / ((2*n_neighbours)+1))\n",
    "        else:\n",
    "            pass\n",
    "    minimum = min(seq)\n",
    "    maximum = max(seq)\n",
    "    deviation = maximum - minimum\n",
    "    return(deviation) "
   ]
  },
  {
   "cell_type": "code",
   "execution_count": 35,
   "metadata": {},
   "outputs": [
    {
     "name": "stdout",
     "output_type": "stream",
     "text": [
      "for n_neighbours =  1 ; difference between min & max is 0.9128390185520854\n",
      "for n_neighbours =  2 ; difference between min & max is 0.801645771909397\n",
      "for n_neighbours =  3 ; difference between min & max is 0.7137391224212468\n",
      "for n_neighbours =  4 ; difference between min & max is 0.6230146948375028\n",
      "for n_neighbours =  5 ; difference between min & max is 0.5042284086774562\n",
      "for n_neighbours =  6 ; difference between min & max is 0.5071013753101629\n",
      "for n_neighbours =  7 ; difference between min & max is 0.4590090496908159\n",
      "for n_neighbours =  8 ; difference between min & max is 0.44659549539083265\n",
      "for n_neighbours =  9 ; difference between min & max is 0.4406953963576072\n"
     ]
    }
   ],
   "source": [
    "for i in range(1,10):\n",
    "    print(\"for n_neighbours = \", i, \"; difference between min & max is\", MVA_range(i))"
   ]
  },
  {
   "cell_type": "markdown",
   "metadata": {},
   "source": [
    "#### Exercise 2e\n",
    "\n",
    "- Create a list `inside` of `R=10000` booleans that determines whether or not a point falls within the unit circle centered at `(0,0)`. \n",
    "    - Use the `rand` function from 2b to generate `R` randomly located points.\n",
    "    - Use the function `in_circle` to test whether or not a given pint falls within the unit circle.\n",
    "- Find the proportion of points that fall within the circle by summing all `True` values in the `inside` list; then divide the answer by `R` to obtain a proportion.\n",
    "- Print your answer. This proportion is an estimate of the ratio of the two areas!"
   ]
  },
  {
   "cell_type": "code",
   "execution_count": 36,
   "metadata": {},
   "outputs": [],
   "source": [
    "random.seed(1) \n",
    "\n",
    "# write your code here!\n"
   ]
  },
  {
   "cell_type": "markdown",
   "metadata": {},
   "source": [
    "#### Exercise 2f\n",
    "\n",
    "- Find the difference between your estimate from part 2e and `math.pi / 4`. Note: `inside` and `R` are defined as in Exercise 2e."
   ]
  },
  {
   "cell_type": "code",
   "execution_count": 37,
   "metadata": {},
   "outputs": [],
   "source": [
    "# write your code here!\n"
   ]
  },
  {
   "cell_type": "markdown",
   "metadata": {},
   "source": [
    "### Exercise 3\n",
    "\n",
    "A list of numbers representing measurements obtained from a system of interest can often be noisy. One way to deal with noise to smoothen the values by replacing each value with the average of the value and the values of its neighbors.\n",
    "\n",
    "#### Exercise 3a\n",
    "\n",
    "- Write a function `moving_window_average(x, n_neighbors)` that takes a list `x` and the number of neighbors `n_neighbors` on either side of a given member of the list to consider.\n",
    "- For each value in `x`, `moving_window_average(x, n_neighbors)` computes the average of the value and the values of its neighbors.\n",
    "- `moving_window_average` should return a list of averaged values that is the same length as the original list.\n",
    "- If there are not enough neighbors (for cases near the edge), substitute the original value for a neighbor for each missing neighbor.\n",
    "- Use your function to find the moving window sum of `x=[0,10,5,3,1,5]` and `n_neighbors=1`."
   ]
  },
  {
   "cell_type": "code",
   "execution_count": 38,
   "metadata": {},
   "outputs": [
    {
     "name": "stdout",
     "output_type": "stream",
     "text": [
      "None\n"
     ]
    }
   ],
   "source": [
    "def moving_window_average(x, n_neighbors=1):\n",
    "    n = len(x)\n",
    "    width = n_neighbors*2 + 1\n",
    "    x = [x[0]]*n_neighbors + x + [x[-1]]*n_neighbors\n",
    "    # To complete the function,\n",
    "    # return a list of the mean of values from i to i+width for all values i from 0 to n-1.\n",
    "\n",
    "x = [0,10,5,3,1,5]\n",
    "print(moving_window_average(x, 1))"
   ]
  },
  {
   "cell_type": "markdown",
   "metadata": {},
   "source": [
    "#### Exercise 3b\n",
    "- Compute and store `R=1000` random values from 0-1 as `x`.\n",
    "- Compute the moving window average for `x` for values of `n_neighbors` ranging from 1 to 9 inclusive.\n",
    "- Store `x` as well as each of these averages as consecutive lists in a list called `Y`"
   ]
  },
  {
   "cell_type": "code",
   "execution_count": 39,
   "metadata": {},
   "outputs": [],
   "source": [
    "random.seed(1) # This line fixes the value called by your function,\n",
    "               # and is used for answer-checking.\n",
    "    \n",
    "# write your code here!\n"
   ]
  },
  {
   "cell_type": "markdown",
   "metadata": {},
   "source": [
    "#### Exercise 3c\n",
    "\n",
    "- For each list in `Y`, calculate and store the range (the maximum minus the minimum) in a new list ranges.\n",
    "- Print your answer. As the window width increases, does the range of each list increase or decrease? Why do you think that is?"
   ]
  },
  {
   "cell_type": "code",
   "execution_count": 40,
   "metadata": {},
   "outputs": [],
   "source": [
    "# write your code here!\n"
   ]
  }
 ],
 "metadata": {
  "kernelspec": {
   "display_name": "Python 3 (ipykernel)",
   "language": "python",
   "name": "python3"
  },
  "language_info": {
   "codemirror_mode": {
    "name": "ipython",
    "version": 3
   },
   "file_extension": ".py",
   "mimetype": "text/x-python",
   "name": "python",
   "nbconvert_exporter": "python",
   "pygments_lexer": "ipython3",
   "version": "3.10.0"
  }
 },
 "nbformat": 4,
 "nbformat_minor": 4
}
