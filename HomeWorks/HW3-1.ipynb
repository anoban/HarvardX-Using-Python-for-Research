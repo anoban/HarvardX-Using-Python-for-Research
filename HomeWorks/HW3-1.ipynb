{
 "cells": [
  {
   "cell_type": "markdown",
   "metadata": {},
   "source": [
    "# Using Python for Research Homework: Week 3, Case Study 1\n",
    "\n",
    "A cipher is a secret code for a language.  In this case study, we will explore a cipher that is reported by contemporary Greek historians to have been used by Julius Caesar to send secret messages to generals during times of war."
   ]
  },
  {
   "cell_type": "markdown",
   "metadata": {},
   "source": [
    "### Exercise 1\n",
    "\n",
    "A cipher is a secret code for a language. In this case study, we will explore a cipher that is reported by contemporary Greek historians to have been used by Julius Caesar to send secret messages to generals during times of war.\n",
    "\n",
    "The Caesar cipher shifts each letter of a message to another letter in the alphabet located a fixed distance from the original letter. If our encryption key were `1`, we would shift `h` to the next letter `i`, `i` to the next letter `j`, and so on. If we reach the end of the alphabet, which for us is the space character, we simply loop back to `a`. To decode the message, we make a similar shift, except we move the same number of steps backwards in the alphabet.\n",
    "\n",
    "Over the next five exercises, we will create our own Caesar cipher, as well as a message decoder for this cipher. In this exercise, we will define the alphabet used in the cipher.\n",
    "\n",
    "#### Instructions\n",
    "- The `string` library has been imported. Create a string called `alphabet` consisting of the space character `' '` followed by (concatenated with) the lowercase letters. Note that we're only using the lowercase letters in this exercise."
   ]
  },
  {
   "cell_type": "code",
   "execution_count": 1,
   "metadata": {},
   "outputs": [],
   "source": [
    "import string\n",
    "\n",
    "alphabet = \" abcdefghijklmnopqrstuvwxyz\""
   ]
  },
  {
   "cell_type": "code",
   "execution_count": 2,
   "metadata": {},
   "outputs": [],
   "source": [
    "alphabets = \" \" + string.ascii_lowercase"
   ]
  },
  {
   "cell_type": "code",
   "execution_count": 3,
   "metadata": {},
   "outputs": [
    {
     "data": {
      "text/plain": [
       "' abcdefghijklmnopqrstuvwxyz'"
      ]
     },
     "execution_count": 3,
     "metadata": {},
     "output_type": "execute_result"
    }
   ],
   "source": [
    "alphabets"
   ]
  },
  {
   "cell_type": "code",
   "execution_count": 4,
   "metadata": {},
   "outputs": [
    {
     "data": {
      "text/plain": [
       "True"
      ]
     },
     "execution_count": 4,
     "metadata": {},
     "output_type": "execute_result"
    }
   ],
   "source": [
    "alphabets == alphabet"
   ]
  },
  {
   "cell_type": "markdown",
   "metadata": {},
   "source": [
    "### Exercise 2 \n",
    "\n",
    "In this exercise, we will define a dictionary that specifies the index of each character in `alphabet`.\n",
    "\n",
    "#### Instructions \n",
    "- `alphabet` has already defined in the last exercise. Create a dictionary with keys consisting of the characters in alphabet and values consisting of the numbers from 0 to 26.\n",
    "- Store this as `positions`."
   ]
  },
  {
   "cell_type": "code",
   "execution_count": 5,
   "metadata": {},
   "outputs": [],
   "source": [
    "positions = dict()\n",
    "for i in range(0,27):\n",
    "    positions[alphabet[i]] = i"
   ]
  },
  {
   "cell_type": "code",
   "execution_count": 7,
   "metadata": {},
   "outputs": [
    {
     "data": {
      "text/plain": [
       "{' ': 0,\n",
       " 'a': 1,\n",
       " 'b': 2,\n",
       " 'c': 3,\n",
       " 'd': 4,\n",
       " 'e': 5,\n",
       " 'f': 6,\n",
       " 'g': 7,\n",
       " 'h': 8,\n",
       " 'i': 9,\n",
       " 'j': 10,\n",
       " 'k': 11,\n",
       " 'l': 12,\n",
       " 'm': 13,\n",
       " 'n': 14,\n",
       " 'o': 15,\n",
       " 'p': 16,\n",
       " 'q': 17,\n",
       " 'r': 18,\n",
       " 's': 19,\n",
       " 't': 20,\n",
       " 'u': 21,\n",
       " 'v': 22,\n",
       " 'w': 23,\n",
       " 'x': 24,\n",
       " 'y': 25,\n",
       " 'z': 26}"
      ]
     },
     "execution_count": 7,
     "metadata": {},
     "output_type": "execute_result"
    }
   ],
   "source": [
    "positions"
   ]
  },
  {
   "cell_type": "markdown",
   "metadata": {
    "tags": []
   },
   "source": [
    "### Exercise 3\n",
    "\n",
    "In this exercise, we will encode a message with a Caesar cipher.\n",
    "\n",
    "#### Instructions \n",
    "\n",
    "- `alphabet` and `positions` have already been defined in previous exercises. Use `positions` to create an encoded message based on message where each character in message has been shifted forward by 1 position, as defined by positions.\n",
    "- **Note that you can ensure the result remains within 0-26 using result % 27**\n",
    "- Store this as `encoded_message`."
   ]
  },
  {
   "cell_type": "code",
   "execution_count": 24,
   "metadata": {},
   "outputs": [],
   "source": [
    "message = \"hi my name is caesar\"\n",
    "\n",
    "indices = []\n",
    "encoded_message = \"\"\n",
    "\n",
    "\n",
    "for i in message:\n",
    "       indices.append(positions[i])\n",
    "\n",
    "letters = list(positions.keys())\n",
    "\n",
    "for i in indices:\n",
    "    if max(indices) < 27:\n",
    "        encoded_message += letters[i+1]\n",
    "    else:\n",
    "        pass\n",
    "    "
   ]
  },
  {
   "cell_type": "code",
   "execution_count": 25,
   "metadata": {},
   "outputs": [
    {
     "data": {
      "text/plain": [
       "'ijanzaobnfajtadbftbs'"
      ]
     },
     "execution_count": 25,
     "metadata": {},
     "output_type": "execute_result"
    }
   ],
   "source": [
    "encoded_message   # correct"
   ]
  },
  {
   "cell_type": "markdown",
   "metadata": {},
   "source": [
    "### Exercise 4\n",
    "\n",
    "In this exercise, we will define a function that encodes a message with any given encryption key.\n",
    "\n",
    "#### Instructions \n",
    "- `alphabet`, `position` and `message` remain defined from previous exercises. Define a function `encoding` that takes a message as input as well as an int encryption key `key` to encode a message with the Caesar cipher by shifting each letter in message by key positions.\n",
    "- Your function should return a string consisting of these encoded letters.\n",
    "- Use `encoding` to encode message using `key = 3` and save the result as `encoded_message`.\n",
    "Print `encoded_message`."
   ]
  },
  {
   "cell_type": "code",
   "execution_count": 29,
   "metadata": {},
   "outputs": [],
   "source": [
    "message = \"hi my name is caesar\"\n",
    "alphabets = \" abcdefghijklmnopqrstuvwxyz abcdefghijklmnopqrstuvwxyz abcdefghijklmnopqrstuvwxyz\"\n",
    "positions = dict()\n",
    "for i in range(0,27):\n",
    "    positions[alphabet[i]] = i\n",
    "\n",
    "\n",
    "def encoding(msg, key):\n",
    "    encoded_message = \"\"\n",
    "    shifted_indices = []\n",
    "    for char in msg:\n",
    "        shifted_indices.append(int(positions[char] + key))\n",
    "    for i in shifted_indices:\n",
    "        encoded_message += alphabets[i]\n",
    "    return encoded_message    "
   ]
  },
  {
   "cell_type": "code",
   "execution_count": 33,
   "metadata": {},
   "outputs": [
    {
     "data": {
      "text/plain": [
       "'klcpacqdphclvcfdhvdu'"
      ]
     },
     "execution_count": 33,
     "metadata": {},
     "output_type": "execute_result"
    }
   ],
   "source": [
    "encoding(\"hi my name is caesar\",3)"
   ]
  },
  {
   "cell_type": "markdown",
   "metadata": {},
   "source": [
    "### Exercise 5\n",
    "\n",
    "In this exercise, we will decode an encoded message.\n",
    "\n",
    "#### Instructions \n",
    "- Use `encoding` to decode `encoded_message`.\n",
    "- Store your encoded message as `decoded_message`.\n",
    "- Print `decoded_message`. Does this recover your original message?"
   ]
  },
  {
   "cell_type": "code",
   "execution_count": 39,
   "metadata": {},
   "outputs": [
    {
     "name": "stdout",
     "output_type": "stream",
     "text": [
      "1 lmdqbdreqidmwdgeiwev\n",
      "2 mnercesfrjenxehfjxfw\n",
      "3 nofsdftgskfoyfigkygx\n",
      "4 opgteguhtlgpzgjhlzhy\n",
      "5 pqhufhviumhq hkim iz\n",
      "6 qrivgiwjvnirailjnaj \n",
      "7 rsjwhjxkwojsbjmkobka\n",
      "8 stkxikylxpktcknlpclb\n",
      "9 tulyjlzmyqludlomqdmc\n",
      "10 uvmzkm nzrmvempnrend\n",
      "11 vwn lnao snwfnqosfoe\n",
      "12 wxoamobpatoxgorptgpf\n",
      "13 xypbnpcqbupyhpsquhqg\n",
      "14 yzqcoqdrcvqziqtrvirh\n",
      "15 z rdpresdwr jruswjsi\n",
      "16  aseqsftexsaksvtxktj\n",
      "17 abtfrtgufytbltwuyluk\n",
      "18 bcugsuhvgzucmuxvzmvl\n",
      "19 cdvhtviwh vdnvyw nwm\n",
      "20 dewiuwjxiaweowzxaoxn\n",
      "21 efxjvxkyjbxfpx ybpyo\n",
      "22 fgykwylzkcygqyazcqzp\n",
      "23 ghzlxzm ldzhrzb dr q\n",
      "24 hi my name is caesar\n",
      "25 ijanzaobnfajtadbftbs\n",
      "26 jkbo bpcogbkubecguct\n",
      "27 klcpacqdphclvcfdhvdu\n"
     ]
    }
   ],
   "source": [
    "for n in range(1,28):\n",
    "    print(n, encoding('klcpacqdphclvcfdhvdu',n))"
   ]
  },
  {
   "cell_type": "code",
   "execution_count": 40,
   "metadata": {},
   "outputs": [
    {
     "name": "stdout",
     "output_type": "stream",
     "text": [
      "1 jkbo bpcogbkubecguct\n",
      "2 ijanzaobnfajtadbftbs\n",
      "3 hi my name is caesar\n",
      "4 ghzlxzm ldzhrzb dr q\n",
      "5 fgykwylzkcygqyazcqzp\n",
      "6 efxjvxkyjbxfpx ybpyo\n",
      "7 dewiuwjxiaweowzxaoxn\n",
      "8 cdvhtviwh vdnvyw nwm\n",
      "9 bcugsuhvgzucmuxvzmvl\n",
      "10 abtfrtgufytbltwuyluk\n",
      "11  aseqsftexsaksvtxktj\n",
      "12 z rdpresdwr jruswjsi\n",
      "13 yzqcoqdrcvqziqtrvirh\n",
      "14 xypbnpcqbupyhpsquhqg\n",
      "15 wxoamobpatoxgorptgpf\n",
      "16 vwn lnao snwfnqosfoe\n",
      "17 uvmzkm nzrmvempnrend\n",
      "18 tulyjlzmyqludlomqdmc\n",
      "19 stkxikylxpktcknlpclb\n",
      "20 rsjwhjxkwojsbjmkobka\n",
      "21 qrivgiwjvnirailjnaj \n",
      "22 pqhufhviumhq hkim iz\n",
      "23 opgteguhtlgpzgjhlzhy\n",
      "24 nofsdftgskfoyfigkygx\n",
      "25 mnercesfrjenxehfjxfw\n",
      "26 lmdqbdreqidmwdgeiwev\n",
      "27 klcpacqdphclvcfdhvdu\n"
     ]
    }
   ],
   "source": [
    "for n in range(1,28):\n",
    "    print(n, encoding('klcpacqdphclvcfdhvdu',-n))"
   ]
  }
 ],
 "metadata": {
  "kernelspec": {
   "display_name": "Python 3 (ipykernel)",
   "language": "python",
   "name": "python3"
  },
  "language_info": {
   "codemirror_mode": {
    "name": "ipython",
    "version": 3
   },
   "file_extension": ".py",
   "mimetype": "text/x-python",
   "name": "python",
   "nbconvert_exporter": "python",
   "pygments_lexer": "ipython3",
   "version": "3.9.9"
  }
 },
 "nbformat": 4,
 "nbformat_minor": 4
}
