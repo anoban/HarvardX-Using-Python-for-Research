{
 "cells": [
  {
   "cell_type": "markdown",
   "id": "f3a894fd-5ba4-4b4d-8787-e10fdaa573b5",
   "metadata": {},
   "source": [
    "Converting .ipynb files to .PDF files"
   ]
  },
  {
   "cell_type": "markdown",
   "id": "0d311480-8151-4f4e-a3af-56b707553bd1",
   "metadata": {},
   "source": [
    "Run this in cmd          \n",
    "`jupyter nbconvert --to FORMAT  mynotebook.ipynb`        \n",
    "FORMAT is the needed format of the output file; e.g pdf      \n",
    "\"mynotebook\" is the name of the notebook to be converted to .PDF\n",
    "\n",
    "`C:\\Users\\Anoba\\Documents\\Python\\Using_Python_for_Research>jupyter nbconvert --to pdf Basics_of_Python3.ipynb`"
   ]
  }
 ],
 "metadata": {
  "kernelspec": {
   "display_name": "Python 3 (ipykernel)",
   "language": "python",
   "name": "python3"
  },
  "language_info": {
   "codemirror_mode": {
    "name": "ipython",
    "version": 3
   },
   "file_extension": ".py",
   "mimetype": "text/x-python",
   "name": "python",
   "nbconvert_exporter": "python",
   "pygments_lexer": "ipython3",
   "version": "3.9.7"
  }
 },
 "nbformat": 4,
 "nbformat_minor": 5
}
