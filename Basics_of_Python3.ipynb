{
 "cells": [
  {
   "cell_type": "markdown",
   "id": "4b37b12f-ce50-4811-9fc2-7a205040019f",
   "metadata": {},
   "source": [
    "**_Python_**  has two modes    \n",
    "---    \n",
    "       \n",
    "**Interactive mode        \n",
    "Standard mode**         \n",
    "Interactive mode is meant for experimenting the code, one line at a time  \n",
    "Standard mode is meant to run a Python programme form start to finish            "
   ]
  },
  {
   "cell_type": "markdown",
   "id": "0c24304b-b586-412b-be7c-dbaaa19fd9da",
   "metadata": {},
   "source": [
    "Python Objects   "
   ]
  },
  {
   "cell_type": "markdown",
   "id": "f14c90b6-8ce8-48fa-ac36-6d305d1efd6f",
   "metadata": {},
   "source": [
    "Each object in Python has 3 characteristics:       \n",
    "**Object type         \n",
    "Object value    \n",
    "Object identity**       "
   ]
  },
  {
   "cell_type": "markdown",
   "id": "0b7c1aa8-ba2d-4f99-b716-381195f0552f",
   "metadata": {},
   "source": [
    "Object types - integer,float,string,tuple,list,set,dictionary..etc       \n",
    "Object value - data value contained in the object        \n",
    "Object identity - each object has it's own identity number          "
   ]
  },
  {
   "cell_type": "markdown",
   "id": "6fac8244-78ba-4314-824f-19fa9928456c",
   "metadata": {},
   "source": [
    "Python objects can have data/functions or both associated with them.      \n",
    "These are known as attributes.        \n",
    "Name of the attribute follows the name of the object, these two are separated by a dot \".\"   "
   ]
  },
  {
   "cell_type": "markdown",
   "id": "2b8b8e5a-cb4c-4085-84e8-ae27382e77b4",
   "metadata": {},
   "source": [
    "There are two types of attributes;     \n",
    "**Data attributes** - a special value attached to a specific object        \n",
    "**Methods** - typically  a function attached to an object, a method performs some functions/operations on that object\n",
    "Methods available for each object will vary depending on the type of the object        "
   ]
  },
  {
   "cell_type": "markdown",
   "id": "959fec80-6da6-4829-a3e8-1fdba86a3d43",
   "metadata": {},
   "source": [
    "**Instance** is an occurrence of an object     \n",
    "e.g. two strings may have different data attributes, but they will support the same set of methods    "
   ]
  },
  {
   "cell_type": "code",
   "execution_count": 1,
   "id": "fa9fcb61-f042-420c-b37e-03b83b7daa8a",
   "metadata": {},
   "outputs": [],
   "source": [
    "import numpy as np\n",
    "x = np.array([1,3,5])\n",
    "y = np.array([1,4,7,9,56])"
   ]
  },
  {
   "cell_type": "markdown",
   "id": "5ee238f0-39c3-4f11-ab57-1bc28b5298e9",
   "metadata": {},
   "source": [
    "x,y are both numpy arrays, therefore they support the same set of methods and have the same set of attributes available."
   ]
  },
  {
   "cell_type": "code",
   "execution_count": 2,
   "id": "4d36419d-811c-4888-90eb-928d61c4b86e",
   "metadata": {},
   "outputs": [
    {
     "data": {
      "text/plain": [
       "3.0"
      ]
     },
     "execution_count": 2,
     "metadata": {},
     "output_type": "execute_result"
    }
   ],
   "source": [
    "x.mean()"
   ]
  },
  {
   "cell_type": "code",
   "execution_count": 3,
   "id": "dbd368f9-4985-465d-87b0-efa976ce0911",
   "metadata": {},
   "outputs": [
    {
     "data": {
      "text/plain": [
       "15.4"
      ]
     },
     "execution_count": 3,
     "metadata": {},
     "output_type": "execute_result"
    }
   ],
   "source": [
    "y.mean()"
   ]
  },
  {
   "cell_type": "markdown",
   "id": "96c958dc-1298-4459-9c30-b6aa57e045a0",
   "metadata": {},
   "source": [
    "x - a Python object (numpy array)        \n",
    "`.mean()` - a Python method available for numpy arrays         \n",
    "Name of the attribute \"mean()\" follows the name of the oblect \"x\" separated by a dot \".\"         "
   ]
  },
  {
   "cell_type": "code",
   "execution_count": 4,
   "id": "13cc315d-4993-4b80-a014-f54635d7860e",
   "metadata": {},
   "outputs": [
    {
     "data": {
      "text/plain": [
       "(3,)"
      ]
     },
     "execution_count": 4,
     "metadata": {},
     "output_type": "execute_result"
    }
   ],
   "source": [
    "x.shape"
   ]
  },
  {
   "cell_type": "code",
   "execution_count": 5,
   "id": "f462c246-31d8-4ed1-809f-9f715f718fe9",
   "metadata": {},
   "outputs": [
    {
     "data": {
      "text/plain": [
       "(5,)"
      ]
     },
     "execution_count": 5,
     "metadata": {},
     "output_type": "execute_result"
    }
   ],
   "source": [
    "y.shape"
   ]
  },
  {
   "cell_type": "markdown",
   "id": "660199ca-b4e9-4f5b-b5fb-608d5e0a8d8a",
   "metadata": {},
   "source": [
    "The \"shape\" attribute shows the dimension of the array     \n",
    "x is a one dimensional array, with one row having 3 elements.           \n",
    "y is a one dimensional array, with one row having 5 elements.     "
   ]
  },
  {
   "cell_type": "markdown",
   "id": "c540dee6-5ad4-4bc3-892d-fc41819a8503",
   "metadata": {},
   "source": [
    "**Note!!**    \n",
    "In the mean attribute a paranthesis is added at the end - meaning mean is a function/method, and () calls Python to do a  computation.      \n",
    "But the shape attribute doesn't have paranthesis at end, meaning shape is a data attribute."
   ]
  },
  {
   "cell_type": "markdown",
   "id": "33cc58ae-82fa-4d02-a1bf-71f50ff9cc8c",
   "metadata": {},
   "source": [
    "**Modules**    \n",
    "---  \n",
    "\n",
    "Python modules are libraries of code, that can be imported to Python using the \"import\" statement."
   ]
  },
  {
   "cell_type": "code",
   "execution_count": 6,
   "id": "e889efad-01b5-4f58-9bdb-e24649af3b1f",
   "metadata": {},
   "outputs": [],
   "source": [
    "import math"
   ]
  },
  {
   "cell_type": "code",
   "execution_count": 7,
   "id": "991644c0-cde1-44ee-beaf-7b8d9e3ccc16",
   "metadata": {},
   "outputs": [
    {
     "data": {
      "text/plain": [
       "3.141592653589793"
      ]
     },
     "execution_count": 7,
     "metadata": {},
     "output_type": "execute_result"
    }
   ],
   "source": [
    "math.pi"
   ]
  },
  {
   "cell_type": "code",
   "execution_count": 8,
   "id": "e3305e25-21b4-4504-a358-d339470530f8",
   "metadata": {},
   "outputs": [
    {
     "data": {
      "text/plain": [
       "8.122807396460907"
      ]
     },
     "execution_count": 8,
     "metadata": {},
     "output_type": "execute_result"
    }
   ],
   "source": [
    "math.sqrt(65.98)"
   ]
  },
  {
   "cell_type": "code",
   "execution_count": 9,
   "id": "b185c8bb-c814-4ce1-8360-3c891f354be1",
   "metadata": {},
   "outputs": [
    {
     "data": {
      "text/plain": [
       "1.0"
      ]
     },
     "execution_count": 9,
     "metadata": {},
     "output_type": "execute_result"
    }
   ],
   "source": [
    "math.sin(math.pi/2)"
   ]
  },
  {
   "cell_type": "markdown",
   "id": "23085a94-fb31-468a-aa97-32fc8f8a57cc",
   "metadata": {},
   "source": [
    "Sometimes there is no need to import the entire module! In that case importing just the needed functions will suffice. e.g"
   ]
  },
  {
   "cell_type": "code",
   "execution_count": 10,
   "id": "ee350727-0686-4215-99ee-0b38e17ab264",
   "metadata": {},
   "outputs": [],
   "source": [
    "from math import pi"
   ]
  },
  {
   "cell_type": "markdown",
   "id": "cea94619-0006-46cb-b52e-b05e24784cb1",
   "metadata": {},
   "source": [
    "Here only the pi value is imported from the math library"
   ]
  },
  {
   "cell_type": "markdown",
   "id": "5a991581-2b84-4bf7-8d9b-8a19509a29d3",
   "metadata": {},
   "source": [
    "**Namespace**   \n",
    "---   \n",
    "\n",
    "Namespace is a container of names shared by objects that typically go together.\n",
    "It's intention is to prevent naming conflicts!"
   ]
  },
  {
   "cell_type": "code",
   "execution_count": 11,
   "id": "d050c620-aba3-4ab9-8043-74aed8f8c2c7",
   "metadata": {},
   "outputs": [],
   "source": [
    "import math\n",
    "import numpy as np"
   ]
  },
  {
   "cell_type": "code",
   "execution_count": 12,
   "id": "e7740d66-b7d5-410e-a263-e81e513d4868",
   "metadata": {},
   "outputs": [
    {
     "data": {
      "text/plain": [
       "<function math.sqrt(x, /)>"
      ]
     },
     "execution_count": 12,
     "metadata": {},
     "output_type": "execute_result"
    }
   ],
   "source": [
    "math.sqrt"
   ]
  },
  {
   "cell_type": "code",
   "execution_count": 13,
   "id": "2f8ba518-1891-4161-9d91-db584b2bbb2c",
   "metadata": {},
   "outputs": [
    {
     "data": {
      "text/plain": [
       "<ufunc 'sqrt'>"
      ]
     },
     "execution_count": 13,
     "metadata": {},
     "output_type": "execute_result"
    }
   ],
   "source": [
    "np.sqrt"
   ]
  },
  {
   "cell_type": "markdown",
   "id": "acbf502a-8708-40bc-a2f8-f69bc7318152",
   "metadata": {},
   "source": [
    "Both math and numpy modules have square root functions, so what's the difference?"
   ]
  },
  {
   "cell_type": "code",
   "execution_count": 14,
   "id": "93b56d6d-bd83-4f44-bd47-1ebb832da4ac",
   "metadata": {},
   "outputs": [
    {
     "data": {
      "text/plain": [
       "6.727555276621664"
      ]
     },
     "execution_count": 14,
     "metadata": {},
     "output_type": "execute_result"
    }
   ],
   "source": [
    "math.sqrt(45.26)"
   ]
  },
  {
   "cell_type": "code",
   "execution_count": 15,
   "id": "684d32b2-e296-407a-85b2-8ae40fb83644",
   "metadata": {},
   "outputs": [
    {
     "data": {
      "text/plain": [
       "6.727555276621664"
      ]
     },
     "execution_count": 15,
     "metadata": {},
     "output_type": "execute_result"
    }
   ],
   "source": [
    "np.sqrt(45.26)"
   ]
  },
  {
   "cell_type": "markdown",
   "id": "be8fd832-facc-4b8b-a38e-22c33dc12d93",
   "metadata": {},
   "source": [
    "Both functions return the same value for _an integer input!!!!_"
   ]
  },
  {
   "cell_type": "code",
   "execution_count": 16,
   "id": "b6b35a28-99bc-4c25-a473-25bed4b9fa99",
   "metadata": {},
   "outputs": [
    {
     "ename": "TypeError",
     "evalue": "math.sqrt() takes exactly one argument (5 given)",
     "output_type": "error",
     "traceback": [
      "\u001b[1;31m---------------------------------------------------------------------------\u001b[0m",
      "\u001b[1;31mTypeError\u001b[0m                                 Traceback (most recent call last)",
      "\u001b[1;32m~\\AppData\\Local\\Temp/ipykernel_1248/111891210.py\u001b[0m in \u001b[0;36m<module>\u001b[1;34m\u001b[0m\n\u001b[1;32m----> 1\u001b[1;33m \u001b[0mmath\u001b[0m\u001b[1;33m.\u001b[0m\u001b[0msqrt\u001b[0m\u001b[1;33m(\u001b[0m\u001b[1;36m64\u001b[0m\u001b[1;33m,\u001b[0m\u001b[1;36m16\u001b[0m\u001b[1;33m,\u001b[0m\u001b[1;36m81\u001b[0m\u001b[1;33m,\u001b[0m\u001b[1;36m25\u001b[0m\u001b[1;33m,\u001b[0m\u001b[1;36m625\u001b[0m\u001b[1;33m)\u001b[0m\u001b[1;33m\u001b[0m\u001b[1;33m\u001b[0m\u001b[0m\n\u001b[0m",
      "\u001b[1;31mTypeError\u001b[0m: math.sqrt() takes exactly one argument (5 given)"
     ]
    }
   ],
   "source": [
    "math.sqrt(64,16,81,25,625)"
   ]
  },
  {
   "cell_type": "code",
   "execution_count": null,
   "id": "1454903c-849d-4cbf-b916-e0aba3ad4cf9",
   "metadata": {},
   "outputs": [],
   "source": [
    "np.sqrt([64,16,81,25,625])"
   ]
  },
  {
   "cell_type": "markdown",
   "id": "a2298080-cc91-46db-91b1-da7d9ea747c4",
   "metadata": {},
   "source": [
    "`math.sqrt()` is incapable if computing the square root when more than one number is involved!"
   ]
  },
  {
   "cell_type": "markdown",
   "id": "127378e9-4508-43a3-be34-404dd8e52e2c",
   "metadata": {},
   "source": [
    "**import** statement\n",
    "When an import statement is given; Python creates a namespace for all the objects in the module, executes the codes of the module and runs them within the newly created namespace and Python creates a name (\"np\") and references it to the newly created namespace object of the module (numpy)."
   ]
  },
  {
   "cell_type": "markdown",
   "id": "6bba47c5-9a43-426f-a7dd-fd5782e2226d",
   "metadata": {},
   "source": [
    "When `np.sqrt()` method is called Python executes the sqrt() function in the np namespace!\n",
    "The module math has its own namespace and when `math.sqrt()` is called python executes the sqrt() function in the math namespace!!"
   ]
  },
  {
   "cell_type": "code",
   "execution_count": null,
   "id": "bc47a783-7135-45d2-9f11-a920e99db95c",
   "metadata": {},
   "outputs": [],
   "source": [
    " name = \"Isabelle\""
   ]
  },
  {
   "cell_type": "code",
   "execution_count": null,
   "id": "22625a6b-cf49-41cf-a56d-e6348f741c44",
   "metadata": {},
   "outputs": [],
   "source": [
    "type(name)"
   ]
  },
  {
   "cell_type": "markdown",
   "id": "3ede6a96-220f-4565-81b1-20e28fdb35e4",
   "metadata": {},
   "source": [
    "Python tells that the name object is a string!"
   ]
  },
  {
   "cell_type": "markdown",
   "id": "a36fa449-9513-4221-aca4-5507fac74976",
   "metadata": {},
   "source": [
    "To learn what operations/functions are available for a given object..."
   ]
  },
  {
   "cell_type": "code",
   "execution_count": null,
   "id": "af989948-f8aa-4559-8e88-1ed91262dce8",
   "metadata": {},
   "outputs": [],
   "source": [
    "dir(name)"
   ]
  },
  {
   "cell_type": "markdown",
   "id": "069efd4d-c7cb-4197-8bda-57aaf294f36c",
   "metadata": {},
   "source": [
    "`dir()` gives the directory of methods available for a given object!, this include many of the base Python methods. "
   ]
  },
  {
   "cell_type": "code",
   "execution_count": null,
   "id": "9ea00d28-39ed-4e04-96be-9faf781a565a",
   "metadata": {},
   "outputs": [],
   "source": [
    "dir(str)"
   ]
  },
  {
   "cell_type": "markdown",
   "id": "bc4a8b43-0776-4f17-8ad5-9d1b009230a7",
   "metadata": {},
   "source": [
    "If we know the type of the object (\"Isabelle\" is a string object), type of the object can be given instead the name of the object in question!\n",
    "i.e.   `dir(name)` is identical to `dir(str)` because **the object name is a string**"
   ]
  },
  {
   "cell_type": "markdown",
   "id": "8c73d944-f35d-4d29-85f6-de1f30fdc2fa",
   "metadata": {},
   "source": [
    "To get help in Python\n",
    "``` help(name.upper)```\n"
   ]
  },
  {
   "cell_type": "code",
   "execution_count": null,
   "id": "777f8e7d-67df-49f5-9f79-ce42e0a0b96b",
   "metadata": {},
   "outputs": [],
   "source": [
    "help(name.upper)"
   ]
  },
  {
   "cell_type": "markdown",
   "id": "723db77e-c9c2-4d34-bba3-6640c210f9a1",
   "metadata": {},
   "source": [
    "Here we do not run that method/function! i.e `help(name.upper())` will throw an error! \n",
    "`name.upper` is a method bound to the name object\n",
    "`name.upper()` is a call for Python to perform the given operation!"
   ]
  },
  {
   "cell_type": "code",
   "execution_count": null,
   "id": "00d8eef8-7598-4734-b70c-621963c84f8a",
   "metadata": {},
   "outputs": [],
   "source": [
    "name.upper()"
   ]
  },
  {
   "cell_type": "code",
   "execution_count": null,
   "id": "3569b038-2a52-43ce-9ea0-555d42c0880a",
   "metadata": {},
   "outputs": [],
   "source": [
    "help(name.upper())"
   ]
  },
  {
   "cell_type": "markdown",
   "id": "c13f5fff-0c10-41cf-a877-7db664dee23e",
   "metadata": {},
   "source": [
    "**Note the differences**"
   ]
  },
  {
   "cell_type": "markdown",
   "id": "371ce73f-24fa-4a2b-b23d-a0258f1adb51",
   "metadata": {},
   "source": [
    "Even if two functions are identical, but from different namespaces (libraries/modules) Python will treat them as different functions!"
   ]
  },
  {
   "cell_type": "markdown",
   "id": "a19156b8-7bf3-4d4c-9908-f16774dc01a2",
   "metadata": {},
   "source": [
    "**Numbers and Basic Calculations**    \n",
    "---   \n",
    "\n",
    "Python has three types of numeric objects;   \n",
    "**Integers**    \n",
    "**Floating point numbers**          \n",
    "**Complex numbers**    "
   ]
  },
  {
   "cell_type": "code",
   "execution_count": null,
   "id": "51402aa7-571f-47d4-b0a8-eb61b497bb36",
   "metadata": {},
   "outputs": [],
   "source": [
    "122*45"
   ]
  },
  {
   "cell_type": "code",
   "execution_count": null,
   "id": "21a76d49-459f-4f77-b8d4-72f66e04cd27",
   "metadata": {},
   "outputs": [],
   "source": [
    "125-454"
   ]
  },
  {
   "cell_type": "code",
   "execution_count": null,
   "id": "da47250b-fc5c-4cad-8150-68ea7d4169bf",
   "metadata": {},
   "outputs": [],
   "source": [
    "2**8"
   ]
  },
  {
   "cell_type": "markdown",
   "id": "78805650-f02f-4849-82ea-8bc788f5a5db",
   "metadata": {},
   "source": [
    "Unlike **R** power in Python is notated by two ** s not by ^"
   ]
  },
  {
   "cell_type": "code",
   "execution_count": null,
   "id": "9fdaacf7-e379-408c-8eb2-cc5cf812910b",
   "metadata": {},
   "outputs": [],
   "source": [
    "5**3"
   ]
  },
  {
   "cell_type": "code",
   "execution_count": null,
   "id": "5a83281b-682d-4383-a26f-190d6ed178a3",
   "metadata": {},
   "outputs": [],
   "source": [
    "45**457"
   ]
  },
  {
   "cell_type": "markdown",
   "id": "ce8eae84-07c4-48ee-bae5-43cd660c4fd3",
   "metadata": {},
   "source": [
    "Here number of digits in the output is not limited, unlike calculators!!"
   ]
  },
  {
   "cell_type": "markdown",
   "id": "97f88188-bd98-43ed-897b-ad21d060107f",
   "metadata": {},
   "source": [
    "**Python has unlimited precision for integers!**"
   ]
  },
  {
   "cell_type": "code",
   "execution_count": null,
   "id": "8e76267b-6244-4f27-bccd-8a0b64af9f40",
   "metadata": {},
   "outputs": [],
   "source": [
    "78/36"
   ]
  },
  {
   "cell_type": "code",
   "execution_count": null,
   "id": "4743f309-e78f-4c21-8bc7-9867687ff4d4",
   "metadata": {},
   "outputs": [],
   "source": [
    "75/89.456"
   ]
  },
  {
   "cell_type": "markdown",
   "id": "b8bba4fb-c537-40fa-b01a-bad9a72e987b",
   "metadata": {},
   "source": [
    "**_For divisions or Integer divisions_**           \n",
    "This gives an integer result of the division but **not by** rounding the result to closest integer!  \n",
    "In integer division Python just does the floating point division but then rounds the result to **the closest integer** that is **less than the actual floating point answer** "
   ]
  },
  {
   "cell_type": "code",
   "execution_count": null,
   "id": "a39e096e-c017-4a6c-a075-82c6bab8ab16",
   "metadata": {},
   "outputs": [],
   "source": [
    "45/7"
   ]
  },
  {
   "cell_type": "code",
   "execution_count": null,
   "id": "4bb92f10-8953-4b8c-a746-b1956884e3e5",
   "metadata": {},
   "outputs": [],
   "source": [
    "45//7"
   ]
  },
  {
   "cell_type": "code",
   "execution_count": null,
   "id": "b7156e22-72da-4d9d-8798-add3fbec85af",
   "metadata": {},
   "outputs": [],
   "source": [
    "69/9"
   ]
  },
  {
   "cell_type": "code",
   "execution_count": null,
   "id": "b5047e82-dff9-4fbb-82aa-66ee9302c1bd",
   "metadata": {},
   "outputs": [],
   "source": [
    "69//9"
   ]
  },
  {
   "cell_type": "markdown",
   "id": "2dbe2003-9b45-4e2f-82ac-6bf4e4a105c1",
   "metadata": {},
   "source": [
    "**Note the difference**"
   ]
  },
  {
   "cell_type": "markdown",
   "id": "7ff613dc-c2a2-4c79-bb39-288446266267",
   "metadata": {},
   "source": [
    "\"_\" operator represents the value of the last result, which is helpful in the interactive mode!!"
   ]
  },
  {
   "cell_type": "code",
   "execution_count": null,
   "id": "2eb900f9-4071-41f3-af8e-91aee530d985",
   "metadata": {},
   "outputs": [],
   "source": [
    "31.58*7.125-41.134"
   ]
  },
  {
   "cell_type": "code",
   "execution_count": null,
   "id": "3818e3fb-6538-4950-99e2-edfae5eeefa0",
   "metadata": {},
   "outputs": [],
   "source": [
    "_"
   ]
  },
  {
   "cell_type": "code",
   "execution_count": null,
   "id": "4b41c739-ee9f-43c9-b078-86b2dffdd767",
   "metadata": {},
   "outputs": [],
   "source": [
    "_ - 183"
   ]
  },
  {
   "cell_type": "code",
   "execution_count": null,
   "id": "b459a021-6554-4250-8dab-4ef3530e4dd1",
   "metadata": {},
   "outputs": [],
   "source": [
    "_ + 150"
   ]
  },
  {
   "cell_type": "code",
   "execution_count": null,
   "id": "0ca35d58-c209-4b5d-bab6-02f27bc0f7df",
   "metadata": {},
   "outputs": [],
   "source": [
    "_ - 0.8734999999999"
   ]
  },
  {
   "cell_type": "markdown",
   "id": "b1894d8b-8436-475c-b708-b0f81699b7e3",
   "metadata": {},
   "source": [
    "**Note the use of _ above**"
   ]
  },
  {
   "cell_type": "markdown",
   "id": "d3127525-eece-4ec0-88fa-0940614dd62e",
   "metadata": {},
   "source": [
    "The **math** module contains many useful mathematical operations!!"
   ]
  },
  {
   "cell_type": "code",
   "execution_count": null,
   "id": "b9781736-89bc-44d5-9cc3-693d13a4b9d0",
   "metadata": {},
   "outputs": [],
   "source": [
    "import math"
   ]
  },
  {
   "cell_type": "code",
   "execution_count": null,
   "id": "e6cf76e6-abb5-4608-adfe-76d693d7f013",
   "metadata": {},
   "outputs": [],
   "source": [
    "9*8*7*6*5*4*3*2*1  #factorial of 9"
   ]
  },
  {
   "cell_type": "code",
   "execution_count": null,
   "id": "b59e2fc3-af4c-4775-9988-0cf3c7c849f5",
   "metadata": {},
   "outputs": [],
   "source": [
    "math.factorial(9)"
   ]
  },
  {
   "cell_type": "markdown",
   "id": "4c5aaf80-75aa-44b1-9c39-fff57e97db7f",
   "metadata": {},
   "source": [
    "Factorial operation is made simpler!!"
   ]
  },
  {
   "cell_type": "markdown",
   "id": "39842af6-8f21-4b98-9f05-38067b28d221",
   "metadata": {},
   "source": [
    "**Random choice**      \n",
    "---      \n",
    "\n",
    "For random sampling the `random` module is used"
   ]
  },
  {
   "cell_type": "code",
   "execution_count": null,
   "id": "ca60a7f4-b00d-44b0-96f6-bd16f3b5ca73",
   "metadata": {},
   "outputs": [],
   "source": [
    "import random"
   ]
  },
  {
   "cell_type": "code",
   "execution_count": null,
   "id": "0ced8892-15d1-472e-92d9-50530d2c192e",
   "metadata": {},
   "outputs": [],
   "source": [
    "population = list(range(21,75))\n",
    "population"
   ]
  },
  {
   "cell_type": "code",
   "execution_count": null,
   "id": "eb1273f6-d8fb-45c9-a578-7dc6f86400d3",
   "metadata": {},
   "outputs": [],
   "source": [
    "random.choice(population)"
   ]
  },
  {
   "cell_type": "markdown",
   "id": "ca2150de-fd45-4693-8b24-4095c895f273",
   "metadata": {},
   "source": [
    "`random.choice()` picks a random element from a given iterable!!"
   ]
  },
  {
   "cell_type": "code",
   "execution_count": null,
   "id": "8673761c-d129-461f-86a2-4b5fe557a31f",
   "metadata": {},
   "outputs": [],
   "source": [
    "random.choice([4.22,5.6,45,70,2,-21.6,7,19,55,-0.798])"
   ]
  },
  {
   "cell_type": "code",
   "execution_count": null,
   "id": "1bf506ef-7546-4ab5-a883-ae4a4c02aae4",
   "metadata": {},
   "outputs": [],
   "source": [
    "random.choice([4.22,5.6,45,70,2,-21.6,7,19,55,-0.798])"
   ]
  },
  {
   "cell_type": "markdown",
   "id": "0d0f9d80-e710-4c32-8341-ae1a6839bf24",
   "metadata": {},
   "source": [
    "random.choice() can be used to pick any elements randomly, not necessarily numbers!"
   ]
  },
  {
   "cell_type": "code",
   "execution_count": null,
   "id": "01758936-30df-4da7-8fa2-504b9b0da219",
   "metadata": {},
   "outputs": [],
   "source": [
    "names = [\"Amy\", \"Alice\", \"Julia\", \"Venessa\", \"Joanne\", \"Cindy\", \"Michelle\", \"Janice\", \"Jennifer\"]"
   ]
  },
  {
   "cell_type": "code",
   "execution_count": null,
   "id": "e2dfcfc3-17a6-4e82-bf1f-b8b5daf1dc7b",
   "metadata": {},
   "outputs": [],
   "source": [
    "random.choice(names)"
   ]
  },
  {
   "cell_type": "code",
   "execution_count": null,
   "id": "ccfc56c8-d91e-43c7-a6f8-7ada71c7ddb7",
   "metadata": {},
   "outputs": [],
   "source": [
    "random.choice(names)"
   ]
  },
  {
   "cell_type": "code",
   "execution_count": null,
   "id": "60cdf041-dd41-4c19-9be9-9d950a7d07a3",
   "metadata": {},
   "outputs": [],
   "source": [
    "random.choice(names)"
   ]
  },
  {
   "cell_type": "markdown",
   "id": "3316fb2f-0b4d-4571-93b0-0a4c85260519",
   "metadata": {},
   "source": [
    "**Expressions and Booleans**      \n",
    "---     \n",
    "\n",
    "Expression is a combination of objects and operators that compute a value!!        \n",
    "**Boolean** data type has only two values; `True` (`1`) and `False` (`0`)     \n",
    "In Python, first letter of these words needs to be capitalized!!"
   ]
  },
  {
   "cell_type": "code",
   "execution_count": null,
   "id": "f969b920-67d7-45b8-bafb-f3ab0adf37ed",
   "metadata": {},
   "outputs": [],
   "source": [
    "type(True)"
   ]
  },
  {
   "cell_type": "code",
   "execution_count": null,
   "id": "00f37809-a735-4804-8d55-0648f3cfc3e6",
   "metadata": {},
   "outputs": [],
   "source": [
    "type(true)"
   ]
  },
  {
   "cell_type": "code",
   "execution_count": null,
   "id": "ce54b33b-91eb-499e-8dd3-6b5e2fd55207",
   "metadata": {},
   "outputs": [],
   "source": [
    "type(TRUE)"
   ]
  },
  {
   "cell_type": "code",
   "execution_count": null,
   "id": "9380748a-8106-4cb9-b2c8-b76357757f80",
   "metadata": {},
   "outputs": [],
   "source": [
    "type(False)"
   ]
  },
  {
   "cell_type": "markdown",
   "id": "e6358529-38f2-43f9-824a-093ca40c13a0",
   "metadata": {},
   "source": [
    "**Boolean operations**      \n",
    "There are only three boolean operations!!       \n",
    "**Or   \n",
    "And  \n",
    "Not**   "
   ]
  },
  {
   "cell_type": "code",
   "execution_count": null,
   "id": "f783fac2-563d-4f14-8f9a-1bdbed1a3fee",
   "metadata": {},
   "outputs": [],
   "source": [
    "True or False"
   ]
  },
  {
   "cell_type": "markdown",
   "id": "326fd8a7-2690-4101-bba7-43bdd6add51c",
   "metadata": {},
   "source": [
    "True = 1  False = 0      \n",
    "`or` is equivalent to mathematical addition"
   ]
  },
  {
   "cell_type": "code",
   "execution_count": null,
   "id": "a4a09052-ec71-47cf-98ef-1431ffbc1ae3",
   "metadata": {},
   "outputs": [],
   "source": [
    "False or False"
   ]
  },
  {
   "cell_type": "code",
   "execution_count": null,
   "id": "b9faeeef-89b0-473e-9d1e-1bbe44e9664a",
   "metadata": {},
   "outputs": [],
   "source": [
    "True or True"
   ]
  },
  {
   "cell_type": "code",
   "execution_count": null,
   "id": "d8a2012f-7b9d-4bab-a876-9d897be80fe9",
   "metadata": {},
   "outputs": [],
   "source": [
    "True and True"
   ]
  },
  {
   "cell_type": "code",
   "execution_count": null,
   "id": "afe6002e-d0fc-4f3b-a2b9-e4c23bccd576",
   "metadata": {},
   "outputs": [],
   "source": [
    "True and False"
   ]
  },
  {
   "cell_type": "code",
   "execution_count": null,
   "id": "1cec6739-27a0-4768-9191-52eafa7af668",
   "metadata": {},
   "outputs": [],
   "source": [
    "False and False"
   ]
  },
  {
   "cell_type": "markdown",
   "id": "e6a26f35-c767-4a08-aaf6-165b1aeaf2ac",
   "metadata": {},
   "source": [
    "`and` is equivalent to mathematical multiplication!     \n",
    "Result wil be true only when both the inputs are true"
   ]
  },
  {
   "cell_type": "code",
   "execution_count": null,
   "id": "6a2b86aa-c18d-420b-8465-33503a0e82a6",
   "metadata": {},
   "outputs": [],
   "source": [
    "not True"
   ]
  },
  {
   "cell_type": "code",
   "execution_count": null,
   "id": "5697a261-4ab4-4cde-9cd7-7271e8f0525a",
   "metadata": {},
   "outputs": [],
   "source": [
    "not False"
   ]
  },
  {
   "cell_type": "markdown",
   "id": "c1ef9fa1-5e64-4431-b428-7fd2d65aca7c",
   "metadata": {},
   "source": [
    "`not` just returns the negative of the input!"
   ]
  },
  {
   "cell_type": "markdown",
   "id": "cbcbdfd1-58c0-472e-848f-c549312055a6",
   "metadata": {},
   "source": [
    "**Comparation operators**   \n",
    "--- \n",
    "\n",
    "There are 8 comparison operators in Python.  \n",
    "When comparing iterables comparison is carried out element wise!  \n",
    "Results of these comparison operators are either `True` or `False`"
   ]
  },
  {
   "cell_type": "code",
   "execution_count": null,
   "id": "0e307227-7ebe-4e73-8d5e-50752999ff41",
   "metadata": {},
   "outputs": [],
   "source": [
    "2.5 > 9 #greater than"
   ]
  },
  {
   "cell_type": "code",
   "execution_count": null,
   "id": "92ce226f-53b5-4804-8595-88ddc13c2f29",
   "metadata": {},
   "outputs": [],
   "source": [
    "6.9 < 9.6 #less than"
   ]
  },
  {
   "cell_type": "code",
   "execution_count": null,
   "id": "af28b1c6-60de-4444-95a5-179fea1c6e41",
   "metadata": {},
   "outputs": [],
   "source": [
    "2.697 == 2.697 #equal to"
   ]
  },
  {
   "cell_type": "code",
   "execution_count": null,
   "id": "8279585a-db89-4951-8359-b024a17583ef",
   "metadata": {},
   "outputs": [],
   "source": [
    "67 == 0.35"
   ]
  },
  {
   "cell_type": "code",
   "execution_count": null,
   "id": "f0462449-36ce-44e9-95db-e8617d5fb9ce",
   "metadata": {},
   "outputs": [],
   "source": [
    "57 <= 57.00 #less than or equal"
   ]
  },
  {
   "cell_type": "code",
   "execution_count": null,
   "id": "052b9325-6de5-4ae4-9025-85a7cf867829",
   "metadata": {},
   "outputs": [],
   "source": [
    "7.456 >= 7.456 #greater than or equal"
   ]
  },
  {
   "cell_type": "code",
   "execution_count": null,
   "id": "845b30a2-479f-4b6a-bf69-a14e9e2cf136",
   "metadata": {},
   "outputs": [],
   "source": [
    "54.82367 != 989.2 #not equal to"
   ]
  },
  {
   "cell_type": "code",
   "execution_count": null,
   "id": "f9744706-2bc6-4020-b69a-301d3730039c",
   "metadata": {},
   "outputs": [],
   "source": [
    "8.356 != 8.356"
   ]
  },
  {
   "cell_type": "code",
   "execution_count": null,
   "id": "3d5a003e-1407-4880-96a2-6b7c5f91f0a4",
   "metadata": {},
   "outputs": [],
   "source": [
    "x = [2,5.6,7,9.5]\n",
    "y = [2,5.6,7,9.5]"
   ]
  },
  {
   "cell_type": "code",
   "execution_count": null,
   "id": "154a87b6-db77-4440-aa01-d90102e5efaf",
   "metadata": {},
   "outputs": [],
   "source": [
    "x == y"
   ]
  },
  {
   "cell_type": "code",
   "execution_count": null,
   "id": "ed4fa342-6da5-44ba-8f23-faf3602ee9e6",
   "metadata": {},
   "outputs": [],
   "source": [
    "x != y"
   ]
  },
  {
   "cell_type": "code",
   "execution_count": null,
   "id": "58a520d6-d993-4b83-8d14-bd57c7a7664e",
   "metadata": {},
   "outputs": [],
   "source": [
    "z = [2,7,5.6,9.5]"
   ]
  },
  {
   "cell_type": "code",
   "execution_count": null,
   "id": "987bf22f-caba-48dd-94de-22f326e38696",
   "metadata": {},
   "outputs": [],
   "source": [
    "x == z"
   ]
  },
  {
   "cell_type": "markdown",
   "id": "45c8b71a-fad9-4e58-a505-46701cf7a2d2",
   "metadata": {},
   "source": [
    "Eventhough the elements of lists x & z are same, the indexing of elements are different!    \n",
    "**Thus they aren't equal**     "
   ]
  },
  {
   "cell_type": "code",
   "execution_count": null,
   "id": "a1025042-08b1-492b-9cb0-6498ba38f27f",
   "metadata": {},
   "outputs": [],
   "source": [
    "[8.9,0] is [8.9,0]"
   ]
  },
  {
   "cell_type": "markdown",
   "id": "b5befe2a-66e4-465c-8268-a400d15300d2",
   "metadata": {},
   "source": [
    "Two lists above are **identical** - same elements with same indices!!       \n",
    "But they are **two different objects**, thus they aren't same!!   \n",
    "`==` tests whether objects have the same **_value_**, whereas `is` tests whether objects have the same **_identity_**. "
   ]
  },
  {
   "cell_type": "code",
   "execution_count": null,
   "id": "c7c2a151-79a0-4c46-b83c-ad685a21bb3e",
   "metadata": {},
   "outputs": [],
   "source": [
    "x = [9,4,2]"
   ]
  },
  {
   "cell_type": "code",
   "execution_count": null,
   "id": "568cc88a-9030-4dbe-a8ce-a4a541764d4c",
   "metadata": {},
   "outputs": [],
   "source": [
    "x is [9,4,2]"
   ]
  },
  {
   "cell_type": "code",
   "execution_count": null,
   "id": "a711a4c8-4223-4e8e-b6ed-53a8a9bf64b0",
   "metadata": {},
   "outputs": [],
   "source": [
    "x is x"
   ]
  },
  {
   "cell_type": "code",
   "execution_count": null,
   "id": "34ff5b87-9e6f-4504-a005-c5629231f995",
   "metadata": {},
   "outputs": [],
   "source": [
    "x = y"
   ]
  },
  {
   "cell_type": "code",
   "execution_count": null,
   "id": "bb676d55-dd78-4df3-adad-715f629e681a",
   "metadata": {},
   "outputs": [],
   "source": [
    "x is y"
   ]
  },
  {
   "cell_type": "code",
   "execution_count": null,
   "id": "b61866d3-01d3-4ccb-b1ff-ad20b878ad9a",
   "metadata": {},
   "outputs": [],
   "source": [
    "p = [\"Amy\", \"Johanne\"]  \n",
    "q = [\"John\", \"Jamie\"]"
   ]
  },
  {
   "cell_type": "code",
   "execution_count": null,
   "id": "96ea0ef9-6c3e-4f09-987e-f9fdc45a53ac",
   "metadata": {},
   "outputs": [],
   "source": [
    "p is not q"
   ]
  },
  {
   "cell_type": "markdown",
   "id": "5016f379-a585-45d7-bb28-21b49a50fcfd",
   "metadata": {},
   "source": [
    "**Note the below example**"
   ]
  },
  {
   "cell_type": "code",
   "execution_count": null,
   "id": "7213bdda-9c89-4f79-9621-f1ae161d2261",
   "metadata": {},
   "outputs": [],
   "source": [
    "2.0 == 2.0"
   ]
  },
  {
   "cell_type": "code",
   "execution_count": null,
   "id": "fa99aadd-537e-4d44-b7f7-e16e264c5976",
   "metadata": {},
   "outputs": [],
   "source": [
    "2 == 2.0"
   ]
  },
  {
   "cell_type": "markdown",
   "id": "3eafd4a5-811b-45e7-8d44-ed5f1d30691d",
   "metadata": {},
   "source": [
    "Python takes the integer and **turns it into a floating point i.e 2 becomes 2.0**  \n",
    "Now the comparison is between 2.0 and 2.0, therefore the answer is `True`"
   ]
  },
  {
   "cell_type": "code",
   "execution_count": null,
   "id": "f3829ddf-0bac-4375-a164-7b74d6b6a809",
   "metadata": {},
   "outputs": [],
   "source": [
    "True and not False is True"
   ]
  },
  {
   "cell_type": "markdown",
   "id": "6f4b9720-e6f7-41c2-9dea-860bef5a1727",
   "metadata": {},
   "source": [
    "`True` and (`not False`) = `True` and `True` = `True`   \n",
    "(`True and not False`) is `True` = `True` is `True` = `True`"
   ]
  },
  {
   "cell_type": "markdown",
   "id": "0b5444a4-91a8-43b0-857c-931ec5b6686b",
   "metadata": {},
   "source": [
    "**Sequences**     \n",
    "---     \n",
    "In Python there are three sequence objects!\n",
    "1. Lists    \n",
    "2. Tuples  \n",
    "3. Range objects"
   ]
  },
  {
   "cell_type": "markdown",
   "id": "b3b2efc8-5932-4f65-be49-60870ec2e725",
   "metadata": {},
   "source": [
    "`s = [\"a\",\"b\",\"c\",\"d\",\"e\",\"f\"]`   \n",
    "**Indexing** starts from **0** (if we are to count from left to right)   \n",
    "i.e. \n",
    "```\n",
    "s[0] = \"a\"\n",
    "s[1] = \"b\"\n",
    "s[4] = \"e\"\n",
    "s[5] = \"f\"   \n",
    "```   \n",
    "Indexing starts from **-1** if we count from right to left!!  \n",
    "```\n",
    "s[-1] = \"f\"\n",
    "s[-3] = \"d\"\n",
    "s[-6] = \"a\"  \n",
    "```"
   ]
  },
  {
   "cell_type": "code",
   "execution_count": null,
   "id": "d56afff2-eeb0-43da-8bad-59110fe8eefd",
   "metadata": {},
   "outputs": [],
   "source": [
    "s = [\"a\",\"b\",\"c\",\"d\",\"e\",\"f\"]"
   ]
  },
  {
   "cell_type": "code",
   "execution_count": null,
   "id": "6aba26a1-b28c-4ea5-9e04-870d591a5559",
   "metadata": {},
   "outputs": [],
   "source": [
    "s[0]"
   ]
  },
  {
   "cell_type": "code",
   "execution_count": null,
   "id": "02f00e8b-8c2d-4f41-90c2-43542a9ec8ac",
   "metadata": {},
   "outputs": [],
   "source": [
    "s[4]"
   ]
  },
  {
   "cell_type": "code",
   "execution_count": null,
   "id": "3562a13e-1a8c-4ca1-89b0-d34c5c94d8a1",
   "metadata": {},
   "outputs": [],
   "source": [
    "s[-1]"
   ]
  },
  {
   "cell_type": "code",
   "execution_count": null,
   "id": "bb043bbc-bec8-4b5e-9cdc-0004eb91ecd2",
   "metadata": {},
   "outputs": [],
   "source": [
    "s[-5]"
   ]
  },
  {
   "cell_type": "markdown",
   "id": "3360dd56-793d-4d0f-b047-40bf343fa206",
   "metadata": {},
   "source": [
    "Sequences support the _**slicing**_ operation.  "
   ]
  },
  {
   "cell_type": "code",
   "execution_count": null,
   "id": "4aaf09bc-c268-49d5-a1e6-7cb20d5b94a1",
   "metadata": {},
   "outputs": [],
   "source": [
    "s[0:2]"
   ]
  },
  {
   "cell_type": "markdown",
   "id": "36c8367d-5f60-4c4e-a598-1552d6c48476",
   "metadata": {},
   "source": [
    "`s[i:f]` Here *i* is the start position and *f* is the stop position!!     \n",
    "Python slices the elements **before it reaches the stop location.**        \n",
    "**i.e slicing will terminate with `f-1`th element**  \n",
    "eg. `s[0:2]` will return `s[1]` & `s[1]` but not `s[2]`"
   ]
  },
  {
   "cell_type": "markdown",
   "id": "a6c6e4c6-920b-47e8-888b-28f1f00d6faf",
   "metadata": {},
   "source": [
    "**Lists**\n",
    "---\n",
    "Lists are generally made to contain one type of elements; integers/floats/strings   \n",
    "**But this is not a requirement.**"
   ]
  },
  {
   "cell_type": "code",
   "execution_count": null,
   "id": "b5d26232-52a3-4327-ae6f-1eab513b683d",
   "metadata": {},
   "outputs": [],
   "source": [
    "numbers = [2,4,66,7,12,205,54,474,12,1,89]"
   ]
  },
  {
   "cell_type": "code",
   "execution_count": null,
   "id": "07af7d7e-ca69-43c6-95df-e6f3c7938a57",
   "metadata": {},
   "outputs": [],
   "source": [
    "numbers[0]  #1st element"
   ]
  },
  {
   "cell_type": "code",
   "execution_count": null,
   "id": "5ac4cef6-1756-4972-a668-e2d1057256d2",
   "metadata": {},
   "outputs": [],
   "source": [
    "numbers[6] #7th element"
   ]
  },
  {
   "cell_type": "code",
   "execution_count": null,
   "id": "38d0bc5b-9910-4af0-a607-ea2bb0742c29",
   "metadata": {},
   "outputs": [],
   "source": [
    "numbers[-1] #last element"
   ]
  },
  {
   "cell_type": "code",
   "execution_count": null,
   "id": "d745f041-ef2b-410d-b88c-a57f093cbc84",
   "metadata": {},
   "outputs": [],
   "source": [
    "x = [4,6,7,17,37,3,583,4,3,63,234]\n",
    "x.append(\"hello\")\n",
    "x"
   ]
  },
  {
   "cell_type": "markdown",
   "id": "b31f01e0-df83-43e5-898c-ddc3b113c8d7",
   "metadata": {},
   "source": [
    "**Lists are mutable**"
   ]
  },
  {
   "cell_type": "code",
   "execution_count": null,
   "id": "a7074e96-fd40-47cb-9c3f-649c624e032d",
   "metadata": {},
   "outputs": [],
   "source": [
    "numbers.append(67)\n",
    "numbers"
   ]
  },
  {
   "cell_type": "markdown",
   "id": "92755d74-c161-4738-9381-c89a5f5501ad",
   "metadata": {},
   "source": [
    "The given number is added as the last element!  "
   ]
  },
  {
   "cell_type": "code",
   "execution_count": null,
   "id": "4af802af-fad1-409b-8f9d-c132d37047c1",
   "metadata": {},
   "outputs": [],
   "source": [
    "numbers.append([65,3,27]) #creates a nested list\n",
    "numbers"
   ]
  },
  {
   "cell_type": "code",
   "execution_count": null,
   "id": "8ad7ae74-9288-4315-ac80-757f7190f6c4",
   "metadata": {},
   "outputs": [],
   "source": [
    "males = [\"John\", \"James\", \"William\", \"Mathews\", \"Bruce\"]\n",
    "females = [\"Jenny\", \"Anna\", \"Joanne\", \"Marie\", \"Lyna\"]"
   ]
  },
  {
   "cell_type": "code",
   "execution_count": null,
   "id": "f3e0b02e-cbe3-4dd1-a989-57cd173f406e",
   "metadata": {},
   "outputs": [],
   "source": [
    "people = males + females #concatanating lists\n",
    "people"
   ]
  },
  {
   "cell_type": "code",
   "execution_count": null,
   "id": "edd56127-0f70-435d-98b1-cff174eb17ea",
   "metadata": {},
   "outputs": [],
   "source": [
    "type(people)"
   ]
  },
  {
   "cell_type": "code",
   "execution_count": null,
   "id": "ccb73be9-f40e-4606-9c13-7c4006803dd0",
   "metadata": {},
   "outputs": [],
   "source": [
    "list = males + numbers\n",
    "list"
   ]
  },
  {
   "cell_type": "code",
   "execution_count": null,
   "id": "6733e499-489b-4b4c-ac6b-29165f83697a",
   "metadata": {},
   "outputs": [],
   "source": [
    "numbers = [2,4,66,7,12,205,54,474,12,1,89]"
   ]
  },
  {
   "cell_type": "markdown",
   "id": "f7277aaf-b45b-4552-b44a-9c87b14a5a42",
   "metadata": {},
   "source": [
    "`.reverse()` **method**"
   ]
  },
  {
   "cell_type": "code",
   "execution_count": null,
   "id": "d77a7b14-5cbd-44d9-a3bd-b77dde9162db",
   "metadata": {},
   "outputs": [],
   "source": [
    "numbers.reverse() #this doesn't return anything"
   ]
  },
  {
   "cell_type": "markdown",
   "id": "80473f18-8c1e-4a63-9fa0-123ed118d8e9",
   "metadata": {},
   "source": [
    "This is because list methods are **in place** methods. They **modify** the list but **doesn't return** the modified list!!"
   ]
  },
  {
   "cell_type": "code",
   "execution_count": null,
   "id": "bea5d736-72cc-48fd-8e3f-8dc12ed74e89",
   "metadata": {},
   "outputs": [],
   "source": [
    "numbers #reversed list"
   ]
  },
  {
   "cell_type": "markdown",
   "id": "2785e9ac-b46f-401b-9e67-dadd51902a61",
   "metadata": {},
   "source": [
    "`.sort()` **method**"
   ]
  },
  {
   "cell_type": "code",
   "execution_count": null,
   "id": "e22b0045-c8f5-475a-9ff9-d63eea77afa9",
   "metadata": {},
   "outputs": [],
   "source": [
    "numbers.sort() #ascending order"
   ]
  },
  {
   "cell_type": "code",
   "execution_count": null,
   "id": "d19e29e3-efd1-4272-b9e8-bd412ea1fa10",
   "metadata": {},
   "outputs": [],
   "source": [
    "numbers"
   ]
  },
  {
   "cell_type": "code",
   "execution_count": null,
   "id": "723f3ee0-401a-40ed-9e02-13a47eff4a25",
   "metadata": {},
   "outputs": [],
   "source": [
    "names = [\"Amy\", \"Alice\", \"Julia\", \"Venessa\", \"Joanne\", \"Cindy\", \"Michelle\", \"Janice\", \"Jennifer\"]"
   ]
  },
  {
   "cell_type": "code",
   "execution_count": null,
   "id": "da67090f-7e55-4de0-8132-b911863f5df5",
   "metadata": {},
   "outputs": [],
   "source": [
    "names.sort() #alphabetical sorting"
   ]
  },
  {
   "cell_type": "code",
   "execution_count": null,
   "id": "e01e5e65-d7ac-4597-af82-e2e60752a295",
   "metadata": {},
   "outputs": [],
   "source": [
    "names"
   ]
  },
  {
   "cell_type": "markdown",
   "id": "48db5a7b-c992-4248-b739-3f1bdaa35546",
   "metadata": {},
   "source": [
    "**`.sort()`** vs **`sorted()`**   \n",
    "`.sort()` takes an existing list and reorders the elements within it.   \n",
    "`sorted()` constructs a new list by ordering the elements in the input list"
   ]
  },
  {
   "cell_type": "code",
   "execution_count": null,
   "id": "c801c3da-10e4-4819-ad12-dfdddb33cceb",
   "metadata": {},
   "outputs": [],
   "source": [
    "sorted_names = sorted(names)"
   ]
  },
  {
   "cell_type": "code",
   "execution_count": null,
   "id": "00d80119-205c-4da2-8d81-3c245bd385da",
   "metadata": {},
   "outputs": [],
   "source": [
    "sorted_names"
   ]
  },
  {
   "cell_type": "code",
   "execution_count": null,
   "id": "74ed4970-faf6-462e-a0b8-6f5267265192",
   "metadata": {},
   "outputs": [],
   "source": [
    "sorted(names) #returns the sorted list unlike .sort() method!!!"
   ]
  },
  {
   "cell_type": "markdown",
   "id": "12224dd8-a72d-4d1f-9d73-88fbf372f32e",
   "metadata": {},
   "source": [
    "`sorted()` does not modify the original list!!"
   ]
  },
  {
   "cell_type": "code",
   "execution_count": null,
   "id": "fa493761-d7ff-450b-af6c-c466ddcbd555",
   "metadata": {},
   "outputs": [],
   "source": [
    "len(names) #number of elements in the list"
   ]
  },
  {
   "cell_type": "code",
   "execution_count": null,
   "id": "c0d4b6c0-68d7-48f9-8790-09bfe8b5c48c",
   "metadata": {},
   "outputs": [],
   "source": [
    "len(numbers)"
   ]
  },
  {
   "cell_type": "markdown",
   "id": "fab97c9f-2e74-4da0-a28c-bcde2ae6c5dc",
   "metadata": {},
   "source": [
    "**Tuples**   \n",
    "--- \n",
    "Tuples are *immutable* sequences"
   ]
  },
  {
   "cell_type": "code",
   "execution_count": null,
   "id": "31379f8f-4eb3-41c0-a0a9-50445dffcfbf",
   "metadata": {},
   "outputs": [],
   "source": [
    "T = (7,89,12,754,393,5421,45,26)"
   ]
  },
  {
   "cell_type": "code",
   "execution_count": null,
   "id": "2698edfd-a9d5-4079-9465-ee647b55eeac",
   "metadata": {},
   "outputs": [],
   "source": [
    "B = (54,54,96,35,44,51,518,151,57)"
   ]
  },
  {
   "cell_type": "code",
   "execution_count": null,
   "id": "cfcdb9e1-2adf-42bf-af9a-d1ae78ba211d",
   "metadata": {},
   "outputs": [],
   "source": [
    "len(T)"
   ]
  },
  {
   "cell_type": "code",
   "execution_count": null,
   "id": "f3157131-8143-4f6f-9a20-852a1b053dc2",
   "metadata": {},
   "outputs": [],
   "source": [
    "len(B)"
   ]
  },
  {
   "cell_type": "code",
   "execution_count": null,
   "id": "fe717b03-8b30-458e-b048-56e15326eb23",
   "metadata": {},
   "outputs": [],
   "source": [
    "C = T + B #concatanating tuples\n",
    "C"
   ]
  },
  {
   "cell_type": "code",
   "execution_count": null,
   "id": "89ddf1c4-ea81-4f44-805a-797d5f58bc3c",
   "metadata": {},
   "outputs": [],
   "source": [
    "T + (7,1125,65)"
   ]
  },
  {
   "cell_type": "code",
   "execution_count": null,
   "id": "1117dc75-bff6-4278-aadc-5966051da285",
   "metadata": {},
   "outputs": [],
   "source": [
    "C[0] #1st element"
   ]
  },
  {
   "cell_type": "code",
   "execution_count": null,
   "id": "b8bd4f06-1fdb-4e64-acff-e68ad23f457c",
   "metadata": {},
   "outputs": [],
   "source": [
    "C[10] #11th element"
   ]
  },
  {
   "cell_type": "code",
   "execution_count": null,
   "id": "14a0f024-3dbb-45d6-bdca-73d77ac9e862",
   "metadata": {},
   "outputs": [],
   "source": [
    "C[-1] #last element"
   ]
  },
  {
   "cell_type": "code",
   "execution_count": null,
   "id": "dccdca4f-610f-4390-972f-7dea42d59f4f",
   "metadata": {},
   "outputs": [],
   "source": [
    "LA = 45.00\n",
    "LO = 43.97"
   ]
  },
  {
   "cell_type": "code",
   "execution_count": null,
   "id": "0143cb9a-62f2-477d-9086-7b8a70834ad9",
   "metadata": {},
   "outputs": [],
   "source": [
    "coordinate = (LA,LO) #immutable \n",
    "coordinate"
   ]
  },
  {
   "cell_type": "code",
   "execution_count": null,
   "id": "6665db39-bed6-41fa-9fd6-ff9e08b5b270",
   "metadata": {},
   "outputs": [],
   "source": [
    "type(coordinate)"
   ]
  },
  {
   "cell_type": "code",
   "execution_count": null,
   "id": "0f75dc92-ef98-4a6a-b4b3-905fdc4b632f",
   "metadata": {},
   "outputs": [],
   "source": [
    "position = [LA,LO] #mutable\n",
    "position"
   ]
  },
  {
   "cell_type": "code",
   "execution_count": null,
   "id": "78fb6a16-ef14-49e8-b5cb-f2983b9a643c",
   "metadata": {},
   "outputs": [],
   "source": [
    "type(position)"
   ]
  },
  {
   "cell_type": "code",
   "execution_count": null,
   "id": "84155b88-72bf-4529-b47b-57086d19a17a",
   "metadata": {},
   "outputs": [],
   "source": [
    "(1,2,3)[-0] #counting from index 0, this moves 0 steps backwards, still 1 "
   ]
  },
  {
   "cell_type": "code",
   "execution_count": null,
   "id": "f6c7aafe-c374-41e3-8027-ce3b9dbfa6c6",
   "metadata": {},
   "outputs": [],
   "source": [
    "(1,2,3)[-0:0] #the slice -0:0 contains no indices so an empty tuple is returned"
   ]
  },
  {
   "cell_type": "code",
   "execution_count": null,
   "id": "3eea9e5a-92dd-4a77-aa1c-9a37e9b5a708",
   "metadata": {},
   "outputs": [],
   "source": [
    "(5,78,2,6,8,8,32)[5:5]"
   ]
  },
  {
   "cell_type": "markdown",
   "id": "68bf5199-9782-4409-90f5-546b407811a1",
   "metadata": {},
   "source": [
    "**Packing and unpacking tuples**"
   ]
  },
  {
   "cell_type": "code",
   "execution_count": null,
   "id": "2da7f541-d0cf-4d95-ae9a-97dde718851d",
   "metadata": {},
   "outputs": [],
   "source": [
    "x = 45\n",
    "y = 8\n",
    "z = 3.5"
   ]
  },
  {
   "cell_type": "code",
   "execution_count": null,
   "id": "e5d59fa0-9c1c-4926-869f-488c43a740dd",
   "metadata": {},
   "outputs": [],
   "source": [
    "tup = (x,y,z) #tuple packing\n",
    "print(tup)"
   ]
  },
  {
   "cell_type": "code",
   "execution_count": null,
   "id": "d73fc176-62d9-4f8b-92ab-576ed9614605",
   "metadata": {},
   "outputs": [],
   "source": [
    "type(tup)"
   ]
  },
  {
   "cell_type": "code",
   "execution_count": null,
   "id": "bd2d62fb-47e1-4477-8bb4-615bfc53a119",
   "metadata": {},
   "outputs": [],
   "source": [
    "(a,b,c) = tup #tuple unpacking\n",
    "print(a,b,c)"
   ]
  },
  {
   "cell_type": "markdown",
   "id": "627fbe69-8951-45a1-a809-12bcf08bccb6",
   "metadata": {},
   "source": [
    "`a = tup[0]`   \n",
    "`b = tup[1]`   \n",
    "`c = tup[2]`"
   ]
  },
  {
   "cell_type": "markdown",
   "id": "e33d2038-392a-44fa-a808-0c302f7ea3bd",
   "metadata": {},
   "source": [
    "_**Using tuples in for loops**_"
   ]
  },
  {
   "cell_type": "code",
   "execution_count": null,
   "id": "3973ad0e-7cd3-4047-85f1-a6ca53ba500d",
   "metadata": {},
   "outputs": [],
   "source": [
    "x = 0\n",
    "squares = []\n",
    "while x < 10:\n",
    "    i = (x, x**2)\n",
    "    squares.append(i)\n",
    "    x = x + 1\n",
    "\n",
    "print(squares)"
   ]
  },
  {
   "cell_type": "code",
   "execution_count": null,
   "id": "b0bcf853-43c5-4266-b326-1dca2e63bb9b",
   "metadata": {},
   "outputs": [],
   "source": [
    "import math\n",
    "for (x,y) in squares:\n",
    "    print(x**2, math.sqrt(y))"
   ]
  },
  {
   "cell_type": "code",
   "execution_count": null,
   "id": "7a290277-fd53-48a7-bb2d-dda1e89aa7e1",
   "metadata": {},
   "outputs": [],
   "source": [
    "import math\n",
    "for (x,y) in squares:\n",
    "    print(x**2, \"     \",  math.sqrt(y))"
   ]
  },
  {
   "cell_type": "markdown",
   "id": "c9d0907c-0cc1-44e3-b7f0-04bcd2c38844",
   "metadata": {},
   "source": [
    "The paranthesis in `for (x,y) in squares:` isn't necessary       \n",
    "i.e `for x,y in squares:` would work just fine but the paranthesis makes the code easier.         \n",
    "Here the for loop loops over every tuple in the list with **x,y assigned to the elements of each tuple**"
   ]
  },
  {
   "cell_type": "code",
   "execution_count": null,
   "id": "25856f2c-6dc0-4fb4-8590-a876efb0f031",
   "metadata": {},
   "outputs": [],
   "source": [
    "mobiles = (\"Nokia\", \"Samsung\", \"Apple\", \"Motorola\")"
   ]
  },
  {
   "cell_type": "code",
   "execution_count": null,
   "id": "643de9f2-7aec-4ab3-b799-4fc629b4bd2b",
   "metadata": {},
   "outputs": [],
   "source": [
    "type(mobiles)"
   ]
  },
  {
   "cell_type": "code",
   "execution_count": null,
   "id": "5c5dce54-6aae-4a16-bf39-3c5fe9a9ca07",
   "metadata": {},
   "outputs": [],
   "source": [
    "nums = (2,4,6,8,10)"
   ]
  },
  {
   "cell_type": "code",
   "execution_count": null,
   "id": "8953a31a-4a51-416e-8beb-2f27cdb57fac",
   "metadata": {},
   "outputs": [],
   "source": [
    "type(nums)"
   ]
  },
  {
   "cell_type": "code",
   "execution_count": null,
   "id": "47130cf9-241e-4854-81db-1873cf28d5e2",
   "metadata": {},
   "outputs": [],
   "source": [
    "nums = (14.5)"
   ]
  },
  {
   "cell_type": "code",
   "execution_count": null,
   "id": "52bec718-61ce-4ef0-be98-a279ed0806bf",
   "metadata": {},
   "outputs": [],
   "source": [
    "type(nums)"
   ]
  },
  {
   "cell_type": "markdown",
   "id": "ad54075a-246b-4678-a19b-4882b68357f0",
   "metadata": {},
   "source": [
    "Object type has changed from tuple to float, eventhough 14.5 was supplied inside brackets"
   ]
  },
  {
   "cell_type": "code",
   "execution_count": null,
   "id": "3da2e678-0f53-4619-ab3d-589179cbe5c9",
   "metadata": {},
   "outputs": [],
   "source": [
    "nums = (14.5,)"
   ]
  },
  {
   "cell_type": "code",
   "execution_count": null,
   "id": "aeac148b-4267-4202-9d89-1ab63ae97b2a",
   "metadata": {},
   "outputs": [],
   "source": [
    "type(nums)"
   ]
  },
  {
   "cell_type": "markdown",
   "id": "5a139875-2927-4e3e-a480-0e3c5aebd009",
   "metadata": {},
   "source": [
    "**To create a tuple with just one element a comma should follow the element!!**        \n",
    "_**The paranthesis can be avoided**_"
   ]
  },
  {
   "cell_type": "code",
   "execution_count": null,
   "id": "ea810576-044d-4a7c-a131-2ccfbcbebb74",
   "metadata": {},
   "outputs": [],
   "source": [
    "nums = 45.6,"
   ]
  },
  {
   "cell_type": "code",
   "execution_count": null,
   "id": "dca5f7bd-2a21-4eab-9d78-040d3528210d",
   "metadata": {},
   "outputs": [],
   "source": [
    "type(nums)"
   ]
  },
  {
   "cell_type": "code",
   "execution_count": null,
   "id": "f113b81e-410b-4efc-a2af-5035faa6f982",
   "metadata": {},
   "outputs": [],
   "source": [
    "odds = (1,3,5,7,9,1,5,7,1,3,3,9,9,1,3,11,19,5,7,7,73,1)\n",
    "odds.count(3) #counts the frequency of 3"
   ]
  },
  {
   "cell_type": "code",
   "execution_count": null,
   "id": "c5e80b27-99ca-4b02-9015-d16e98e32385",
   "metadata": {},
   "outputs": [],
   "source": [
    "odds.count(7)"
   ]
  },
  {
   "cell_type": "code",
   "execution_count": null,
   "id": "a0febc9b-dcfd-498e-845b-215ae7648bdd",
   "metadata": {},
   "outputs": [],
   "source": [
    "for i in (1,5,9):\n",
    "    print(odds.count(i))"
   ]
  },
  {
   "cell_type": "code",
   "execution_count": null,
   "id": "a7d89bc1-357c-4e5f-a38d-091e3e82722b",
   "metadata": {},
   "outputs": [],
   "source": [
    "odds.sum()"
   ]
  },
  {
   "cell_type": "code",
   "execution_count": null,
   "id": "d1518830-a0a9-488a-ab82-c416c8797747",
   "metadata": {},
   "outputs": [],
   "source": [
    "sum(odds)"
   ]
  },
  {
   "cell_type": "code",
   "execution_count": null,
   "id": "af1cfe67-6a27-42d0-a0e7-09731d5c207a",
   "metadata": {},
   "outputs": [],
   "source": [
    "type(2,)"
   ]
  },
  {
   "cell_type": "code",
   "execution_count": null,
   "id": "9f5c0056-f430-42b0-8ea1-d67a39554bbf",
   "metadata": {},
   "outputs": [],
   "source": [
    "type((2))"
   ]
  },
  {
   "cell_type": "code",
   "execution_count": null,
   "id": "c91a7052-f06a-4652-997f-d4750e7c6d89",
   "metadata": {},
   "outputs": [],
   "source": [
    "type((2,))"
   ]
  },
  {
   "cell_type": "markdown",
   "id": "9baa0f82-20b4-4018-b265-9ddc3e2a706a",
   "metadata": {},
   "source": [
    "**Range objects**\n",
    "---"
   ]
  },
  {
   "cell_type": "code",
   "execution_count": null,
   "id": "db1cbbbe-278e-4c53-a619-56305c353271",
   "metadata": {},
   "outputs": [],
   "source": [
    "range(5) #does not return a sequence! #automatically asumes 0 to be the starting point"
   ]
  },
  {
   "cell_type": "code",
   "execution_count": null,
   "id": "43966333-2ae6-42c5-9ef5-c17137c45d2a",
   "metadata": {},
   "outputs": [],
   "source": [
    "range(3,12)"
   ]
  },
  {
   "cell_type": "code",
   "execution_count": null,
   "id": "cdb7edb2-1d0a-4005-ad27-bdc3195d0e07",
   "metadata": {},
   "outputs": [],
   "source": [
    "list(range(5)) #now we can see the contents"
   ]
  },
  {
   "cell_type": "code",
   "execution_count": null,
   "id": "a716f812-a454-4ae8-b5a5-b448aa768af6",
   "metadata": {},
   "outputs": [],
   "source": [
    "list(range(3,12))"
   ]
  },
  {
   "cell_type": "code",
   "execution_count": null,
   "id": "6d523c76-5db7-4858-b178-83b725c92b8b",
   "metadata": {},
   "outputs": [],
   "source": [
    "list(range(9,18,3)) #here an additional argument step by is given!"
   ]
  },
  {
   "cell_type": "code",
   "execution_count": null,
   "id": "ff69cb3f-ebb3-4d16-832c-a0c5f2a40efe",
   "metadata": {},
   "outputs": [],
   "source": [
    "list(range(7,14,1.5)) #step by only accepts integers"
   ]
  },
  {
   "cell_type": "markdown",
   "id": "e1a22c01-1808-4825-8416-1bf258fd6981",
   "metadata": {},
   "source": [
    "**Generally range objects are not typecasted to lists in Python, because Python stores only 3 details for a range object; start, end & step by. For list objects all elements are stored!! This can causeb problems.    \n",
    "In instances that include huge number of elements i.e a list of 1 million numbers, it is a waste of space. A range object can allow you to loop through without having to specify all the elements!!**"
   ]
  },
  {
   "cell_type": "markdown",
   "id": "e0f4f3ae-c04c-4408-b471-09ca9fd60231",
   "metadata": {},
   "source": [
    "**Strings**\n",
    "---"
   ]
  },
  {
   "cell_type": "markdown",
   "id": "1bf3c909-f825-4502-aa60-bd64d7d675f2",
   "metadata": {},
   "source": [
    "Strings are immutable sequences of characters.   \n",
    "Strings can be defined inside single, double & triple quotes"
   ]
  },
  {
   "cell_type": "code",
   "execution_count": null,
   "id": "4d990319-6aa3-4e83-9cdf-91fb41077879",
   "metadata": {},
   "outputs": [],
   "source": [
    "str1 = \"Python\"\n",
    "len(str1)"
   ]
  },
  {
   "cell_type": "code",
   "execution_count": null,
   "id": "b2dd0ffd-7eec-48ac-9ab2-ff8f0d000738",
   "metadata": {},
   "outputs": [],
   "source": [
    "str1[0] #first indice"
   ]
  },
  {
   "cell_type": "code",
   "execution_count": null,
   "id": "689b966e-b7b6-44e6-bac7-6feda56e079b",
   "metadata": {},
   "outputs": [],
   "source": [
    "str1[5] #last indice"
   ]
  },
  {
   "cell_type": "code",
   "execution_count": null,
   "id": "189960a9-587b-4451-92f3-745627274319",
   "metadata": {},
   "outputs": [],
   "source": [
    "str1[-1]"
   ]
  },
  {
   "cell_type": "code",
   "execution_count": null,
   "id": "5f1a2ff0-a015-4dd2-b6c9-a8551e6305f0",
   "metadata": {},
   "outputs": [],
   "source": [
    "str1[-6]"
   ]
  },
  {
   "cell_type": "code",
   "execution_count": null,
   "id": "6689186a-7a34-4b85-bf89-0efcef621aaa",
   "metadata": {},
   "outputs": [],
   "source": [
    "str1[0:2] #string slicing"
   ]
  },
  {
   "cell_type": "code",
   "execution_count": null,
   "id": "d3ff6e8a-5749-4e0d-8f40-075353f7c2b7",
   "metadata": {},
   "outputs": [],
   "source": [
    "str1[1:4]"
   ]
  },
  {
   "cell_type": "code",
   "execution_count": null,
   "id": "0f7bf1c1-465a-4a62-8b75-dc7ac2296f88",
   "metadata": {},
   "outputs": [],
   "source": [
    "she = \"Elizebeth\""
   ]
  },
  {
   "cell_type": "code",
   "execution_count": null,
   "id": "9201a1fc-ba88-4780-96aa-96b6f546810f",
   "metadata": {},
   "outputs": [],
   "source": [
    "she[-2] #second index from right"
   ]
  },
  {
   "cell_type": "code",
   "execution_count": null,
   "id": "d112b969-0d2f-4817-a009-7e5a4652fa72",
   "metadata": {},
   "outputs": [],
   "source": [
    "she[-2:] #last two characters in the string"
   ]
  },
  {
   "cell_type": "code",
   "execution_count": null,
   "id": "78174324-624b-4a6f-b9bd-bac7b781a702",
   "metadata": {},
   "outputs": [],
   "source": [
    "she[-6:]"
   ]
  },
  {
   "cell_type": "code",
   "execution_count": null,
   "id": "e49aea45-b7c3-4170-b934-4d9eed3111f1",
   "metadata": {},
   "outputs": [],
   "source": [
    "\"z\" in she  #checking memberships"
   ]
  },
  {
   "cell_type": "code",
   "execution_count": null,
   "id": "505074d7-3d9d-4215-b6cf-2ed4c80fde5a",
   "metadata": {},
   "outputs": [],
   "source": [
    "\"Z\" in she"
   ]
  },
  {
   "cell_type": "code",
   "execution_count": null,
   "id": "8889f1bc-c37c-4dfb-acae-ce8aedddb09f",
   "metadata": {},
   "outputs": [],
   "source": [
    "she.count(\"e\") #occurrences"
   ]
  },
  {
   "cell_type": "markdown",
   "id": "e4830fbb-36e7-415b-951f-6c9df8b14b67",
   "metadata": {},
   "source": [
    "**_Polymorphism in Python_**    \n",
    "**Functions perform different operations depending on the data type of the input**"
   ]
  },
  {
   "cell_type": "code",
   "execution_count": null,
   "id": "3ed4c12e-9971-4d60-b246-74b1bbb89e5a",
   "metadata": {},
   "outputs": [],
   "source": [
    "12 + 12"
   ]
  },
  {
   "cell_type": "code",
   "execution_count": null,
   "id": "49635575-4a26-47dc-ba00-e11486494dd9",
   "metadata": {},
   "outputs": [],
   "source": [
    "\"12\" + \"12\" #literal concatanation"
   ]
  },
  {
   "cell_type": "code",
   "execution_count": null,
   "id": "4b99a120-e447-45e2-9d94-a7ff2064a2fe",
   "metadata": {},
   "outputs": [],
   "source": [
    "\"Julia\" + \"Rosenberg\""
   ]
  },
  {
   "cell_type": "code",
   "execution_count": null,
   "id": "97076fa4-3488-4cc2-9781-e9f804e0d247",
   "metadata": {},
   "outputs": [],
   "source": [
    "\"Julia\" + \" Rosenberg\""
   ]
  },
  {
   "cell_type": "code",
   "execution_count": null,
   "id": "f1041f68-3bc7-4bb9-a5c2-25ca96e441cb",
   "metadata": {},
   "outputs": [],
   "source": [
    "\"He brought a brand new Alienware GX34\" - \"brand\" #substactions won't work!!"
   ]
  },
  {
   "cell_type": "code",
   "execution_count": null,
   "id": "8e1f2515-4ac2-45ca-908f-302b9077e5da",
   "metadata": {},
   "outputs": [],
   "source": [
    "23 * 4 #means 23 + 23 + 23 + 23"
   ]
  },
  {
   "cell_type": "code",
   "execution_count": null,
   "id": "f296caf1-f791-4976-9b44-68e5ddec9d8b",
   "metadata": {},
   "outputs": [],
   "source": [
    "\"23\" * 4 #means \"23\" + \"23\" + \"23\" + \"23\" "
   ]
  },
  {
   "cell_type": "markdown",
   "id": "dce76fc3-da72-490b-87ab-fdb8fc5fb1f0",
   "metadata": {},
   "source": [
    "_Cannot concatanate different data types as they are_"
   ]
  },
  {
   "cell_type": "code",
   "execution_count": null,
   "id": "5ad3c051-40c1-4715-9844-a1232242461f",
   "metadata": {},
   "outputs": [],
   "source": [
    "\"3 + 4 equals to\" + 7"
   ]
  },
  {
   "cell_type": "code",
   "execution_count": null,
   "id": "5e91f511-daf4-49de-9ec7-4697dfba09d2",
   "metadata": {},
   "outputs": [],
   "source": [
    "\"3 + 4 equals to\" + str(7) #here the integer 7 is typecasted to a string before requesting for concatanation"
   ]
  },
  {
   "cell_type": "code",
   "execution_count": null,
   "id": "ae5c96b2-9c3e-47c8-93c5-cc53fb5c1906",
   "metadata": {},
   "outputs": [],
   "source": [
    "\"3 + 4 equals to \" + str(7)"
   ]
  },
  {
   "cell_type": "code",
   "execution_count": null,
   "id": "9c605523-8958-4ca4-b849-6965729f84ce",
   "metadata": {},
   "outputs": [],
   "source": [
    "dir(str) #all the operations available for string objects"
   ]
  },
  {
   "cell_type": "code",
   "execution_count": null,
   "id": "99467a62-c1dc-499c-ac00-fae8c0e47583",
   "metadata": {},
   "outputs": [],
   "source": [
    "_007 = \"James Bond\""
   ]
  },
  {
   "cell_type": "code",
   "execution_count": null,
   "id": "37825bfa-d28f-430f-8c9f-58eb9afdd540",
   "metadata": {},
   "outputs": [],
   "source": [
    "_007.replace(\"James\", \"Jhonathan\") #lol"
   ]
  },
  {
   "cell_type": "code",
   "execution_count": null,
   "id": "80497118-e001-42a0-b178-04c85f2b95f8",
   "metadata": {},
   "outputs": [],
   "source": [
    "_007.replace(\"J\", \"L\")"
   ]
  },
  {
   "cell_type": "markdown",
   "id": "728b686f-702e-4414-9c63-73f27a5ccd7b",
   "metadata": {},
   "source": [
    "**Since strings are immutable Python doesn't modify the objects, just returns the output!**"
   ]
  },
  {
   "cell_type": "code",
   "execution_count": null,
   "id": "c858a659-8bae-4ecc-a4c5-122e67d39203",
   "metadata": {},
   "outputs": [],
   "source": [
    "new_007 = _007.replace(\"J\", \"L\")"
   ]
  },
  {
   "cell_type": "code",
   "execution_count": null,
   "id": "65fc38ce-4cd0-4f44-9f66-c6ac79c5df8d",
   "metadata": {},
   "outputs": [],
   "source": [
    "new_007"
   ]
  },
  {
   "cell_type": "code",
   "execution_count": null,
   "id": "d259d3b3-24df-442b-b462-cfa014d5f6e7",
   "metadata": {},
   "outputs": [],
   "source": [
    "sentence = \"It started to rain when they were cooking the barbecue\""
   ]
  },
  {
   "cell_type": "code",
   "execution_count": null,
   "id": "a31a20c8-2977-45a0-b903-bed99d4431f5",
   "metadata": {},
   "outputs": [],
   "source": [
    "sentence.upper() #converts whole string to upper case"
   ]
  },
  {
   "cell_type": "code",
   "execution_count": null,
   "id": "b68fc41e-6b1e-45fd-83f2-9091ee92a6ba",
   "metadata": {},
   "outputs": [],
   "source": [
    "SENTENCE = sentence.upper()"
   ]
  },
  {
   "cell_type": "code",
   "execution_count": null,
   "id": "17ef3409-976d-4436-8ba4-365ff589c563",
   "metadata": {},
   "outputs": [],
   "source": [
    "SENTENCE.lower()  #converts whole string to lower case"
   ]
  },
  {
   "cell_type": "code",
   "execution_count": null,
   "id": "ab9dd5c3-f632-4dcd-a4b4-c469d2c878cc",
   "metadata": {},
   "outputs": [],
   "source": [
    "sentence.split(\" \") #splits the string by spaces"
   ]
  },
  {
   "cell_type": "code",
   "execution_count": null,
   "id": "6a1c3c04-1584-400a-901f-e3c9a10cf1ee",
   "metadata": {},
   "outputs": [],
   "source": [
    "splitted_sentence = sentence.split(\" \")"
   ]
  },
  {
   "cell_type": "code",
   "execution_count": null,
   "id": "ae148bae-ef7a-42cf-9544-0ff9128e45a6",
   "metadata": {},
   "outputs": [],
   "source": [
    "type(splitted_sentence)"
   ]
  },
  {
   "cell_type": "code",
   "execution_count": null,
   "id": "9c739b89-8d1d-4310-a197-7491033e864e",
   "metadata": {},
   "outputs": [],
   "source": [
    "len(splitted_sentence)"
   ]
  },
  {
   "cell_type": "code",
   "execution_count": null,
   "id": "373669ca-6ba6-4112-9e4a-c981f4fd4759",
   "metadata": {},
   "outputs": [],
   "source": [
    "i = 0\n",
    "while i < 10:\n",
    "    print(splitted_sentence[i])\n",
    "    i = i + 1 "
   ]
  },
  {
   "cell_type": "code",
   "execution_count": null,
   "id": "73dae18f-1b3d-4993-955e-29c9d648d07f",
   "metadata": {},
   "outputs": [],
   "source": [
    "i = 0\n",
    "while i < 10:\n",
    "    print(type(splitted_sentence[i]))\n",
    "    i = i + 1 "
   ]
  },
  {
   "cell_type": "code",
   "execution_count": null,
   "id": "8fefb99c-5b2c-47c8-8b8e-b3c67431d695",
   "metadata": {},
   "outputs": [],
   "source": [
    "splitted_sentence[9].upper()"
   ]
  },
  {
   "cell_type": "code",
   "execution_count": null,
   "id": "d4067eee-f80a-4460-8b55-8ec3310ca3ab",
   "metadata": {},
   "outputs": [],
   "source": [
    "(splitted_sentence[9].upper()).lower()"
   ]
  },
  {
   "cell_type": "code",
   "execution_count": null,
   "id": "f5e4082b-950a-4926-95fb-32f3a6cf95ff",
   "metadata": {},
   "outputs": [],
   "source": [
    "splitted_SENTENCE = SENTENCE.split(\" \")"
   ]
  },
  {
   "cell_type": "code",
   "execution_count": null,
   "id": "b4021a94-6cef-49c9-93ec-430ac4aa0a03",
   "metadata": {},
   "outputs": [],
   "source": [
    "splitted_SENTENCE[9]"
   ]
  },
  {
   "cell_type": "code",
   "execution_count": null,
   "id": "543b88f7-28f6-48f5-be47-b7012d64f542",
   "metadata": {},
   "outputs": [],
   "source": [
    "splitted_SENTENCE[9].lower()"
   ]
  },
  {
   "cell_type": "code",
   "execution_count": null,
   "id": "deb4e49e-3087-4660-b036-f590687843e3",
   "metadata": {},
   "outputs": [],
   "source": [
    "\"2\" * \"2\" #wont work!!"
   ]
  },
  {
   "cell_type": "code",
   "execution_count": null,
   "id": "61a2b073-e27b-4d7b-a04b-05e991abbf65",
   "metadata": {},
   "outputs": [],
   "source": [
    "str(range(10)) #won't print \"0123456789\""
   ]
  },
  {
   "cell_type": "code",
   "execution_count": null,
   "id": "199ee5e3-7896-4c56-ac69-af4d9678239f",
   "metadata": {},
   "outputs": [],
   "source": [
    "str(list(range(10))) #gets the elements right, but not the expected result"
   ]
  },
  {
   "cell_type": "code",
   "execution_count": null,
   "id": "e598d5ab-bc9a-4656-b91e-d6555c0e29a3",
   "metadata": {},
   "outputs": [],
   "source": [
    "\"\".join([str(i) for i in range(10)])"
   ]
  },
  {
   "cell_type": "markdown",
   "id": "845e6c7c-afd4-4fa5-825f-8de837361820",
   "metadata": {},
   "source": [
    "**Break down**"
   ]
  },
  {
   "cell_type": "code",
   "execution_count": null,
   "id": "63fd16b0-d747-4b71-b800-01339f913904",
   "metadata": {},
   "outputs": [],
   "source": [
    "for i in range(0,10):\n",
    "    print(str(i))"
   ]
  },
  {
   "cell_type": "code",
   "execution_count": null,
   "id": "a1e3bf1a-8a22-4cdf-ac37-ff4a184ffcc0",
   "metadata": {},
   "outputs": [],
   "source": [
    "\"\".join(str(i) for i in range(10)) #joins the above outputs without any characters in between"
   ]
  },
  {
   "cell_type": "code",
   "execution_count": null,
   "id": "02da7b44-2621-4e45-abdb-035bfcb59408",
   "metadata": {},
   "outputs": [],
   "source": [
    "\" \".join(str(i) for i in range(10)) #joins by inserting a space between each character"
   ]
  },
  {
   "cell_type": "code",
   "execution_count": null,
   "id": "417b93da-9c94-45a4-8bb9-e5da79f7c739",
   "metadata": {},
   "outputs": [],
   "source": [
    "\"_\".join(str(i) for i in range(10)) #joins by inserting an underscore between each character"
   ]
  },
  {
   "cell_type": "code",
   "execution_count": null,
   "id": "0a04e16a-0967-41b8-bc63-f8be9e8731ba",
   "metadata": {},
   "outputs": [],
   "source": [
    "import string\n",
    "string.digits"
   ]
  },
  {
   "cell_type": "code",
   "execution_count": null,
   "id": "28262a72-9db1-4b02-b9e4-8607adb91d83",
   "metadata": {},
   "outputs": [],
   "source": [
    "words = [\"Mary\", \"used\", \"to\", \"be\", \"a\", \"massive\", \"cunt\"]"
   ]
  },
  {
   "cell_type": "code",
   "execution_count": null,
   "id": "d92829d0-ffec-4dc4-bee5-4db49cca8c6f",
   "metadata": {},
   "outputs": [],
   "source": [
    "\"\".join(words)"
   ]
  },
  {
   "cell_type": "code",
   "execution_count": null,
   "id": "3ec1fce4-a192-4569-b3a0-2b38c56c2b80",
   "metadata": {},
   "outputs": [],
   "source": [
    "\"_\".join(words)"
   ]
  },
  {
   "cell_type": "code",
   "execution_count": null,
   "id": "55000098-ae15-4819-97e0-c2674be8cd2f",
   "metadata": {},
   "outputs": [],
   "source": [
    "\" \".join(words)"
   ]
  },
  {
   "cell_type": "code",
   "execution_count": null,
   "id": "b7a12cb5-41b6-41c7-8cb8-d291fc04e1c5",
   "metadata": {},
   "outputs": [],
   "source": [
    "x = \"125,000\""
   ]
  },
  {
   "cell_type": "code",
   "execution_count": null,
   "id": "f58d498e-ee71-4afb-86eb-1280401108b5",
   "metadata": {},
   "outputs": [],
   "source": [
    "dir(str)"
   ]
  },
  {
   "cell_type": "code",
   "execution_count": null,
   "id": "dafab39d-f383-47af-b3c4-130009c5ffb1",
   "metadata": {},
   "outputs": [],
   "source": [
    "x.isnumeric() "
   ]
  },
  {
   "cell_type": "code",
   "execution_count": null,
   "id": "86909b77-4669-48f2-81ff-829f03ef0a42",
   "metadata": {},
   "outputs": [],
   "source": [
    "y = \"0123456789\"\n",
    "y.isnumeric()"
   ]
  },
  {
   "cell_type": "code",
   "execution_count": null,
   "id": "99d7bf91-a004-4c0e-9e57-dcc9651bcf22",
   "metadata": {},
   "outputs": [],
   "source": [
    "y.isdigit()"
   ]
  },
  {
   "cell_type": "code",
   "execution_count": null,
   "id": "042135d9-cf1c-4dac-be2b-b3a8e65cb309",
   "metadata": {},
   "outputs": [],
   "source": [
    "x.isdigit()"
   ]
  },
  {
   "cell_type": "markdown",
   "id": "e27e64a5-a880-4caa-81be-a16f47676e38",
   "metadata": {},
   "source": [
    "**_See the dir(str) and help() for more operations_**"
   ]
  },
  {
   "cell_type": "code",
   "execution_count": null,
   "id": "65155dc0-7190-463f-856c-0209e4f4d9c4",
   "metadata": {},
   "outputs": [],
   "source": [
    "help(x.isnumeric)"
   ]
  },
  {
   "cell_type": "code",
   "execution_count": null,
   "id": "7ca69879-1406-48d0-9ae8-0587c2ead34e",
   "metadata": {},
   "outputs": [],
   "source": [
    "help(x.isdigit)"
   ]
  },
  {
   "cell_type": "markdown",
   "id": "301a6b5e-3dd3-4acd-85db-b32e15e8d366",
   "metadata": {},
   "source": [
    "# **Sets**\n",
    "---"
   ]
  },
  {
   "cell_type": "markdown",
   "id": "21f5303f-2409-4266-be9c-0698a9ad4d26",
   "metadata": {},
   "source": [
    "**Sets are unordered collection of distinct hashable objects**"
   ]
  },
  {
   "cell_type": "markdown",
   "id": "7742a38e-6ff1-48e1-8379-67977fb51178",
   "metadata": {},
   "source": [
    "Hashable means sets can be used for immutable objects like **numbers, strings** but not for mutable objects like **lists or dictionaries**"
   ]
  },
  {
   "cell_type": "markdown",
   "id": "03fa4fcd-f4d5-4e47-bdc8-ea76225a18c2",
   "metadata": {},
   "source": [
    "There are 2 types of sets:   \n",
    "**Set   \n",
    "Frozen set**"
   ]
  },
  {
   "cell_type": "markdown",
   "id": "b777b15d-2ce4-4a77-9287-635a16692e6d",
   "metadata": {},
   "source": [
    "**A frozen set is not mutable once it has been created**   \n",
    "**A normal set is mutable**  "
   ]
  },
  {
   "cell_type": "markdown",
   "id": "fa2ef590-9f88-4c55-aa42-00403aab06cb",
   "metadata": {},
   "source": [
    "### **_Sets cannot be indexed_**\n",
    "### **_Elements in sets cannot be duplicated_**\n",
    "_Can only contain unique elements_"
   ]
  },
  {
   "cell_type": "code",
   "execution_count": null,
   "id": "1f3e48bb-57c5-4bdf-b59c-7f29bd3718a4",
   "metadata": {},
   "outputs": [],
   "source": [
    "IDs = set()  #creating an empty set"
   ]
  },
  {
   "cell_type": "code",
   "execution_count": null,
   "id": "427653c0-1604-4ead-90c3-d561eb4c7846",
   "metadata": {},
   "outputs": [],
   "source": [
    "IDs = set([\"A4\", \"A5\", \"B2\", \"B5\", \"A1\", \"A2\"])"
   ]
  },
  {
   "cell_type": "code",
   "execution_count": null,
   "id": "8d42d933-63e1-46b0-98e5-89ed94175499",
   "metadata": {},
   "outputs": [],
   "source": [
    "IDs"
   ]
  },
  {
   "cell_type": "code",
   "execution_count": null,
   "id": "a135f386-cfcb-4fb3-aba8-2882c64fc7fa",
   "metadata": {},
   "outputs": [],
   "source": [
    "len(IDs)"
   ]
  },
  {
   "cell_type": "code",
   "execution_count": null,
   "id": "5bfb8c8f-8f09-4220-b47a-f9c63ec777b1",
   "metadata": {},
   "outputs": [],
   "source": [
    "IDs.add(\"A3\")"
   ]
  },
  {
   "cell_type": "code",
   "execution_count": null,
   "id": "996b3cdd-35b9-49e1-b3ce-dbcf33077657",
   "metadata": {},
   "outputs": [],
   "source": [
    "IDs"
   ]
  },
  {
   "cell_type": "code",
   "execution_count": null,
   "id": "913ad644-a1b9-46a0-bc52-d8444d679eac",
   "metadata": {},
   "outputs": [],
   "source": [
    "len(IDs)"
   ]
  },
  {
   "cell_type": "markdown",
   "id": "f84ea538-c00f-4aee-8497-b76e4eea378e",
   "metadata": {},
   "source": [
    "## _The above set is a normal set, thus mutable!!_"
   ]
  },
  {
   "cell_type": "code",
   "execution_count": null,
   "id": "4dcdde7f-4f5d-4db4-adf4-53375698cc53",
   "metadata": {},
   "outputs": [],
   "source": [
    "IDs.add(\"A1\")"
   ]
  },
  {
   "cell_type": "code",
   "execution_count": null,
   "id": "e1aadbaa-f07c-48ff-b4ba-4b8b10f84c35",
   "metadata": {},
   "outputs": [],
   "source": [
    "IDs #no duplicates are allowed"
   ]
  },
  {
   "cell_type": "markdown",
   "id": "34dc8e49-1316-4019-a08e-6048d2281563",
   "metadata": {},
   "source": [
    "**.pop() is used to remove elements from sets**"
   ]
  },
  {
   "cell_type": "code",
   "execution_count": null,
   "id": "c40273bf-334e-4f6a-b08b-4904af51e4fd",
   "metadata": {},
   "outputs": [],
   "source": [
    "IDs.pop()"
   ]
  },
  {
   "cell_type": "code",
   "execution_count": null,
   "id": "f7ca2079-2695-4d86-b5b4-22a8b271db8a",
   "metadata": {},
   "outputs": [],
   "source": [
    "IDs.pop()"
   ]
  },
  {
   "cell_type": "code",
   "execution_count": null,
   "id": "52d3e80c-4f15-49b2-96ef-25a362db613b",
   "metadata": {},
   "outputs": [],
   "source": [
    "IDs #pop() has removed \"A5\" and \"A3\""
   ]
  },
  {
   "cell_type": "markdown",
   "id": "78e83fc3-eab9-4a33-a3ad-c950e05edc73",
   "metadata": {},
   "source": [
    "**.pop() removes an arbitrary element os the set!!**   "
   ]
  },
  {
   "cell_type": "code",
   "execution_count": null,
   "id": "fa2d1a82-17eb-47c1-9f4b-cb16239ce4a3",
   "metadata": {},
   "outputs": [],
   "source": [
    "Nums = set(range(0,10))"
   ]
  },
  {
   "cell_type": "code",
   "execution_count": null,
   "id": "d5efbdac-1fa3-4d46-85c5-27a4c53d39de",
   "metadata": {},
   "outputs": [],
   "source": [
    "Nums"
   ]
  },
  {
   "cell_type": "markdown",
   "id": "f0b19a7d-10ac-46db-bd35-0e5f080292f7",
   "metadata": {},
   "source": [
    "Imagine some of these numbers are males and females"
   ]
  },
  {
   "cell_type": "code",
   "execution_count": null,
   "id": "b42f3735-de8a-45cb-afd9-5f45edbe7228",
   "metadata": {},
   "outputs": [],
   "source": [
    "M = set([1,5,7,9])"
   ]
  },
  {
   "cell_type": "code",
   "execution_count": null,
   "id": "4d330c6f-e0a1-48da-8885-bd525ae58038",
   "metadata": {},
   "outputs": [],
   "source": [
    "F = set([0,2,3,4,6,8])"
   ]
  },
  {
   "cell_type": "code",
   "execution_count": null,
   "id": "3830b4dd-2c43-464a-95d0-e1e1b50ca629",
   "metadata": {},
   "outputs": [],
   "source": [
    "Females = Nums - M #mathematical set operations"
   ]
  },
  {
   "cell_type": "code",
   "execution_count": null,
   "id": "e79a7939-4c7a-4540-83e0-344910206dd8",
   "metadata": {},
   "outputs": [],
   "source": [
    "Females"
   ]
  },
  {
   "cell_type": "code",
   "execution_count": null,
   "id": "a8804156-7207-4446-bdc8-4b2173dce946",
   "metadata": {},
   "outputs": [],
   "source": [
    "F"
   ]
  },
  {
   "cell_type": "code",
   "execution_count": null,
   "id": "990b4892-aa8e-4ce6-b836-9eb29807c1f3",
   "metadata": {},
   "outputs": [],
   "source": [
    "type(Females)"
   ]
  },
  {
   "cell_type": "code",
   "execution_count": null,
   "id": "bb03ef0a-a65a-4ff2-abff-6dd778439876",
   "metadata": {},
   "outputs": [],
   "source": [
    "everyone = M | F #set union"
   ]
  },
  {
   "cell_type": "code",
   "execution_count": null,
   "id": "20a77b76-46ce-4b6b-8bba-8870a28eb239",
   "metadata": {},
   "outputs": [],
   "source": [
    "everyone"
   ]
  },
  {
   "cell_type": "code",
   "execution_count": null,
   "id": "88c7c69c-97ef-429e-96b4-230f9518eecf",
   "metadata": {},
   "outputs": [],
   "source": [
    "intersect = everyone & F #set intersect - common elements for both sets"
   ]
  },
  {
   "cell_type": "code",
   "execution_count": null,
   "id": "4beab8b6-4084-4cf7-b3b3-6f621380af41",
   "metadata": {},
   "outputs": [],
   "source": [
    "intersect"
   ]
  },
  {
   "cell_type": "code",
   "execution_count": null,
   "id": "20c722ea-6272-48a9-b4be-414e6a66577b",
   "metadata": {},
   "outputs": [],
   "source": [
    "word = \"antidisestablishmentarianism\""
   ]
  },
  {
   "cell_type": "code",
   "execution_count": null,
   "id": "8073d83d-073d-486e-999b-0fce20d06aa6",
   "metadata": {},
   "outputs": [],
   "source": [
    "letters = set(word)"
   ]
  },
  {
   "cell_type": "code",
   "execution_count": null,
   "id": "97253bce-cf0f-4390-8c4b-3475d313a9a7",
   "metadata": {},
   "outputs": [],
   "source": [
    "letters"
   ]
  },
  {
   "cell_type": "markdown",
   "id": "82a72c3d-d801-433c-b23a-1d058f8ebe9d",
   "metadata": {},
   "source": [
    "**Strings are sequences of characters, thus do not have to split them into alphabets (characters) before making a set!!**"
   ]
  },
  {
   "cell_type": "code",
   "execution_count": null,
   "id": "97682280-2ae8-49f2-bc73-9e05ab978d65",
   "metadata": {},
   "outputs": [],
   "source": [
    "len(letters)"
   ]
  },
  {
   "cell_type": "code",
   "execution_count": null,
   "id": "16a5fc9b-eb05-4061-875b-f60feaa06973",
   "metadata": {},
   "outputs": [],
   "source": [
    "x={1,2,3}\n",
    "y={2,3,4}"
   ]
  },
  {
   "cell_type": "code",
   "execution_count": null,
   "id": "1140c09e-a4f3-46e3-ac7b-27ba1360cbc8",
   "metadata": {},
   "outputs": [],
   "source": [
    "x - y #set difference operator"
   ]
  },
  {
   "cell_type": "code",
   "execution_count": null,
   "id": "94c041ae-7104-44e0-8ce8-e4ba41054df0",
   "metadata": {},
   "outputs": [],
   "source": [
    "y - x"
   ]
  },
  {
   "cell_type": "code",
   "execution_count": null,
   "id": "5f5df790-a08f-431d-b89b-b0d99059c4b3",
   "metadata": {},
   "outputs": [],
   "source": [
    "y.difference(x) #equivalent to y - x"
   ]
  },
  {
   "cell_type": "code",
   "execution_count": null,
   "id": "1a63f33e-ec58-48bd-b9fa-d7d531ee7c71",
   "metadata": {},
   "outputs": [],
   "source": [
    "x.difference(y) #equivalent to x - y"
   ]
  },
  {
   "cell_type": "code",
   "execution_count": null,
   "id": "084f2978-975d-4a49-a37d-30739480a484",
   "metadata": {},
   "outputs": [],
   "source": [
    "x={1,2,3} \n",
    "y={2,3,4}"
   ]
  },
  {
   "cell_type": "code",
   "execution_count": null,
   "id": "cf0b2294-2708-4918-950a-a025b45e6584",
   "metadata": {},
   "outputs": [],
   "source": [
    "x | y #set union"
   ]
  },
  {
   "cell_type": "code",
   "execution_count": null,
   "id": "7123ed55-5733-4bd8-bee1-0146ab2547e8",
   "metadata": {},
   "outputs": [],
   "source": [
    "x & y #set intersect"
   ]
  },
  {
   "cell_type": "code",
   "execution_count": null,
   "id": "a9d147ec-a72c-4ae7-a255-8d92f4b4ce4a",
   "metadata": {},
   "outputs": [],
   "source": [
    "x.intersection(y) #equivalent to x & y"
   ]
  },
  {
   "cell_type": "code",
   "execution_count": null,
   "id": "2a61bd88-9d17-4275-b394-7e7a01a73948",
   "metadata": {},
   "outputs": [],
   "source": [
    "y.intersection(x)"
   ]
  },
  {
   "cell_type": "markdown",
   "id": "f4883c27-201b-4dfa-8402-34b91b06b1fc",
   "metadata": {},
   "source": [
    "**Set symmetric difference**"
   ]
  },
  {
   "cell_type": "code",
   "execution_count": null,
   "id": "972cce42-2b28-4530-a185-56168f0f1959",
   "metadata": {},
   "outputs": [],
   "source": [
    "x = set([1,2,3,4,5,6])\n",
    "y = set([4,5,6,7,8,9])"
   ]
  },
  {
   "cell_type": "code",
   "execution_count": null,
   "id": "f96cf27d-5416-4098-bce3-ac52a1cbfb47",
   "metadata": {},
   "outputs": [],
   "source": [
    "x ^ y #symmetric difference"
   ]
  },
  {
   "cell_type": "code",
   "execution_count": null,
   "id": "1c0408c6-963a-4e58-90d3-4e21bae61d88",
   "metadata": {},
   "outputs": [],
   "source": [
    "(x | y) - (x & y) #symmetric difference"
   ]
  },
  {
   "cell_type": "code",
   "execution_count": null,
   "id": "384c1230-df95-4525-9dcf-d7959ac522c2",
   "metadata": {},
   "outputs": [],
   "source": [
    "x={1,2,3}\n",
    "y={2,3,4}"
   ]
  },
  {
   "cell_type": "code",
   "execution_count": null,
   "id": "a47dd6ab-9b17-4ae5-9f2a-7391b5802939",
   "metadata": {},
   "outputs": [],
   "source": [
    "x ^ y"
   ]
  },
  {
   "cell_type": "code",
   "execution_count": null,
   "id": "250ed726-1ce2-4fac-b049-ebf76d64e821",
   "metadata": {},
   "outputs": [],
   "source": [
    "x.symmetric_difference(y)"
   ]
  },
  {
   "cell_type": "code",
   "execution_count": null,
   "id": "3991dfa6-8a0b-4de3-b9fb-3eb392281c49",
   "metadata": {},
   "outputs": [],
   "source": [
    "y.symmetric_difference(x)"
   ]
  },
  {
   "cell_type": "markdown",
   "id": "892d8049-c453-45cc-a1b8-ddd1be94adc3",
   "metadata": {},
   "source": [
    "add() - Adds an element to the set\n",
    "\n",
    "clear() - Removes all elements from the set\n",
    "\n",
    "copy() - Returns a copy of the set\n",
    "\n",
    "difference() - Returns the difference of two or more sets as a new set\n",
    "\n",
    "difference_update() - Removes all elements of another set from this set\n",
    "\n",
    "discard() - Removes an element from the set if it is a member. (Do nothing if the element is not in set)\n",
    "\n",
    "intersection() - Returns the intersection of two sets as a new set\n",
    "\n",
    "intersection_update() - Updates the set with the intersection of itself and another\n",
    "\n",
    "isdisjoint() - Returns True if two sets have a null intersection\n",
    "\n",
    "issubset() - Returns True if another set contains this set\n",
    "\n",
    "issuperset() - Returns True if this set contains another set\n",
    "\n",
    "pop() - Removes and returns an arbitrary set element. Raises KeyError if the set is empty\n",
    "\n",
    "remove() - Removes an element from the set. If the element is not a member, raises a KeyError \n",
    "                    \n",
    "symmetric_difference() - Returns the symmetric difference of two sets as a new set\n",
    "\n",
    "symmetric_difference_update() - Updates a set with the symmetric difference of itself and another\n",
    "\n",
    "union() - Returns the union of sets in a new set\n",
    "\n",
    "update() - Updates the set with the union of itself and others"
   ]
  },
  {
   "cell_type": "code",
   "execution_count": null,
   "id": "bcf2d55a-0241-45df-bea5-10b69b11186b",
   "metadata": {},
   "outputs": [],
   "source": [
    "x={1,2,3} \n",
    "y={2,3,4}"
   ]
  },
  {
   "cell_type": "code",
   "execution_count": null,
   "id": "554283c2-6779-46a8-9abc-f93f932c61e7",
   "metadata": {},
   "outputs": [],
   "source": [
    "x.issubset(y)"
   ]
  },
  {
   "cell_type": "code",
   "execution_count": null,
   "id": "9c321a6a-724a-4d24-b27d-e83c330150ee",
   "metadata": {},
   "outputs": [],
   "source": [
    "help(x.issubset)"
   ]
  },
  {
   "cell_type": "code",
   "execution_count": null,
   "id": "a01eec8f-4ee6-4e34-828b-579e94035957",
   "metadata": {},
   "outputs": [],
   "source": [
    "x in y"
   ]
  },
  {
   "cell_type": "code",
   "execution_count": null,
   "id": "04e89219-4e6b-4590-b2c3-8fd6b927fe34",
   "metadata": {},
   "outputs": [],
   "source": [
    "y in x"
   ]
  },
  {
   "cell_type": "markdown",
   "id": "e4166ba4-1232-41a7-8a80-2bc76210c12f",
   "metadata": {},
   "source": [
    "## **Frozensets**"
   ]
  },
  {
   "cell_type": "code",
   "execution_count": null,
   "id": "8dca5316-a8da-45fa-8ae7-2296004186d5",
   "metadata": {},
   "outputs": [],
   "source": [
    "x = frozenset([\"A\",\"B\",\"V\",\"x\",\"T\"])"
   ]
  },
  {
   "cell_type": "code",
   "execution_count": null,
   "id": "dcfa9185-bc82-4e09-b4f0-1ae323546b1a",
   "metadata": {},
   "outputs": [],
   "source": [
    "x"
   ]
  },
  {
   "cell_type": "code",
   "execution_count": null,
   "id": "5388c771-cbb9-4b0f-9d7e-dd334edfac25",
   "metadata": {},
   "outputs": [],
   "source": [
    "type(x)"
   ]
  },
  {
   "cell_type": "code",
   "execution_count": null,
   "id": "c044532c-f628-4d6a-9814-7be934a8596c",
   "metadata": {},
   "outputs": [],
   "source": [
    "x.pop()  #frozenset object has no attribute 'pop'\n"
   ]
  },
  {
   "cell_type": "code",
   "execution_count": null,
   "id": "22a65ba4-9cf0-4881-ba85-5cca901398c2",
   "metadata": {},
   "outputs": [],
   "source": [
    "x.add(\"Y\")  #frozenset object has no attribute 'add'"
   ]
  },
  {
   "cell_type": "markdown",
   "id": "6099edf8-9922-466c-ad36-3e148c353263",
   "metadata": {},
   "source": [
    "## **Dictionaries**"
   ]
  },
  {
   "cell_type": "markdown",
   "id": "678aff37-c0f7-44a2-a079-e41f0b51369f",
   "metadata": {},
   "source": [
    "**Dictionaries are mappings from key objects to value objects.   \n",
    "Dictionaries consist of key:value pairs   \n",
    "Key object must be immutable   \n",
    "Values can be anything   \n",
    "Dictionaries themselves are mutable**\n"
   ]
  },
  {
   "cell_type": "markdown",
   "id": "82ecbadb-a546-4975-8718-2caced86b5ef",
   "metadata": {},
   "source": [
    "**Dictionaries are not sequences!   \n",
    "They do not have any type of left/right order   \n",
    "i.e they have paired keys and their cognate values but these pairs are not arranged in an order   \n",
    "When looping over a dictionary key:value pairs will be iterated in an arbitrary order**"
   ]
  },
  {
   "cell_type": "code",
   "execution_count": null,
   "id": "a2bbb8df-1964-4f44-8de7-d4b70ce52873",
   "metadata": {},
   "outputs": [],
   "source": [
    "age = {} #creates an empty dict\n",
    "#not a set, sets are defined outside lists e.g s = set([])"
   ]
  },
  {
   "cell_type": "code",
   "execution_count": null,
   "id": "e7625075-b9f8-4d64-b637-2e8f58c940bc",
   "metadata": {},
   "outputs": [],
   "source": [
    "type(age)"
   ]
  },
  {
   "cell_type": "code",
   "execution_count": null,
   "id": "0c701aba-7af5-42f6-9adb-752032c09f67",
   "metadata": {},
   "outputs": [],
   "source": [
    "AGE = dict() #creates an empty dict"
   ]
  },
  {
   "cell_type": "code",
   "execution_count": null,
   "id": "03f7cd4b-7e8b-4e0a-9ba0-8dd8f2600050",
   "metadata": {},
   "outputs": [],
   "source": [
    "type(AGE)"
   ]
  },
  {
   "cell_type": "code",
   "execution_count": null,
   "id": "ce66961d-8b3d-4dce-a5c8-eedbbf02029c",
   "metadata": {},
   "outputs": [],
   "source": [
    "age"
   ]
  },
  {
   "cell_type": "code",
   "execution_count": null,
   "id": "3bedc2f7-637c-40a6-8636-d09f619cc751",
   "metadata": {},
   "outputs": [],
   "source": [
    "AGE"
   ]
  },
  {
   "cell_type": "code",
   "execution_count": null,
   "id": "b72cf5f7-ee94-48f7-a6b3-4130d635be94",
   "metadata": {},
   "outputs": [],
   "source": [
    "age = {\"Tim\":23, \"Tom\":31, \"Leslie\":19, \"John\":41, \"Kayle\":28, \"Rozanne\":34, \"Sarah\":47, \"Sydney\":33}"
   ]
  },
  {
   "cell_type": "code",
   "execution_count": null,
   "id": "009d4584-a2fe-4f97-966b-00f3a8b3f1da",
   "metadata": {},
   "outputs": [],
   "source": [
    "type(age)"
   ]
  },
  {
   "cell_type": "markdown",
   "id": "3fab769e-1aa1-411e-bd33-bd852025bccf",
   "metadata": {},
   "source": [
    "**Looking up dictionaries**"
   ]
  },
  {
   "cell_type": "code",
   "execution_count": null,
   "id": "7ef9d4a1-5586-4fc0-ae45-fbc90a1f630a",
   "metadata": {},
   "outputs": [],
   "source": [
    "age[\"Tom\"]"
   ]
  },
  {
   "cell_type": "code",
   "execution_count": null,
   "id": "f39b284d-2efe-403d-9c06-26428982cf01",
   "metadata": {},
   "outputs": [],
   "source": [
    "age[\"Leslie\"]"
   ]
  },
  {
   "cell_type": "code",
   "execution_count": null,
   "id": "e7a3cab9-88d1-4a93-aece-ed60a2f88c65",
   "metadata": {},
   "outputs": [],
   "source": [
    "age[\"Sarah\"]"
   ]
  },
  {
   "cell_type": "markdown",
   "id": "77e2aa38-79f2-4284-ad0b-651325fd3837",
   "metadata": {},
   "source": [
    "**Modifying values**"
   ]
  },
  {
   "cell_type": "code",
   "execution_count": null,
   "id": "7d204baa-b273-4ac8-a525-d2ca463a06be",
   "metadata": {},
   "outputs": [],
   "source": [
    "age[\"John\"] = 42"
   ]
  },
  {
   "cell_type": "code",
   "execution_count": null,
   "id": "a31babbd-ff57-4814-b838-6ae53456b276",
   "metadata": {},
   "outputs": [],
   "source": [
    "age"
   ]
  },
  {
   "cell_type": "code",
   "execution_count": null,
   "id": "5e1440d6-1ef3-4068-bf35-2eee6ab7d5d9",
   "metadata": {},
   "outputs": [],
   "source": [
    "age[\"Sarah\"] = age[\"Leslie\"] + 29"
   ]
  },
  {
   "cell_type": "code",
   "execution_count": null,
   "id": "907071e1-553c-4400-9c24-27394711cebb",
   "metadata": {},
   "outputs": [],
   "source": [
    "age[\"Sarah\"] #19+29"
   ]
  },
  {
   "cell_type": "code",
   "execution_count": null,
   "id": "4ada9248-8c0f-4d14-bcf3-26058417fc32",
   "metadata": {},
   "outputs": [],
   "source": [
    "age[\"Kayle\"] = age[\"Kayle\"] + 12"
   ]
  },
  {
   "cell_type": "code",
   "execution_count": null,
   "id": "100d93f3-6c9a-4cdb-8629-12f840601198",
   "metadata": {},
   "outputs": [],
   "source": [
    "age[\"Kayle\"] #28+12"
   ]
  },
  {
   "cell_type": "markdown",
   "id": "d30a6f80-e518-4410-829c-8b31df907172",
   "metadata": {},
   "source": [
    " The **_+=_** operator   \n",
    " **Means:    \n",
    " Add the value on right to variable on left and reassign the new value to the variable on left**"
   ]
  },
  {
   "cell_type": "code",
   "execution_count": null,
   "id": "52934c18-f38b-48e0-ae31-3b5e5b44201f",
   "metadata": {},
   "outputs": [],
   "source": [
    "x = 10\n",
    "x += 0.75 # x = x + 0.75"
   ]
  },
  {
   "cell_type": "code",
   "execution_count": null,
   "id": "b3f2c3e0-9cbc-4ba4-9c5f-f09927bad8ad",
   "metadata": {},
   "outputs": [],
   "source": [
    "x"
   ]
  },
  {
   "cell_type": "code",
   "execution_count": null,
   "id": "a74129b2-d278-4a2c-8ade-fa83c356b3d4",
   "metadata": {},
   "outputs": [],
   "source": [
    "age[\"Tom\"] += 4"
   ]
  },
  {
   "cell_type": "code",
   "execution_count": null,
   "id": "933f96f8-eb8f-4f30-91ea-a77f00031931",
   "metadata": {},
   "outputs": [],
   "source": [
    "age[\"Tom\"]"
   ]
  },
  {
   "cell_type": "code",
   "execution_count": null,
   "id": "c7178116-37b7-4589-9c44-c3fc5e4c9853",
   "metadata": {},
   "outputs": [],
   "source": [
    "age[\"Rozanne\"]"
   ]
  },
  {
   "cell_type": "code",
   "execution_count": null,
   "id": "ea68f3aa-22c3-4985-9ce0-9aca491bb4f7",
   "metadata": {},
   "outputs": [],
   "source": [
    "age[\"Rozanne\"] -= 4  #age[\"Rozanne\"] = age[\"Rozanne\"] - 4"
   ]
  },
  {
   "cell_type": "code",
   "execution_count": null,
   "id": "bcff0a8f-f88a-442a-b2d5-9e319330c1d2",
   "metadata": {},
   "outputs": [],
   "source": [
    "age[\"Rozanne\"]"
   ]
  },
  {
   "cell_type": "markdown",
   "id": "f4c5eb5f-f5aa-45e5-bd9e-a598d85af9c0",
   "metadata": {},
   "source": [
    "### **=+ or =- have very different meanings**"
   ]
  },
  {
   "cell_type": "code",
   "execution_count": null,
   "id": "6ba632c3-22e7-41bc-8406-6ab3e33cd150",
   "metadata": {},
   "outputs": [],
   "source": [
    "x = 100"
   ]
  },
  {
   "cell_type": "code",
   "execution_count": null,
   "id": "6082ea69-fe14-49b8-91c9-536a22fef03b",
   "metadata": {},
   "outputs": [],
   "source": [
    "x =- 10  #just means x = -10, just assigns a new value to the variable"
   ]
  },
  {
   "cell_type": "code",
   "execution_count": null,
   "id": "8c2ffa19-4603-4db5-b6f7-cfea94a8f464",
   "metadata": {},
   "outputs": [],
   "source": [
    "x"
   ]
  },
  {
   "cell_type": "code",
   "execution_count": null,
   "id": "7edc67c9-7cf5-4803-ac5f-32604a929954",
   "metadata": {},
   "outputs": [],
   "source": [
    "y = 159"
   ]
  },
  {
   "cell_type": "code",
   "execution_count": null,
   "id": "00fcf75f-91ad-4199-9ae9-58d9791f16fd",
   "metadata": {},
   "outputs": [],
   "source": [
    "y =+ 1"
   ]
  },
  {
   "cell_type": "code",
   "execution_count": null,
   "id": "7bb6ac0d-e75f-45ec-a4cf-81ceaaeb10bd",
   "metadata": {},
   "outputs": [],
   "source": [
    "y"
   ]
  },
  {
   "cell_type": "code",
   "execution_count": null,
   "id": "d9e0d031-f2ed-4cef-ab86-f3960e6ee091",
   "metadata": {},
   "outputs": [],
   "source": [
    "age.keys()"
   ]
  },
  {
   "cell_type": "code",
   "execution_count": null,
   "id": "be4f2d5e-fdfa-470e-82e1-3befbe1f8261",
   "metadata": {},
   "outputs": [],
   "source": [
    "names = age.keys()"
   ]
  },
  {
   "cell_type": "code",
   "execution_count": null,
   "id": "ea952fb2-7ef0-495b-8787-c82f51db49dd",
   "metadata": {},
   "outputs": [],
   "source": [
    "type(names)"
   ]
  },
  {
   "cell_type": "markdown",
   "id": "b67f4765-1db5-4aed-8290-72180b44b939",
   "metadata": {},
   "source": [
    ".keys() and .values() functions return a special type of object; **view object**   "
   ]
  },
  {
   "cell_type": "code",
   "execution_count": null,
   "id": "58761ac2-5e77-4ad5-9f52-a2c1809fd8f4",
   "metadata": {},
   "outputs": [],
   "source": [
    "age.values()"
   ]
  },
  {
   "cell_type": "code",
   "execution_count": null,
   "id": "44c1fe51-d987-4eeb-aaa0-69a11870ee4d",
   "metadata": {},
   "outputs": [],
   "source": [
    "ages = age.values()"
   ]
  },
  {
   "cell_type": "code",
   "execution_count": null,
   "id": "0fff7e2c-ee75-47ae-9c0b-26e4acc459de",
   "metadata": {},
   "outputs": [],
   "source": [
    "ages"
   ]
  },
  {
   "cell_type": "code",
   "execution_count": null,
   "id": "30000e4e-26fe-4d2e-b949-36c47f812e3f",
   "metadata": {},
   "outputs": [],
   "source": [
    "type(ages)"
   ]
  },
  {
   "cell_type": "markdown",
   "id": "ce1d57d6-3d05-48ec-8751-c2366cc8943c",
   "metadata": {},
   "source": [
    "**_As the dictionary is modified, the view object will also change accordingly_**"
   ]
  },
  {
   "cell_type": "markdown",
   "id": "ea29d375-d941-43a6-88e0-494d39e89f0f",
   "metadata": {},
   "source": [
    "**Testing memberships in dicts**"
   ]
  },
  {
   "cell_type": "code",
   "execution_count": null,
   "id": "1a6f3926-0ef7-4875-ae7b-88a64cddaec6",
   "metadata": {},
   "outputs": [],
   "source": [
    "\"Tom\" in age"
   ]
  },
  {
   "cell_type": "code",
   "execution_count": null,
   "id": "6a295e40-f37e-4491-b95b-e229e9173795",
   "metadata": {},
   "outputs": [],
   "source": [
    "\"Sophie\" in age"
   ]
  },
  {
   "cell_type": "markdown",
   "id": "7ae7d80d-0041-4eca-a2a9-2c1bb975967e",
   "metadata": {},
   "source": [
    "### **Dictionary elements maintain an order; the order they were added to the dictionary**"
   ]
  },
  {
   "cell_type": "markdown",
   "id": "83cd7c0d-e8de-4d0a-9182-3cbbc1380beb",
   "metadata": {},
   "source": [
    "**Types of data**   \n",
    "Types inform the computer momory to read the binaries in chunks of eg. 32 bits    \n",
    "and what that binary chunk represents eg. an integer/string/floating point/piece of mucic    \n",
    "\n",
    "**If the program expects a floating point and you provide an integer there won't be issues since integers are a subset of floats!!!**    \n",
    "But when a program expects an integer, and a float is provided some information might be lost...     "
   ]
  },
  {
   "cell_type": "markdown",
   "id": "817ec435-4fe4-4113-a58e-eb7f0cb56364",
   "metadata": {},
   "source": [
    "Some languages are statically typed eg. C, C++    \n",
    "Here type checking is done during compile time     \n",
    "In dynamically typed languages like R and Python type checking is done at runtime   "
   ]
  },
  {
   "cell_type": "markdown",
   "id": "673eabdc-343b-460c-a541-d4dbeaa6691a",
   "metadata": {},
   "source": [
    "When we say `x = 3` in Python how does Python knows its an integer    \n",
    "There are 3 important concepts:             \n",
    "                 1.Variable       \n",
    "        2.Object        \n",
    "        3.Reference        "
   ]
  },
  {
   "cell_type": "markdown",
   "id": "c67045a8-f36c-4ff9-a3b0-1dfdce74489a",
   "metadata": {},
   "source": [
    "`x = 3`     \n",
    "**First Python creates an object; the number 3   \n",
    "Secondly, Python creates variable name; x   \n",
    "Lastly the variable name will be referenced to the object! x --> 3**"
   ]
  },
  {
   "cell_type": "markdown",
   "id": "37a3cbda-5892-4e6d-8a50-ec9578927abe",
   "metadata": {},
   "source": [
    "Variable names always link to objects, never to other variables!!   \n",
    "A variable is thus, a reference to the given object!   "
   ]
  },
  {
   "cell_type": "code",
   "execution_count": null,
   "id": "c6985130-b998-40c7-9481-5cc74edc9853",
   "metadata": {},
   "outputs": [],
   "source": [
    "x = 3\n",
    "y = x\n",
    "y = y - 1"
   ]
  },
  {
   "cell_type": "markdown",
   "id": "471e3293-d300-4f4e-badb-599db46d4d97",
   "metadata": {},
   "source": [
    "`x = 3`   \n",
    "First, object 3 is created     \n",
    "Then the variable name x is created   \n",
    "Then the variable name x is referenced to the object 3      \n",
    "       \n",
    "`y = x`     \n",
    "Here the object x already exists   \n",
    "Then a variable name y is created   \n",
    "Then the variable name **_y is referenced to the object variable name x is currently referencing!!_**    \n",
    "**A variable name cannot reference another variable, but only an object!!**   \n",
    "              \n",
    "`y = y - 1`    \n",
    "Python firstly looks at y; referenced to number 3     \n",
    "Since numbers (integers) are immutable, a new object has to be created **i.e. the number 2**   \n",
    "**It cannot simply substract 1 from 3**\n",
    "But the variable name y already exists in the computer's memory    \n",
    "**So, Python removes the y --> 3 reference, and creates a new reference; y --> 2**   \n",
    "\n",
    "**Once all these 3 lines of code are run;    \n",
    "`x = 3`    \n",
    "`y = 2`**   "
   ]
  },
  {
   "cell_type": "code",
   "execution_count": null,
   "id": "aff13280-9625-4802-9bac-0c2e157fbf5f",
   "metadata": {},
   "outputs": [],
   "source": [
    "print(x,y)"
   ]
  },
  {
   "cell_type": "markdown",
   "id": "c7d3ad70-d4db-4f62-98cd-fda57ca53884",
   "metadata": {},
   "source": [
    "### **Dynamic typing of mutable objects**    \n",
    "----"
   ]
  },
  {
   "cell_type": "code",
   "execution_count": null,
   "id": "c81aff06-1974-42c6-ac86-44200bd560df",
   "metadata": {},
   "outputs": [],
   "source": [
    "l1 = [2,3,4,5]\n",
    "l2 = l1\n",
    "l1[0] = 24"
   ]
  },
  {
   "cell_type": "markdown",
   "id": "cee377c3-c085-4445-a6fd-09a0bb038257",
   "metadata": {},
   "source": [
    "`li = [2,3,4,5]`   \n",
    "First the object is created   **[2,3,4,5]**   \n",
    "Then the variable name l1 is created    \n",
    "Then l1 is referenced to the list [2,3,4,5]    \n",
    "          \n",
    "`l2 = l1`    \n",
    "The object l1 already exists and references the list   \n",
    "Thus, as second step a new variable name l2 is created    \n",
    "And l2 is referenced to the object l1 is currently referencing to!    \n",
    "**At this stage `l1 = [2,3,4,5]`, `l2 = [2,3,4,5]`**      \n",
    "\n",
    "`l1[0] = 24`    \n",
    "Means l1 at index 0 equals 24!   \n",
    "Here the first element of the list i.e 2 is changed as 24!!   \n",
    "### **However both l1 and l2 were pointing to the same list i.e reference the very same list object [2,3,4,5], now that that the reference object has been modified both l1 and l2 become modified!!**\n"
   ]
  },
  {
   "cell_type": "code",
   "execution_count": null,
   "id": "10a6ff31-9bb0-41a5-94e0-1262bab40d10",
   "metadata": {},
   "outputs": [],
   "source": [
    "print(l1, l2)"
   ]
  },
  {
   "cell_type": "markdown",
   "id": "4bf3dd70-5b49-4af2-8152-f0f16aec14b6",
   "metadata": {},
   "source": [
    "### **Each object in Python has a type, value and an identity**    \n",
    "**Mutable objects can have identical contents, and yet be different objects**   "
   ]
  },
  {
   "cell_type": "code",
   "execution_count": null,
   "id": "d3d67749-2810-47ba-a731-e4ba32d8f80c",
   "metadata": {},
   "outputs": [],
   "source": [
    "l = [1,2,3]\n",
    "m = [1,2,3]"
   ]
  },
  {
   "cell_type": "code",
   "execution_count": null,
   "id": "d37393aa-a28e-4193-b92a-8203f668d3a8",
   "metadata": {},
   "outputs": [],
   "source": [
    "l == m  #identical elements in identical sequences"
   ]
  },
  {
   "cell_type": "markdown",
   "id": "69b9c144-4e75-45e3-a7bb-40b2405afbf7",
   "metadata": {},
   "source": [
    "#### **When comparing lists comparison is carried out element wise! nth element in l is compared with the nth element in m, so on and so forth!**    \n",
    "Here the contents of these two lists are identical and in identical sequence,  \n",
    "therefore, `l == m` returns `True`   "
   ]
  },
  {
   "cell_type": "code",
   "execution_count": null,
   "id": "f5f1d609-7c13-4339-9395-72715c698636",
   "metadata": {},
   "outputs": [],
   "source": [
    "l is m"
   ]
  },
  {
   "cell_type": "markdown",
   "id": "3c0fdd6f-2029-497e-bcc0-3faf5eaebbb8",
   "metadata": {
    "tags": []
   },
   "source": [
    "#### **Here `l is m`  means is l is the same as m? meaning, do the variable names l and m reference the same object?**   \n",
    "**NO**"
   ]
  },
  {
   "cell_type": "markdown",
   "id": "6ef622c9-a2bc-4ebd-a9da-3907e438a23c",
   "metadata": {},
   "source": [
    "`id()` returns the identity of an object  \n",
    "**i.e its location in the physical memory**"
   ]
  },
  {
   "cell_type": "code",
   "execution_count": null,
   "id": "40115e5c-ad39-4c51-92d7-1f684b4a3f50",
   "metadata": {},
   "outputs": [],
   "source": [
    "id(l)"
   ]
  },
  {
   "cell_type": "code",
   "execution_count": null,
   "id": "03c1df1d-eae5-43fd-9d1c-2e657f826233",
   "metadata": {},
   "outputs": [],
   "source": [
    "id(m)"
   ]
  },
  {
   "cell_type": "markdown",
   "id": "9819e2ba-ba3a-4d3e-9fe5-e5545d7ec62a",
   "metadata": {},
   "source": [
    "### **Different locations!**"
   ]
  },
  {
   "cell_type": "code",
   "execution_count": null,
   "id": "06fdae1b-2c67-48d9-99c8-b8ea9957b4a6",
   "metadata": {},
   "outputs": [],
   "source": [
    "id(l) == id(m)"
   ]
  },
  {
   "cell_type": "code",
   "execution_count": null,
   "id": "e504cf31-61c3-4701-b377-2e079288630b",
   "metadata": {},
   "outputs": [],
   "source": [
    "a = [2,4, (3, \"HI\"), (\"Jose\", \"Leslie\", \"Julia\"), 89]\n",
    "b = a"
   ]
  },
  {
   "cell_type": "code",
   "execution_count": null,
   "id": "199a17e1-b5f5-4ef6-a3f7-4e9b15cc4605",
   "metadata": {},
   "outputs": [],
   "source": [
    "a == b  #identical elements in identical sequences"
   ]
  },
  {
   "cell_type": "code",
   "execution_count": null,
   "id": "7f2ccef6-752b-4e61-810a-abfecfc72a5f",
   "metadata": {},
   "outputs": [],
   "source": [
    "a is b  #both variable names a & b reference the same list object"
   ]
  },
  {
   "cell_type": "code",
   "execution_count": null,
   "id": "a835117c-4d8f-48ce-9181-23d920354b77",
   "metadata": {},
   "outputs": [],
   "source": [
    "print(id(a), id(b))"
   ]
  },
  {
   "cell_type": "code",
   "execution_count": null,
   "id": "186446a5-7878-49f7-b8b1-cca536e02bcc",
   "metadata": {},
   "outputs": [],
   "source": [
    "id(a) == id(b)"
   ]
  },
  {
   "cell_type": "code",
   "execution_count": null,
   "id": "de7ac0c9-328c-44d1-bdf9-fd9d9075ddf1",
   "metadata": {},
   "outputs": [],
   "source": [
    "c = [2,4, (3, \"HI\"), (\"Jose\", \"Leslie\", \"Julia\"), 89]"
   ]
  },
  {
   "cell_type": "code",
   "execution_count": null,
   "id": "00913af4-389e-4048-928f-4d4843b59c76",
   "metadata": {},
   "outputs": [],
   "source": [
    "a == b == c #identical"
   ]
  },
  {
   "cell_type": "code",
   "execution_count": null,
   "id": "636992cb-651e-45ae-be59-cbe0e4684927",
   "metadata": {},
   "outputs": [],
   "source": [
    "a is c"
   ]
  },
  {
   "cell_type": "code",
   "execution_count": null,
   "id": "64aba7df-9b8d-4c3c-9fff-193c22c63f29",
   "metadata": {},
   "outputs": [],
   "source": [
    "print(id(a), id(b), id(c))"
   ]
  },
  {
   "cell_type": "code",
   "execution_count": null,
   "id": "5210c4ca-62b0-4997-a82c-070f3bda6185",
   "metadata": {},
   "outputs": [],
   "source": [
    "id(c) == id(a)  #variable names a and c are referenced to identical objects in different momory locations\n",
    "#meaning referenced to different objects"
   ]
  },
  {
   "cell_type": "markdown",
   "id": "ddd716c9-92a2-4f82-9772-d6cd4c73f9dd",
   "metadata": {},
   "source": [
    "### **Creating copies of mutable objects**  "
   ]
  },
  {
   "cell_type": "code",
   "execution_count": null,
   "id": "db7a1e74-0e72-4d6b-92ad-d3555d10bc3d",
   "metadata": {},
   "outputs": [],
   "source": [
    "original_list = [\"John\", \"Jimmy\", \"Natalie\", \"Emma\"]"
   ]
  },
  {
   "cell_type": "markdown",
   "id": "55146c05-b18f-41da-9ea0-51cde8f35265",
   "metadata": {},
   "source": [
    "`original_list = copy_list`  wouldn't work since the variable copy_list will just reference the existing list object!!"
   ]
  },
  {
   "cell_type": "code",
   "execution_count": null,
   "id": "8bb7217c-35d2-4f87-ad77-5da9ae1106c8",
   "metadata": {},
   "outputs": [],
   "source": [
    "copy_list = list(original_list)"
   ]
  },
  {
   "cell_type": "markdown",
   "id": "f5f048df-24d3-40b1-b40c-d46927038df1",
   "metadata": {},
   "source": [
    "#### **Here the list object original_list already exists in computer memory, but `list(original_list)` will create a completely new object with identical elements in identical sequence!!**   \n",
    "**Then the new variable name `copy_list` is created and referenced to the newly copied list object!** "
   ]
  },
  {
   "cell_type": "code",
   "execution_count": null,
   "id": "10feb018-5495-4812-87ab-1976d46fd30b",
   "metadata": {},
   "outputs": [],
   "source": [
    "id(original_list)"
   ]
  },
  {
   "cell_type": "code",
   "execution_count": null,
   "id": "27925185-79fb-4348-a06e-d97ea114c7e2",
   "metadata": {},
   "outputs": [],
   "source": [
    "id(copy_list)"
   ]
  },
  {
   "cell_type": "code",
   "execution_count": null,
   "id": "f26c16d0-2971-4972-8484-a20bf4fa7371",
   "metadata": {},
   "outputs": [],
   "source": [
    "original_list == copy_list"
   ]
  },
  {
   "cell_type": "code",
   "execution_count": null,
   "id": "3f7e14bf-80cd-4425-8747-adfc0a9e13c0",
   "metadata": {},
   "outputs": [],
   "source": [
    "original_list is copy_list"
   ]
  },
  {
   "cell_type": "markdown",
   "id": "a7b5e5df-ad01-4844-bef0-a20d54ae4f1d",
   "metadata": {},
   "source": [
    "#### **Another way to create a copy of object is by using slicing syntax**"
   ]
  },
  {
   "cell_type": "code",
   "execution_count": null,
   "id": "4954fc41-e7ad-4b81-bba3-0c05ebf68f42",
   "metadata": {},
   "outputs": [],
   "source": [
    "sliced_list = original_list[:]"
   ]
  },
  {
   "cell_type": "code",
   "execution_count": null,
   "id": "367b3d7e-984b-48d6-8197-fb19fcf581ae",
   "metadata": {},
   "outputs": [],
   "source": [
    "sliced_list"
   ]
  },
  {
   "cell_type": "code",
   "execution_count": null,
   "id": "b2d90f32-44ed-4c6d-9861-bee7e79fbadb",
   "metadata": {},
   "outputs": [],
   "source": [
    "sliced_list == original_list"
   ]
  },
  {
   "cell_type": "code",
   "execution_count": null,
   "id": "a8c7c703-db4a-4b01-b8d0-46575c8dbdb2",
   "metadata": {},
   "outputs": [],
   "source": [
    "sliced_list is original_list"
   ]
  },
  {
   "cell_type": "code",
   "execution_count": null,
   "id": "29cd28d7-c70b-4760-8012-dd31d886d385",
   "metadata": {},
   "outputs": [],
   "source": [
    "print(id(sliced_list), id(original_list))"
   ]
  },
  {
   "cell_type": "markdown",
   "id": "83573691-37c4-4df6-89e3-dcaf6fb2698f",
   "metadata": {},
   "source": [
    "## **Copy**\n",
    "----"
   ]
  },
  {
   "cell_type": "markdown",
   "id": "8d2c0093-abcf-4eac-b5df-db6e9f4e0d46",
   "metadata": {},
   "source": [
    "Copy module in Python allows for creating copies of objects!   \n",
    "Two types of copies are available;     \n",
    "**A shallow copy - constructs a new compound object and then inserts refernce into it to the original object**    \n",
    "**A deep copy - constructs a new compound object and inserts copies of original object into it**       "
   ]
  },
  {
   "cell_type": "markdown",
   "id": "af19f8ed-eccf-42f2-bad5-9698d2049fee",
   "metadata": {},
   "source": [
    "**E.g. A compound object `X` has two elements `a` and `b`. a and b are referenced to two different objects in RAM.**    \n",
    "**A shallow copy creates a copy of X, say X' and references the elements of X to the corresponding indices of X'.**  \n",
    "     \n",
    "**A deep copy creates a copy of X, say X\" and inserts copies of the elements of X into corresponding indices of X\", thus X\" has its own elements separately allocated in physical memory.**      \n"
   ]
  },
  {
   "cell_type": "code",
   "execution_count": null,
   "id": "2644c234-9340-420c-b5dc-25747995244e",
   "metadata": {},
   "outputs": [],
   "source": [
    "import copy"
   ]
  },
  {
   "cell_type": "code",
   "execution_count": null,
   "id": "b6d65ff4-332d-4159-b468-076f0414ab82",
   "metadata": {},
   "outputs": [],
   "source": [
    "list_x = [1, [2]]"
   ]
  },
  {
   "cell_type": "code",
   "execution_count": null,
   "id": "db272df7-4e69-413f-bb07-4338b426be96",
   "metadata": {},
   "outputs": [],
   "source": [
    "list_y = copy.copy(list_x)  #in copy.copy() copy. is the module name and .copy() is the function like plt.plot()"
   ]
  },
  {
   "cell_type": "code",
   "execution_count": null,
   "id": "627127b2-8023-4649-a799-1a963fe2d2e1",
   "metadata": {},
   "outputs": [],
   "source": [
    "list_y"
   ]
  },
  {
   "cell_type": "code",
   "execution_count": null,
   "id": "55adf14b-1b05-4b4a-946e-01b65d100e21",
   "metadata": {},
   "outputs": [],
   "source": [
    "list_x == list_y"
   ]
  },
  {
   "cell_type": "code",
   "execution_count": null,
   "id": "e448915f-b79d-4939-bbc8-80b554070989",
   "metadata": {},
   "outputs": [],
   "source": [
    "list_x is list_y "
   ]
  },
  {
   "cell_type": "code",
   "execution_count": null,
   "id": "4b54c7fe-f495-4ca0-87d3-c8b6ebbd31d7",
   "metadata": {},
   "outputs": [],
   "source": [
    "list_z = copy.deepcopy(list_x)"
   ]
  },
  {
   "cell_type": "code",
   "execution_count": null,
   "id": "9b2dc881-269d-4a0a-921e-cfb057f40613",
   "metadata": {},
   "outputs": [],
   "source": [
    "list_z"
   ]
  },
  {
   "cell_type": "code",
   "execution_count": null,
   "id": "d2121621-72ed-4c66-8085-dfd3656002e0",
   "metadata": {},
   "outputs": [],
   "source": [
    "list_z == list_x"
   ]
  },
  {
   "cell_type": "code",
   "execution_count": null,
   "id": "dc844635-3561-42a2-b107-41841fcf30ce",
   "metadata": {},
   "outputs": [],
   "source": [
    "list_x is list_z"
   ]
  },
  {
   "cell_type": "code",
   "execution_count": null,
   "id": "012da94d-ec0c-4bc7-9109-90a6dff2d6e1",
   "metadata": {},
   "outputs": [],
   "source": [
    "list_y is list_z"
   ]
  },
  {
   "cell_type": "code",
   "execution_count": null,
   "id": "637601e4-f442-491f-ad18-3c5adbaebbc1",
   "metadata": {},
   "outputs": [],
   "source": [
    "list_a = [\"Jose\", \"jailyene\", \"Martinez\", \"Sam\", \"Smithson\"]"
   ]
  },
  {
   "cell_type": "code",
   "execution_count": null,
   "id": "9c19228c-9b19-43d7-ad82-cef361444f67",
   "metadata": {},
   "outputs": [],
   "source": [
    "list_A = copy.copy(list_a)"
   ]
  },
  {
   "cell_type": "code",
   "execution_count": null,
   "id": "3f4cff87-6229-4aa5-a81a-13239a127754",
   "metadata": {},
   "outputs": [],
   "source": [
    "list_A"
   ]
  },
  {
   "cell_type": "code",
   "execution_count": null,
   "id": "a46bb64d-a378-431a-97b8-e2981750b5fe",
   "metadata": {},
   "outputs": [],
   "source": [
    "list_a[3] = \"Andrew\""
   ]
  },
  {
   "cell_type": "code",
   "execution_count": null,
   "id": "be6cdc28-ed46-4cdd-9e38-3d44ef7e7e2b",
   "metadata": {},
   "outputs": [],
   "source": [
    "list_a"
   ]
  },
  {
   "cell_type": "code",
   "execution_count": null,
   "id": "1054e50d-e19d-4547-9497-df5e527077d5",
   "metadata": {},
   "outputs": [],
   "source": [
    "list_A"
   ]
  },
  {
   "cell_type": "code",
   "execution_count": null,
   "id": "de67d1ef-9db6-447b-af1f-5a2a2e6b1a1a",
   "metadata": {},
   "outputs": [],
   "source": [
    "list_b = copy.deepcopy(list_a)"
   ]
  },
  {
   "cell_type": "code",
   "execution_count": null,
   "id": "f076ec93-12c1-4064-a775-1e3e94cff059",
   "metadata": {},
   "outputs": [],
   "source": [
    "list_b"
   ]
  },
  {
   "cell_type": "code",
   "execution_count": null,
   "id": "0f746c5a-d03a-4003-9219-c0ea612b300b",
   "metadata": {},
   "outputs": [],
   "source": [
    "list_a[0] = \"Jasmine\""
   ]
  },
  {
   "cell_type": "code",
   "execution_count": null,
   "id": "81f55ba5-5be9-4d86-9a77-276fd51022ad",
   "metadata": {},
   "outputs": [],
   "source": [
    "list_a"
   ]
  },
  {
   "cell_type": "code",
   "execution_count": null,
   "id": "61ca613f-7c56-4962-bc9f-f06f8d7cdb31",
   "metadata": {},
   "outputs": [],
   "source": [
    "list_b"
   ]
  },
  {
   "cell_type": "markdown",
   "id": "cb7eb981-69fc-4e4b-aac9-888eeb072eec",
   "metadata": {},
   "source": [
    "## **Statements**\n",
    "-----"
   ]
  },
  {
   "cell_type": "markdown",
   "id": "19918a33-85e8-4a9c-9dd8-e6fdf62358b1",
   "metadata": {},
   "source": [
    "**`Return` statement returns values from a function   \n",
    "`import` statement imports modules    \n",
    "`Pass` statement does nothing and used when a placeholder is needed for syntactical reasens**"
   ]
  },
  {
   "cell_type": "markdown",
   "id": "549376b7-6177-465a-b64b-d9422cb5117f",
   "metadata": {},
   "source": [
    "### **Compound statements**   \n",
    "**Contain groups of other statements   \n",
    "Affect/control the execution of other statements in one/more ways   \n",
    "Typically span multiple lines   \n",
    "Consists of onr/more clauses   \n",
    "A clause consists of a `header` and a `block` or a `suite of code`**   \n",
    "      \n",
    "**Clause headers of compound statements start with a `keyword`, end with a `colon` and are all at the same indentation level.   \n",
    "A block/suite of code of each clause must be indented to indicate it forms a group of statements that logically fall under the above header!** "
   ]
  },
  {
   "cell_type": "code",
   "execution_count": null,
   "id": "d8189b61-1940-49ea-bb06-b43903e64597",
   "metadata": {},
   "outputs": [],
   "source": [
    "if x > y: #header line\n",
    "    difference = x - y  #line 2 and 3 form the block of code, indented inside the header!!\n",
    "    print(\"x is greater than y\")\n",
    "print(\"But this gets printed no matter what\")"
   ]
  },
  {
   "cell_type": "markdown",
   "id": "e95773fd-65b1-426a-aeb2-7bbf1a5e927f",
   "metadata": {},
   "source": [
    "## **In Python indentation isn't just for ornamentation it determines the logical structure of the code**"
   ]
  },
  {
   "cell_type": "markdown",
   "id": "079694aa-64f6-4131-a6e8-5e7c1abb6cbd",
   "metadata": {},
   "source": [
    "`if test:`        \n",
    "&nbsp; &nbsp; &nbsp;  `[block of code]`   \n",
    "`elif test:`          \n",
    "&nbsp; &nbsp; &nbsp;  `[block of code]`            \n",
    "`else:`         \n",
    "&nbsp; &nbsp; &nbsp;  `[block of code]`   \n"
   ]
  },
  {
   "cell_type": "code",
   "execution_count": null,
   "id": "895dc50b-fcc1-4695-8bfb-98dc7b582575",
   "metadata": {},
   "outputs": [],
   "source": [
    "x = 100\n",
    "y = -45"
   ]
  },
  {
   "cell_type": "code",
   "execution_count": null,
   "id": "8486f5cd-da6f-41e0-9487-ca17582b97c9",
   "metadata": {},
   "outputs": [],
   "source": [
    "#absolute values tell us how far are two numbers from one another\n",
    "\n",
    "if x > y:                 #if x is grater than y\n",
    "    absolute_val = x - y  #then assign absolute_val = x - y\n",
    "elif y > x:               #if x is not greater than y and if x is smaller than y \n",
    "    absolute_val = y - x  #then assign absolute_val = y - x\n",
    "else:                     #if x is neither greater than nor less than y\n",
    "    absolute_val = 0      #then assign absolute_val = 0 "
   ]
  },
  {
   "cell_type": "markdown",
   "id": "e37ef296-f53a-4b21-b02a-f615d32db0ea",
   "metadata": {},
   "source": [
    "If `x` is indeed greater than `y` the other conditions `elif`, `else` won't even be evaluated.    \n",
    "Only when the upper statement fails Python will consider the next statement.   \n",
    "i.e for `elif` to be considered, `if` statement must fail; that is `x` must not be greater than `y`"
   ]
  },
  {
   "cell_type": "markdown",
   "id": "6b7097ac-3e6b-44be-9d62-1075394cd6b6",
   "metadata": {},
   "source": [
    "## **Markdown spaces**\n",
    "---\n",
    "1.no space    \n",
    "2.`&nbsp;`&nbsp;Space equivalent of the character \"i\"   \n",
    "3.`&ensp;`&ensp;Space equivalent of the character \"n\"   \n",
    "4.`&emsp;`&emsp;Space equivalent of the character \"m\"   \n",
    "5.`$~$`$~$for space equivalent of character \"i\", the more `~` inserted inbetween `$`s the more space you get  \n",
    "6.`$~~~~~~~~~~$`$~~~~~~~~~~$10 `~` between the `$` signs"
   ]
  },
  {
   "cell_type": "code",
   "execution_count": null,
   "id": "974c42a5-ad90-4d5f-b93f-1730690216e4",
   "metadata": {},
   "outputs": [],
   "source": [
    "if False:\n",
    "    print(\"False!\")\n",
    "elif True:\n",
    "    print(\"Now True!\")\n",
    "else:\n",
    "    print(\"Finally True!\")"
   ]
  },
  {
   "cell_type": "markdown",
   "id": "35cfb524-d193-4294-8e25-554bef395ef2",
   "metadata": {},
   "source": [
    "The first statement is `false`, so the condition is ignored. The code moves on to the `elif` statement, which if `True`, will perform the indented code and skip all other `elif` and `else` statements. If not, the code will move on to `else`, and perform that code"
   ]
  },
  {
   "cell_type": "code",
   "execution_count": null,
   "id": "7e68721c-e845-4d3b-968a-cdabff388349",
   "metadata": {},
   "outputs": [],
   "source": [
    "if True:\n",
    "    print(\"False!\")"
   ]
  },
  {
   "cell_type": "markdown",
   "id": "b0a889bf-7c28-45e5-8603-139767ff749f",
   "metadata": {},
   "source": [
    "**`if` statement only proceeds when the condition is true!!**"
   ]
  },
  {
   "cell_type": "code",
   "execution_count": null,
   "id": "f8d0e611-3cf1-4e1c-a9f9-07c302902287",
   "metadata": {},
   "outputs": [],
   "source": [
    "if False:\n",
    "    print(\"False!\")\n",
    "elif False:\n",
    "    print(\"Now True!\")\n",
    "else:\n",
    "    print(\"Finally True!\")"
   ]
  },
  {
   "cell_type": "code",
   "execution_count": null,
   "id": "dcd382cc-688c-412a-89e4-42c392383cc4",
   "metadata": {},
   "outputs": [],
   "source": [
    "# % operator returns the remainder after integer division\n",
    "# 5 % 3 = 2\n",
    "# 9 % 5 = 4\n",
    "\n",
    "n = 87\n",
    "\n",
    "if n % 2 == 0:\n",
    "    print(\"Even\")\n",
    "else:\n",
    "    print(\"Odd\")\n",
    "\n",
    "  "
   ]
  },
  {
   "cell_type": "code",
   "execution_count": null,
   "id": "34b4c4d7-f74d-42f6-ac8e-e291d0c615f7",
   "metadata": {},
   "outputs": [],
   "source": [
    "n = 88\n",
    "\n",
    "if n % 2 == 0:\n",
    "    print(\"Even\")\n",
    "else:\n",
    "    print(\"Odd\")"
   ]
  },
  {
   "cell_type": "markdown",
   "id": "09bd00f9-db52-4fa9-8185-823456985a6d",
   "metadata": {},
   "source": [
    "## **For and While loops**"
   ]
  },
  {
   "cell_type": "markdown",
   "id": "813843ea-4461-4be5-9b07-b30761e5bb89",
   "metadata": {},
   "source": [
    "### For loop - a sequence iteration     \n",
    "Unless the loop is terminated with a break statement early; for loop will run until no elements left in the sequence!"
   ]
  },
  {
   "cell_type": "code",
   "execution_count": 19,
   "id": "33c58e72-5109-4a87-8f0d-a02051799602",
   "metadata": {},
   "outputs": [],
   "source": [
    "sequence = (\"A\", \"B\", \"C\", \"F\", \"G\", \"L\", \"M\", \"U\")"
   ]
  },
  {
   "cell_type": "markdown",
   "id": "44f83169-2734-441e-8f96-51e379e08201",
   "metadata": {},
   "source": [
    "**First for loop will target the first element in the iterable (index = 0), and in the next iteration it will point to the next element of the iterable (index = 2), so on and so forth.**"
   ]
  },
  {
   "cell_type": "code",
   "execution_count": 20,
   "id": "2458c3ae-f450-4147-b5b3-c6354253a163",
   "metadata": {},
   "outputs": [
    {
     "name": "stdout",
     "output_type": "stream",
     "text": [
      "A\n",
      "B\n",
      "C\n",
      "F\n",
      "G\n",
      "L\n",
      "M\n",
      "U\n"
     ]
    }
   ],
   "source": [
    "for element in sequence:\n",
    "    print(element)"
   ]
  },
  {
   "cell_type": "code",
   "execution_count": 21,
   "id": "5775d1fe-6042-497b-aa98-d9fd2ba9189e",
   "metadata": {},
   "outputs": [],
   "source": [
    "ten_numbers = range(10)"
   ]
  },
  {
   "cell_type": "code",
   "execution_count": 22,
   "id": "9b6a9b49-86a3-4f34-a637-757eba4fa694",
   "metadata": {},
   "outputs": [
    {
     "name": "stdout",
     "output_type": "stream",
     "text": [
      "0\n",
      "1\n",
      "2\n",
      "3\n",
      "4\n",
      "5\n",
      "6\n",
      "7\n",
      "8\n",
      "9\n"
     ]
    }
   ],
   "source": [
    "for x in ten_numbers:\n",
    "    print(x)"
   ]
  },
  {
   "cell_type": "code",
   "execution_count": 25,
   "id": "709d82b7-551b-419b-afd9-c8af6119af8c",
   "metadata": {},
   "outputs": [
    {
     "data": {
      "text/plain": [
       "('A', 'B', 'C', 'F', 'G', 'L', 'M', 'U')"
      ]
     },
     "execution_count": 25,
     "metadata": {},
     "output_type": "execute_result"
    }
   ],
   "source": [
    "sequence"
   ]
  },
  {
   "cell_type": "code",
   "execution_count": 26,
   "id": "7acb3dcb-0918-47c7-ab1a-55d2b2eaa557",
   "metadata": {},
   "outputs": [],
   "source": [
    "seq = list(sequence)"
   ]
  },
  {
   "cell_type": "code",
   "execution_count": 27,
   "id": "bb2afc5b-cd18-4920-8098-78450c743ba7",
   "metadata": {},
   "outputs": [
    {
     "data": {
      "text/plain": [
       "['A', 'B', 'C', 'F', 'G', 'L', 'M', 'U']"
      ]
     },
     "execution_count": 27,
     "metadata": {},
     "output_type": "execute_result"
    }
   ],
   "source": [
    "seq"
   ]
  },
  {
   "cell_type": "code",
   "execution_count": 29,
   "id": "349fdf3a-08c1-42f6-9c1f-731afacc996f",
   "metadata": {},
   "outputs": [
    {
     "name": "stdout",
     "output_type": "stream",
     "text": [
      "A\n",
      "B\n",
      "C\n",
      "F\n",
      "G\n",
      "L\n",
      "M\n",
      "U\n"
     ]
    }
   ],
   "source": [
    "for alphabets in seq:\n",
    "    print(alphabets)"
   ]
  },
  {
   "cell_type": "code",
   "execution_count": 30,
   "id": "92bcb677-b468-4b2e-bd9c-fb96539b6f5d",
   "metadata": {},
   "outputs": [
    {
     "data": {
      "text/plain": [
       "8"
      ]
     },
     "execution_count": 30,
     "metadata": {},
     "output_type": "execute_result"
    }
   ],
   "source": [
    "len(sequence)"
   ]
  },
  {
   "cell_type": "code",
   "execution_count": 34,
   "id": "f77dfc70-bb4e-4463-999c-ea2da0a8c96b",
   "metadata": {},
   "outputs": [
    {
     "name": "stdout",
     "output_type": "stream",
     "text": [
      "A\n",
      "B\n",
      "C\n",
      "F\n",
      "G\n",
      "L\n",
      "M\n",
      "U\n"
     ]
    }
   ],
   "source": [
    "#using indices to print elements of iterables\n",
    "\n",
    "for i in range(8):\n",
    "    print(sequence[i])\n",
    "    "
   ]
  },
  {
   "cell_type": "code",
   "execution_count": 36,
   "id": "0125133a-ecf7-416b-89f9-d029973bc2b0",
   "metadata": {},
   "outputs": [
    {
     "name": "stdout",
     "output_type": "stream",
     "text": [
      "A\n",
      "B\n",
      "C\n",
      "F\n",
      "G\n",
      "L\n",
      "M\n",
      "U\n"
     ]
    }
   ],
   "source": [
    "#or\n",
    "\n",
    "for i in range(len(sequence)):\n",
    "    print(sequence[i])"
   ]
  },
  {
   "cell_type": "code",
   "execution_count": 39,
   "id": "8c253714-84ee-41aa-841e-738e58f95876",
   "metadata": {},
   "outputs": [],
   "source": [
    "age = dict()"
   ]
  },
  {
   "cell_type": "code",
   "execution_count": 40,
   "id": "6638767a-3c86-4678-bbd1-0f85fc48a938",
   "metadata": {},
   "outputs": [
    {
     "data": {
      "text/plain": [
       "{}"
      ]
     },
     "execution_count": 40,
     "metadata": {},
     "output_type": "execute_result"
    }
   ],
   "source": [
    "age"
   ]
  },
  {
   "cell_type": "code",
   "execution_count": 45,
   "id": "f3b754a5-cd77-48d7-8342-11f7b1fffb1b",
   "metadata": {},
   "outputs": [],
   "source": [
    "age[\"Tim\"] = 23\n",
    "age[\"Tom\"] = 45\n",
    "age[\"Leslie\"] = 26\n",
    "age[\"Sarah\"] = 19\n",
    "age[\"Smith\"] = 21\n",
    "age[\"Aaron\"] =  25"
   ]
  },
  {
   "cell_type": "code",
   "execution_count": 46,
   "id": "68fa69ec-aedb-48d7-8973-97ea0bc43226",
   "metadata": {},
   "outputs": [
    {
     "data": {
      "text/plain": [
       "{'Tim': 23, 'Tom': 45, 'Leslie': 26, 'Sarah': 19, 'Smith': 21, 'Aaron': 25}"
      ]
     },
     "execution_count": 46,
     "metadata": {},
     "output_type": "execute_result"
    }
   ],
   "source": [
    "age"
   ]
  },
  {
   "cell_type": "code",
   "execution_count": 47,
   "id": "0949b020-8f21-40f2-98eb-01cf96bb7518",
   "metadata": {},
   "outputs": [
    {
     "data": {
      "text/plain": [
       "dict_keys(['Tim', 'Tom', 'Leslie', 'Sarah', 'Smith', 'Aaron'])"
      ]
     },
     "execution_count": 47,
     "metadata": {},
     "output_type": "execute_result"
    }
   ],
   "source": [
    "age.keys()"
   ]
  },
  {
   "cell_type": "code",
   "execution_count": 49,
   "id": "41d53047-62fd-4b3b-b9e6-7ae5bc6392c6",
   "metadata": {},
   "outputs": [
    {
     "data": {
      "text/plain": [
       "dict_values([23, 45, 26, 19, 21, 25])"
      ]
     },
     "execution_count": 49,
     "metadata": {},
     "output_type": "execute_result"
    }
   ],
   "source": [
    "age.values()"
   ]
  },
  {
   "cell_type": "code",
   "execution_count": 54,
   "id": "608f3b1f-26a5-4cf5-a3e2-bf4faf477f5d",
   "metadata": {},
   "outputs": [
    {
     "name": "stdout",
     "output_type": "stream",
     "text": [
      "Tim is 23 years old\n",
      "Tom is 45 years old\n",
      "Leslie is 26 years old\n",
      "Sarah is 19 years old\n",
      "Smith is 21 years old\n",
      "Aaron is 25 years old\n"
     ]
    }
   ],
   "source": [
    "for name in age.keys():\n",
    "    print(name, \"is\" ,age[name], \"years old\")"
   ]
  },
  {
   "cell_type": "markdown",
   "id": "42a65eea-90bb-40f2-a776-8d205afb1123",
   "metadata": {},
   "source": [
    "## **_Looping over dictionaries are very common; therefore there is a simple way to do this!!_** "
   ]
  },
  {
   "cell_type": "code",
   "execution_count": 57,
   "id": "6ed11bdd-259c-4b7d-b4a8-a3681921b10d",
   "metadata": {},
   "outputs": [
    {
     "name": "stdout",
     "output_type": "stream",
     "text": [
      "Tim 23\n",
      "Tom 45\n",
      "Leslie 26\n",
      "Sarah 19\n",
      "Smith 21\n",
      "Aaron 25\n"
     ]
    }
   ],
   "source": [
    "for name in  age: # it naturally takes keys as the iterable\n",
    "    print(name, age[name])"
   ]
  },
  {
   "cell_type": "markdown",
   "id": "cd99ed40-f1ff-4a01-a937-69f729c3652d",
   "metadata": {},
   "source": [
    "### **In Python dicts key:value pairs have a couplation but these pairs are not arranged in any specific order!**     \n",
    "***If needed to loop over dictionary objects in a specific order:***"
   ]
  },
  {
   "cell_type": "code",
   "execution_count": 62,
   "id": "86259d4f-8ebf-4e66-84bc-599bf900d642",
   "metadata": {},
   "outputs": [
    {
     "name": "stdout",
     "output_type": "stream",
     "text": [
      "Aaron 25\n",
      "Leslie 26\n",
      "Sarah 19\n",
      "Smith 21\n",
      "Tim 23\n",
      "Tom 45\n"
     ]
    }
   ],
   "source": [
    "for name in sorted(age.keys()):  # names are sorted in alphabetical order\n",
    "    print(name, age[name])"
   ]
  },
  {
   "cell_type": "code",
   "execution_count": 63,
   "id": "8f1da6fe-622a-45e6-aab5-13b666a54413",
   "metadata": {},
   "outputs": [
    {
     "name": "stdout",
     "output_type": "stream",
     "text": [
      "Tom 45\n",
      "Tim 23\n",
      "Smith 21\n",
      "Sarah 19\n",
      "Leslie 26\n",
      "Aaron 25\n"
     ]
    }
   ],
   "source": [
    "for name in sorted(age.keys(), reverse = True):  # names are sorted in reverse alphabetical order\n",
    "    print(name, age[name])"
   ]
  },
  {
   "cell_type": "markdown",
   "id": "23335cf2-4104-43ff-86c0-6facc0f4ba52",
   "metadata": {},
   "source": [
    "## **Python While loops are used to iterate over an iterable as long as the given argument is true!!**"
   ]
  },
  {
   "cell_type": "code",
   "execution_count": 64,
   "id": "ee90eacf-100a-4f19-9518-d87c3b5b012d",
   "metadata": {},
   "outputs": [],
   "source": [
    "bears = {\"Grizzly\":\"angry\", \"Brown\":\"friendly\", \"Polar\":\"friendly\"}"
   ]
  },
  {
   "cell_type": "markdown",
   "id": "eb784dd3-9119-4453-a4d0-a258f5dffc0d",
   "metadata": {},
   "source": [
    "`for bear in bears:`               \n",
    "&emsp;      `if #blank#:`            \n",
    "&emsp;     `print(\"Hello, \"+bear+\" bear!\")`               \n",
    "`else:`                    \n",
    "`print(\"odd\")`                   \n",
    "               \n",
    "**Can you replace #blank# so the code will print a greeting only to friendly bears? Your code should work even if more bears are added to the dictionary.**               \n",
    "  "
   ]
  },
  {
   "cell_type": "code",
   "execution_count": 72,
   "id": "3e5dcd59-7f4a-4907-8ff2-74a4e0874483",
   "metadata": {},
   "outputs": [
    {
     "name": "stdout",
     "output_type": "stream",
     "text": [
      "Hello, Brown bear!\n",
      "Hello, Polar bear!\n"
     ]
    }
   ],
   "source": [
    "for bear in bears:\n",
    "    if bears[bear] == \"friendly\":\n",
    "        print(\"Hello,\", bear, \"bear!\")    "
   ]
  },
  {
   "cell_type": "code",
   "execution_count": 77,
   "id": "d1321285-12ea-4c30-9b04-9f4bc368ecf9",
   "metadata": {},
   "outputs": [
    {
     "name": "stdout",
     "output_type": "stream",
     "text": [
      "True\n"
     ]
    }
   ],
   "source": [
    "is_prime = True\n",
    "for i in range(2,n):\n",
    "    if n % i == 0:\n",
    "        is_prime(False)\n",
    "print(is_prime)"
   ]
  },
  {
   "cell_type": "markdown",
   "id": "34188dc3-9e5e-4fe0-8086-d4d7e5f1c6e5",
   "metadata": {},
   "source": [
    "`is_prime = False` will ensure that if `n` is divisible by any of the previous values, `is_prime` will return `False`.            \n",
    "\n",
    "A more compact way to accomplish the same task is `not any([n%i==0 for i in range(2,n)])`"
   ]
  },
  {
   "cell_type": "code",
   "execution_count": 75,
   "id": "f2138966-6002-431a-b9b5-a6211dba1873",
   "metadata": {},
   "outputs": [
    {
     "name": "stdout",
     "output_type": "stream",
     "text": [
      "7\n"
     ]
    }
   ],
   "source": [
    "n=100\n",
    "number_of_times = 0\n",
    "while n >= 1:\n",
    "    n //= 2   # integer division of n by 2 and assigns the result to n\n",
    "    number_of_times += 1\n",
    "print(number_of_times)"
   ]
  },
  {
   "cell_type": "markdown",
   "id": "010a2bcd-99ff-477c-a2ea-0b6978e9415e",
   "metadata": {},
   "source": [
    "### **List comprehensions**"
   ]
  },
  {
   "cell_type": "markdown",
   "id": "8d5cd3b1-9cf9-41c1-8991-f5edc192f94d",
   "metadata": {},
   "source": [
    "**Applying some operations to all the elements of the list and reassigning the new list to a new variable name!**"
   ]
  },
  {
   "cell_type": "code",
   "execution_count": 79,
   "id": "bd73cb52-2a24-4b7e-a307-c5d045e2899f",
   "metadata": {},
   "outputs": [],
   "source": [
    "nums = range(0,11)"
   ]
  },
  {
   "cell_type": "code",
   "execution_count": 81,
   "id": "1e8deb6e-a59b-4c25-b28a-91d6662e282b",
   "metadata": {},
   "outputs": [
    {
     "data": {
      "text/plain": [
       "[0, 1, 2, 3, 4, 5, 6, 7, 8, 9, 10]"
      ]
     },
     "execution_count": 81,
     "metadata": {},
     "output_type": "execute_result"
    }
   ],
   "source": [
    "list(nums) # just to see the contents"
   ]
  },
  {
   "cell_type": "code",
   "execution_count": 82,
   "id": "4879921a-9ae0-4aa7-9aec-6067e69e7956",
   "metadata": {},
   "outputs": [],
   "source": [
    "squares = []"
   ]
  },
  {
   "cell_type": "code",
   "execution_count": 83,
   "id": "93338c99-074e-40c7-aea4-2f262cf2fbc0",
   "metadata": {},
   "outputs": [],
   "source": [
    "for n in nums:\n",
    "    squares.append(n**2)"
   ]
  },
  {
   "cell_type": "code",
   "execution_count": 84,
   "id": "34760bcd-fe6c-4b12-a666-60ea64400850",
   "metadata": {},
   "outputs": [
    {
     "data": {
      "text/plain": [
       "[0, 1, 4, 9, 16, 25, 36, 49, 64, 81, 100]"
      ]
     },
     "execution_count": 84,
     "metadata": {},
     "output_type": "execute_result"
    }
   ],
   "source": [
    "squares  # voila"
   ]
  },
  {
   "cell_type": "code",
   "execution_count": 87,
   "id": "8ccb1f6d-946e-4455-b333-13dd7e43662c",
   "metadata": {},
   "outputs": [],
   "source": [
    "# or more easily\n",
    "import numpy as np\n",
    "\n",
    "num = np.array(nums)\n",
    "square = num**2"
   ]
  },
  {
   "cell_type": "code",
   "execution_count": 88,
   "id": "c6c0ef28-e778-430a-8b95-a268588631e8",
   "metadata": {},
   "outputs": [
    {
     "data": {
      "text/plain": [
       "array([  0,   1,   4,   9,  16,  25,  36,  49,  64,  81, 100], dtype=int32)"
      ]
     },
     "execution_count": 88,
     "metadata": {},
     "output_type": "execute_result"
    }
   ],
   "source": [
    "square"
   ]
  },
  {
   "cell_type": "code",
   "execution_count": 89,
   "id": "9dac460a-32a0-4e28-a1cf-1d4be9037230",
   "metadata": {},
   "outputs": [
    {
     "data": {
      "text/plain": [
       "[0, 1, 4, 9, 16, 25, 36, 49, 64, 81, 100]"
      ]
     },
     "execution_count": 89,
     "metadata": {},
     "output_type": "execute_result"
    }
   ],
   "source": [
    "list(square)"
   ]
  },
  {
   "cell_type": "markdown",
   "id": "746da28f-ed14-4d6c-a446-75573bbe0e90",
   "metadata": {},
   "source": [
    "### **Doing the above using list comprehension**"
   ]
  },
  {
   "cell_type": "code",
   "execution_count": 91,
   "id": "467c94b9-37e9-4577-81b4-b06e7597de96",
   "metadata": {},
   "outputs": [],
   "source": [
    "sqr_list = [n**2 for n in nums]"
   ]
  },
  {
   "cell_type": "markdown",
   "id": "477da8a1-a109-497d-aac7-83e825ea8922",
   "metadata": {},
   "source": [
    "**_This is list comprehension_**    \n",
    "`n**2` operation is performed for all the elements of the list nums and the results are included in **sqr_list**"
   ]
  },
  {
   "cell_type": "code",
   "execution_count": 92,
   "id": "06299069-fd41-47cc-9713-12885d47e4af",
   "metadata": {},
   "outputs": [
    {
     "data": {
      "text/plain": [
       "[0, 1, 4, 9, 16, 25, 36, 49, 64, 81, 100]"
      ]
     },
     "execution_count": 92,
     "metadata": {},
     "output_type": "execute_result"
    }
   ],
   "source": [
    "sqr_list"
   ]
  },
  {
   "cell_type": "markdown",
   "id": "7ef431e4-568b-42fe-8638-925fc6f2d9cf",
   "metadata": {},
   "source": [
    "### **_In comparison to looping over lists; list comprehensions are very fast and elegant!  A lot can be accomplished in a single line!_**"
   ]
  },
  {
   "cell_type": "code",
   "execution_count": 93,
   "id": "ff902caf-c980-4665-869e-5c3acf53df8a",
   "metadata": {},
   "outputs": [
    {
     "data": {
      "text/plain": [
       "5"
      ]
     },
     "execution_count": 93,
     "metadata": {},
     "output_type": "execute_result"
    }
   ],
   "source": [
    "sum([i**2 for i in range(3)])"
   ]
  },
  {
   "cell_type": "markdown",
   "id": "a86b963b-9850-4abf-b8cc-d87b9ea4f4c8",
   "metadata": {},
   "source": [
    "`range(3)` = 0,1,2     \n",
    "`i**2` = 0,1,4       \n",
    "`sum` = 0 + 1 + 4"
   ]
  },
  {
   "cell_type": "markdown",
   "id": "e1e7de6f-9fcd-42a2-9001-0167c7641730",
   "metadata": {},
   "source": [
    "How can you use a list comprehension, including if and for, to sum the odd numbers from 0 through 9? "
   ]
  },
  {
   "cell_type": "code",
   "execution_count": 116,
   "id": "41ca762a-fa95-460f-9d8b-2a88fa51ed71",
   "metadata": {},
   "outputs": [
    {
     "data": {
      "text/plain": [
       "25"
      ]
     },
     "execution_count": 116,
     "metadata": {},
     "output_type": "execute_result"
    }
   ],
   "source": [
    "sum([i for i in range(0,10) if i % 2 != 0])"
   ]
  },
  {
   "cell_type": "code",
   "execution_count": 117,
   "id": "b20e4d5a-c35f-4bb2-9ece-a925e0068c2a",
   "metadata": {},
   "outputs": [
    {
     "data": {
      "text/plain": [
       "[1, 3, 5, 7, 9]"
      ]
     },
     "execution_count": 117,
     "metadata": {},
     "output_type": "execute_result"
    }
   ],
   "source": [
    "[i for i in range(0,10) if i % 2 != 0]"
   ]
  },
  {
   "cell_type": "code",
   "execution_count": 118,
   "id": "c5ee0f08-b8f9-41c2-b733-c31b606f270c",
   "metadata": {
    "tags": []
   },
   "outputs": [
    {
     "data": {
      "text/plain": [
       "25"
      ]
     },
     "execution_count": 118,
     "metadata": {},
     "output_type": "execute_result"
    }
   ],
   "source": [
    "sum([i for i in range(10) if i%2 == 1])"
   ]
  },
  {
   "cell_type": "markdown",
   "id": "369df040-bcaf-4929-91e8-f1ad943ff957",
   "metadata": {},
   "source": [
    "## **_Reading & writing files in Python_**"
   ]
  },
  {
   "cell_type": "code",
   "execution_count": 125,
   "id": "b23cd42e-380a-422d-b781-264d74cfaed4",
   "metadata": {},
   "outputs": [],
   "source": [
    "filename = \"C:\\\\Users\\\\Anoba\\\\Documents\\\\Python\\\\Using_Python_for_Research\\\\Wiliam_Wordsworth.txt\""
   ]
  },
  {
   "cell_type": "code",
   "execution_count": 129,
   "id": "33f7ac03-11b8-466c-9183-1c95b591e336",
   "metadata": {},
   "outputs": [
    {
     "name": "stdout",
     "output_type": "stream",
     "text": [
      "I wandered lonely as a cloud\n",
      "\n",
      "That floats on high o'er vales and hills,\n",
      "\n",
      "When all at once I saw a crowd,\n",
      "\n",
      "A host, of golden daffodils;\n",
      "\n",
      "Beside the lake, beneath the trees,\n",
      "\n",
      "Fluttering and dancing in the breeze.\n",
      "\n",
      "\n",
      "\n",
      "Continuous as the stars that shine\n",
      "\n",
      "And twinkle on the milky way,\n",
      "\n",
      "They stretched in never-ending line\n",
      "\n",
      "Along the margin of a bay:\n",
      "\n",
      "Ten thousand saw I at a glance,\n",
      "\n",
      "Tossing their heads in sprightly dance.\n",
      "\n",
      "\n",
      "\n",
      "The waves beside them danced; but they\n",
      "\n",
      "Out-did the sparkling waves in glee:\n",
      "\n",
      "A poet could not but be gay,\n",
      "\n",
      "In such a jocund company:\n",
      "\n",
      "I gazedâ€”and gazedâ€”but little thought\n",
      "\n",
      "What wealth the show to me had brought:\n",
      "\n",
      "\n",
      "\n",
      " For oft, when on my couch I lie\n",
      "\n",
      "In vacant or in pensive mood,\n",
      "\n",
      "They flash upon that inward eye\n",
      "\n",
      "Which is the bliss of solitude;\n",
      "\n",
      "And then my heart with pleasure fills,\n",
      "\n",
      "And dances with the daffodils.\n"
     ]
    }
   ],
   "source": [
    "for line in open(filename, \"r\"):\n",
    "    print(line)"
   ]
  },
  {
   "cell_type": "markdown",
   "id": "67de17ed-0040-4ef9-a967-466ac7a63dc3",
   "metadata": {},
   "source": [
    "### **Although not shown explicitly, at the end of each line there is a line break character \"\\n\"**       \n",
    "**the rstrip() function in Python removes all the line breal characters!!**"
   ]
  },
  {
   "cell_type": "code",
   "execution_count": 145,
   "id": "e85c01b3-335d-4d2d-8148-35cb105cbac6",
   "metadata": {},
   "outputs": [
    {
     "name": "stdout",
     "output_type": "stream",
     "text": [
      "I wandered lonely as a cloud\n",
      "That floats on high o'er vales and hills,\n",
      "When all at once I saw a crowd,\n",
      "A host, of golden daffodils;\n",
      "Beside the lake, beneath the trees,\n",
      "Fluttering and dancing in the breeze.\n",
      "\n",
      "Continuous as the stars that shine\n",
      "And twinkle on the milky way,\n",
      "They stretched in never-ending line\n",
      "Along the margin of a bay:\n",
      "Ten thousand saw I at a glance,\n",
      "Tossing their heads in sprightly dance.\n",
      "\n",
      "The waves beside them danced; but they\n",
      "Out-did the sparkling waves in glee:\n",
      "A poet could not but be gay,\n",
      "In such a jocund company:\n",
      "I gazedâ€”and gazedâ€”but little thought\n",
      "What wealth the show to me had brought:\n",
      "\n",
      " For oft, when on my couch I lie\n",
      "In vacant or in pensive mood,\n",
      "They flash upon that inward eye\n",
      "Which is the bliss of solitude;\n",
      "And then my heart with pleasure fills,\n",
      "And dances with the daffodils.\n"
     ]
    }
   ],
   "source": [
    "for line in open(\"C:\\\\Users\\\\Anoba\\\\Documents\\\\Python\\\\Using_Python_for_Research\\\\Wiliam_Wordsworth.txt\", \"r\"):\n",
    "    print(line.rstrip())"
   ]
  },
  {
   "cell_type": "markdown",
   "id": "e8ee4753-f09a-40ef-a06a-794e572ce225",
   "metadata": {},
   "source": [
    "**Note the differences between `print(line)` and `print(line.rstrip())`!!**"
   ]
  },
  {
   "cell_type": "markdown",
   "id": "a15c6714-cbfd-43c7-bc27-c8e9515613b0",
   "metadata": {},
   "source": [
    "String split method returns a list, not a string!!"
   ]
  },
  {
   "cell_type": "code",
   "execution_count": 149,
   "id": "61d4e492-fe7a-4785-ab8e-87bb832d7d7c",
   "metadata": {},
   "outputs": [
    {
     "name": "stdout",
     "output_type": "stream",
     "text": [
      "['I', 'wandered', 'lonely', 'as', 'a', 'cloud']\n",
      "['That', 'floats', 'on', 'high', \"o'er\", 'vales', 'and', 'hills,']\n",
      "['When', 'all', 'at', 'once', 'I', 'saw', 'a', 'crowd,']\n",
      "['A', 'host,', 'of', 'golden', 'daffodils;']\n",
      "['Beside', 'the', 'lake,', 'beneath', 'the', 'trees,']\n",
      "['Fluttering', 'and', 'dancing', 'in', 'the', 'breeze.']\n",
      "['']\n",
      "['Continuous', 'as', 'the', 'stars', 'that', 'shine']\n",
      "['And', 'twinkle', 'on', 'the', 'milky', 'way,']\n",
      "['They', 'stretched', 'in', 'never-ending', 'line']\n",
      "['Along', 'the', 'margin', 'of', 'a', 'bay:']\n",
      "['Ten', 'thousand', 'saw', 'I', 'at', 'a', 'glance,']\n",
      "['Tossing', 'their', 'heads', 'in', 'sprightly', 'dance.']\n",
      "['']\n",
      "['The', 'waves', 'beside', 'them', 'danced;', 'but', 'they']\n",
      "['Out-did', 'the', 'sparkling', 'waves', 'in', 'glee:']\n",
      "['A', 'poet', 'could', 'not', 'but', 'be', 'gay,']\n",
      "['In', 'such', 'a', 'jocund', 'company:']\n",
      "['I', 'gazedâ€”and', 'gazedâ€”but', 'little', 'thought']\n",
      "['What', 'wealth', 'the', 'show', 'to', 'me', 'had', 'brought:']\n",
      "['']\n",
      "['', 'For', 'oft,', 'when', 'on', 'my', 'couch', 'I', 'lie']\n",
      "['In', 'vacant', 'or', 'in', 'pensive', 'mood,']\n",
      "['They', 'flash', 'upon', 'that', 'inward', 'eye']\n",
      "['Which', 'is', 'the', 'bliss', 'of', 'solitude;']\n",
      "['And', 'then', 'my', 'heart', 'with', 'pleasure', 'fills,']\n",
      "['And', 'dances', 'with', 'the', 'daffodils.']\n"
     ]
    }
   ],
   "source": [
    "for line in open(\"C:\\\\Users\\\\Anoba\\\\Documents\\\\Python\\\\Using_Python_for_Research\\\\Wiliam_Wordsworth.txt\", \"r\"):\n",
    "    words = line.rstrip().split(\" \")\n",
    "    print(words)"
   ]
  },
  {
   "cell_type": "markdown",
   "id": "ca875e89-09bc-4458-b067-e1c8a89c6688",
   "metadata": {},
   "source": [
    "**_Writing files_**"
   ]
  },
  {
   "cell_type": "code",
   "execution_count": 210,
   "id": "c10f3af9-8c45-4d01-ac10-624598f03bc6",
   "metadata": {},
   "outputs": [],
   "source": [
    "Written_file = open(\"C:\\\\Users\\\\Anoba\\\\Documents\\\\Python\\\\Using_Python_for_Research\\\\word_list.txt\", \"w\")\n",
    "# this captures the word_list.txt file object into the variable \"Write\"\n",
    "# at this point a file object has been opened and ready to be written!"
   ]
  },
  {
   "cell_type": "code",
   "execution_count": 211,
   "id": "6f9ef17b-0a0f-4703-9412-39753ef8d1be",
   "metadata": {},
   "outputs": [
    {
     "data": {
      "text/plain": [
       "22"
      ]
     },
     "execution_count": 211,
     "metadata": {},
     "output_type": "execute_result"
    }
   ],
   "source": [
    "Written_file.write(\"Wordsworth is a bitch\\n\") # this writes the supplied string to the file"
   ]
  },
  {
   "cell_type": "code",
   "execution_count": 212,
   "id": "3e43508e-c9f1-4a0f-bac4-872ee75cdc30",
   "metadata": {},
   "outputs": [],
   "source": [
    "Written_file.close() # once done writing the opened file must be closed"
   ]
  },
  {
   "cell_type": "code",
   "execution_count": 221,
   "id": "885f1344-d5bc-4763-8786-2eb8f0e112c9",
   "metadata": {},
   "outputs": [
    {
     "name": "stdout",
     "output_type": "stream",
     "text": [
      "['Hello', 'World']\n"
     ]
    }
   ],
   "source": [
    "F = open(\"input.txt\", \"w\")\n",
    "F.write(\"Hello\\nWorld\")\n",
    "F.close()\n",
    "\n",
    "lines = []\n",
    "\n",
    "for line in open(\"input.txt\"):  # going to read in Hello & World in separate lines due to \\n!!!\n",
    "    lines.append(line.strip())\n",
    "print(lines)"
   ]
  },
  {
   "cell_type": "code",
   "execution_count": 223,
   "id": "b430cdf5-7bb5-4278-a4d7-7199ae40e9e4",
   "metadata": {},
   "outputs": [
    {
     "data": {
      "text/plain": [
       "'once done writing, the opened\\n file must be closed'"
      ]
     },
     "execution_count": 223,
     "metadata": {},
     "output_type": "execute_result"
    }
   ],
   "source": [
    "\"once done writing, the opened\\n file must be closed\\n\".strip() # only removes \"\\n\" at the end of string"
   ]
  },
  {
   "cell_type": "code",
   "execution_count": 225,
   "id": "9bb940cc-c69e-4cea-8b5b-55277f81f660",
   "metadata": {},
   "outputs": [
    {
     "name": "stdout",
     "output_type": "stream",
     "text": [
      "once\n",
      "done\n",
      "writing,\n",
      "the\n",
      "opened\n",
      "file\n",
      "must\n",
      "be\n",
      "closed\n"
     ]
    }
   ],
   "source": [
    "for word in [\"once\", \"done\\n\", \"writing,\\n\", \"the\", \"opened\\n\", \"file\", \"must\\n\", \"be\" ,\"closed\\n\"]:\n",
    "    print(word.strip())"
   ]
  },
  {
   "cell_type": "markdown",
   "id": "360ef724-55ec-48dc-98e8-b2880b7a7113",
   "metadata": {},
   "source": [
    "### **_Functions_**"
   ]
  },
  {
   "cell_type": "markdown",
   "id": "1660e726-7095-4931-af43-d4a1d7b32961",
   "metadata": {},
   "source": [
    "**Functions maximize code reuse and minimize code redundancy.    \n",
    "Functions enable dividing larger tasks into smaller chunks; an approach called procedural decomposition.    \n",
    "Functions are defined using the `def` function    \n",
    "And the results are returned to the caller using the `return` function**   \n"
   ]
  },
  {
   "cell_type": "code",
   "execution_count": 7,
   "id": "ef318c4f-1781-4def-93d9-8282773054d7",
   "metadata": {},
   "outputs": [],
   "source": [
    "def add(a,b):  # a simple function to do simple addition\n",
    "    return (a+b) # return is not an operation!! i.e unlike count(); thus the paranthesis can be given with a space"
   ]
  },
  {
   "cell_type": "code",
   "execution_count": 8,
   "id": "236a6992-4b66-4c1b-8eef-f0d78d8ce5b7",
   "metadata": {},
   "outputs": [
    {
     "data": {
      "text/plain": [
       "79"
      ]
     },
     "execution_count": 8,
     "metadata": {},
     "output_type": "execute_result"
    }
   ],
   "source": [
    "add(74,5)"
   ]
  },
  {
   "cell_type": "code",
   "execution_count": 10,
   "id": "639fdc5b-d0af-43c2-87dc-ce72d3f628fc",
   "metadata": {},
   "outputs": [
    {
     "data": {
      "text/plain": [
       "'AB'"
      ]
     },
     "execution_count": 10,
     "metadata": {},
     "output_type": "execute_result"
    }
   ],
   "source": [
    "add(\"A\",\"B\")"
   ]
  },
  {
   "cell_type": "markdown",
   "id": "d49b59fc-0bc6-45d0-b70e-2233e36e6658",
   "metadata": {},
   "source": [
    "**All the variables defined inside functions are local variables; valid only within that function     \n",
    "To modify the value of a global variable from inside a function the `global` statement can be used!**"
   ]
  },
  {
   "cell_type": "code",
   "execution_count": 17,
   "id": "08d507e0-9c78-4036-a35a-63aedf49e39a",
   "metadata": {},
   "outputs": [],
   "source": [
    "def circle(r):  # a function called circle to compute area and perimeter\n",
    "    import math\n",
    "    area = math.pi*(r**2)\n",
    "    perimeter = 2*math.pi*r\n",
    "    return area, perimeter\n",
    "    "
   ]
  },
  {
   "cell_type": "code",
   "execution_count": 19,
   "id": "7a73e3f3-a200-41f1-9f06-394ffa832ca1",
   "metadata": {},
   "outputs": [
    {
     "data": {
      "text/plain": [
       "(615.7521601035994, 87.96459430051421)"
      ]
     },
     "execution_count": 19,
     "metadata": {},
     "output_type": "execute_result"
    }
   ],
   "source": [
    "circle(14)"
   ]
  },
  {
   "cell_type": "markdown",
   "id": "78ee9435-9b50-46f5-a0dd-43e394f8be34",
   "metadata": {},
   "source": [
    "**_To get the results in a tuple_**"
   ]
  },
  {
   "cell_type": "code",
   "execution_count": 22,
   "id": "62a3f272-f3b3-4708-85bf-87e2aebd0e24",
   "metadata": {},
   "outputs": [],
   "source": [
    "def circ_area(r):\n",
    "    import math\n",
    "    area = math.pi*(r**2)\n",
    "    return (r, area)"
   ]
  },
  {
   "cell_type": "code",
   "execution_count": 23,
   "id": "b4217776-1a09-4db0-bad2-77e12deb5d71",
   "metadata": {},
   "outputs": [
    {
     "data": {
      "text/plain": [
       "(7, 153.93804002589985)"
      ]
     },
     "execution_count": 23,
     "metadata": {},
     "output_type": "execute_result"
    }
   ],
   "source": [
    "circ_area(7)"
   ]
  },
  {
   "cell_type": "code",
   "execution_count": 25,
   "id": "bfcac83e-2014-4930-8670-1a4e8e679f8f",
   "metadata": {},
   "outputs": [
    {
     "data": {
      "text/plain": [
       "tuple"
      ]
     },
     "execution_count": 25,
     "metadata": {},
     "output_type": "execute_result"
    }
   ],
   "source": [
    "type(circ_area(7)) # voila"
   ]
  },
  {
   "cell_type": "markdown",
   "id": "68361577-4cbe-45f6-ad72-73e168af56f1",
   "metadata": {},
   "source": [
    "### **`def` creates a function object and assigns it to a name, and this function can later be modified**"
   ]
  },
  {
   "cell_type": "code",
   "execution_count": 27,
   "id": "71e4098f-7ac5-4acd-adce-9045b446c4f7",
   "metadata": {},
   "outputs": [],
   "source": [
    "def diff(x,y):\n",
    "    if x > y:\n",
    "        val = x - y\n",
    "    else:\n",
    "        val = y -x\n",
    "    return val"
   ]
  },
  {
   "cell_type": "code",
   "execution_count": 28,
   "id": "c1266c22-3801-412f-9036-f3a457aa3e0e",
   "metadata": {},
   "outputs": [
    {
     "data": {
      "text/plain": [
       "33"
      ]
     },
     "execution_count": 28,
     "metadata": {},
     "output_type": "execute_result"
    }
   ],
   "source": [
    "diff(45,78)"
   ]
  },
  {
   "cell_type": "code",
   "execution_count": 29,
   "id": "fd9165cf-b050-41e9-bd8c-92f1bfb17383",
   "metadata": {},
   "outputs": [
    {
     "data": {
      "text/plain": [
       "79"
      ]
     },
     "execution_count": 29,
     "metadata": {},
     "output_type": "execute_result"
    }
   ],
   "source": [
    "diff(1,-78)"
   ]
  },
  {
   "cell_type": "code",
   "execution_count": 32,
   "id": "1c7801d6-776a-42be-9566-88b20fb65290",
   "metadata": {},
   "outputs": [],
   "source": [
    "# redefining\n",
    "\n",
    "def diff(n,m):\n",
    "    import math\n",
    "    value = math.sqrt((n-m)**2)\n",
    "    return value"
   ]
  },
  {
   "cell_type": "code",
   "execution_count": 34,
   "id": "7600ccf9-1d08-4197-a3eb-99a2529880a9",
   "metadata": {},
   "outputs": [
    {
     "data": {
      "text/plain": [
       "4.0"
      ]
     },
     "execution_count": 34,
     "metadata": {},
     "output_type": "execute_result"
    }
   ],
   "source": [
    "diff(90,94)"
   ]
  },
  {
   "cell_type": "code",
   "execution_count": 36,
   "id": "df64e164-61e0-4edd-a499-240b0b540652",
   "metadata": {},
   "outputs": [
    {
     "data": {
      "text/plain": [
       "82.0"
      ]
     },
     "execution_count": 36,
     "metadata": {},
     "output_type": "execute_result"
    }
   ],
   "source": [
    "diff(-78,4)"
   ]
  },
  {
   "cell_type": "markdown",
   "id": "0abce100-844b-4eb8-80ae-8e37504e2438",
   "metadata": {},
   "source": [
    "**Here a new function object is created by the `def` function and assigned to the variable name `diff`**    "
   ]
  },
  {
   "cell_type": "code",
   "execution_count": 38,
   "id": "36cad33b-a92b-4b06-b324-93844894284a",
   "metadata": {},
   "outputs": [],
   "source": [
    "difference = diff"
   ]
  },
  {
   "cell_type": "markdown",
   "id": "5a16a130-3397-4b12-90f0-1c3f18acfee2",
   "metadata": {},
   "source": [
    "**Similar to other objects functions can also be copied to new variable names!**   \n",
    "**Here the variable names `diff` and `difference` point to the same object!!**"
   ]
  },
  {
   "cell_type": "code",
   "execution_count": 68,
   "id": "d8180cab-a52c-4f80-a3e2-830ca54fa1c7",
   "metadata": {},
   "outputs": [],
   "source": [
    "l = [1,544,1,45,574,41,8,4,867,49,4]"
   ]
  },
  {
   "cell_type": "code",
   "execution_count": 72,
   "id": "8c4717d4-f562-4a47-acc8-1850184e63e3",
   "metadata": {},
   "outputs": [],
   "source": [
    "def modify(lis):\n",
    "    for i in lis:\n",
    "        i += 2"
   ]
  },
  {
   "cell_type": "code",
   "execution_count": 73,
   "id": "ce7055d9-a63b-42e8-904b-96265edd7590",
   "metadata": {},
   "outputs": [],
   "source": [
    "modify(l)"
   ]
  },
  {
   "cell_type": "code",
   "execution_count": 74,
   "id": "f6fc6ee0-5cc9-426f-a572-c860a9f1a20e",
   "metadata": {},
   "outputs": [
    {
     "data": {
      "text/plain": [
       "[1, 544, 1, 45, 574, 41, 8, 4, 867, 49, 4]"
      ]
     },
     "execution_count": 74,
     "metadata": {},
     "output_type": "execute_result"
    }
   ],
   "source": [
    "l"
   ]
  },
  {
   "cell_type": "code",
   "execution_count": 88,
   "id": "8db1050a-b55c-4a7b-97cf-86f878fa7830",
   "metadata": {},
   "outputs": [],
   "source": [
    "L = [5,9,6,7,3,21,2,6,8]"
   ]
  },
  {
   "cell_type": "code",
   "execution_count": 89,
   "id": "9feb7e5f-d45b-4c07-a375-0894525e6f9f",
   "metadata": {},
   "outputs": [],
   "source": [
    "def alter(L):\n",
    "    L[0] *= 5 # altering the first index"
   ]
  },
  {
   "cell_type": "code",
   "execution_count": 90,
   "id": "8d520306-a690-4b0c-87c3-f5ec66f9624d",
   "metadata": {},
   "outputs": [],
   "source": [
    "alter(L)"
   ]
  },
  {
   "cell_type": "code",
   "execution_count": 91,
   "id": "5ebe7bc3-1416-424a-b03b-882202785294",
   "metadata": {},
   "outputs": [
    {
     "data": {
      "text/plain": [
       "[25, 9, 6, 7, 3, 21, 2, 6, 8]"
      ]
     },
     "execution_count": 91,
     "metadata": {},
     "output_type": "execute_result"
    }
   ],
   "source": [
    "L"
   ]
  },
  {
   "cell_type": "code",
   "execution_count": 92,
   "id": "26844b91-c467-446e-a4b5-7433da21d88b",
   "metadata": {},
   "outputs": [],
   "source": [
    "alter(L)"
   ]
  },
  {
   "cell_type": "code",
   "execution_count": 94,
   "id": "65fd7579-2c6d-4af6-9123-94fac61eca29",
   "metadata": {},
   "outputs": [
    {
     "data": {
      "text/plain": [
       "[125, 9, 6, 7, 3, 21, 2, 6, 8]"
      ]
     },
     "execution_count": 94,
     "metadata": {},
     "output_type": "execute_result"
    }
   ],
   "source": [
    "L"
   ]
  },
  {
   "cell_type": "code",
   "execution_count": 97,
   "id": "41a2efb7-148a-44d5-8216-910db9967369",
   "metadata": {},
   "outputs": [
    {
     "data": {
      "text/plain": [
       "True"
      ]
     },
     "execution_count": 97,
     "metadata": {},
     "output_type": "execute_result"
    }
   ],
   "source": [
    "def modify(mylist):\n",
    "    mylist[0] *= 10\n",
    "    return(mylist)\n",
    "\n",
    "L = [1, 3, 5, 7, 9]\n",
    "M = modify(L) # because L is mutable, this line modifies the original list and assigns the result to the new variable name\n",
    "M is L # so this is true"
   ]
  },
  {
   "cell_type": "code",
   "execution_count": 98,
   "id": "769d1acc-8755-46f6-bba9-96ed4c997bde",
   "metadata": {},
   "outputs": [
    {
     "data": {
      "text/plain": [
       "[10, 3, 5, 7, 9]"
      ]
     },
     "execution_count": 98,
     "metadata": {},
     "output_type": "execute_result"
    }
   ],
   "source": [
    "L = [1, 3, 5, 7, 9]\n",
    "\n",
    "def modify(mylist):\n",
    "    mylist[0] *= 10\n",
    "    return(mylist)\n",
    "\n",
    "\n",
    "modify(L)"
   ]
  },
  {
   "cell_type": "code",
   "execution_count": 101,
   "id": "81dc4014-0d76-466d-941c-9b02237a74f6",
   "metadata": {},
   "outputs": [
    {
     "data": {
      "text/plain": [
       "[10, 3, 5, 7, 9]"
      ]
     },
     "execution_count": 101,
     "metadata": {},
     "output_type": "execute_result"
    }
   ],
   "source": [
    "L # l Itself has been modified"
   ]
  },
  {
   "cell_type": "markdown",
   "id": "6e91430e-28d4-483e-a396-264c7ccb5b3a",
   "metadata": {},
   "source": [
    "## **Writing simple functions**\n",
    "---------"
   ]
  },
  {
   "cell_type": "code",
   "execution_count": 116,
   "id": "4f7b851b-3b76-4f23-b64d-5336b694bc7d",
   "metadata": {},
   "outputs": [],
   "source": [
    "def intersect(seq1,seq2): # to find the set intersect of the two input iterables\n",
    "    results = []\n",
    "    for i in seq1:\n",
    "        if i in seq2:\n",
    "            results.append(i)\n",
    "        else:\n",
    "            pass\n",
    "        return results # note the indentation here"
   ]
  },
  {
   "cell_type": "code",
   "execution_count": 117,
   "id": "6f5ff7bc-0330-4435-979b-e9d00188be8f",
   "metadata": {},
   "outputs": [
    {
     "data": {
      "text/plain": [
       "[4]"
      ]
     },
     "execution_count": 117,
     "metadata": {},
     "output_type": "execute_result"
    }
   ],
   "source": [
    "sequence_1 = [4,8,3,1,6,5,7,9,20,10]\n",
    "sequence_2 = [4,78,1,3,6,56,9,98,84,2]\n",
    "\n",
    "intersect(sequence_1,sequence_2) # loop stops when it finds the first shared element"
   ]
  },
  {
   "cell_type": "code",
   "execution_count": 124,
   "id": "e4665d12-853a-4a89-994f-a94e9f1802a9",
   "metadata": {},
   "outputs": [],
   "source": [
    "def intersect(seq1,seq2): # to find the set intersect of the two input iterables\n",
    "    results = []\n",
    "    for i in seq1:\n",
    "        if i in seq2:\n",
    "            results.append(i) # capturing the intersects\n",
    "        else:\n",
    "            pass\n",
    "    return results # note the indentation here"
   ]
  },
  {
   "cell_type": "code",
   "execution_count": 125,
   "id": "25a02bb0-993e-4c17-b5b2-daa499747ba2",
   "metadata": {},
   "outputs": [
    {
     "data": {
      "text/plain": [
       "[4, 3, 1, 6, 9]"
      ]
     },
     "execution_count": 125,
     "metadata": {},
     "output_type": "execute_result"
    }
   ],
   "source": [
    "sequence_1 = [4,8,3,1,6,5,7,9,20,10]\n",
    "sequence_2 = [4,78,1,3,6,56,9,98,84,2]\n",
    "\n",
    "intersect(sequence_1,sequence_2) # here loop runs over all the elements of the iterable"
   ]
  },
  {
   "cell_type": "code",
   "execution_count": 142,
   "id": "b93f5eba-b320-4286-82aa-bc14e7a2d3c9",
   "metadata": {},
   "outputs": [],
   "source": [
    "def intersect(seq1,seq2): # to find the set intersect of the two input iterables\n",
    "    results = []\n",
    "    for i in seq1:\n",
    "        if i in seq2:\n",
    "            results.append(i) # capturing the intersects\n",
    "        else:\n",
    "            pass\n",
    "    return sorted(results, reverse = True) # note the additional sorting argument  here"
   ]
  },
  {
   "cell_type": "code",
   "execution_count": 143,
   "id": "ce4b5705-d4b4-473e-8e81-5cabf40fd367",
   "metadata": {},
   "outputs": [
    {
     "data": {
      "text/plain": [
       "[9, 6, 4, 3, 1]"
      ]
     },
     "execution_count": 143,
     "metadata": {},
     "output_type": "execute_result"
    }
   ],
   "source": [
    "sequence_1 = [4,8,3,1,6,5,7,9,20,10]\n",
    "sequence_2 = [4,78,1,3,6,56,9,98,84,2]\n",
    "\n",
    "intersect(sequence_1,sequence_2) # here loop runs over all the elements of the iterable"
   ]
  },
  {
   "cell_type": "code",
   "execution_count": 157,
   "id": "4af5ef5c-0bbb-401a-b5e1-fd023693b384",
   "metadata": {},
   "outputs": [],
   "source": [
    "def password(length): # generating a password of the given length\n",
    "    import random\n",
    "    pw = \"\" # can also be done by str()\n",
    "    letters = \"aAbBcCdDeEfFgGhHiIjJkKlLmM\"\n",
    "    symbols = \"~!#$%^&*()_+}{:][\\/.,\"\n",
    "    numbers = \"0123456789\" # no need to create a list with all numbers since passwors is going to be a string\n",
    "    for x in range(length):\n",
    "        pw += random.choice(letters) + random.choice(symbols) + random.choice(numbers)\n",
    "    return pw # since we are looping over three iterables pw is going to contain 15 elements    "
   ]
  },
  {
   "cell_type": "code",
   "execution_count": 159,
   "id": "df886d3a-0843-4e7d-b8ec-a8e036eae674",
   "metadata": {},
   "outputs": [
    {
     "data": {
      "text/plain": [
       "'B{0I\\\\6L+2i~2j(8'"
      ]
     },
     "execution_count": 159,
     "metadata": {},
     "output_type": "execute_result"
    }
   ],
   "source": [
    "password(5)"
   ]
  },
  {
   "cell_type": "code",
   "execution_count": 161,
   "id": "055ae815-df47-4cc3-845f-58ab331683e6",
   "metadata": {},
   "outputs": [
    {
     "data": {
      "text/plain": [
       "15"
      ]
     },
     "execution_count": 161,
     "metadata": {},
     "output_type": "execute_result"
    }
   ],
   "source": [
    "len(password(5))"
   ]
  },
  {
   "cell_type": "code",
   "execution_count": 163,
   "id": "9bc1b750-230b-4b2b-bc5d-997f42298a51",
   "metadata": {},
   "outputs": [],
   "source": [
    "def password(length):\n",
    "    import random\n",
    "    pw = str()\n",
    "    letters = \"aAbBcCdDeEfFgGhHiIjJkKlLmMnNoOpPqQrRsStTuUvVwWxXyYzZ\"\n",
    "    for x in range(length):\n",
    "        pw += random.choice(letters)\n",
    "    return pw "
   ]
  },
  {
   "cell_type": "code",
   "execution_count": 164,
   "id": "f5e9f98a-d234-4f42-b7f4-2eece03fbaf9",
   "metadata": {},
   "outputs": [
    {
     "data": {
      "text/plain": [
       "'pMdffVKXA'"
      ]
     },
     "execution_count": 164,
     "metadata": {},
     "output_type": "execute_result"
    }
   ],
   "source": [
    "password(9)"
   ]
  },
  {
   "cell_type": "code",
   "execution_count": 166,
   "id": "2d1de633-695e-4d92-aafc-e3feb0a80668",
   "metadata": {},
   "outputs": [],
   "source": [
    "def password(length):\n",
    "    import random\n",
    "    import string\n",
    "    pw = str()\n",
    "    letters = string.ascii_letters # whole english alphabets: without typing in each individually\n",
    "    for x in range(length):\n",
    "        pw += random.choice(letters)\n",
    "    return pw "
   ]
  },
  {
   "cell_type": "code",
   "execution_count": 167,
   "id": "74c5d1df-2fe8-40bb-b5c0-5eff7a701a17",
   "metadata": {},
   "outputs": [
    {
     "data": {
      "text/plain": [
       "'IyQitpnmneHJ'"
      ]
     },
     "execution_count": 167,
     "metadata": {},
     "output_type": "execute_result"
    }
   ],
   "source": [
    "password(12)"
   ]
  },
  {
   "cell_type": "code",
   "execution_count": 169,
   "id": "d5626618-8c54-436a-bede-08512a512c73",
   "metadata": {},
   "outputs": [],
   "source": [
    "def password(length): # generating a password of the given length\n",
    "    import random\n",
    "    pw = \"\" # can also be done by str()\n",
    "    chars = \"aAbBcCdDeEfFgGhHiIjJkKlLmMnNoOpPqQrRsStTuUvVwWxXyYzZ~!#$%^&*()_+}{:][\\/.,0123456789\" \n",
    "    for x in range(length):\n",
    "        pw += random.choice(chars)\n",
    "    return pw    "
   ]
  },
  {
   "cell_type": "code",
   "execution_count": 175,
   "id": "40a3f190-4fd2-4803-ac9b-510402b5de77",
   "metadata": {},
   "outputs": [
    {
     "data": {
      "text/plain": [
       "'b,\\\\FGM_Bc2vA!!'"
      ]
     },
     "execution_count": 175,
     "metadata": {},
     "output_type": "execute_result"
    }
   ],
   "source": [
    "password(14) # voila"
   ]
  },
  {
   "cell_type": "code",
   "execution_count": 176,
   "id": "8a99ed6d-cedc-45e2-84da-54ce60898baa",
   "metadata": {},
   "outputs": [
    {
     "data": {
      "text/plain": [
       "'%9mD5Z]xK}]Fl\\\\'"
      ]
     },
     "execution_count": 176,
     "metadata": {},
     "output_type": "execute_result"
    }
   ],
   "source": [
    "password(14)"
   ]
  },
  {
   "cell_type": "code",
   "execution_count": 177,
   "id": "31275405-5858-4b44-b2be-273bef86bfe9",
   "metadata": {},
   "outputs": [
    {
     "data": {
      "text/plain": [
       "'i!9TS_XTxAsgHa'"
      ]
     },
     "execution_count": 177,
     "metadata": {},
     "output_type": "execute_result"
    }
   ],
   "source": [
    "password(14)"
   ]
  },
  {
   "cell_type": "code",
   "execution_count": 178,
   "id": "2a190f8d-50f2-4d72-b25f-3d6d63629699",
   "metadata": {},
   "outputs": [
    {
     "data": {
      "text/plain": [
       "'8Dx::_up49XiPy'"
      ]
     },
     "execution_count": 178,
     "metadata": {},
     "output_type": "execute_result"
    }
   ],
   "source": [
    "password(14)"
   ]
  },
  {
   "cell_type": "code",
   "execution_count": 180,
   "id": "4ba2a671-13bb-4177-8312-8dc0bc23b16c",
   "metadata": {},
   "outputs": [],
   "source": [
    "def is_vowel(letter):\n",
    "    if letter in \"aeiouy\":\n",
    "        return(True)\n",
    "    else:\n",
    "        return(False)"
   ]
  },
  {
   "cell_type": "code",
   "execution_count": 181,
   "id": "ac5a3964-f7a2-48f0-93c6-f1536549121e",
   "metadata": {},
   "outputs": [
    {
     "ename": "TypeError",
     "evalue": "'in <string>' requires string as left operand, not int",
     "output_type": "error",
     "traceback": [
      "\u001b[1;31m---------------------------------------------------------------------------\u001b[0m",
      "\u001b[1;31mTypeError\u001b[0m                                 Traceback (most recent call last)",
      "\u001b[1;32m~\\AppData\\Local\\Temp/ipykernel_7272/4098053693.py\u001b[0m in \u001b[0;36m<module>\u001b[1;34m\u001b[0m\n\u001b[1;32m----> 1\u001b[1;33m \u001b[0mis_vowel\u001b[0m\u001b[1;33m(\u001b[0m\u001b[1;36m9\u001b[0m\u001b[1;33m)\u001b[0m\u001b[1;33m\u001b[0m\u001b[1;33m\u001b[0m\u001b[0m\n\u001b[0m",
      "\u001b[1;32m~\\AppData\\Local\\Temp/ipykernel_7272/2187622834.py\u001b[0m in \u001b[0;36mis_vowel\u001b[1;34m(letter)\u001b[0m\n\u001b[0;32m      1\u001b[0m \u001b[1;32mdef\u001b[0m \u001b[0mis_vowel\u001b[0m\u001b[1;33m(\u001b[0m\u001b[0mletter\u001b[0m\u001b[1;33m)\u001b[0m\u001b[1;33m:\u001b[0m\u001b[1;33m\u001b[0m\u001b[1;33m\u001b[0m\u001b[0m\n\u001b[1;32m----> 2\u001b[1;33m     \u001b[1;32mif\u001b[0m \u001b[0mletter\u001b[0m \u001b[1;32min\u001b[0m \u001b[1;34m\"aeiouy\"\u001b[0m\u001b[1;33m:\u001b[0m\u001b[1;33m\u001b[0m\u001b[1;33m\u001b[0m\u001b[0m\n\u001b[0m\u001b[0;32m      3\u001b[0m         \u001b[1;32mreturn\u001b[0m\u001b[1;33m(\u001b[0m\u001b[1;32mTrue\u001b[0m\u001b[1;33m)\u001b[0m\u001b[1;33m\u001b[0m\u001b[1;33m\u001b[0m\u001b[0m\n\u001b[0;32m      4\u001b[0m     \u001b[1;32melse\u001b[0m\u001b[1;33m:\u001b[0m\u001b[1;33m\u001b[0m\u001b[1;33m\u001b[0m\u001b[0m\n\u001b[0;32m      5\u001b[0m         \u001b[1;32mreturn\u001b[0m\u001b[1;33m(\u001b[0m\u001b[1;32mFalse\u001b[0m\u001b[1;33m)\u001b[0m\u001b[1;33m\u001b[0m\u001b[1;33m\u001b[0m\u001b[0m\n",
      "\u001b[1;31mTypeError\u001b[0m: 'in <string>' requires string as left operand, not int"
     ]
    }
   ],
   "source": [
    "is_vowel(9)"
   ]
  },
  {
   "cell_type": "code",
   "execution_count": 182,
   "id": "47d4884e-2617-4d7d-87b7-ae270db071b8",
   "metadata": {},
   "outputs": [
    {
     "data": {
      "text/plain": [
       "False"
      ]
     },
     "execution_count": 182,
     "metadata": {},
     "output_type": "execute_result"
    }
   ],
   "source": [
    "is_vowel(str(9))"
   ]
  },
  {
   "cell_type": "code",
   "execution_count": 186,
   "id": "e04cea03-56db-4bf2-9315-ee386a4ffa97",
   "metadata": {},
   "outputs": [],
   "source": [
    "def is_vowel(letter):\n",
    "    if type(letter) == int:\n",
    "        letter = str(letter)\n",
    "    if letter in \"aeiouy\":\n",
    "        return(True)\n",
    "    else:\n",
    "        return(False)"
   ]
  },
  {
   "cell_type": "code",
   "execution_count": 187,
   "id": "0d218384-b355-41c6-ba1a-f1444b80c5b8",
   "metadata": {},
   "outputs": [
    {
     "data": {
      "text/plain": [
       "False"
      ]
     },
     "execution_count": 187,
     "metadata": {},
     "output_type": "execute_result"
    }
   ],
   "source": [
    "is_vowel(89)"
   ]
  },
  {
   "cell_type": "code",
   "execution_count": 197,
   "id": "b2c9454a-2466-46ca-84e0-3f9dc8399c9d",
   "metadata": {},
   "outputs": [],
   "source": [
    "def factorial(n):\n",
    "    if n == 0:\n",
    "        return 1\n",
    "    else:\n",
    "        N = 1\n",
    "        for i in range(1, n+1):\n",
    "            N *= i\n",
    "        return(N)"
   ]
  },
  {
   "cell_type": "code",
   "execution_count": 198,
   "id": "c3756f81-bc79-4d5c-890e-11196773895f",
   "metadata": {},
   "outputs": [
    {
     "data": {
      "text/plain": [
       "24"
      ]
     },
     "execution_count": 198,
     "metadata": {},
     "output_type": "execute_result"
    }
   ],
   "source": [
    "factorial(4)"
   ]
  },
  {
   "cell_type": "markdown",
   "id": "63dd7920-3995-4814-90a8-31f56d46b009",
   "metadata": {},
   "source": [
    "## **Common mistakes and errors**\n",
    "--------"
   ]
  },
  {
   "cell_type": "code",
   "execution_count": 40,
   "id": "084bf226-30d4-4ae7-9489-c824dd8d2942",
   "metadata": {},
   "outputs": [],
   "source": [
    "l = [1,2,3,4,5,6,7,8,9,0]"
   ]
  },
  {
   "cell_type": "code",
   "execution_count": 5,
   "id": "d0ce1149-3a19-4331-a7a3-b44e269d5595",
   "metadata": {},
   "outputs": [
    {
     "data": {
      "text/plain": [
       "9"
      ]
     },
     "execution_count": 5,
     "metadata": {},
     "output_type": "execute_result"
    }
   ],
   "source": [
    "l[8]"
   ]
  },
  {
   "cell_type": "code",
   "execution_count": 6,
   "id": "9ad2067a-b8f2-4918-8c11-3fd150fec3a2",
   "metadata": {},
   "outputs": [
    {
     "ename": "IndexError",
     "evalue": "list index out of range",
     "output_type": "error",
     "traceback": [
      "\u001b[1;31m---------------------------------------------------------------------------\u001b[0m",
      "\u001b[1;31mIndexError\u001b[0m                                Traceback (most recent call last)",
      "\u001b[1;32m~\\AppData\\Local\\Temp/ipykernel_10172/3040575507.py\u001b[0m in \u001b[0;36m<module>\u001b[1;34m\u001b[0m\n\u001b[1;32m----> 1\u001b[1;33m \u001b[0ml\u001b[0m\u001b[1;33m[\u001b[0m\u001b[1;36m14\u001b[0m\u001b[1;33m]\u001b[0m\u001b[1;33m\u001b[0m\u001b[1;33m\u001b[0m\u001b[0m\n\u001b[0m",
      "\u001b[1;31mIndexError\u001b[0m: list index out of range"
     ]
    }
   ],
   "source": [
    "l[14]"
   ]
  },
  {
   "cell_type": "markdown",
   "id": "13e9532a-0335-43ac-9b05-921560066f31",
   "metadata": {},
   "source": [
    "**`IndexError: list index out of range`** means that the index specified in the call is outside the available indices!     \n",
    "**Know the length of sequences/iterables before specifying indices!!**"
   ]
  },
  {
   "cell_type": "code",
   "execution_count": 9,
   "id": "c7b66714-8637-4e10-82e5-2ffc35e43137",
   "metadata": {},
   "outputs": [
    {
     "data": {
      "text/plain": [
       "10"
      ]
     },
     "execution_count": 9,
     "metadata": {},
     "output_type": "execute_result"
    }
   ],
   "source": [
    "len(l) # 10 < 14"
   ]
  },
  {
   "cell_type": "markdown",
   "id": "8554ecb5-e00b-4815-96b3-f605350f0883",
   "metadata": {},
   "source": [
    "### **_Dictionaries have no left to right ordering, there are coupled key:value pairs but these pairs are arranged in no order inside thedictionaries!!_**"
   ]
  },
  {
   "cell_type": "markdown",
   "id": "cabec0ed-5ce5-4508-aa56-101f49f4cf2f",
   "metadata": {},
   "source": [
    "### **_Calling operations that are not supported by the object!_**"
   ]
  },
  {
   "cell_type": "code",
   "execution_count": 11,
   "id": "81b33d96-484a-43c8-8c6a-ea36e6f18db0",
   "metadata": {},
   "outputs": [
    {
     "ename": "AttributeError",
     "evalue": "'list' object has no attribute 'add'",
     "output_type": "error",
     "traceback": [
      "\u001b[1;31m---------------------------------------------------------------------------\u001b[0m",
      "\u001b[1;31mAttributeError\u001b[0m                            Traceback (most recent call last)",
      "\u001b[1;32m~\\AppData\\Local\\Temp/ipykernel_10172/1608002666.py\u001b[0m in \u001b[0;36m<module>\u001b[1;34m\u001b[0m\n\u001b[1;32m----> 1\u001b[1;33m \u001b[0ml\u001b[0m\u001b[1;33m.\u001b[0m\u001b[0madd\u001b[0m\u001b[1;33m(\u001b[0m\u001b[1;36m89\u001b[0m\u001b[1;33m)\u001b[0m\u001b[1;33m\u001b[0m\u001b[1;33m\u001b[0m\u001b[0m\n\u001b[0m",
      "\u001b[1;31mAttributeError\u001b[0m: 'list' object has no attribute 'add'"
     ]
    }
   ],
   "source": [
    "l.add(89)"
   ]
  },
  {
   "cell_type": "markdown",
   "id": "4eb1229f-b7c3-4358-a98a-dab30af3a9a9",
   "metadata": {},
   "source": [
    "**`AttributeError: 'list' object has no attribute 'add'`**   \n",
    "Means that `list` objects do not support `add()` function!    \n",
    "`add()` is applicable only for sets!!     \n",
    "For lists `append()` should be used instead!"
   ]
  },
  {
   "cell_type": "code",
   "execution_count": 27,
   "id": "116d5cf0-8860-4da0-906c-f2d3154ee7ac",
   "metadata": {},
   "outputs": [],
   "source": [
    "x = set((3, 4, 7, 9, 23, 35, 54, 56, 75, 465))"
   ]
  },
  {
   "cell_type": "code",
   "execution_count": 28,
   "id": "f12a9d6f-3fa8-4cb5-a6c5-6473898490f0",
   "metadata": {},
   "outputs": [
    {
     "data": {
      "text/plain": [
       "{3, 4, 7, 9, 23, 35, 54, 56, 75, 465}"
      ]
     },
     "execution_count": 28,
     "metadata": {},
     "output_type": "execute_result"
    }
   ],
   "source": [
    "x"
   ]
  },
  {
   "cell_type": "code",
   "execution_count": 29,
   "id": "7f6f132a-cc2a-4ea6-8536-cb39d7947aa2",
   "metadata": {},
   "outputs": [
    {
     "data": {
      "text/plain": [
       "set"
      ]
     },
     "execution_count": 29,
     "metadata": {},
     "output_type": "execute_result"
    }
   ],
   "source": [
    "type(x)"
   ]
  },
  {
   "cell_type": "code",
   "execution_count": 30,
   "id": "bb6c11fe-8040-4c54-90d4-0d199799e145",
   "metadata": {},
   "outputs": [],
   "source": [
    "x.add(78)"
   ]
  },
  {
   "cell_type": "code",
   "execution_count": 31,
   "id": "3746253d-f170-4116-b330-84fd1a635cef",
   "metadata": {},
   "outputs": [
    {
     "data": {
      "text/plain": [
       "{3, 4, 7, 9, 23, 35, 54, 56, 75, 78, 465}"
      ]
     },
     "execution_count": 31,
     "metadata": {},
     "output_type": "execute_result"
    }
   ],
   "source": [
    "x"
   ]
  },
  {
   "cell_type": "code",
   "execution_count": 41,
   "id": "75156c24-487c-491f-a955-9f00794c4a9c",
   "metadata": {},
   "outputs": [
    {
     "data": {
      "text/plain": [
       "[1, 2, 3, 4, 5, 6, 7, 8, 9, 0]"
      ]
     },
     "execution_count": 41,
     "metadata": {},
     "output_type": "execute_result"
    }
   ],
   "source": [
    "l"
   ]
  },
  {
   "cell_type": "code",
   "execution_count": 42,
   "id": "c19bf57a-d23e-4da0-a707-ac5abc7817fc",
   "metadata": {},
   "outputs": [],
   "source": [
    "l.append(899)"
   ]
  },
  {
   "cell_type": "code",
   "execution_count": 43,
   "id": "4bf2c6e7-e963-4d15-9035-9bcb0645f143",
   "metadata": {},
   "outputs": [
    {
     "data": {
      "text/plain": [
       "[1, 2, 3, 4, 5, 6, 7, 8, 9, 0, 899]"
      ]
     },
     "execution_count": 43,
     "metadata": {},
     "output_type": "execute_result"
    }
   ],
   "source": [
    "l # voila"
   ]
  },
  {
   "cell_type": "markdown",
   "id": "876c80e2-03fc-4cf2-9b73-79ae66473948",
   "metadata": {},
   "source": [
    "### **Accessing objects in a wrong way**"
   ]
  },
  {
   "cell_type": "code",
   "execution_count": 47,
   "id": "f9636aab-528a-42be-8999-20c6ea660689",
   "metadata": {},
   "outputs": [],
   "source": [
    "couples = {\"Sam\":\"Leslie\", \"Timothy\":\"Sarah\", \"Nathan\":\"Cassandra\", \"Carlos\":\"Jaylene\", \"Bill\":\"Melinda\", \"simon\":\"Alissa\"}"
   ]
  },
  {
   "cell_type": "code",
   "execution_count": 49,
   "id": "024305dc-c38c-4e74-bf38-5e578adc4476",
   "metadata": {},
   "outputs": [
    {
     "data": {
      "text/plain": [
       "dict_keys(['Sam', 'Timothy', 'Nathan', 'Carlos', 'Bill', 'simon'])"
      ]
     },
     "execution_count": 49,
     "metadata": {},
     "output_type": "execute_result"
    }
   ],
   "source": [
    "couples.keys()"
   ]
  },
  {
   "cell_type": "code",
   "execution_count": 51,
   "id": "65d570f2-c728-42f1-845f-fb8d565f41eb",
   "metadata": {},
   "outputs": [
    {
     "data": {
      "text/plain": [
       "dict_values(['Leslie', 'Sarah', 'Cassandra', 'Jaylene', 'Melinda', 'Alissa'])"
      ]
     },
     "execution_count": 51,
     "metadata": {},
     "output_type": "execute_result"
    }
   ],
   "source": [
    "couples.values()"
   ]
  },
  {
   "cell_type": "code",
   "execution_count": 52,
   "id": "18c94023-ca60-43a6-a5ed-6665b22ade36",
   "metadata": {},
   "outputs": [
    {
     "ename": "NameError",
     "evalue": "name 'Sam' is not defined",
     "output_type": "error",
     "traceback": [
      "\u001b[1;31m---------------------------------------------------------------------------\u001b[0m",
      "\u001b[1;31mNameError\u001b[0m                                 Traceback (most recent call last)",
      "\u001b[1;32m~\\AppData\\Local\\Temp/ipykernel_10172/3467463429.py\u001b[0m in \u001b[0;36m<module>\u001b[1;34m\u001b[0m\n\u001b[1;32m----> 1\u001b[1;33m \u001b[0mcouples\u001b[0m\u001b[1;33m[\u001b[0m\u001b[0mSam\u001b[0m\u001b[1;33m]\u001b[0m\u001b[1;33m\u001b[0m\u001b[1;33m\u001b[0m\u001b[0m\n\u001b[0m",
      "\u001b[1;31mNameError\u001b[0m: name 'Sam' is not defined"
     ]
    }
   ],
   "source": [
    "couples[Sam]"
   ]
  },
  {
   "cell_type": "markdown",
   "id": "f8fa1d09-5e55-4b16-96d3-58845d16d58c",
   "metadata": {},
   "source": [
    "`NameError: name 'Sam' is not defined` **Know the type of key objects when doing dictionary lookups!! Here the keys are strings, not variables!**"
   ]
  },
  {
   "cell_type": "code",
   "execution_count": 54,
   "id": "d870b3be-e0d3-4493-acbf-be5860b28e67",
   "metadata": {},
   "outputs": [
    {
     "data": {
      "text/plain": [
       "'Cassandra'"
      ]
     },
     "execution_count": 54,
     "metadata": {},
     "output_type": "execute_result"
    }
   ],
   "source": [
    "couples[\"Nathan\"]"
   ]
  },
  {
   "cell_type": "code",
   "execution_count": 59,
   "id": "ac8d2c3b-aabe-452d-aa22-1501ddc03495",
   "metadata": {},
   "outputs": [
    {
     "name": "stdout",
     "output_type": "stream",
     "text": [
      "Leslie\n",
      "Sarah\n",
      "Cassandra\n",
      "Jaylene\n",
      "Melinda\n",
      "Alissa\n"
     ]
    }
   ],
   "source": [
    "for males in couples.keys(): # voila\n",
    "    print(couples[males])"
   ]
  },
  {
   "cell_type": "markdown",
   "id": "1abcf305-567a-4b7a-9c22-4ebddaa68d0d",
   "metadata": {},
   "source": [
    "### **_Improper indentation_**"
   ]
  },
  {
   "cell_type": "code",
   "execution_count": 104,
   "id": "234e3d22-84bd-4b1e-8ac0-f352845b5a23",
   "metadata": {},
   "outputs": [],
   "source": [
    "def factorial(input):\n",
    "    fact = 1\n",
    "    if input == 0:\n",
    "       return 1\n",
    "    else:\n",
    "       for i in range(1,(input+1)):\n",
    "           fact = fact*i\n",
    "           return(fact)"
   ]
  },
  {
   "cell_type": "code",
   "execution_count": 105,
   "id": "b8a7455d-ca43-4577-9fc9-d50ff1869791",
   "metadata": {},
   "outputs": [
    {
     "data": {
      "text/plain": [
       "1"
      ]
     },
     "execution_count": 105,
     "metadata": {},
     "output_type": "execute_result"
    }
   ],
   "source": [
    "factorial(0)  # if statement is working"
   ]
  },
  {
   "cell_type": "code",
   "execution_count": 106,
   "id": "e650938a-bf74-4869-8b82-3e129dfd256e",
   "metadata": {
    "tags": []
   },
   "outputs": [
    {
     "data": {
      "text/plain": [
       "1"
      ]
     },
     "execution_count": 106,
     "metadata": {},
     "output_type": "execute_result"
    }
   ],
   "source": [
    "factorial(4) # oops! wrong indentation of return statement\n",
    "# returns fact with first iteration, loop doesn't proceed till end"
   ]
  },
  {
   "cell_type": "code",
   "execution_count": 107,
   "id": "dda42c99-c0c5-4afb-abcf-8ce266d82afc",
   "metadata": {},
   "outputs": [],
   "source": [
    "def factorial(input):\n",
    "    fact = 1\n",
    "    if input == 0:\n",
    "       return 1\n",
    "    else:\n",
    "       for i in range(1,(input+1)):\n",
    "           fact = fact*i\n",
    "       return(fact)"
   ]
  },
  {
   "cell_type": "code",
   "execution_count": 108,
   "id": "b392fb51-ae11-4545-873f-f7628aba571b",
   "metadata": {},
   "outputs": [
    {
     "data": {
      "text/plain": [
       "24"
      ]
     },
     "execution_count": 108,
     "metadata": {},
     "output_type": "execute_result"
    }
   ],
   "source": [
    "factorial(4) # 4*3*2*1 voila"
   ]
  },
  {
   "cell_type": "code",
   "execution_count": 110,
   "id": "4cde026e-e94a-48ef-9d99-7a4d313b9fc3",
   "metadata": {},
   "outputs": [
    {
     "data": {
      "text/plain": [
       "362880"
      ]
     },
     "execution_count": 110,
     "metadata": {},
     "output_type": "execute_result"
    }
   ],
   "source": [
    "factorial(9) # perfect"
   ]
  }
 ],
 "metadata": {
  "kernelspec": {
   "display_name": "Python 3 (ipykernel)",
   "language": "python",
   "name": "python3"
  },
  "language_info": {
   "codemirror_mode": {
    "name": "ipython",
    "version": 3
   },
   "file_extension": ".py",
   "mimetype": "text/x-python",
   "name": "python",
   "nbconvert_exporter": "python",
   "pygments_lexer": "ipython3",
   "version": "3.10.0"
  }
 },
 "nbformat": 4,
 "nbformat_minor": 5
}
