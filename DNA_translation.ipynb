{
 "cells": [
  {
   "cell_type": "markdown",
   "id": "2b69489d-4247-40f6-af13-e706e91c08fd",
   "metadata": {},
   "source": [
    "### **Download a DNA sequence**\n",
    "### **Translate the sequence into amino acids**\n",
    "### **Download the amino acid sequence to cross check our translation**"
   ]
  },
  {
   "cell_type": "markdown",
   "id": "b7f78d5e-4052-4553-b541-f1d0c461c8a6",
   "metadata": {},
   "source": [
    "**WE HAVE FOUR TASKS**   \n",
    "1) Manualy download DNA and aminoacid sequence data  \n",
    "2) Import the DNA data into Python  \n",
    "3) Write an algorithm that translates DNA sequence into aminoacid sequence of proteins \n",
    "4) Check if the translation from the algorithm matches the downloaded aminoacid sequence"
   ]
  },
  {
   "cell_type": "markdown",
   "id": "2a6e9943-a267-4e95-a0bf-12ecb43644db",
   "metadata": {},
   "source": [
    "**Download 2 files from NCBI (The National Center for Biotechnology Information) website**\n"
   ]
  },
  {
   "cell_type": "markdown",
   "id": "32b58af5-484c-45e0-8ac7-8df6b112e2ab",
   "metadata": {},
   "source": [
    "url = `https://www.ncbi.nlm.nih.gov/nuccore/NM_207618.2`   \n",
    "**Mus musculus vomeronasal 1 receptor, D18 (V1rd18), mRNA**   \n",
    "**Accession number NM_201917.2**"
   ]
  },
  {
   "cell_type": "markdown",
   "id": "b4f30ac9-69f2-4722-bf3f-2276a063c972",
   "metadata": {},
   "source": [
    "**Copy paste the mRNA sequence**   \n",
    "    \n",
    "`GGTCAGAAAAAGCCCTCTCCATGTCTACTCACGATACATCCCTGAAAACCACTGAGGAAGTGGCTTTTCA\n",
    "GATCATCTTGCTTTGCCAGTTTGGGGTTGGGACTTTTGCCAATGTATTTCTCTTTGTCTATAATTTCTCT\n",
    "CCAATCTCGACTGGTTCTAAACAGAGGCCCAGACAAGTGATTTTAAGACACATGGCTGTGGCCAATGCCT\n",
    "TAACTCTCTTCCTCACTATATTTCCAAACAACATGATGACTTTTGCTCCAATTATTCCTCAAACTGACCT\n",
    "CAAATGTAAATTAGAATTCTTCACTCGCCTCGTGGCAAGAAGCACAAACTTGTGTTCAACTTGTGTTCTG\n",
    "AGTATCCATCAGTTTGTCACACTTGTTCCTGTTAATTCAGGTAAAGGAATACTCAGAGCAAGTGTCACAA\n",
    "ACATGGCAAGTTATTCTTGTTACAGTTGTTGGTTCTTCAGTGTCTTAAATAACATCTACATTCCAATTAA\n",
    "GGTCACTGGTCCACAGTTAACAGACAATAACAATAACTCTAAAAGCAAGTTGTTCTGTTCCACTTCTGAT\n",
    "TTCAGTGTAGGCATTGTCTTCTTGAGGTTTGCCCATGATGCCACATTCATGAGCATCATGGTCTGGACCA\n",
    "GTGTCTCCATGGTACTTCTCCTCCATAGACATTGTCAGAGAATGCAGTACATATTCACTCTCAATCAGGA\n",
    "CCCCAGGGGCCAAGCAGAGACCACAGCAACCCATACTATCCTGATGCTGGTAGTCACATTTGTTGGCTTT\n",
    "TATCTTCTAAGTCTTATTTGTATCATCTTTTACACCTATTTTATATATTCTCATCATTCCCTGAGGCATT\n",
    "GCAATGACATTTTGGTTTCGGGTTTCCCTACAATTTCTCCTTTACTGTTGACCTTCAGAGACCCTAAGGG\n",
    "TCCTTGTTCTGTGTTCTTCAACTGTTGAAAGCCAGAGTCACTAAAAATGCCAAACACAGAAGACAGCTTT\n",
    "GCTAATACCATTAAATACTTTATTCCATAAATATGTTTTTAAAAGCTTGTATGAACAAGGTATGGTGCTC\n",
    "ACTGCTATACTTATAAAAGAGTAAGGTTATAATCACTTGTTGATATGAAAAGATTTCTGGTTGGAATCTG\n",
    "    ATTGAAACAGTGAGTTATTCACCACCCTCCATTCTCT`    \n",
    "**Saved as mRNA.txt in working directory.**"
   ]
  },
  {
   "cell_type": "markdown",
   "id": "d08f3eb4-4813-49b4-9169-9447e187d8f9",
   "metadata": {},
   "source": [
    "**Amino acid sequence downloaded from NCBI:**   \n",
    "`translation = \"MSTHDTSLKTTEEVAFQIILLCQFGVGTFANVFLFVYNFSPIST\n",
    "GSKQRPRQVILRHMAVANALTLFLTIFPNNMMTFAPIIPQTDLKCKLEFFTRLVARST\n",
    "NLCSTCVLSIHQFVTLVPVNSGKGILRASVTNMASYSCYSCWFFSVLNNIYIPIKVTG\n",
    "PQLTDNNNNSKSKLFCSTSDFSVGIVFLRFAHDATFMSIMVWTSVSMVLLLHRHCQRM\n",
    "QYIFTLNQDPRGQAETTATHTILMLVVTFVGFYLLSLICIIFYTYFIYSHHSLRHCND\n",
    "ILVSGFPTISPLLLTFRDPKGPCSVFFNC\"`   \n",
    "**Saved as aaseq.txt in working directory**"
   ]
  },
  {
   "cell_type": "markdown",
   "id": "42492809-7ad6-412b-bacf-e725dd6dfc1e",
   "metadata": {},
   "source": [
    "### **Arabidopsis thaliana Double Clp-N motif-containing P-loop nucleoside triphosphate hydrolases superfamily protein (AT2G40130) mRNA**     \n",
    "**`GTAACAACCAAAAAATAATTCACCTGAGACTCACATTCTTTAAGGTTTTCGCATTTAATATTTCACTTTC\n",
    "TTGAAATCTCCTATATTTTTGTTATATATGGTCGTCGGCGATGCCAACGGCGGTGAATGTAGCGAAACAA\n",
    "TGCTTAACGGCAGAAGCATCCTACGCATTAGAAGAAGCTGTGAACGTTGCACGTCGAAGAGGACACTCAC\n",
    "AAACGACGTCGCTTCACGCTATCTCAGCTTTACTCTCTCTACCAACCTCAGTCTTACGTGACGCATGTGC\n",
    "TCGTGTTCGTAACTCTGCTTACTCTCCTCGTCTTCAATTCAAAGCTTTAGATCTTTGCTTAAGCGTTTCT\n",
    "TTAGACCGGATCCAGTCGGGTCATCAACTTGGATCTGATGATTCACCACCTGTTTCTAACTCTCTAATGG\n",
    "CTGCAATTAAACGATCTCAAGCGCATCAACGTCGTTTACCTGAGAACTTCAGGATCTATCAAGAAATGTC\n",
    "ACAGAGTCAGAATCAGAACTCACTTTCTTGTGTGAAAGTGGAGCTTCGTCAGTTGATTCTTTCGATCTTG\n",
    "GATGATCCGGTTGTGAGCCGGGTTTTTGGTGAAGCGGGTTTTCGGAGCTCCGAGTTAAAGCTTTCCATTA\n",
    "TTCGACCTGTTCCTCATCTTCTTCGTTATTCATCACAACAGCCTCTGTTTCTCTGTAACCTAACCGGGAA\n",
    "TCCTGAACCGAATCCGGTTCGATGGGGTTTCACCGTACCAAGCCTGAATTTTAACGGAGATTTGGATTAC\n",
    "CGGAGGATTAGCGCGGTTTTCACGAAAGATAAAGGGAGGAATCCTCTGCTTGTTGGTGTATCAGCTTACG\n",
    "GTGTACTAACCAGTTATTTAAATTCGCTAGAGAAAAACCAAACCGACGGGATGATTCTCCCGACGAAGCT\n",
    "TCACGGTTTAACGGCGGTTAACATCGGTTCAGAAATCTCCGACCAAATCAGCGTCAAATTCGATAAAACC\n",
    "TACACCGACACTAGGTTTCATGATCTAGGGAAGCTTGCAGAGCAAGGTTCAGGACCTGGACTACTCTTAC\n",
    "ACTACGGTGATCTTAGGGTTTTCACCAACGGCGAAGGAAACGTACCGGCGGCGAATTACATCGTGAATCG\n",
    "GATTTCGGAGCTGTTGCGGCGACACGGGAGAAGAGTGTGGTTGATCGGAGCGACGACGAGCAACGAGGTT\n",
    "TATGAGAAGATGATGAGAAGGTTTCCGAATGTGGAGAAAGATTGGGATTTGCAGTTACTCACCATCACTT\n",
    "CTCTTAAGCCTTGTTTGCCTCACAACAAGTCCAGTTTGATAGGATCATTTGTTCCGTTTGGTGGATTCTT\n",
    "CTCAACAACTCCTTCTGAACTGAAACTACCCTTCTCCGGTTTCAAAACGGAAATCACCGGACCCGTTTCT\n",
    "TCAATATCCGATCAGACACAATCTACCTTGCCACCTTGGTTACAAATGACCACAAGAACTGATTTAAACC\n",
    "AAAAATCAAGTGCCAAGGTCGTGCAGACCAAAGAAGGGTTGGAATCAGTTTGTGGAAATAAGTTCACGAG\n",
    "CAGTGCTTCTGCATCGACCTGTTCAGCTAAATCGGTCACCACTGATCTGAATCTTAGGGTAAGTTCAGTC\n",
    "ACCACAGGATCCGGTCTCAAGAAGCATTTGGATAGCAAAGATTTTTCTCAGCCACAATCTGTGTCCTCCT\n",
    "ATTCCTTTGATAACCCAAGGGACCTCAACGCAGAGAGTTTCAAGATTATTTACAGAAGATTAACCGATAT\n",
    "GGTTTCAGGACAAGATGAGGCTGCTAGAGTTATCAGCTGTGCACTGTCACAACCGCCTAAGAGTGTCACT\n",
    "CGAAGAGATGTTTGGCTTAATTTGGTTGGTCCTGATACTGTAGGAAAGAGAAGAATGTCGCTTGTCCTTG\n",
    "CTGAGATTGTGTATCAAAGCGAACACAGATTTATGGCCGTTGATCTTGGTGCCGCGGAGCAGGGAATGGG\n",
    "CGGTTGTGATGATCCGATGAGGTTGAGAGGAAAGACGATGGTTGATCATATCTTTGAAGTGATGTGTAGG\n",
    "AATCCTTTCTGCGTGGTTTTCCTTGAGAACATTGAAAAAGCTGACGAGAAGCTGCAGATGAGCTTGTCAA\n",
    "AGGCAATCGAAACTGGGAAGTTTATGGATTCACACGGGAGAGAAGTTGGTATCGGAAACACTATTTTTGT\n",
    "TATGACGTCATCTTCACAAGGTTCCGCAACAACAACATCTTATTCTGAAGAGAAACTATTGAGAGTCAAA\n",
    "GGAAGGCAAGTGGAGATAAGGATTGAAACTGTATCTAGTTTACCAATGGTGCGATCGGTTTACGGCCCAA\n",
    "CCTCGGTGAACAAGAGGAAGCTGATGGGATTAGGGAATCTTCAGGAGACAAAAGATACTGTGGAGAGCGT\n",
    "AAAACGGTTAAACAGAACAACTAATGGAGTTCTTGATCTGAACCTTCCGGCTCAAGAAACCGAAATCGAG\n",
    "GAAAAATATCATTGTGAAGAGAACTCAAACGTTTGGTTAATGAACTTGAAGAATCATAAACGTCTCATTG\n",
    "AGGTTCCTTTCAAGCCTTTTGATTTTGAAGGACTAGCTGAAAAAATCAAAAAGAGCGTTAAAGAAAATTT\n",
    "CGACAAGTGCGTGAGATCGGATTGCTTGCTGGAGGTTGACCCTAAGATCATAGAACGATTGCTAGCGGCT\n",
    "GTTTATTTCTCAGATAGTAGAAAAGATATCAAAGAGTTGCTGGAGAATATAATGAGTCCAGTGTTCTTGA\n",
    "GAATTAAAGAAAGGTATGAAATCACTACTAGTTGTGTAGTAAAATTAGTTGGTCGAGATCTTGACATTTT\n",
    "TCTTGAGGATCAAATGGACTTGTTCTTTGTAAAATCTCAGTAGGTTAAAGAGAACTTTATATGGAAAGTG\n",
    "TATCATATAAGGTAGAGTTAGTAATAGGTATTATTGTTCTTTTGTGTTGCTATACTATGATAATGTGTGT\n",
    "TCCTGTAGTTATGATGATGAGTTGATCTTTCTCCTTGTTTATTTTATATGTATGTAAATAGTTATTTACA\n",
    "TTCTATTTTATTTTACCTGTTTTAAAC`**     \n",
    "          \n",
    "**Amino acid sequence**      \n",
    "**`MPTAVNVAKQCLTAEASYALEEAVNVARRRGHSQTTSLHAISAL\n",
    "LSLPTSVLRDACARVRNSAYSPRLQFKALDLCLSVSLDRIQSGHQLGSDDSPPVSNSL\n",
    "MAAIKRSQAHQRRLPENFRIYQEMSQSQNQNSLSCVKVELRQLILSILDDPVVSRVFG\n",
    "EAGFRSSELKLSIIRPVPHLLRYSSQQPLFLCNLTGNPEPNPVRWGFTVPSLNFNGDL\n",
    "DYRRISAVFTKDKGRNPLLVGVSAYGVLTSYLNSLEKNQTDGMILPTKLHGLTAVNIG\n",
    "SEISDQISVKFDKTYTDTRFHDLGKLAEQGSGPGLLLHYGDLRVFTNGEGNVPAANYI\n",
    "VNRISELLRRHGRRVWLIGATTSNEVYEKMMRRFPNVEKDWDLQLLTITSLKPCLPHN\n",
    "KSSLIGSFVPFGGFFSTTPSELKLPFSGFKTEITGPVSSISDQTQSTLPPWLQMTTRT\n",
    "DLNQKSSAKVVQTKEGLESVCGNKFTSSASASTCSAKSVTTDLNLRVSSVTTGSGLKK\n",
    "HLDSKDFSQPQSVSSYSFDNPRDLNAESFKIIYRRLTDMVSGQDEAARVISCALSQPP\n",
    "KSVTRRDVWLNLVGPDTVGKRRMSLVLAEIVYQSEHRFMAVDLGAAEQGMGGCDDPMR\n",
    "LRGKTMVDHIFEVMCRNPFCVVFLENIEKADEKLQMSLSKAIETGKFMDSHGREVGIG\n",
    "NTIFVMTSSSQGSATTTSYSEEKLLRVKGRQVEIRIETVSSLPMVRSVYGPTSVNKRK\n",
    "LMGLGNLQETKDTVESVKRLNRTTNGVLDLNLPAQETEIEEKYHCEENSNVWLMNLKN\n",
    "HKRLIEVPFKPFDFEGLAEKIKKSVKENFDKCVRSDCLLEVDPKIIERLLAAVYFSDS\n",
    "RKDIKELLENIMSPVFLRIKERYEITTSCVVKLVGRDLDIFLEDQMDLFFVKSQ`**"
   ]
  },
  {
   "cell_type": "code",
   "execution_count": 1,
   "id": "355e05fb-4ba3-4eef-bc68-21db18983685",
   "metadata": {},
   "outputs": [
    {
     "data": {
      "text/plain": [
       "'C:\\\\Users\\\\Anoba\\\\Documents\\\\Python\\\\Using_Python_for_Research'"
      ]
     },
     "execution_count": 1,
     "metadata": {},
     "output_type": "execute_result"
    }
   ],
   "source": [
    "import os\n",
    "os.getcwd()"
   ]
  },
  {
   "cell_type": "code",
   "execution_count": 3,
   "id": "94c2752f-f8bb-485d-85d1-b876b85d6851",
   "metadata": {},
   "outputs": [
    {
     "data": {
      "text/plain": [
       "'C:\\\\Users\\\\Anoba\\\\Documents\\\\Python\\\\Using_Python_for_Research'"
      ]
     },
     "execution_count": 3,
     "metadata": {},
     "output_type": "execute_result"
    }
   ],
   "source": [
    "pwd  # stands for print working directory"
   ]
  },
  {
   "cell_type": "code",
   "execution_count": 4,
   "id": "47b369b5-7618-4af7-8fed-fa4c0c47320f",
   "metadata": {},
   "outputs": [],
   "source": [
    "# cd can be used in Python shell to switch working directories"
   ]
  },
  {
   "cell_type": "code",
   "execution_count": 14,
   "id": "6c3a4602-9be1-40d1-a420-9b64b498bb72",
   "metadata": {},
   "outputs": [],
   "source": [
    "os.chdir(\"C:\\\\Users\")"
   ]
  },
  {
   "cell_type": "code",
   "execution_count": 15,
   "id": "f5e525d1-efd8-4487-bcde-c9553e45e02e",
   "metadata": {},
   "outputs": [
    {
     "data": {
      "text/plain": [
       "'C:\\\\Users'"
      ]
     },
     "execution_count": 15,
     "metadata": {},
     "output_type": "execute_result"
    }
   ],
   "source": [
    "os.getcwd()"
   ]
  },
  {
   "cell_type": "code",
   "execution_count": 16,
   "id": "cd6b46a0-5970-4761-8542-58b5973bda5c",
   "metadata": {},
   "outputs": [
    {
     "name": "stdout",
     "output_type": "stream",
     "text": [
      "C:\\Users\\Anoba\n"
     ]
    }
   ],
   "source": [
    "cd Anoba\\\\"
   ]
  },
  {
   "cell_type": "code",
   "execution_count": 17,
   "id": "47f6c636-40d1-44ad-87a8-833141531155",
   "metadata": {},
   "outputs": [
    {
     "name": "stdout",
     "output_type": "stream",
     "text": [
      "C:\\Users\\Anoba\\Documents\\Python\n"
     ]
    }
   ],
   "source": [
    "cd Documents\\\\Python\\\\"
   ]
  },
  {
   "cell_type": "code",
   "execution_count": 19,
   "id": "241c2e27-84c3-435a-99d5-9805a02f1913",
   "metadata": {},
   "outputs": [
    {
     "name": "stdout",
     "output_type": "stream",
     "text": [
      "C:\\Users\\Anoba\\Documents\\Python\\Using_Python_for_Research\n"
     ]
    }
   ],
   "source": [
    "cd Using_Python_for_Research  "
   ]
  },
  {
   "cell_type": "code",
   "execution_count": 23,
   "id": "f25c9f42-d603-4f00-ad31-25a1e3066e85",
   "metadata": {},
   "outputs": [],
   "source": [
    "inputfile = \"mRNA.txt\"\n",
    "mRNA = open(inputfile, \"r\")  # r is for reading"
   ]
  },
  {
   "cell_type": "code",
   "execution_count": 24,
   "id": "aebe0eed-d14d-4f82-9502-c640a9e8401e",
   "metadata": {},
   "outputs": [
    {
     "data": {
      "text/plain": [
       "<_io.TextIOWrapper name='mRNA.txt' mode='r' encoding='cp1252'>"
      ]
     },
     "execution_count": 24,
     "metadata": {},
     "output_type": "execute_result"
    }
   ],
   "source": [
    "mRNA # we haven't read in the sequence yet. Just have created an object"
   ]
  },
  {
   "cell_type": "code",
   "execution_count": 25,
   "id": "d4de2ca5-7ebf-4252-9930-3bc19e654ba6",
   "metadata": {},
   "outputs": [],
   "source": [
    "mRNA_seq = mRNA.read()"
   ]
  },
  {
   "cell_type": "code",
   "execution_count": 27,
   "id": "0a97fcbe-34ff-4e2d-964f-55a302e336c8",
   "metadata": {},
   "outputs": [
    {
     "data": {
      "text/plain": [
       "'GGTCAGAAAAAGCCCTCTCCATGTCTACTCACGATACATCCCTGAAAACCACTGAGGAAGTGGCTTTTCA\\nGATCATCTTGCTTTGCCAGTTTGGGGTTGGGACTTTTGCCAATGTATTTCTCTTTGTCTATAATTTCTCT\\nCCAATCTCGACTGGTTCTAAACAGAGGCCCAGACAAGTGATTTTAAGACACATGGCTGTGGCCAATGCCT\\nTAACTCTCTTCCTCACTATATTTCCAAACAACATGATGACTTTTGCTCCAATTATTCCTCAAACTGACCT\\nCAAATGTAAATTAGAATTCTTCACTCGCCTCGTGGCAAGAAGCACAAACTTGTGTTCAACTTGTGTTCTG\\nAGTATCCATCAGTTTGTCACACTTGTTCCTGTTAATTCAGGTAAAGGAATACTCAGAGCAAGTGTCACAA\\nACATGGCAAGTTATTCTTGTTACAGTTGTTGGTTCTTCAGTGTCTTAAATAACATCTACATTCCAATTAA\\nGGTCACTGGTCCACAGTTAACAGACAATAACAATAACTCTAAAAGCAAGTTGTTCTGTTCCACTTCTGAT\\nTTCAGTGTAGGCATTGTCTTCTTGAGGTTTGCCCATGATGCCACATTCATGAGCATCATGGTCTGGACCA\\nGTGTCTCCATGGTACTTCTCCTCCATAGACATTGTCAGAGAATGCAGTACATATTCACTCTCAATCAGGA\\nCCCCAGGGGCCAAGCAGAGACCACAGCAACCCATACTATCCTGATGCTGGTAGTCACATTTGTTGGCTTT\\nTATCTTCTAAGTCTTATTTGTATCATCTTTTACACCTATTTTATATATTCTCATCATTCCCTGAGGCATT\\nGCAATGACATTTTGGTTTCGGGTTTCCCTACAATTTCTCCTTTACTGTTGACCTTCAGAGACCCTAAGGG\\nTCCTTGTTCTGTGTTCTTCAACTGTTGAAAGCCAGAGTCACTAAAAATGCCAAACACAGAAGACAGCTTT\\nGCTAATACCATTAAATACTTTATTCCATAAATATGTTTTTAAAAGCTTGTATGAACAAGGTATGGTGCTC\\nACTGCTATACTTATAAAAGAGTAAGGTTATAATCACTTGTTGATATGAAAAGATTTCTGGTTGGAATCTG\\nATTGAAACAGTGAGTTATTCACCACCCTCCATTCTCT'"
      ]
     },
     "execution_count": 27,
     "metadata": {},
     "output_type": "execute_result"
    }
   ],
   "source": [
    "mRNA_seq  # voila"
   ]
  },
  {
   "cell_type": "markdown",
   "id": "43ea30c4-444f-475f-81cd-923959db31ea",
   "metadata": {},
   "source": [
    "**Note the sequence contains line break characters  `\\n`   \n",
    "Line breaks affect the way this sequence gets printed**    "
   ]
  },
  {
   "cell_type": "code",
   "execution_count": 29,
   "id": "4e2d830d-4372-4412-95b7-945a6d9f81ad",
   "metadata": {},
   "outputs": [
    {
     "name": "stdout",
     "output_type": "stream",
     "text": [
      "GGTCAGAAAAAGCCCTCTCCATGTCTACTCACGATACATCCCTGAAAACCACTGAGGAAGTGGCTTTTCA\n",
      "GATCATCTTGCTTTGCCAGTTTGGGGTTGGGACTTTTGCCAATGTATTTCTCTTTGTCTATAATTTCTCT\n",
      "CCAATCTCGACTGGTTCTAAACAGAGGCCCAGACAAGTGATTTTAAGACACATGGCTGTGGCCAATGCCT\n",
      "TAACTCTCTTCCTCACTATATTTCCAAACAACATGATGACTTTTGCTCCAATTATTCCTCAAACTGACCT\n",
      "CAAATGTAAATTAGAATTCTTCACTCGCCTCGTGGCAAGAAGCACAAACTTGTGTTCAACTTGTGTTCTG\n",
      "AGTATCCATCAGTTTGTCACACTTGTTCCTGTTAATTCAGGTAAAGGAATACTCAGAGCAAGTGTCACAA\n",
      "ACATGGCAAGTTATTCTTGTTACAGTTGTTGGTTCTTCAGTGTCTTAAATAACATCTACATTCCAATTAA\n",
      "GGTCACTGGTCCACAGTTAACAGACAATAACAATAACTCTAAAAGCAAGTTGTTCTGTTCCACTTCTGAT\n",
      "TTCAGTGTAGGCATTGTCTTCTTGAGGTTTGCCCATGATGCCACATTCATGAGCATCATGGTCTGGACCA\n",
      "GTGTCTCCATGGTACTTCTCCTCCATAGACATTGTCAGAGAATGCAGTACATATTCACTCTCAATCAGGA\n",
      "CCCCAGGGGCCAAGCAGAGACCACAGCAACCCATACTATCCTGATGCTGGTAGTCACATTTGTTGGCTTT\n",
      "TATCTTCTAAGTCTTATTTGTATCATCTTTTACACCTATTTTATATATTCTCATCATTCCCTGAGGCATT\n",
      "GCAATGACATTTTGGTTTCGGGTTTCCCTACAATTTCTCCTTTACTGTTGACCTTCAGAGACCCTAAGGG\n",
      "TCCTTGTTCTGTGTTCTTCAACTGTTGAAAGCCAGAGTCACTAAAAATGCCAAACACAGAAGACAGCTTT\n",
      "GCTAATACCATTAAATACTTTATTCCATAAATATGTTTTTAAAAGCTTGTATGAACAAGGTATGGTGCTC\n",
      "ACTGCTATACTTATAAAAGAGTAAGGTTATAATCACTTGTTGATATGAAAAGATTTCTGGTTGGAATCTG\n",
      "ATTGAAACAGTGAGTTATTCACCACCCTCCATTCTCT\n"
     ]
    }
   ],
   "source": [
    "print(mRNA_seq)  # see the linebreaks"
   ]
  },
  {
   "cell_type": "code",
   "execution_count": 30,
   "id": "cfd91315-3068-485d-b692-2d5596e9c880",
   "metadata": {},
   "outputs": [
    {
     "data": {
      "text/plain": [
       "'GGTCAGAAAAAGCCCTCTCCATGTCTACTCACGATACATCCCTGAAAACCACTGAGGAAGTGGCTTTTCAGATCATCTTGCTTTGCCAGTTTGGGGTTGGGACTTTTGCCAATGTATTTCTCTTTGTCTATAATTTCTCTCCAATCTCGACTGGTTCTAAACAGAGGCCCAGACAAGTGATTTTAAGACACATGGCTGTGGCCAATGCCTTAACTCTCTTCCTCACTATATTTCCAAACAACATGATGACTTTTGCTCCAATTATTCCTCAAACTGACCTCAAATGTAAATTAGAATTCTTCACTCGCCTCGTGGCAAGAAGCACAAACTTGTGTTCAACTTGTGTTCTGAGTATCCATCAGTTTGTCACACTTGTTCCTGTTAATTCAGGTAAAGGAATACTCAGAGCAAGTGTCACAAACATGGCAAGTTATTCTTGTTACAGTTGTTGGTTCTTCAGTGTCTTAAATAACATCTACATTCCAATTAAGGTCACTGGTCCACAGTTAACAGACAATAACAATAACTCTAAAAGCAAGTTGTTCTGTTCCACTTCTGATTTCAGTGTAGGCATTGTCTTCTTGAGGTTTGCCCATGATGCCACATTCATGAGCATCATGGTCTGGACCAGTGTCTCCATGGTACTTCTCCTCCATAGACATTGTCAGAGAATGCAGTACATATTCACTCTCAATCAGGACCCCAGGGGCCAAGCAGAGACCACAGCAACCCATACTATCCTGATGCTGGTAGTCACATTTGTTGGCTTTTATCTTCTAAGTCTTATTTGTATCATCTTTTACACCTATTTTATATATTCTCATCATTCCCTGAGGCATTGCAATGACATTTTGGTTTCGGGTTTCCCTACAATTTCTCCTTTACTGTTGACCTTCAGAGACCCTAAGGGTCCTTGTTCTGTGTTCTTCAACTGTTGAAAGCCAGAGTCACTAAAAATGCCAAACACAGAAGACAGCTTTGCTAATACCATTAAATACTTTATTCCATAAATATGTTTTTAAAAGCTTGTATGAACAAGGTATGGTGCTCACTGCTATACTTATAAAAGAGTAAGGTTATAATCACTTGTTGATATGAAAAGATTTCTGGTTGGAATCTGATTGAAACAGTGAGTTATTCACCACCCTCCATTCTCT'"
      ]
     },
     "execution_count": 30,
     "metadata": {},
     "output_type": "execute_result"
    }
   ],
   "source": [
    "mRNA_seq.replace(\"\\n\",\"\")  # removed all linebreak characters"
   ]
  },
  {
   "cell_type": "code",
   "execution_count": 31,
   "id": "ef14fdc9-b77e-46c7-8b4f-89fc9a6bb0c9",
   "metadata": {},
   "outputs": [],
   "source": [
    "mRNA = mRNA_seq.replace(\"\\n\",\"\") "
   ]
  },
  {
   "cell_type": "code",
   "execution_count": 32,
   "id": "a6d9b574-76d8-41ca-acaa-691cb4576d0c",
   "metadata": {},
   "outputs": [
    {
     "data": {
      "text/plain": [
       "'GGTCAGAAAAAGCCCTCTCCATGTCTACTCACGATACATCCCTGAAAACCACTGAGGAAGTGGCTTTTCAGATCATCTTGCTTTGCCAGTTTGGGGTTGGGACTTTTGCCAATGTATTTCTCTTTGTCTATAATTTCTCTCCAATCTCGACTGGTTCTAAACAGAGGCCCAGACAAGTGATTTTAAGACACATGGCTGTGGCCAATGCCTTAACTCTCTTCCTCACTATATTTCCAAACAACATGATGACTTTTGCTCCAATTATTCCTCAAACTGACCTCAAATGTAAATTAGAATTCTTCACTCGCCTCGTGGCAAGAAGCACAAACTTGTGTTCAACTTGTGTTCTGAGTATCCATCAGTTTGTCACACTTGTTCCTGTTAATTCAGGTAAAGGAATACTCAGAGCAAGTGTCACAAACATGGCAAGTTATTCTTGTTACAGTTGTTGGTTCTTCAGTGTCTTAAATAACATCTACATTCCAATTAAGGTCACTGGTCCACAGTTAACAGACAATAACAATAACTCTAAAAGCAAGTTGTTCTGTTCCACTTCTGATTTCAGTGTAGGCATTGTCTTCTTGAGGTTTGCCCATGATGCCACATTCATGAGCATCATGGTCTGGACCAGTGTCTCCATGGTACTTCTCCTCCATAGACATTGTCAGAGAATGCAGTACATATTCACTCTCAATCAGGACCCCAGGGGCCAAGCAGAGACCACAGCAACCCATACTATCCTGATGCTGGTAGTCACATTTGTTGGCTTTTATCTTCTAAGTCTTATTTGTATCATCTTTTACACCTATTTTATATATTCTCATCATTCCCTGAGGCATTGCAATGACATTTTGGTTTCGGGTTTCCCTACAATTTCTCCTTTACTGTTGACCTTCAGAGACCCTAAGGGTCCTTGTTCTGTGTTCTTCAACTGTTGAAAGCCAGAGTCACTAAAAATGCCAAACACAGAAGACAGCTTTGCTAATACCATTAAATACTTTATTCCATAAATATGTTTTTAAAAGCTTGTATGAACAAGGTATGGTGCTCACTGCTATACTTATAAAAGAGTAAGGTTATAATCACTTGTTGATATGAAAAGATTTCTGGTTGGAATCTGATTGAAACAGTGAGTTATTCACCACCCTCCATTCTCT'"
      ]
     },
     "execution_count": 32,
     "metadata": {},
     "output_type": "execute_result"
    }
   ],
   "source": [
    "mRNA"
   ]
  },
  {
   "cell_type": "code",
   "execution_count": 34,
   "id": "f83a10c9-bd0c-45de-8252-dad6ed3f5a05",
   "metadata": {},
   "outputs": [
    {
     "name": "stdout",
     "output_type": "stream",
     "text": [
      "GGTCAGAAAAAGCCCTCTCCATGTCTACTCACGATACATCCCTGAAAACCACTGAGGAAGTGGCTTTTCAGATCATCTTGCTTTGCCAGTTTGGGGTTGGGACTTTTGCCAATGTATTTCTCTTTGTCTATAATTTCTCTCCAATCTCGACTGGTTCTAAACAGAGGCCCAGACAAGTGATTTTAAGACACATGGCTGTGGCCAATGCCTTAACTCTCTTCCTCACTATATTTCCAAACAACATGATGACTTTTGCTCCAATTATTCCTCAAACTGACCTCAAATGTAAATTAGAATTCTTCACTCGCCTCGTGGCAAGAAGCACAAACTTGTGTTCAACTTGTGTTCTGAGTATCCATCAGTTTGTCACACTTGTTCCTGTTAATTCAGGTAAAGGAATACTCAGAGCAAGTGTCACAAACATGGCAAGTTATTCTTGTTACAGTTGTTGGTTCTTCAGTGTCTTAAATAACATCTACATTCCAATTAAGGTCACTGGTCCACAGTTAACAGACAATAACAATAACTCTAAAAGCAAGTTGTTCTGTTCCACTTCTGATTTCAGTGTAGGCATTGTCTTCTTGAGGTTTGCCCATGATGCCACATTCATGAGCATCATGGTCTGGACCAGTGTCTCCATGGTACTTCTCCTCCATAGACATTGTCAGAGAATGCAGTACATATTCACTCTCAATCAGGACCCCAGGGGCCAAGCAGAGACCACAGCAACCCATACTATCCTGATGCTGGTAGTCACATTTGTTGGCTTTTATCTTCTAAGTCTTATTTGTATCATCTTTTACACCTATTTTATATATTCTCATCATTCCCTGAGGCATTGCAATGACATTTTGGTTTCGGGTTTCCCTACAATTTCTCCTTTACTGTTGACCTTCAGAGACCCTAAGGGTCCTTGTTCTGTGTTCTTCAACTGTTGAAAGCCAGAGTCACTAAAAATGCCAAACACAGAAGACAGCTTTGCTAATACCATTAAATACTTTATTCCATAAATATGTTTTTAAAAGCTTGTATGAACAAGGTATGGTGCTCACTGCTATACTTATAAAAGAGTAAGGTTATAATCACTTGTTGATATGAAAAGATTTCTGGTTGGAATCTGATTGAAACAGTGAGTTATTCACCACCCTCCATTCTCT\n"
     ]
    }
   ],
   "source": [
    "print(mRNA)  # no linebreaks"
   ]
  },
  {
   "cell_type": "markdown",
   "id": "6044e0ea-a8b0-407b-b066-277cb3502ae5",
   "metadata": {},
   "source": [
    "**`\\r` in HTML represents a carriage return character and it is safe to remove that as well**"
   ]
  },
  {
   "cell_type": "code",
   "execution_count": 35,
   "id": "f8a66920-c1f1-4b4c-a279-772ba357d4ef",
   "metadata": {},
   "outputs": [],
   "source": [
    "mRNA = mRNA.replace(\"\\r\",\"\")"
   ]
  },
  {
   "cell_type": "markdown",
   "id": "dc3ce570-f2b3-4114-81ba-1a522018df6f",
   "metadata": {},
   "source": [
    "**Dictionary with codons as keys and aminoacids as values!**"
   ]
  },
  {
   "cell_type": "code",
   "execution_count": 37,
   "id": "64d1eb15-ee5f-4fbc-b695-a1ab046f3939",
   "metadata": {},
   "outputs": [],
   "source": [
    "table = {\n",
    "    'ATA':'I', 'ATC':'I', 'ATT':'I', 'ATG':'M',\n",
    "    'ACA':'T', 'ACC':'T', 'ACG':'T', 'ACT':'T',\n",
    "    'AAC':'N', 'AAT':'N', 'AAA':'K', 'AAG':'K',\n",
    "    'AGC':'S', 'AGT':'S', 'AGA':'R', 'AGG':'R',\n",
    "    'CTA':'L', 'CTC':'L', 'CTG':'L', 'CTT':'L',\n",
    "    'CCA':'P', 'CCC':'P', 'CCG':'P', 'CCT':'P',\n",
    "    'CAC':'H', 'CAT':'H', 'CAA':'Q', 'CAG':'Q',\n",
    "    'CGA':'R', 'CGC':'R', 'CGG':'R', 'CGT':'R',\n",
    "    'GTA':'V', 'GTC':'V', 'GTG':'V', 'GTT':'V',\n",
    "    'GCA':'A', 'GCC':'A', 'GCG':'A', 'GCT':'A',\n",
    "    'GAC':'D', 'GAT':'D', 'GAA':'E', 'GAG':'E',\n",
    "    'GGA':'G', 'GGC':'G', 'GGG':'G', 'GGT':'G',\n",
    "    'TCA':'S', 'TCC':'S', 'TCG':'S', 'TCT':'S',\n",
    "    'TTC':'F', 'TTT':'F', 'TTA':'L', 'TTG':'L',\n",
    "    'TAC':'Y', 'TAT':'Y', 'TAA':'_', 'TAG':'_',\n",
    "    'TGC':'C', 'TGT':'C', 'TGA':'_', 'TGG':'W',\n",
    "}"
   ]
  },
  {
   "cell_type": "code",
   "execution_count": 38,
   "id": "9d192985-797c-46a3-845e-dd4b0f83a59c",
   "metadata": {},
   "outputs": [
    {
     "data": {
      "text/plain": [
       "dict"
      ]
     },
     "execution_count": 38,
     "metadata": {},
     "output_type": "execute_result"
    }
   ],
   "source": [
    "type(table)"
   ]
  },
  {
   "cell_type": "code",
   "execution_count": 66,
   "id": "5dcc60c9-c9f1-4d38-a6cc-8558513bdacb",
   "metadata": {},
   "outputs": [
    {
     "data": {
      "text/plain": [
       "'A'"
      ]
     },
     "execution_count": 66,
     "metadata": {},
     "output_type": "execute_result"
    }
   ],
   "source": [
    "table[\"GCC\"]"
   ]
  },
  {
   "cell_type": "code",
   "execution_count": 48,
   "id": "2b2f55db-b163-4cb3-ad52-6ab1f7d65ad5",
   "metadata": {},
   "outputs": [
    {
     "data": {
      "text/plain": [
       "1157"
      ]
     },
     "execution_count": 48,
     "metadata": {},
     "output_type": "execute_result"
    }
   ],
   "source": [
    "len(mRNA)"
   ]
  },
  {
   "cell_type": "markdown",
   "id": "13694337-caf9-4b2f-9a67-0f41fcfeb55e",
   "metadata": {},
   "source": [
    "### **Introducing the modulo `%` operator**\n",
    "----------------\n",
    "**It returns the remainder of the division**"
   ]
  },
  {
   "cell_type": "code",
   "execution_count": 67,
   "id": "f74d1a00-043c-4e2f-b77f-b76dd6c44122",
   "metadata": {},
   "outputs": [
    {
     "data": {
      "text/plain": [
       "44"
      ]
     },
     "execution_count": 67,
     "metadata": {},
     "output_type": "execute_result"
    }
   ],
   "source": [
    "90%46"
   ]
  },
  {
   "cell_type": "code",
   "execution_count": 68,
   "id": "6ed00bc1-0787-4df6-aca9-816a1bdab68a",
   "metadata": {},
   "outputs": [
    {
     "data": {
      "text/plain": [
       "4"
      ]
     },
     "execution_count": 68,
     "metadata": {},
     "output_type": "execute_result"
    }
   ],
   "source": [
    "9%5"
   ]
  },
  {
   "cell_type": "code",
   "execution_count": 69,
   "id": "810e94a7-66cc-4934-893f-45cd4fdd93c6",
   "metadata": {},
   "outputs": [
    {
     "data": {
      "text/plain": [
       "1"
      ]
     },
     "execution_count": 69,
     "metadata": {},
     "output_type": "execute_result"
    }
   ],
   "source": [
    "3%2"
   ]
  },
  {
   "cell_type": "code",
   "execution_count": 70,
   "id": "31f6288d-0758-4319-9a45-f5c539ea29da",
   "metadata": {},
   "outputs": [
    {
     "data": {
      "text/plain": [
       "3"
      ]
     },
     "execution_count": 70,
     "metadata": {},
     "output_type": "execute_result"
    }
   ],
   "source": [
    "7%4"
   ]
  },
  {
   "cell_type": "code",
   "execution_count": 71,
   "id": "4641cd10-6aee-4538-9114-069482ef6b2f",
   "metadata": {},
   "outputs": [
    {
     "data": {
      "text/plain": [
       "8"
      ]
     },
     "execution_count": 71,
     "metadata": {},
     "output_type": "execute_result"
    }
   ],
   "source": [
    "138 % 13"
   ]
  },
  {
   "cell_type": "code",
   "execution_count": 46,
   "id": "a6e6a2e6-816c-4186-b0c6-0ea34806ce51",
   "metadata": {},
   "outputs": [
    {
     "data": {
      "text/plain": [
       "385"
      ]
     },
     "execution_count": 46,
     "metadata": {},
     "output_type": "execute_result"
    }
   ],
   "source": [
    "int(len(mRNA)/3)"
   ]
  },
  {
   "cell_type": "code",
   "execution_count": 40,
   "id": "42ef8587-f37d-4274-9391-442bb038e8c1",
   "metadata": {},
   "outputs": [
    {
     "data": {
      "text/plain": [
       "'GGT'"
      ]
     },
     "execution_count": 40,
     "metadata": {},
     "output_type": "execute_result"
    }
   ],
   "source": [
    "mRNA[0:3]  # first three nucleotides"
   ]
  },
  {
   "cell_type": "code",
   "execution_count": 55,
   "id": "ebebe414-d0a8-43a0-a528-7c525ec6f4a6",
   "metadata": {},
   "outputs": [
    {
     "data": {
      "text/plain": [
       "[0,\n",
       " 3,\n",
       " 6,\n",
       " 9,\n",
       " 12,\n",
       " 15,\n",
       " 18,\n",
       " 21,\n",
       " 24,\n",
       " 27,\n",
       " 30,\n",
       " 33,\n",
       " 36,\n",
       " 39,\n",
       " 42,\n",
       " 45,\n",
       " 48,\n",
       " 51,\n",
       " 54,\n",
       " 57,\n",
       " 60,\n",
       " 63,\n",
       " 66,\n",
       " 69,\n",
       " 72,\n",
       " 75,\n",
       " 78,\n",
       " 81,\n",
       " 84,\n",
       " 87,\n",
       " 90,\n",
       " 93,\n",
       " 96,\n",
       " 99,\n",
       " 102,\n",
       " 105,\n",
       " 108,\n",
       " 111,\n",
       " 114,\n",
       " 117,\n",
       " 120,\n",
       " 123,\n",
       " 126,\n",
       " 129,\n",
       " 132,\n",
       " 135,\n",
       " 138,\n",
       " 141,\n",
       " 144,\n",
       " 147,\n",
       " 150,\n",
       " 153,\n",
       " 156,\n",
       " 159,\n",
       " 162,\n",
       " 165,\n",
       " 168,\n",
       " 171,\n",
       " 174,\n",
       " 177,\n",
       " 180,\n",
       " 183,\n",
       " 186,\n",
       " 189,\n",
       " 192,\n",
       " 195,\n",
       " 198,\n",
       " 201,\n",
       " 204,\n",
       " 207,\n",
       " 210,\n",
       " 213,\n",
       " 216,\n",
       " 219,\n",
       " 222,\n",
       " 225,\n",
       " 228,\n",
       " 231,\n",
       " 234,\n",
       " 237,\n",
       " 240,\n",
       " 243,\n",
       " 246,\n",
       " 249,\n",
       " 252,\n",
       " 255,\n",
       " 258,\n",
       " 261,\n",
       " 264,\n",
       " 267,\n",
       " 270,\n",
       " 273,\n",
       " 276,\n",
       " 279,\n",
       " 282,\n",
       " 285,\n",
       " 288,\n",
       " 291,\n",
       " 294,\n",
       " 297,\n",
       " 300,\n",
       " 303,\n",
       " 306,\n",
       " 309,\n",
       " 312,\n",
       " 315,\n",
       " 318,\n",
       " 321,\n",
       " 324,\n",
       " 327,\n",
       " 330,\n",
       " 333,\n",
       " 336,\n",
       " 339,\n",
       " 342,\n",
       " 345,\n",
       " 348,\n",
       " 351,\n",
       " 354,\n",
       " 357,\n",
       " 360,\n",
       " 363,\n",
       " 366,\n",
       " 369,\n",
       " 372,\n",
       " 375,\n",
       " 378,\n",
       " 381,\n",
       " 384,\n",
       " 387,\n",
       " 390,\n",
       " 393,\n",
       " 396,\n",
       " 399,\n",
       " 402,\n",
       " 405,\n",
       " 408,\n",
       " 411,\n",
       " 414,\n",
       " 417,\n",
       " 420,\n",
       " 423,\n",
       " 426,\n",
       " 429,\n",
       " 432,\n",
       " 435,\n",
       " 438,\n",
       " 441,\n",
       " 444,\n",
       " 447,\n",
       " 450,\n",
       " 453,\n",
       " 456,\n",
       " 459,\n",
       " 462,\n",
       " 465,\n",
       " 468,\n",
       " 471,\n",
       " 474,\n",
       " 477,\n",
       " 480,\n",
       " 483,\n",
       " 486,\n",
       " 489,\n",
       " 492,\n",
       " 495,\n",
       " 498,\n",
       " 501,\n",
       " 504,\n",
       " 507,\n",
       " 510,\n",
       " 513,\n",
       " 516,\n",
       " 519,\n",
       " 522,\n",
       " 525,\n",
       " 528,\n",
       " 531,\n",
       " 534,\n",
       " 537,\n",
       " 540,\n",
       " 543,\n",
       " 546,\n",
       " 549,\n",
       " 552,\n",
       " 555,\n",
       " 558,\n",
       " 561,\n",
       " 564,\n",
       " 567,\n",
       " 570,\n",
       " 573,\n",
       " 576,\n",
       " 579,\n",
       " 582,\n",
       " 585,\n",
       " 588,\n",
       " 591,\n",
       " 594,\n",
       " 597,\n",
       " 600,\n",
       " 603,\n",
       " 606,\n",
       " 609,\n",
       " 612,\n",
       " 615,\n",
       " 618,\n",
       " 621,\n",
       " 624,\n",
       " 627,\n",
       " 630,\n",
       " 633,\n",
       " 636,\n",
       " 639,\n",
       " 642,\n",
       " 645,\n",
       " 648,\n",
       " 651,\n",
       " 654,\n",
       " 657,\n",
       " 660,\n",
       " 663,\n",
       " 666,\n",
       " 669,\n",
       " 672,\n",
       " 675,\n",
       " 678,\n",
       " 681,\n",
       " 684,\n",
       " 687,\n",
       " 690,\n",
       " 693,\n",
       " 696,\n",
       " 699,\n",
       " 702,\n",
       " 705,\n",
       " 708,\n",
       " 711,\n",
       " 714,\n",
       " 717,\n",
       " 720,\n",
       " 723,\n",
       " 726,\n",
       " 729,\n",
       " 732,\n",
       " 735,\n",
       " 738,\n",
       " 741,\n",
       " 744,\n",
       " 747,\n",
       " 750,\n",
       " 753,\n",
       " 756,\n",
       " 759,\n",
       " 762,\n",
       " 765,\n",
       " 768,\n",
       " 771,\n",
       " 774,\n",
       " 777,\n",
       " 780,\n",
       " 783,\n",
       " 786,\n",
       " 789,\n",
       " 792,\n",
       " 795,\n",
       " 798,\n",
       " 801,\n",
       " 804,\n",
       " 807,\n",
       " 810,\n",
       " 813,\n",
       " 816,\n",
       " 819,\n",
       " 822,\n",
       " 825,\n",
       " 828,\n",
       " 831,\n",
       " 834,\n",
       " 837,\n",
       " 840,\n",
       " 843,\n",
       " 846,\n",
       " 849,\n",
       " 852,\n",
       " 855,\n",
       " 858,\n",
       " 861,\n",
       " 864,\n",
       " 867,\n",
       " 870,\n",
       " 873,\n",
       " 876,\n",
       " 879,\n",
       " 882,\n",
       " 885,\n",
       " 888,\n",
       " 891,\n",
       " 894,\n",
       " 897,\n",
       " 900,\n",
       " 903,\n",
       " 906,\n",
       " 909,\n",
       " 912,\n",
       " 915,\n",
       " 918,\n",
       " 921,\n",
       " 924,\n",
       " 927,\n",
       " 930,\n",
       " 933,\n",
       " 936,\n",
       " 939,\n",
       " 942,\n",
       " 945,\n",
       " 948,\n",
       " 951,\n",
       " 954,\n",
       " 957,\n",
       " 960,\n",
       " 963,\n",
       " 966,\n",
       " 969,\n",
       " 972,\n",
       " 975,\n",
       " 978,\n",
       " 981,\n",
       " 984,\n",
       " 987,\n",
       " 990,\n",
       " 993,\n",
       " 996,\n",
       " 999,\n",
       " 1002,\n",
       " 1005,\n",
       " 1008,\n",
       " 1011,\n",
       " 1014,\n",
       " 1017,\n",
       " 1020,\n",
       " 1023,\n",
       " 1026,\n",
       " 1029,\n",
       " 1032,\n",
       " 1035,\n",
       " 1038,\n",
       " 1041,\n",
       " 1044,\n",
       " 1047,\n",
       " 1050,\n",
       " 1053,\n",
       " 1056,\n",
       " 1059,\n",
       " 1062,\n",
       " 1065,\n",
       " 1068,\n",
       " 1071,\n",
       " 1074,\n",
       " 1077,\n",
       " 1080,\n",
       " 1083,\n",
       " 1086,\n",
       " 1089,\n",
       " 1092,\n",
       " 1095,\n",
       " 1098,\n",
       " 1101,\n",
       " 1104,\n",
       " 1107,\n",
       " 1110,\n",
       " 1113,\n",
       " 1116,\n",
       " 1119,\n",
       " 1122,\n",
       " 1125,\n",
       " 1128,\n",
       " 1131,\n",
       " 1134,\n",
       " 1137,\n",
       " 1140,\n",
       " 1143,\n",
       " 1146,\n",
       " 1149,\n",
       " 1152,\n",
       " 1155]"
      ]
     },
     "execution_count": 55,
     "metadata": {},
     "output_type": "execute_result"
    }
   ],
   "source": [
    "list(range(0,1157, 3))"
   ]
  },
  {
   "cell_type": "code",
   "execution_count": 56,
   "id": "8d831054-4231-4a67-9747-3c91b89006c9",
   "metadata": {},
   "outputs": [],
   "source": [
    "codons = []\n",
    "for i in range(0,1157, 3):\n",
    "    codons.append(mRNA[i:(i+3)])"
   ]
  },
  {
   "cell_type": "code",
   "execution_count": 57,
   "id": "387a6945-640c-4373-8cd2-9d8a6aa200ef",
   "metadata": {},
   "outputs": [
    {
     "data": {
      "text/plain": [
       "['GGT',\n",
       " 'CAG',\n",
       " 'AAA',\n",
       " 'AAG',\n",
       " 'CCC',\n",
       " 'TCT',\n",
       " 'CCA',\n",
       " 'TGT',\n",
       " 'CTA',\n",
       " 'CTC',\n",
       " 'ACG',\n",
       " 'ATA',\n",
       " 'CAT',\n",
       " 'CCC',\n",
       " 'TGA',\n",
       " 'AAA',\n",
       " 'CCA',\n",
       " 'CTG',\n",
       " 'AGG',\n",
       " 'AAG',\n",
       " 'TGG',\n",
       " 'CTT',\n",
       " 'TTC',\n",
       " 'AGA',\n",
       " 'TCA',\n",
       " 'TCT',\n",
       " 'TGC',\n",
       " 'TTT',\n",
       " 'GCC',\n",
       " 'AGT',\n",
       " 'TTG',\n",
       " 'GGG',\n",
       " 'TTG',\n",
       " 'GGA',\n",
       " 'CTT',\n",
       " 'TTG',\n",
       " 'CCA',\n",
       " 'ATG',\n",
       " 'TAT',\n",
       " 'TTC',\n",
       " 'TCT',\n",
       " 'TTG',\n",
       " 'TCT',\n",
       " 'ATA',\n",
       " 'ATT',\n",
       " 'TCT',\n",
       " 'CTC',\n",
       " 'CAA',\n",
       " 'TCT',\n",
       " 'CGA',\n",
       " 'CTG',\n",
       " 'GTT',\n",
       " 'CTA',\n",
       " 'AAC',\n",
       " 'AGA',\n",
       " 'GGC',\n",
       " 'CCA',\n",
       " 'GAC',\n",
       " 'AAG',\n",
       " 'TGA',\n",
       " 'TTT',\n",
       " 'TAA',\n",
       " 'GAC',\n",
       " 'ACA',\n",
       " 'TGG',\n",
       " 'CTG',\n",
       " 'TGG',\n",
       " 'CCA',\n",
       " 'ATG',\n",
       " 'CCT',\n",
       " 'TAA',\n",
       " 'CTC',\n",
       " 'TCT',\n",
       " 'TCC',\n",
       " 'TCA',\n",
       " 'CTA',\n",
       " 'TAT',\n",
       " 'TTC',\n",
       " 'CAA',\n",
       " 'ACA',\n",
       " 'ACA',\n",
       " 'TGA',\n",
       " 'TGA',\n",
       " 'CTT',\n",
       " 'TTG',\n",
       " 'CTC',\n",
       " 'CAA',\n",
       " 'TTA',\n",
       " 'TTC',\n",
       " 'CTC',\n",
       " 'AAA',\n",
       " 'CTG',\n",
       " 'ACC',\n",
       " 'TCA',\n",
       " 'AAT',\n",
       " 'GTA',\n",
       " 'AAT',\n",
       " 'TAG',\n",
       " 'AAT',\n",
       " 'TCT',\n",
       " 'TCA',\n",
       " 'CTC',\n",
       " 'GCC',\n",
       " 'TCG',\n",
       " 'TGG',\n",
       " 'CAA',\n",
       " 'GAA',\n",
       " 'GCA',\n",
       " 'CAA',\n",
       " 'ACT',\n",
       " 'TGT',\n",
       " 'GTT',\n",
       " 'CAA',\n",
       " 'CTT',\n",
       " 'GTG',\n",
       " 'TTC',\n",
       " 'TGA',\n",
       " 'GTA',\n",
       " 'TCC',\n",
       " 'ATC',\n",
       " 'AGT',\n",
       " 'TTG',\n",
       " 'TCA',\n",
       " 'CAC',\n",
       " 'TTG',\n",
       " 'TTC',\n",
       " 'CTG',\n",
       " 'TTA',\n",
       " 'ATT',\n",
       " 'CAG',\n",
       " 'GTA',\n",
       " 'AAG',\n",
       " 'GAA',\n",
       " 'TAC',\n",
       " 'TCA',\n",
       " 'GAG',\n",
       " 'CAA',\n",
       " 'GTG',\n",
       " 'TCA',\n",
       " 'CAA',\n",
       " 'ACA',\n",
       " 'TGG',\n",
       " 'CAA',\n",
       " 'GTT',\n",
       " 'ATT',\n",
       " 'CTT',\n",
       " 'GTT',\n",
       " 'ACA',\n",
       " 'GTT',\n",
       " 'GTT',\n",
       " 'GGT',\n",
       " 'TCT',\n",
       " 'TCA',\n",
       " 'GTG',\n",
       " 'TCT',\n",
       " 'TAA',\n",
       " 'ATA',\n",
       " 'ACA',\n",
       " 'TCT',\n",
       " 'ACA',\n",
       " 'TTC',\n",
       " 'CAA',\n",
       " 'TTA',\n",
       " 'AGG',\n",
       " 'TCA',\n",
       " 'CTG',\n",
       " 'GTC',\n",
       " 'CAC',\n",
       " 'AGT',\n",
       " 'TAA',\n",
       " 'CAG',\n",
       " 'ACA',\n",
       " 'ATA',\n",
       " 'ACA',\n",
       " 'ATA',\n",
       " 'ACT',\n",
       " 'CTA',\n",
       " 'AAA',\n",
       " 'GCA',\n",
       " 'AGT',\n",
       " 'TGT',\n",
       " 'TCT',\n",
       " 'GTT',\n",
       " 'CCA',\n",
       " 'CTT',\n",
       " 'CTG',\n",
       " 'ATT',\n",
       " 'TCA',\n",
       " 'GTG',\n",
       " 'TAG',\n",
       " 'GCA',\n",
       " 'TTG',\n",
       " 'TCT',\n",
       " 'TCT',\n",
       " 'TGA',\n",
       " 'GGT',\n",
       " 'TTG',\n",
       " 'CCC',\n",
       " 'ATG',\n",
       " 'ATG',\n",
       " 'CCA',\n",
       " 'CAT',\n",
       " 'TCA',\n",
       " 'TGA',\n",
       " 'GCA',\n",
       " 'TCA',\n",
       " 'TGG',\n",
       " 'TCT',\n",
       " 'GGA',\n",
       " 'CCA',\n",
       " 'GTG',\n",
       " 'TCT',\n",
       " 'CCA',\n",
       " 'TGG',\n",
       " 'TAC',\n",
       " 'TTC',\n",
       " 'TCC',\n",
       " 'TCC',\n",
       " 'ATA',\n",
       " 'GAC',\n",
       " 'ATT',\n",
       " 'GTC',\n",
       " 'AGA',\n",
       " 'GAA',\n",
       " 'TGC',\n",
       " 'AGT',\n",
       " 'ACA',\n",
       " 'TAT',\n",
       " 'TCA',\n",
       " 'CTC',\n",
       " 'TCA',\n",
       " 'ATC',\n",
       " 'AGG',\n",
       " 'ACC',\n",
       " 'CCA',\n",
       " 'GGG',\n",
       " 'GCC',\n",
       " 'AAG',\n",
       " 'CAG',\n",
       " 'AGA',\n",
       " 'CCA',\n",
       " 'CAG',\n",
       " 'CAA',\n",
       " 'CCC',\n",
       " 'ATA',\n",
       " 'CTA',\n",
       " 'TCC',\n",
       " 'TGA',\n",
       " 'TGC',\n",
       " 'TGG',\n",
       " 'TAG',\n",
       " 'TCA',\n",
       " 'CAT',\n",
       " 'TTG',\n",
       " 'TTG',\n",
       " 'GCT',\n",
       " 'TTT',\n",
       " 'ATC',\n",
       " 'TTC',\n",
       " 'TAA',\n",
       " 'GTC',\n",
       " 'TTA',\n",
       " 'TTT',\n",
       " 'GTA',\n",
       " 'TCA',\n",
       " 'TCT',\n",
       " 'TTT',\n",
       " 'ACA',\n",
       " 'CCT',\n",
       " 'ATT',\n",
       " 'TTA',\n",
       " 'TAT',\n",
       " 'ATT',\n",
       " 'CTC',\n",
       " 'ATC',\n",
       " 'ATT',\n",
       " 'CCC',\n",
       " 'TGA',\n",
       " 'GGC',\n",
       " 'ATT',\n",
       " 'GCA',\n",
       " 'ATG',\n",
       " 'ACA',\n",
       " 'TTT',\n",
       " 'TGG',\n",
       " 'TTT',\n",
       " 'CGG',\n",
       " 'GTT',\n",
       " 'TCC',\n",
       " 'CTA',\n",
       " 'CAA',\n",
       " 'TTT',\n",
       " 'CTC',\n",
       " 'CTT',\n",
       " 'TAC',\n",
       " 'TGT',\n",
       " 'TGA',\n",
       " 'CCT',\n",
       " 'TCA',\n",
       " 'GAG',\n",
       " 'ACC',\n",
       " 'CTA',\n",
       " 'AGG',\n",
       " 'GTC',\n",
       " 'CTT',\n",
       " 'GTT',\n",
       " 'CTG',\n",
       " 'TGT',\n",
       " 'TCT',\n",
       " 'TCA',\n",
       " 'ACT',\n",
       " 'GTT',\n",
       " 'GAA',\n",
       " 'AGC',\n",
       " 'CAG',\n",
       " 'AGT',\n",
       " 'CAC',\n",
       " 'TAA',\n",
       " 'AAA',\n",
       " 'TGC',\n",
       " 'CAA',\n",
       " 'ACA',\n",
       " 'CAG',\n",
       " 'AAG',\n",
       " 'ACA',\n",
       " 'GCT',\n",
       " 'TTG',\n",
       " 'CTA',\n",
       " 'ATA',\n",
       " 'CCA',\n",
       " 'TTA',\n",
       " 'AAT',\n",
       " 'ACT',\n",
       " 'TTA',\n",
       " 'TTC',\n",
       " 'CAT',\n",
       " 'AAA',\n",
       " 'TAT',\n",
       " 'GTT',\n",
       " 'TTT',\n",
       " 'AAA',\n",
       " 'AGC',\n",
       " 'TTG',\n",
       " 'TAT',\n",
       " 'GAA',\n",
       " 'CAA',\n",
       " 'GGT',\n",
       " 'ATG',\n",
       " 'GTG',\n",
       " 'CTC',\n",
       " 'ACT',\n",
       " 'GCT',\n",
       " 'ATA',\n",
       " 'CTT',\n",
       " 'ATA',\n",
       " 'AAA',\n",
       " 'GAG',\n",
       " 'TAA',\n",
       " 'GGT',\n",
       " 'TAT',\n",
       " 'AAT',\n",
       " 'CAC',\n",
       " 'TTG',\n",
       " 'TTG',\n",
       " 'ATA',\n",
       " 'TGA',\n",
       " 'AAA',\n",
       " 'GAT',\n",
       " 'TTC',\n",
       " 'TGG',\n",
       " 'TTG',\n",
       " 'GAA',\n",
       " 'TCT',\n",
       " 'GAT',\n",
       " 'TGA',\n",
       " 'AAC',\n",
       " 'AGT',\n",
       " 'GAG',\n",
       " 'TTA',\n",
       " 'TTC',\n",
       " 'ACC',\n",
       " 'ACC',\n",
       " 'CTC',\n",
       " 'CAT',\n",
       " 'TCT',\n",
       " 'CT']"
      ]
     },
     "execution_count": 57,
     "metadata": {},
     "output_type": "execute_result"
    }
   ],
   "source": [
    "codons"
   ]
  },
  {
   "cell_type": "markdown",
   "id": "ba2776fd-267a-4ce2-a04d-b5b2e0db6cc5",
   "metadata": {},
   "source": [
    "**Lets remove the last`CT`**"
   ]
  },
  {
   "cell_type": "code",
   "execution_count": 59,
   "id": "ec98b6af-b92f-47d6-9258-83d5e1937b2b",
   "metadata": {},
   "outputs": [
    {
     "data": {
      "text/plain": [
       "386"
      ]
     },
     "execution_count": 59,
     "metadata": {},
     "output_type": "execute_result"
    }
   ],
   "source": [
    "len(codons)"
   ]
  },
  {
   "cell_type": "code",
   "execution_count": 63,
   "id": "3a451ac6-4b32-4ffa-a7d9-793c05149210",
   "metadata": {},
   "outputs": [],
   "source": [
    "codons = codons[:385]"
   ]
  },
  {
   "cell_type": "code",
   "execution_count": 64,
   "id": "62b6d2e2-06ad-4fd0-86ff-fb443bf39dc1",
   "metadata": {},
   "outputs": [],
   "source": [
    "aminoacids = []\n",
    "for n in codons:\n",
    "    aminoacids.append(table[n])"
   ]
  },
  {
   "cell_type": "code",
   "execution_count": 65,
   "id": "3cd1cc2f-7b04-4f4f-ab3b-943ae6375078",
   "metadata": {},
   "outputs": [
    {
     "data": {
      "text/plain": [
       "['G',\n",
       " 'Q',\n",
       " 'K',\n",
       " 'K',\n",
       " 'P',\n",
       " 'S',\n",
       " 'P',\n",
       " 'C',\n",
       " 'L',\n",
       " 'L',\n",
       " 'T',\n",
       " 'I',\n",
       " 'H',\n",
       " 'P',\n",
       " '_',\n",
       " 'K',\n",
       " 'P',\n",
       " 'L',\n",
       " 'R',\n",
       " 'K',\n",
       " 'W',\n",
       " 'L',\n",
       " 'F',\n",
       " 'R',\n",
       " 'S',\n",
       " 'S',\n",
       " 'C',\n",
       " 'F',\n",
       " 'A',\n",
       " 'S',\n",
       " 'L',\n",
       " 'G',\n",
       " 'L',\n",
       " 'G',\n",
       " 'L',\n",
       " 'L',\n",
       " 'P',\n",
       " 'M',\n",
       " 'Y',\n",
       " 'F',\n",
       " 'S',\n",
       " 'L',\n",
       " 'S',\n",
       " 'I',\n",
       " 'I',\n",
       " 'S',\n",
       " 'L',\n",
       " 'Q',\n",
       " 'S',\n",
       " 'R',\n",
       " 'L',\n",
       " 'V',\n",
       " 'L',\n",
       " 'N',\n",
       " 'R',\n",
       " 'G',\n",
       " 'P',\n",
       " 'D',\n",
       " 'K',\n",
       " '_',\n",
       " 'F',\n",
       " '_',\n",
       " 'D',\n",
       " 'T',\n",
       " 'W',\n",
       " 'L',\n",
       " 'W',\n",
       " 'P',\n",
       " 'M',\n",
       " 'P',\n",
       " '_',\n",
       " 'L',\n",
       " 'S',\n",
       " 'S',\n",
       " 'S',\n",
       " 'L',\n",
       " 'Y',\n",
       " 'F',\n",
       " 'Q',\n",
       " 'T',\n",
       " 'T',\n",
       " '_',\n",
       " '_',\n",
       " 'L',\n",
       " 'L',\n",
       " 'L',\n",
       " 'Q',\n",
       " 'L',\n",
       " 'F',\n",
       " 'L',\n",
       " 'K',\n",
       " 'L',\n",
       " 'T',\n",
       " 'S',\n",
       " 'N',\n",
       " 'V',\n",
       " 'N',\n",
       " '_',\n",
       " 'N',\n",
       " 'S',\n",
       " 'S',\n",
       " 'L',\n",
       " 'A',\n",
       " 'S',\n",
       " 'W',\n",
       " 'Q',\n",
       " 'E',\n",
       " 'A',\n",
       " 'Q',\n",
       " 'T',\n",
       " 'C',\n",
       " 'V',\n",
       " 'Q',\n",
       " 'L',\n",
       " 'V',\n",
       " 'F',\n",
       " '_',\n",
       " 'V',\n",
       " 'S',\n",
       " 'I',\n",
       " 'S',\n",
       " 'L',\n",
       " 'S',\n",
       " 'H',\n",
       " 'L',\n",
       " 'F',\n",
       " 'L',\n",
       " 'L',\n",
       " 'I',\n",
       " 'Q',\n",
       " 'V',\n",
       " 'K',\n",
       " 'E',\n",
       " 'Y',\n",
       " 'S',\n",
       " 'E',\n",
       " 'Q',\n",
       " 'V',\n",
       " 'S',\n",
       " 'Q',\n",
       " 'T',\n",
       " 'W',\n",
       " 'Q',\n",
       " 'V',\n",
       " 'I',\n",
       " 'L',\n",
       " 'V',\n",
       " 'T',\n",
       " 'V',\n",
       " 'V',\n",
       " 'G',\n",
       " 'S',\n",
       " 'S',\n",
       " 'V',\n",
       " 'S',\n",
       " '_',\n",
       " 'I',\n",
       " 'T',\n",
       " 'S',\n",
       " 'T',\n",
       " 'F',\n",
       " 'Q',\n",
       " 'L',\n",
       " 'R',\n",
       " 'S',\n",
       " 'L',\n",
       " 'V',\n",
       " 'H',\n",
       " 'S',\n",
       " '_',\n",
       " 'Q',\n",
       " 'T',\n",
       " 'I',\n",
       " 'T',\n",
       " 'I',\n",
       " 'T',\n",
       " 'L',\n",
       " 'K',\n",
       " 'A',\n",
       " 'S',\n",
       " 'C',\n",
       " 'S',\n",
       " 'V',\n",
       " 'P',\n",
       " 'L',\n",
       " 'L',\n",
       " 'I',\n",
       " 'S',\n",
       " 'V',\n",
       " '_',\n",
       " 'A',\n",
       " 'L',\n",
       " 'S',\n",
       " 'S',\n",
       " '_',\n",
       " 'G',\n",
       " 'L',\n",
       " 'P',\n",
       " 'M',\n",
       " 'M',\n",
       " 'P',\n",
       " 'H',\n",
       " 'S',\n",
       " '_',\n",
       " 'A',\n",
       " 'S',\n",
       " 'W',\n",
       " 'S',\n",
       " 'G',\n",
       " 'P',\n",
       " 'V',\n",
       " 'S',\n",
       " 'P',\n",
       " 'W',\n",
       " 'Y',\n",
       " 'F',\n",
       " 'S',\n",
       " 'S',\n",
       " 'I',\n",
       " 'D',\n",
       " 'I',\n",
       " 'V',\n",
       " 'R',\n",
       " 'E',\n",
       " 'C',\n",
       " 'S',\n",
       " 'T',\n",
       " 'Y',\n",
       " 'S',\n",
       " 'L',\n",
       " 'S',\n",
       " 'I',\n",
       " 'R',\n",
       " 'T',\n",
       " 'P',\n",
       " 'G',\n",
       " 'A',\n",
       " 'K',\n",
       " 'Q',\n",
       " 'R',\n",
       " 'P',\n",
       " 'Q',\n",
       " 'Q',\n",
       " 'P',\n",
       " 'I',\n",
       " 'L',\n",
       " 'S',\n",
       " '_',\n",
       " 'C',\n",
       " 'W',\n",
       " '_',\n",
       " 'S',\n",
       " 'H',\n",
       " 'L',\n",
       " 'L',\n",
       " 'A',\n",
       " 'F',\n",
       " 'I',\n",
       " 'F',\n",
       " '_',\n",
       " 'V',\n",
       " 'L',\n",
       " 'F',\n",
       " 'V',\n",
       " 'S',\n",
       " 'S',\n",
       " 'F',\n",
       " 'T',\n",
       " 'P',\n",
       " 'I',\n",
       " 'L',\n",
       " 'Y',\n",
       " 'I',\n",
       " 'L',\n",
       " 'I',\n",
       " 'I',\n",
       " 'P',\n",
       " '_',\n",
       " 'G',\n",
       " 'I',\n",
       " 'A',\n",
       " 'M',\n",
       " 'T',\n",
       " 'F',\n",
       " 'W',\n",
       " 'F',\n",
       " 'R',\n",
       " 'V',\n",
       " 'S',\n",
       " 'L',\n",
       " 'Q',\n",
       " 'F',\n",
       " 'L',\n",
       " 'L',\n",
       " 'Y',\n",
       " 'C',\n",
       " '_',\n",
       " 'P',\n",
       " 'S',\n",
       " 'E',\n",
       " 'T',\n",
       " 'L',\n",
       " 'R',\n",
       " 'V',\n",
       " 'L',\n",
       " 'V',\n",
       " 'L',\n",
       " 'C',\n",
       " 'S',\n",
       " 'S',\n",
       " 'T',\n",
       " 'V',\n",
       " 'E',\n",
       " 'S',\n",
       " 'Q',\n",
       " 'S',\n",
       " 'H',\n",
       " '_',\n",
       " 'K',\n",
       " 'C',\n",
       " 'Q',\n",
       " 'T',\n",
       " 'Q',\n",
       " 'K',\n",
       " 'T',\n",
       " 'A',\n",
       " 'L',\n",
       " 'L',\n",
       " 'I',\n",
       " 'P',\n",
       " 'L',\n",
       " 'N',\n",
       " 'T',\n",
       " 'L',\n",
       " 'F',\n",
       " 'H',\n",
       " 'K',\n",
       " 'Y',\n",
       " 'V',\n",
       " 'F',\n",
       " 'K',\n",
       " 'S',\n",
       " 'L',\n",
       " 'Y',\n",
       " 'E',\n",
       " 'Q',\n",
       " 'G',\n",
       " 'M',\n",
       " 'V',\n",
       " 'L',\n",
       " 'T',\n",
       " 'A',\n",
       " 'I',\n",
       " 'L',\n",
       " 'I',\n",
       " 'K',\n",
       " 'E',\n",
       " '_',\n",
       " 'G',\n",
       " 'Y',\n",
       " 'N',\n",
       " 'H',\n",
       " 'L',\n",
       " 'L',\n",
       " 'I',\n",
       " '_',\n",
       " 'K',\n",
       " 'D',\n",
       " 'F',\n",
       " 'W',\n",
       " 'L',\n",
       " 'E',\n",
       " 'S',\n",
       " 'D',\n",
       " '_',\n",
       " 'N',\n",
       " 'S',\n",
       " 'E',\n",
       " 'L',\n",
       " 'F',\n",
       " 'T',\n",
       " 'T',\n",
       " 'L',\n",
       " 'H',\n",
       " 'S']"
      ]
     },
     "execution_count": 65,
     "metadata": {},
     "output_type": "execute_result"
    }
   ],
   "source": [
    "aminoacids"
   ]
  },
  {
   "cell_type": "code",
   "execution_count": 72,
   "id": "1e9bf97b-95ba-49e6-a290-49177dec39b8",
   "metadata": {},
   "outputs": [
    {
     "data": {
      "text/plain": [
       "'CCTGAAAACC'"
      ]
     },
     "execution_count": 72,
     "metadata": {},
     "output_type": "execute_result"
    }
   ],
   "source": [
    "mRNA[40:50]"
   ]
  },
  {
   "cell_type": "markdown",
   "id": "46f89814-9b76-46e2-99d2-1baa7b012504",
   "metadata": {},
   "source": [
    "### **Instead of storing the amino acids in a list, they can be concatenated as a string!**"
   ]
  },
  {
   "cell_type": "code",
   "execution_count": 77,
   "id": "d19e3844-e612-4d1b-855f-4daf6a144e4f",
   "metadata": {},
   "outputs": [],
   "source": [
    "aa_str = \"\"\n",
    "for i in codons:\n",
    "    aa_str += table[i]"
   ]
  },
  {
   "cell_type": "code",
   "execution_count": 78,
   "id": "2e69d9f5-c2ea-4599-baf8-f3355aa2d304",
   "metadata": {},
   "outputs": [
    {
     "data": {
      "text/plain": [
       "'GQKKPSPCLLTIHP_KPLRKWLFRSSCFASLGLGLLPMYFSLSIISLQSRLVLNRGPDK_F_DTWLWPMP_LSSSLYFQTT__LLLQLFLKLTSNVN_NSSLASWQEAQTCVQLVF_VSISLSHLFLLIQVKEYSEQVSQTWQVILVTVVGSSVS_ITSTFQLRSLVHS_QTITITLKASCSVPLLISV_ALSS_GLPMMPHS_ASWSGPVSPWYFSSIDIVRECSTYSLSIRTPGAKQRPQQPILS_CW_SHLLAFIF_VLFVSSFTPILYILIIP_GIAMTFWFRVSLQFLLYC_PSETLRVLVLCSSTVESQSH_KCQTQKTALLIPLNTLFHKYVFKSLYEQGMVLTAILIKE_GYNHLLI_KDFWLESD_NSELFTTLHS'"
      ]
     },
     "execution_count": 78,
     "metadata": {},
     "output_type": "execute_result"
    }
   ],
   "source": [
    "aa_str"
   ]
  },
  {
   "cell_type": "markdown",
   "id": "2873f194-f72d-4189-8eea-3530311950bc",
   "metadata": {},
   "source": [
    "### **`Translate()` function**"
   ]
  },
  {
   "cell_type": "code",
   "execution_count": 158,
   "id": "66c9785f-93c2-46a2-b767-9c4b3fca555c",
   "metadata": {},
   "outputs": [],
   "source": [
    "def translate(mRNA):\n",
    "    \"\"\"\n",
    "    This function takes in an mRNA sequence and does a crude translation operation \n",
    "    based on a codon-aminoacid dictionary and returns an aminoacid sequence \n",
    "    corresponding to the passes mRNA sequence\n",
    "    \"\"\"\n",
    "    mRNA = mRNA.replace(\"\\n\",\"\")\n",
    "    mRNA = mRNA.replace(\"\\r\",\"\")\n",
    "    table = {\n",
    "    'ATA':'I', 'ATC':'I', 'ATT':'I', 'ATG':'M',\n",
    "    'ACA':'T', 'ACC':'T', 'ACG':'T', 'ACT':'T',\n",
    "    'AAC':'N', 'AAT':'N', 'AAA':'K', 'AAG':'K',\n",
    "    'AGC':'S', 'AGT':'S', 'AGA':'R', 'AGG':'R',\n",
    "    'CTA':'L', 'CTC':'L', 'CTG':'L', 'CTT':'L',\n",
    "    'CCA':'P', 'CCC':'P', 'CCG':'P', 'CCT':'P',\n",
    "    'CAC':'H', 'CAT':'H', 'CAA':'Q', 'CAG':'Q',\n",
    "    'CGA':'R', 'CGC':'R', 'CGG':'R', 'CGT':'R',\n",
    "    'GTA':'V', 'GTC':'V', 'GTG':'V', 'GTT':'V',\n",
    "    'GCA':'A', 'GCC':'A', 'GCG':'A', 'GCT':'A',\n",
    "    'GAC':'D', 'GAT':'D', 'GAA':'E', 'GAG':'E',\n",
    "    'GGA':'G', 'GGC':'G', 'GGG':'G', 'GGT':'G',\n",
    "    'TCA':'S', 'TCC':'S', 'TCG':'S', 'TCT':'S',\n",
    "    'TTC':'F', 'TTT':'F', 'TTA':'L', 'TTG':'L',\n",
    "    'TAC':'Y', 'TAT':'Y', 'TAA':'_', 'TAG':'_',\n",
    "    'TGC':'C', 'TGT':'C', 'TGA':'_', 'TGG':'W',\n",
    "    }\n",
    "    aacids = \"\"\n",
    "    if len(mRNA) % 3 == 0:\n",
    "        for i in range(0, len(mRNA), 3):\n",
    "            aacids += table[mRNA[i:(i+3)]];\n",
    "    else:\n",
    "        print(\"Sequence contains trailing nucleotides\")\n",
    "    return aacids"
   ]
  },
  {
   "cell_type": "code",
   "execution_count": 159,
   "id": "8c3cb133-2617-43f2-be62-a645a6eb62ed",
   "metadata": {},
   "outputs": [
    {
     "name": "stdout",
     "output_type": "stream",
     "text": [
      "Sequence contains trailing nucleotides\n"
     ]
    },
    {
     "data": {
      "text/plain": [
       "''"
      ]
     },
     "execution_count": 159,
     "metadata": {},
     "output_type": "execute_result"
    }
   ],
   "source": [
    "translate(mRNA)"
   ]
  },
  {
   "cell_type": "code",
   "execution_count": 160,
   "id": "4c2fb220-6ed3-470b-85df-c12c7b35fc29",
   "metadata": {},
   "outputs": [
    {
     "data": {
      "text/plain": [
       "'K'"
      ]
     },
     "execution_count": 160,
     "metadata": {},
     "output_type": "execute_result"
    }
   ],
   "source": [
    "translate(\"AAA\")"
   ]
  },
  {
   "cell_type": "code",
   "execution_count": 102,
   "id": "9c9c3399-953d-4d31-910a-7da95a21d802",
   "metadata": {},
   "outputs": [
    {
     "data": {
      "text/plain": [
       "'I'"
      ]
     },
     "execution_count": 102,
     "metadata": {},
     "output_type": "execute_result"
    }
   ],
   "source": [
    "translate(\"ATA\")"
   ]
  },
  {
   "cell_type": "code",
   "execution_count": 103,
   "id": "4d6229fd-5934-42c6-9b36-52d595e5a310",
   "metadata": {},
   "outputs": [
    {
     "name": "stdout",
     "output_type": "stream",
     "text": [
      "Help on function translate in module __main__:\n",
      "\n",
      "translate(mRNA)\n",
      "    This function takes in an mRNA sequence and does a crude translation operation \n",
      "    based on a codon-aminoacid dictionary and returns an aminoacid sequence \n",
      "    corresponding to the passes mRNA sequence\n",
      "\n"
     ]
    }
   ],
   "source": [
    "help(translate)"
   ]
  },
  {
   "cell_type": "markdown",
   "id": "ced71c2b-0ebd-42e7-b4b0-c7aacd728a7d",
   "metadata": {},
   "source": [
    "### **Comparing the translations**"
   ]
  },
  {
   "cell_type": "markdown",
   "id": "ac18f439-32a6-4e33-a8b0-7ba48c3c6449",
   "metadata": {},
   "source": [
    "**There is another way to read in text files!   \n",
    "Which is usually preferred to `open(dir, \"r\")` statement as this method helps cope with situations where something goes wrong when reading**"
   ]
  },
  {
   "cell_type": "code",
   "execution_count": 104,
   "id": "399446da-9310-4349-b4a9-4ec068866923",
   "metadata": {},
   "outputs": [],
   "source": [
    "with open(\"mRNA.txt\", \"r\") as text:\n",
    "    seq = text.read()"
   ]
  },
  {
   "cell_type": "code",
   "execution_count": 105,
   "id": "45764021-1d38-449c-81da-ea04b0d82634",
   "metadata": {},
   "outputs": [
    {
     "data": {
      "text/plain": [
       "'GGTCAGAAAAAGCCCTCTCCATGTCTACTCACGATACATCCCTGAAAACCACTGAGGAAGTGGCTTTTCA\\nGATCATCTTGCTTTGCCAGTTTGGGGTTGGGACTTTTGCCAATGTATTTCTCTTTGTCTATAATTTCTCT\\nCCAATCTCGACTGGTTCTAAACAGAGGCCCAGACAAGTGATTTTAAGACACATGGCTGTGGCCAATGCCT\\nTAACTCTCTTCCTCACTATATTTCCAAACAACATGATGACTTTTGCTCCAATTATTCCTCAAACTGACCT\\nCAAATGTAAATTAGAATTCTTCACTCGCCTCGTGGCAAGAAGCACAAACTTGTGTTCAACTTGTGTTCTG\\nAGTATCCATCAGTTTGTCACACTTGTTCCTGTTAATTCAGGTAAAGGAATACTCAGAGCAAGTGTCACAA\\nACATGGCAAGTTATTCTTGTTACAGTTGTTGGTTCTTCAGTGTCTTAAATAACATCTACATTCCAATTAA\\nGGTCACTGGTCCACAGTTAACAGACAATAACAATAACTCTAAAAGCAAGTTGTTCTGTTCCACTTCTGAT\\nTTCAGTGTAGGCATTGTCTTCTTGAGGTTTGCCCATGATGCCACATTCATGAGCATCATGGTCTGGACCA\\nGTGTCTCCATGGTACTTCTCCTCCATAGACATTGTCAGAGAATGCAGTACATATTCACTCTCAATCAGGA\\nCCCCAGGGGCCAAGCAGAGACCACAGCAACCCATACTATCCTGATGCTGGTAGTCACATTTGTTGGCTTT\\nTATCTTCTAAGTCTTATTTGTATCATCTTTTACACCTATTTTATATATTCTCATCATTCCCTGAGGCATT\\nGCAATGACATTTTGGTTTCGGGTTTCCCTACAATTTCTCCTTTACTGTTGACCTTCAGAGACCCTAAGGG\\nTCCTTGTTCTGTGTTCTTCAACTGTTGAAAGCCAGAGTCACTAAAAATGCCAAACACAGAAGACAGCTTT\\nGCTAATACCATTAAATACTTTATTCCATAAATATGTTTTTAAAAGCTTGTATGAACAAGGTATGGTGCTC\\nACTGCTATACTTATAAAAGAGTAAGGTTATAATCACTTGTTGATATGAAAAGATTTCTGGTTGGAATCTG\\nATTGAAACAGTGAGTTATTCACCACCCTCCATTCTCT'"
      ]
     },
     "execution_count": 105,
     "metadata": {},
     "output_type": "execute_result"
    }
   ],
   "source": [
    "seq"
   ]
  },
  {
   "cell_type": "markdown",
   "id": "b5309b36-c997-4f28-b792-65810eb7dbcb",
   "metadata": {},
   "source": [
    "**`With` is a compound statement    \n",
    "`open()` actually opens the file   \n",
    "as text `:` means opening the .txt file as an object labelled \"text\"    \n",
    "Then the `text.read()` needs to be indented since this line belongs to the `with` statement!**"
   ]
  },
  {
   "cell_type": "markdown",
   "id": "d7cd45b0-fa92-4e32-97f0-9010e209b9c2",
   "metadata": {},
   "source": [
    "### **Defining a function for reading in the sequence and does tidying**"
   ]
  },
  {
   "cell_type": "code",
   "execution_count": 118,
   "id": "81df4622-6d1a-4fc0-95f4-5f3c45062c79",
   "metadata": {},
   "outputs": [],
   "source": [
    "def read_seq(file):\n",
    "    \"\"\"\n",
    "    This reads in a sequence from text files with extensions .txt\n",
    "    and removes spaces, HTML linebreaks & other noises.\n",
    "    Then stores the cleaned sequence as a global string \"sequence\"\n",
    "    Input can be a filename if the specified file is in the current working direcory\n",
    "    else full path must be passed in for the file argument!\n",
    "    \"\"\"\n",
    "    with open(file, \"r\") as redfile:\n",
    "        global sequence\n",
    "        sequence = redfile.read()\n",
    "        sequence = sequence.replace(\" \",\"\")\n",
    "        sequence = sequence.replace(\"\\n\",\"\")\n",
    "        sequence = sequence.replace(\"\\r\",\"\")\n",
    "        return sequence         "
   ]
  },
  {
   "cell_type": "code",
   "execution_count": 119,
   "id": "70531871-1129-42ad-a17c-5188b73ff42e",
   "metadata": {},
   "outputs": [
    {
     "data": {
      "text/plain": [
       "'GTAACAACCAAAAAATAATTCACCTGAGACTCACATTCTTTAAGGTTTTCGCATTTAATATTTCACTTTCTTGAAATCTCCTATATTTTTGTTATATATGGTCGTCGGCGATGCCAACGGCGGTGAATGTAGCGAAACAATGCTTAACGGCAGAAGCATCCTACGCATTAGAAGAAGCTGTGAACGTTGCACGTCGAAGAGGACACTCACAAACGACGTCGCTTCACGCTATCTCAGCTTTACTCTCTCTACCAACCTCAGTCTTACGTGACGCATGTGCTCGTGTTCGTAACTCTGCTTACTCTCCTCGTCTTCAATTCAAAGCTTTAGATCTTTGCTTAAGCGTTTCTTTAGACCGGATCCAGTCGGGTCATCAACTTGGATCTGATGATTCACCACCTGTTTCTAACTCTCTAATGGCTGCAATTAAACGATCTCAAGCGCATCAACGTCGTTTACCTGAGAACTTCAGGATCTATCAAGAAATGTCACAGAGTCAGAATCAGAACTCACTTTCTTGTGTGAAAGTGGAGCTTCGTCAGTTGATTCTTTCGATCTTGGATGATCCGGTTGTGAGCCGGGTTTTTGGTGAAGCGGGTTTTCGGAGCTCCGAGTTAAAGCTTTCCATTATTCGACCTGTTCCTCATCTTCTTCGTTATTCATCACAACAGCCTCTGTTTCTCTGTAACCTAACCGGGAATCCTGAACCGAATCCGGTTCGATGGGGTTTCACCGTACCAAGCCTGAATTTTAACGGAGATTTGGATTACCGGAGGATTAGCGCGGTTTTCACGAAAGATAAAGGGAGGAATCCTCTGCTTGTTGGTGTATCAGCTTACGGTGTACTAACCAGTTATTTAAATTCGCTAGAGAAAAACCAAACCGACGGGATGATTCTCCCGACGAAGCTTCACGGTTTAACGGCGGTTAACATCGGTTCAGAAATCTCCGACCAAATCAGCGTCAAATTCGATAAAACCTACACCGACACTAGGTTTCATGATCTAGGGAAGCTTGCAGAGCAAGGTTCAGGACCTGGACTACTCTTACACTACGGTGATCTTAGGGTTTTCACCAACGGCGAAGGAAACGTACCGGCGGCGAATTACATCGTGAATCGGATTTCGGAGCTGTTGCGGCGACACGGGAGAAGAGTGTGGTTGATCGGAGCGACGACGAGCAACGAGGTTTATGAGAAGATGATGAGAAGGTTTCCGAATGTGGAGAAAGATTGGGATTTGCAGTTACTCACCATCACTTCTCTTAAGCCTTGTTTGCCTCACAACAAGTCCAGTTTGATAGGATCATTTGTTCCGTTTGGTGGATTCTTCTCAACAACTCCTTCTGAACTGAAACTACCCTTCTCCGGTTTCAAAACGGAAATCACCGGACCCGTTTCTTCAATATCCGATCAGACACAATCTACCTTGCCACCTTGGTTACAAATGACCACAAGAACTGATTTAAACCAAAAATCAAGTGCCAAGGTCGTGCAGACCAAAGAAGGGTTGGAATCAGTTTGTGGAAATAAGTTCACGAGCAGTGCTTCTGCATCGACCTGTTCAGCTAAATCGGTCACCACTGATCTGAATCTTAGGGTAAGTTCAGTCACCACAGGATCCGGTCTCAAGAAGCATTTGGATAGCAAAGATTTTTCTCAGCCACAATCTGTGTCCTCCTATTCCTTTGATAACCCAAGGGACCTCAACGCAGAGAGTTTCAAGATTATTTACAGAAGATTAACCGATATGGTTTCAGGACAAGATGAGGCTGCTAGAGTTATCAGCTGTGCACTGTCACAACCGCCTAAGAGTGTCACTCGAAGAGATGTTTGGCTTAATTTGGTTGGTCCTGATACTGTAGGAAAGAGAAGAATGTCGCTTGTCCTTGCTGAGATTGTGTATCAAAGCGAACACAGATTTATGGCCGTTGATCTTGGTGCCGCGGAGCAGGGAATGGGCGGTTGTGATGATCCGATGAGGTTGAGAGGAAAGACGATGGTTGATCATATCTTTGAAGTGATGTGTAGGAATCCTTTCTGCGTGGTTTTCCTTGAGAACATTGAAAAAGCTGACGAGAAGCTGCAGATGAGCTTGTCAAAGGCAATCGAAACTGGGAAGTTTATGGATTCACACGGGAGAGAAGTTGGTATCGGAAACACTATTTTTGTTATGACGTCATCTTCACAAGGTTCCGCAACAACAACATCTTATTCTGAAGAGAAACTATTGAGAGTCAAAGGAAGGCAAGTGGAGATAAGGATTGAAACTGTATCTAGTTTACCAATGGTGCGATCGGTTTACGGCCCAACCTCGGTGAACAAGAGGAAGCTGATGGGATTAGGGAATCTTCAGGAGACAAAAGATACTGTGGAGAGCGTAAAACGGTTAAACAGAACAACTAATGGAGTTCTTGATCTGAACCTTCCGGCTCAAGAAACCGAAATCGAGGAAAAATATCATTGTGAAGAGAACTCAAACGTTTGGTTAATGAACTTGAAGAATCATAAACGTCTCATTGAGGTTCCTTTCAAGCCTTTTGATTTTGAAGGACTAGCTGAAAAAATCAAAAAGAGCGTTAAAGAAAATTTCGACAAGTGCGTGAGATCGGATTGCTTGCTGGAGGTTGACCCTAAGATCATAGAACGATTGCTAGCGGCTGTTTATTTCTCAGATAGTAGAAAAGATATCAAAGAGTTGCTGGAGAATATAATGAGTCCAGTGTTCTTGAGAATTAAAGAAAGGTATGAAATCACTACTAGTTGTGTAGTAAAATTAGTTGGTCGAGATCTTGACATTTTTCTTGAGGATCAAATGGACTTGTTCTTTGTAAAATCTCAGTAGGTTAAAGAGAACTTTATATGGAAAGTGTATCATATAAGGTAGAGTTAGTAATAGGTATTATTGTTCTTTTGTGTTGCTATACTATGATAATGTGTGTTCCTGTAGTTATGATGATGAGTTGATCTTTCTCCTTGTTTATTTTATATGTATGTAAATAGTTATTTACATTCTATTTTATTTTACCTGTTTTAAAC'"
      ]
     },
     "execution_count": 119,
     "metadata": {},
     "output_type": "execute_result"
    }
   ],
   "source": [
    "read_seq(\"C:\\\\Users\\\\Anoba\\\\Documents\\\\Python\\\\Using_Python_for_Research\\\\Arabidopsis.txt\")   # voila"
   ]
  },
  {
   "cell_type": "code",
   "execution_count": 120,
   "id": "aadf29b9-c8be-4603-acd9-5e597617e7c2",
   "metadata": {},
   "outputs": [
    {
     "name": "stdout",
     "output_type": "stream",
     "text": [
      "Help on function read_seq in module __main__:\n",
      "\n",
      "read_seq(file)\n",
      "    This reads in a sequence from text files with extensions .txt\n",
      "    and removes spaces, HTML linebreaks & other noises.\n",
      "    Then stores the cleaned sequence as a global string \"sequence\"\n",
      "    Input can be a filename if the specified file is in the current working direcory\n",
      "    else full path must be passed in for the file argument!\n",
      "\n"
     ]
    }
   ],
   "source": [
    "help(read_seq)"
   ]
  },
  {
   "cell_type": "code",
   "execution_count": 122,
   "id": "f440b065-8ce1-415c-b5c8-19c419524e32",
   "metadata": {},
   "outputs": [
    {
     "data": {
      "text/plain": [
       "\"IwanderedlonelyasacloudThatfloatsonhigho'ervalesandhills,WhenallatonceIsawacrowd,Ahost,ofgoldendaffodils;Besidethelake,beneaththetrees,Flutteringanddancinginthebreeze.ContinuousasthestarsthatshineAndtwinkleonthemilkyway,Theystretchedinnever-endinglineAlongthemarginofabay:TenthousandsawIataglance,Tossingtheirheadsinsprightlydance.Thewavesbesidethemdanced;buttheyOut-didthesparklingwavesinglee:Apoetcouldnotbutbegay,Insuchajocundcompany:Igazedâ€”andgazedâ€”butlittlethoughtWhatwealththeshowtomehadbrought:Foroft,whenonmycouchIlieInvacantorinpensivemood,TheyflashuponthatinwardeyeWhichistheblissofsolitude;Andthenmyheartwithpleasurefills,Anddanceswiththedaffodils.\""
      ]
     },
     "execution_count": 122,
     "metadata": {},
     "output_type": "execute_result"
    }
   ],
   "source": [
    "read_seq(\"C:\\\\Users\\\\Anoba\\\\Documents\\\\Python\\\\Using_Python_for_Research\\\\Wiliam_Wordsworth.txt\")"
   ]
  },
  {
   "cell_type": "code",
   "execution_count": 125,
   "id": "51b74066-ed16-41b9-9954-919b2566dad3",
   "metadata": {},
   "outputs": [],
   "source": [
    "def read_seq(file):\n",
    "    \"\"\"\n",
    "    This reads in a sequence from text files with extensions .txt\n",
    "    and removes spaces, HTML linebreaks & other noises.\n",
    "    Then stores the cleaned sequence as a global string \"sequence\"\n",
    "    Input can be a filename if the specified file is in the current working direcory\n",
    "    else full path must be passed in for the file argument!\n",
    "    \"\"\"\n",
    "    with open(file, \"r\") as redfile:\n",
    "        global sequence \n",
    "        sequence = redfile.read()\n",
    "        for i in (\" \",\"\\n\",\"\\r\",\",\",'\"',\"?\",\".\",\";\",\":\"):\n",
    "            sequence = sequence.replace(i,\"\")\n",
    "        return sequence         "
   ]
  },
  {
   "cell_type": "code",
   "execution_count": 127,
   "id": "b877f2b6-17f9-453e-b8fe-59a0828bd1dc",
   "metadata": {},
   "outputs": [
    {
     "data": {
      "text/plain": [
       "\"IwanderedlonelyasacloudThatfloatsonhigho'ervalesandhillsWhenallatonceIsawacrowdAhostofgoldendaffodilsBesidethelakebeneaththetreesFlutteringanddancinginthebreezeContinuousasthestarsthatshineAndtwinkleonthemilkywayTheystretchedinnever-endinglineAlongthemarginofabayTenthousandsawIataglanceTossingtheirheadsinsprightlydanceThewavesbesidethemdancedbuttheyOut-didthesparklingwavesingleeApoetcouldnotbutbegayInsuchajocundcompanyIgazedâ€”andgazedâ€”butlittlethoughtWhatwealththeshowtomehadbroughtForoftwhenonmycouchIlieInvacantorinpensivemoodTheyflashuponthatinwardeyeWhichistheblissofsolitudeAndthenmyheartwithpleasurefillsAnddanceswiththedaffodils\""
      ]
     },
     "execution_count": 127,
     "metadata": {},
     "output_type": "execute_result"
    }
   ],
   "source": [
    "read_seq(\"C:\\\\Users\\\\Anoba\\\\Documents\\\\Python\\\\Using_Python_for_Research\\\\Wiliam_Wordsworth.txt\")"
   ]
  },
  {
   "cell_type": "markdown",
   "id": "da0f6c40-0050-4c16-b782-c34f64acd143",
   "metadata": {},
   "source": [
    "### **However the translations done so far are incorrect since the translation doesn't start at the start of the mRNA sequence!!**   \n",
    "**This can be found in the NCBI website:      \n",
    "`CDS   21..938`   \n",
    "Means that only the sequence range from 21 to 938 should be considered for translation!**    \n",
    "**NCBI numbers nucleotides starting from 1!!**"
   ]
  },
  {
   "cell_type": "code",
   "execution_count": 128,
   "id": "534b1fcc-490e-4ee7-886e-186a85d88db0",
   "metadata": {},
   "outputs": [
    {
     "data": {
      "text/plain": [
       "'GGTCAGAAAAAGCCCTCTCCATGTCTACTCACGATACATCCCTGAAAACCACTGAGGAAGTGGCTTTTCAGATCATCTTGCTTTGCCAGTTTGGGGTTGGGACTTTTGCCAATGTATTTCTCTTTGTCTATAATTTCTCTCCAATCTCGACTGGTTCTAAACAGAGGCCCAGACAAGTGATTTTAAGACACATGGCTGTGGCCAATGCCTTAACTCTCTTCCTCACTATATTTCCAAACAACATGATGACTTTTGCTCCAATTATTCCTCAAACTGACCTCAAATGTAAATTAGAATTCTTCACTCGCCTCGTGGCAAGAAGCACAAACTTGTGTTCAACTTGTGTTCTGAGTATCCATCAGTTTGTCACACTTGTTCCTGTTAATTCAGGTAAAGGAATACTCAGAGCAAGTGTCACAAACATGGCAAGTTATTCTTGTTACAGTTGTTGGTTCTTCAGTGTCTTAAATAACATCTACATTCCAATTAAGGTCACTGGTCCACAGTTAACAGACAATAACAATAACTCTAAAAGCAAGTTGTTCTGTTCCACTTCTGATTTCAGTGTAGGCATTGTCTTCTTGAGGTTTGCCCATGATGCCACATTCATGAGCATCATGGTCTGGACCAGTGTCTCCATGGTACTTCTCCTCCATAGACATTGTCAGAGAATGCAGTACATATTCACTCTCAATCAGGACCCCAGGGGCCAAGCAGAGACCACAGCAACCCATACTATCCTGATGCTGGTAGTCACATTTGTTGGCTTTTATCTTCTAAGTCTTATTTGTATCATCTTTTACACCTATTTTATATATTCTCATCATTCCCTGAGGCATTGCAATGACATTTTGGTTTCGGGTTTCCCTACAATTTCTCCTTTACTGTTGACCTTCAGAGACCCTAAGGGTCCTTGTTCTGTGTTCTTCAACTGTTGAAAGCCAGAGTCACTAAAAATGCCAAACACAGAAGACAGCTTTGCTAATACCATTAAATACTTTATTCCATAAATATGTTTTTAAAAGCTTGTATGAACAAGGTATGGTGCTCACTGCTATACTTATAAAAGAGTAAGGTTATAATCACTTGTTGATATGAAAAGATTTCTGGTTGGAATCTGATTGAAACAGTGAGTTATTCACCACCCTCCATTCTCT'"
      ]
     },
     "execution_count": 128,
     "metadata": {},
     "output_type": "execute_result"
    }
   ],
   "source": [
    "mRNA"
   ]
  },
  {
   "cell_type": "code",
   "execution_count": 132,
   "id": "43010617-10ad-436e-81eb-dd84928dd60a",
   "metadata": {},
   "outputs": [
    {
     "data": {
      "text/plain": [
       "'ATGTCTACTCACGATACATCCCTGAAAACCACTGAGGAAGTGGCTTTTCAGATCATCTTGCTTTGCCAGTTTGGGGTTGGGACTTTTGCCAATGTATTTCTCTTTGTCTATAATTTCTCTCCAATCTCGACTGGTTCTAAACAGAGGCCCAGACAAGTGATTTTAAGACACATGGCTGTGGCCAATGCCTTAACTCTCTTCCTCACTATATTTCCAAACAACATGATGACTTTTGCTCCAATTATTCCTCAAACTGACCTCAAATGTAAATTAGAATTCTTCACTCGCCTCGTGGCAAGAAGCACAAACTTGTGTTCAACTTGTGTTCTGAGTATCCATCAGTTTGTCACACTTGTTCCTGTTAATTCAGGTAAAGGAATACTCAGAGCAAGTGTCACAAACATGGCAAGTTATTCTTGTTACAGTTGTTGGTTCTTCAGTGTCTTAAATAACATCTACATTCCAATTAAGGTCACTGGTCCACAGTTAACAGACAATAACAATAACTCTAAAAGCAAGTTGTTCTGTTCCACTTCTGATTTCAGTGTAGGCATTGTCTTCTTGAGGTTTGCCCATGATGCCACATTCATGAGCATCATGGTCTGGACCAGTGTCTCCATGGTACTTCTCCTCCATAGACATTGTCAGAGAATGCAGTACATATTCACTCTCAATCAGGACCCCAGGGGCCAAGCAGAGACCACAGCAACCCATACTATCCTGATGCTGGTAGTCACATTTGTTGGCTTTTATCTTCTAAGTCTTATTTGTATCATCTTTTACACCTATTTTATATATTCTCATCATTCCCTGAGGCATTGCAATGACATTTTGGTTTCGGGTTTCCCTACAATTTCTCCTTTACTGTTGACCTTCAGAGACCCTAAGGGTCCTTGTTCTGTGTTCTTCAACTGTTGA'"
      ]
     },
     "execution_count": 132,
     "metadata": {},
     "output_type": "execute_result"
    }
   ],
   "source": [
    "mRNA[20:938]   # 20 is the 21st nucleotide, 938 is 939th nucleotide and since Python ignores upper limit this will be fine!"
   ]
  },
  {
   "cell_type": "code",
   "execution_count": 134,
   "id": "818c203d-5497-4232-af0d-dc9983261d4c",
   "metadata": {},
   "outputs": [
    {
     "data": {
      "text/plain": [
       "'MSTHDTSLKTTEEVAFQIILLCQFGVGTFANVFLFVYNFSPISTGSKQRPRQVILRHMAVANALTLFLTIFPNNMMTFAPIIPQTDLKCKLEFFTRLVARSTNLCSTCVLSIHQFVTLVPVNSGKGILRASVTNMASYSCYSCWFFSVLNNIYIPIKVTGPQLTDNNNNSKSKLFCSTSDFSVGIVFLRFAHDATFMSIMVWTSVSMVLLLHRHCQRMQYIFTLNQDPRGQAETTATHTILMLVVTFVGFYLLSLICIIFYTYFIYSHHSLRHCNDILVSGFPTISPLLLTFRDPKGPCSVFFNC_'"
      ]
     },
     "execution_count": 134,
     "metadata": {},
     "output_type": "execute_result"
    }
   ],
   "source": [
    "translate(mRNA[20:938])  # this includes nonsense codons"
   ]
  },
  {
   "cell_type": "code",
   "execution_count": 137,
   "id": "f2cfe360-3880-4e64-8fba-e56e470602aa",
   "metadata": {},
   "outputs": [],
   "source": [
    "trans = translate(mRNA[20:938]).replace(\"_\",\"\")"
   ]
  },
  {
   "cell_type": "code",
   "execution_count": 138,
   "id": "778f0fb4-75cd-4649-8f3c-66ae7501cc87",
   "metadata": {},
   "outputs": [
    {
     "data": {
      "text/plain": [
       "'MSTHDTSLKTTEEVAFQIILLCQFGVGTFANVFLFVYNFSPISTGSKQRPRQVILRHMAVANALTLFLTIFPNNMMTFAPIIPQTDLKCKLEFFTRLVARSTNLCSTCVLSIHQFVTLVPVNSGKGILRASVTNMASYSCYSCWFFSVLNNIYIPIKVTGPQLTDNNNNSKSKLFCSTSDFSVGIVFLRFAHDATFMSIMVWTSVSMVLLLHRHCQRMQYIFTLNQDPRGQAETTATHTILMLVVTFVGFYLLSLICIIFYTYFIYSHHSLRHCNDILVSGFPTISPLLLTFRDPKGPCSVFFNC'"
      ]
     },
     "execution_count": 138,
     "metadata": {},
     "output_type": "execute_result"
    }
   ],
   "source": [
    "trans"
   ]
  },
  {
   "cell_type": "code",
   "execution_count": 145,
   "id": "7048b197-d437-49d7-a530-f47299c2edda",
   "metadata": {},
   "outputs": [],
   "source": [
    "NCBI_translate = open(\"C:\\\\Users\\\\Anoba\\\\Documents\\\\Python\\\\Using_Python_for_Research\\\\aaseq.txt\", \"r\").read()"
   ]
  },
  {
   "cell_type": "code",
   "execution_count": 153,
   "id": "8fed62e4-c707-4861-8b94-b133c2ac378d",
   "metadata": {},
   "outputs": [],
   "source": [
    "NCBI_translate = NCBI_translate.replace(\"\\n\",\"\")\n",
    "NCBI_translate = NCBI_translate.replace(\"\\r\",\"\")\n",
    "NCBI_translate = NCBI_translate.replace(\" \",\"\")\n",
    "NCBI_translate = NCBI_translate.replace('\"',\"\")"
   ]
  },
  {
   "cell_type": "code",
   "execution_count": 154,
   "id": "a4f499a7-37d8-45d1-bd5e-8e80314475e7",
   "metadata": {},
   "outputs": [
    {
     "data": {
      "text/plain": [
       "'MSTHDTSLKTTEEVAFQIILLCQFGVGTFANVFLFVYNFSPISTGSKQRPRQVILRHMAVANALTLFLTIFPNNMMTFAPIIPQTDLKCKLEFFTRLVARSTNLCSTCVLSIHQFVTLVPVNSGKGILRASVTNMASYSCYSCWFFSVLNNIYIPIKVTGPQLTDNNNNSKSKLFCSTSDFSVGIVFLRFAHDATFMSIMVWTSVSMVLLLHRHCQRMQYIFTLNQDPRGQAETTATHTILMLVVTFVGFYLLSLICIIFYTYFIYSHHSLRHCNDILVSGFPTISPLLLTFRDPKGPCSVFFNC'"
      ]
     },
     "execution_count": 154,
     "metadata": {},
     "output_type": "execute_result"
    }
   ],
   "source": [
    "NCBI_translate"
   ]
  },
  {
   "cell_type": "code",
   "execution_count": 157,
   "id": "c825532f-7fc8-4978-8a44-62d53ecd38f7",
   "metadata": {},
   "outputs": [
    {
     "data": {
      "text/plain": [
       "True"
      ]
     },
     "execution_count": 157,
     "metadata": {},
     "output_type": "execute_result"
    }
   ],
   "source": [
    "trans == NCBI_translate   # voila"
   ]
  },
  {
   "cell_type": "code",
   "execution_count": 161,
   "id": "46b960c9-b0e7-4424-b0c2-eb39995191a3",
   "metadata": {},
   "outputs": [
    {
     "data": {
      "text/plain": [
       "True"
      ]
     },
     "execution_count": 161,
     "metadata": {},
     "output_type": "execute_result"
    }
   ],
   "source": [
    "translate(mRNA[20:938])[:-1] == translate(mRNA[20:935])"
   ]
  }
 ],
 "metadata": {
  "kernelspec": {
   "display_name": "Python 3 (ipykernel)",
   "language": "python",
   "name": "python3"
  },
  "language_info": {
   "codemirror_mode": {
    "name": "ipython",
    "version": 3
   },
   "file_extension": ".py",
   "mimetype": "text/x-python",
   "name": "python",
   "nbconvert_exporter": "python",
   "pygments_lexer": "ipython3",
   "version": "3.9.9"
  }
 },
 "nbformat": 4,
 "nbformat_minor": 5
}
