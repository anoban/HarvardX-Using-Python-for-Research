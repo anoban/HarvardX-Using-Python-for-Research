{
 "cells": [
  {
   "cell_type": "code",
   "execution_count": 73,
   "id": "faf3ea34-089b-4560-a492-201ae2892128",
   "metadata": {},
   "outputs": [],
   "source": [
    "import numpy as np\n",
    "import pandas as pd\n",
    "import matplotlib.pyplot as plt\n",
    "import datetime\n",
    "from collections import Counter"
   ]
  },
  {
   "cell_type": "code",
   "execution_count": 3,
   "id": "b0fe05b0-da6c-4304-bf14-3e31d74f0903",
   "metadata": {},
   "outputs": [],
   "source": [
    "accelerometer_data = pd.read_csv(\"C:\\\\Users\\\\Anoba\\\\Documents\\\\Python\\\\Using_Python_for_Research\\\\Final_project\\\\train_time_series.csv\")"
   ]
  },
  {
   "cell_type": "code",
   "execution_count": 4,
   "id": "e70df1f1-7d4e-4e58-9aa1-fd89956b76e9",
   "metadata": {},
   "outputs": [
    {
     "data": {
      "text/html": [
       "<div>\n",
       "<style scoped>\n",
       "    .dataframe tbody tr th:only-of-type {\n",
       "        vertical-align: middle;\n",
       "    }\n",
       "\n",
       "    .dataframe tbody tr th {\n",
       "        vertical-align: top;\n",
       "    }\n",
       "\n",
       "    .dataframe thead th {\n",
       "        text-align: right;\n",
       "    }\n",
       "</style>\n",
       "<table border=\"1\" class=\"dataframe\">\n",
       "  <thead>\n",
       "    <tr style=\"text-align: right;\">\n",
       "      <th></th>\n",
       "      <th>Unnamed: 0</th>\n",
       "      <th>timestamp</th>\n",
       "      <th>UTC time</th>\n",
       "      <th>accuracy</th>\n",
       "      <th>x</th>\n",
       "      <th>y</th>\n",
       "      <th>z</th>\n",
       "    </tr>\n",
       "  </thead>\n",
       "  <tbody>\n",
       "    <tr>\n",
       "      <th>0</th>\n",
       "      <td>20586</td>\n",
       "      <td>1565109930787</td>\n",
       "      <td>2019-08-06T16:45:30.787</td>\n",
       "      <td>unknown</td>\n",
       "      <td>-0.006485</td>\n",
       "      <td>-0.934860</td>\n",
       "      <td>-0.069046</td>\n",
       "    </tr>\n",
       "    <tr>\n",
       "      <th>1</th>\n",
       "      <td>20587</td>\n",
       "      <td>1565109930887</td>\n",
       "      <td>2019-08-06T16:45:30.887</td>\n",
       "      <td>unknown</td>\n",
       "      <td>-0.066467</td>\n",
       "      <td>-1.015442</td>\n",
       "      <td>0.089554</td>\n",
       "    </tr>\n",
       "    <tr>\n",
       "      <th>2</th>\n",
       "      <td>20588</td>\n",
       "      <td>1565109930987</td>\n",
       "      <td>2019-08-06T16:45:30.987</td>\n",
       "      <td>unknown</td>\n",
       "      <td>-0.043488</td>\n",
       "      <td>-1.021255</td>\n",
       "      <td>0.178467</td>\n",
       "    </tr>\n",
       "    <tr>\n",
       "      <th>3</th>\n",
       "      <td>20589</td>\n",
       "      <td>1565109931087</td>\n",
       "      <td>2019-08-06T16:45:31.087</td>\n",
       "      <td>unknown</td>\n",
       "      <td>-0.053802</td>\n",
       "      <td>-0.987701</td>\n",
       "      <td>0.068985</td>\n",
       "    </tr>\n",
       "    <tr>\n",
       "      <th>4</th>\n",
       "      <td>20590</td>\n",
       "      <td>1565109931188</td>\n",
       "      <td>2019-08-06T16:45:31.188</td>\n",
       "      <td>unknown</td>\n",
       "      <td>-0.054031</td>\n",
       "      <td>-1.003616</td>\n",
       "      <td>0.126450</td>\n",
       "    </tr>\n",
       "  </tbody>\n",
       "</table>\n",
       "</div>"
      ],
      "text/plain": [
       "   Unnamed: 0      timestamp                 UTC time accuracy         x  \\\n",
       "0       20586  1565109930787  2019-08-06T16:45:30.787  unknown -0.006485   \n",
       "1       20587  1565109930887  2019-08-06T16:45:30.887  unknown -0.066467   \n",
       "2       20588  1565109930987  2019-08-06T16:45:30.987  unknown -0.043488   \n",
       "3       20589  1565109931087  2019-08-06T16:45:31.087  unknown -0.053802   \n",
       "4       20590  1565109931188  2019-08-06T16:45:31.188  unknown -0.054031   \n",
       "\n",
       "          y         z  \n",
       "0 -0.934860 -0.069046  \n",
       "1 -1.015442  0.089554  \n",
       "2 -1.021255  0.178467  \n",
       "3 -0.987701  0.068985  \n",
       "4 -1.003616  0.126450  "
      ]
     },
     "execution_count": 4,
     "metadata": {},
     "output_type": "execute_result"
    }
   ],
   "source": [
    "accelerometer_data.head()"
   ]
  },
  {
   "cell_type": "code",
   "execution_count": 5,
   "id": "b5f3bbce-a11c-401b-b36c-9a37e11227c0",
   "metadata": {},
   "outputs": [],
   "source": [
    "accelerometer_data = pd.read_csv(\"C:\\\\Users\\\\Anoba\\\\Documents\\\\Python\\\\Using_Python_for_Research\\\\Final_project\\\\train_time_series.csv\")"
   ]
  },
  {
   "cell_type": "code",
   "execution_count": 6,
   "id": "7e47b3bb-1144-4a79-b27b-73b86d87ba70",
   "metadata": {},
   "outputs": [],
   "source": [
    "activity_labels = pd.read_csv(\"C:\\\\Users\\\\Anoba\\\\Documents\\\\Python\\\\Using_Python_for_Research\\\\Final_project\\\\train_labels.csv\")"
   ]
  },
  {
   "cell_type": "markdown",
   "id": "c9e81d10-4cfd-4fb6-9a69-d2a124bb27bf",
   "metadata": {},
   "source": [
    "**encoding: 1 = standing, 2 = walking, 3 = stairs down, 4 = stairs up.**   \n",
    "**Because the accelerometers are sampled at high frequency, the labels in train_labels.csv are only provided for every 10th observation in train_time_series.csv.**"
   ]
  },
  {
   "cell_type": "code",
   "execution_count": 7,
   "id": "04f34cb9-498e-4ca9-b46c-18e2cdee4b66",
   "metadata": {},
   "outputs": [
    {
     "data": {
      "text/plain": [
       "(375, 4)"
      ]
     },
     "execution_count": 7,
     "metadata": {},
     "output_type": "execute_result"
    }
   ],
   "source": [
    "activity_labels.shape"
   ]
  },
  {
   "cell_type": "code",
   "execution_count": 8,
   "id": "4facbb1b-cc86-4dba-9c5e-303c39416acc",
   "metadata": {},
   "outputs": [
    {
     "data": {
      "text/plain": [
       "(3744, 7)"
      ]
     },
     "execution_count": 8,
     "metadata": {},
     "output_type": "execute_result"
    }
   ],
   "source": [
    "accelerometer_data.shape  # dimensions of the dataframe"
   ]
  },
  {
   "cell_type": "code",
   "execution_count": 9,
   "id": "c4647a77-cd4d-41a9-a0cd-0b1269972295",
   "metadata": {},
   "outputs": [],
   "source": [
    "acc_data = accelerometer_data.iloc[range(3,accelerometer_data.shape[0],10)]  # extracting the rows for which labels are available"
   ]
  },
  {
   "cell_type": "code",
   "execution_count": 10,
   "id": "c92f76fb-210f-4a97-9748-163eacfab335",
   "metadata": {},
   "outputs": [],
   "source": [
    "acc_data = acc_data.drop(columns=[\"UTC time\",\"accuracy\"])  # selecting the needed columns"
   ]
  },
  {
   "cell_type": "code",
   "execution_count": 11,
   "id": "5bd47eee-15cb-4034-9606-927438ac8898",
   "metadata": {},
   "outputs": [],
   "source": [
    "acc_data = acc_data.reset_index().drop(\"index\", axis=1)"
   ]
  },
  {
   "cell_type": "code",
   "execution_count": 17,
   "id": "fc17d1f3-61d5-4426-bbc8-878e075c591f",
   "metadata": {},
   "outputs": [
    {
     "data": {
      "text/html": [
       "<div>\n",
       "<style scoped>\n",
       "    .dataframe tbody tr th:only-of-type {\n",
       "        vertical-align: middle;\n",
       "    }\n",
       "\n",
       "    .dataframe tbody tr th {\n",
       "        vertical-align: top;\n",
       "    }\n",
       "\n",
       "    .dataframe thead th {\n",
       "        text-align: right;\n",
       "    }\n",
       "</style>\n",
       "<table border=\"1\" class=\"dataframe\">\n",
       "  <thead>\n",
       "    <tr style=\"text-align: right;\">\n",
       "      <th></th>\n",
       "      <th>Unnamed: 0</th>\n",
       "      <th>timestamp</th>\n",
       "      <th>x</th>\n",
       "      <th>y</th>\n",
       "      <th>z</th>\n",
       "    </tr>\n",
       "  </thead>\n",
       "  <tbody>\n",
       "    <tr>\n",
       "      <th>0</th>\n",
       "      <td>20589</td>\n",
       "      <td>1565109931087</td>\n",
       "      <td>-0.053802</td>\n",
       "      <td>-0.987701</td>\n",
       "      <td>0.068985</td>\n",
       "    </tr>\n",
       "    <tr>\n",
       "      <th>1</th>\n",
       "      <td>20599</td>\n",
       "      <td>1565109932090</td>\n",
       "      <td>0.013718</td>\n",
       "      <td>-0.852371</td>\n",
       "      <td>-0.000870</td>\n",
       "    </tr>\n",
       "    <tr>\n",
       "      <th>2</th>\n",
       "      <td>20609</td>\n",
       "      <td>1565109933092</td>\n",
       "      <td>0.145584</td>\n",
       "      <td>-1.007843</td>\n",
       "      <td>-0.036819</td>\n",
       "    </tr>\n",
       "    <tr>\n",
       "      <th>3</th>\n",
       "      <td>20619</td>\n",
       "      <td>1565109934094</td>\n",
       "      <td>-0.099380</td>\n",
       "      <td>-1.209686</td>\n",
       "      <td>0.304489</td>\n",
       "    </tr>\n",
       "    <tr>\n",
       "      <th>4</th>\n",
       "      <td>20629</td>\n",
       "      <td>1565109935097</td>\n",
       "      <td>0.082794</td>\n",
       "      <td>-1.001434</td>\n",
       "      <td>-0.025375</td>\n",
       "    </tr>\n",
       "    <tr>\n",
       "      <th>...</th>\n",
       "      <td>...</td>\n",
       "      <td>...</td>\n",
       "      <td>...</td>\n",
       "      <td>...</td>\n",
       "      <td>...</td>\n",
       "    </tr>\n",
       "    <tr>\n",
       "      <th>370</th>\n",
       "      <td>24289</td>\n",
       "      <td>1565110302030</td>\n",
       "      <td>-0.641953</td>\n",
       "      <td>-1.469177</td>\n",
       "      <td>0.301041</td>\n",
       "    </tr>\n",
       "    <tr>\n",
       "      <th>371</th>\n",
       "      <td>24299</td>\n",
       "      <td>1565110303032</td>\n",
       "      <td>-0.171616</td>\n",
       "      <td>-0.366074</td>\n",
       "      <td>-0.059082</td>\n",
       "    </tr>\n",
       "    <tr>\n",
       "      <th>372</th>\n",
       "      <td>24309</td>\n",
       "      <td>1565110304034</td>\n",
       "      <td>0.401810</td>\n",
       "      <td>-1.077698</td>\n",
       "      <td>0.258911</td>\n",
       "    </tr>\n",
       "    <tr>\n",
       "      <th>373</th>\n",
       "      <td>24319</td>\n",
       "      <td>1565110305037</td>\n",
       "      <td>0.330338</td>\n",
       "      <td>-1.470062</td>\n",
       "      <td>0.303894</td>\n",
       "    </tr>\n",
       "    <tr>\n",
       "      <th>374</th>\n",
       "      <td>24329</td>\n",
       "      <td>1565110306039</td>\n",
       "      <td>0.689346</td>\n",
       "      <td>-0.991043</td>\n",
       "      <td>0.034973</td>\n",
       "    </tr>\n",
       "  </tbody>\n",
       "</table>\n",
       "<p>375 rows × 5 columns</p>\n",
       "</div>"
      ],
      "text/plain": [
       "     Unnamed: 0      timestamp         x         y         z\n",
       "0         20589  1565109931087 -0.053802 -0.987701  0.068985\n",
       "1         20599  1565109932090  0.013718 -0.852371 -0.000870\n",
       "2         20609  1565109933092  0.145584 -1.007843 -0.036819\n",
       "3         20619  1565109934094 -0.099380 -1.209686  0.304489\n",
       "4         20629  1565109935097  0.082794 -1.001434 -0.025375\n",
       "..          ...            ...       ...       ...       ...\n",
       "370       24289  1565110302030 -0.641953 -1.469177  0.301041\n",
       "371       24299  1565110303032 -0.171616 -0.366074 -0.059082\n",
       "372       24309  1565110304034  0.401810 -1.077698  0.258911\n",
       "373       24319  1565110305037  0.330338 -1.470062  0.303894\n",
       "374       24329  1565110306039  0.689346 -0.991043  0.034973\n",
       "\n",
       "[375 rows x 5 columns]"
      ]
     },
     "execution_count": 17,
     "metadata": {},
     "output_type": "execute_result"
    }
   ],
   "source": [
    "acc_data"
   ]
  },
  {
   "cell_type": "code",
   "execution_count": 12,
   "id": "053f0261-36cf-46b2-9b25-f2e18af5e3b6",
   "metadata": {},
   "outputs": [
    {
     "data": {
      "text/plain": [
       "x   -0.053802\n",
       "y   -0.987701\n",
       "z    0.068985\n",
       "Name: 0, dtype: float64"
      ]
     },
     "execution_count": 12,
     "metadata": {},
     "output_type": "execute_result"
    }
   ],
   "source": [
    "acc_data[[\"x\",\"y\",\"z\"]].iloc[0]"
   ]
  },
  {
   "cell_type": "code",
   "execution_count": 13,
   "id": "ee8e7c24-a018-414c-89bc-a5105175f072",
   "metadata": {},
   "outputs": [
    {
     "data": {
      "text/plain": [
       "x    0.002895\n",
       "y    0.975554\n",
       "z    0.004759\n",
       "Name: 0, dtype: float64"
      ]
     },
     "execution_count": 13,
     "metadata": {},
     "output_type": "execute_result"
    }
   ],
   "source": [
    "acc_data[[\"x\",\"y\",\"z\"]].iloc[0]**2"
   ]
  },
  {
   "cell_type": "code",
   "execution_count": 14,
   "id": "c0655ece-e53d-4ac7-80b1-70162942ec73",
   "metadata": {},
   "outputs": [
    {
     "data": {
      "text/plain": [
       "0.983207723358646"
      ]
     },
     "execution_count": 14,
     "metadata": {},
     "output_type": "execute_result"
    }
   ],
   "source": [
    "np.sum(acc_data[[\"x\",\"y\",\"z\"]].iloc[0]**2)"
   ]
  },
  {
   "cell_type": "code",
   "execution_count": 15,
   "id": "3a32502b-eae7-4bdd-bf24-0291ee9be23c",
   "metadata": {},
   "outputs": [
    {
     "data": {
      "text/plain": [
       "Unnamed: 0    2.432900e+04\n",
       "timestamp     1.565110e+12\n",
       "x             6.893463e-01\n",
       "y            -9.910431e-01\n",
       "z             3.497314e-02\n",
       "Name: 374, dtype: float64"
      ]
     },
     "execution_count": 15,
     "metadata": {},
     "output_type": "execute_result"
    }
   ],
   "source": [
    "acc_data.iloc[374]"
   ]
  },
  {
   "cell_type": "code",
   "execution_count": 16,
   "id": "c13a2284-5ddd-464e-8ad1-92d4db10f467",
   "metadata": {},
   "outputs": [
    {
     "ename": "SyntaxError",
     "evalue": "invalid syntax (Temp/ipykernel_9712/443298061.py, line 2)",
     "output_type": "error",
     "traceback": [
      "\u001b[1;36m  File \u001b[1;32m\"C:\\Users\\Anoba\\AppData\\Local\\Temp/ipykernel_9712/443298061.py\"\u001b[1;36m, line \u001b[1;32m2\u001b[0m\n\u001b[1;33m    for\u001b[0m\n\u001b[1;37m        ^\u001b[0m\n\u001b[1;31mSyntaxError\u001b[0m\u001b[1;31m:\u001b[0m invalid syntax\n"
     ]
    }
   ],
   "source": [
    "euclidean_dist = [] \n",
    "#for "
   ]
  },
  {
   "cell_type": "code",
   "execution_count": 19,
   "id": "ee85ac0d-9f47-4fb9-bd23-9bf897650691",
   "metadata": {},
   "outputs": [],
   "source": [
    "activity_labels = activity_labels.drop(columns=[\"UTC time\"])"
   ]
  },
  {
   "cell_type": "code",
   "execution_count": 20,
   "id": "75dd1578-052b-49f0-9c20-fd354984c15a",
   "metadata": {},
   "outputs": [
    {
     "data": {
      "text/html": [
       "<div>\n",
       "<style scoped>\n",
       "    .dataframe tbody tr th:only-of-type {\n",
       "        vertical-align: middle;\n",
       "    }\n",
       "\n",
       "    .dataframe tbody tr th {\n",
       "        vertical-align: top;\n",
       "    }\n",
       "\n",
       "    .dataframe thead th {\n",
       "        text-align: right;\n",
       "    }\n",
       "</style>\n",
       "<table border=\"1\" class=\"dataframe\">\n",
       "  <thead>\n",
       "    <tr style=\"text-align: right;\">\n",
       "      <th></th>\n",
       "      <th>Unnamed: 0</th>\n",
       "      <th>timestamp</th>\n",
       "      <th>label</th>\n",
       "    </tr>\n",
       "  </thead>\n",
       "  <tbody>\n",
       "    <tr>\n",
       "      <th>0</th>\n",
       "      <td>20589</td>\n",
       "      <td>1565109931087</td>\n",
       "      <td>1</td>\n",
       "    </tr>\n",
       "    <tr>\n",
       "      <th>1</th>\n",
       "      <td>20599</td>\n",
       "      <td>1565109932090</td>\n",
       "      <td>1</td>\n",
       "    </tr>\n",
       "    <tr>\n",
       "      <th>2</th>\n",
       "      <td>20609</td>\n",
       "      <td>1565109933092</td>\n",
       "      <td>1</td>\n",
       "    </tr>\n",
       "    <tr>\n",
       "      <th>3</th>\n",
       "      <td>20619</td>\n",
       "      <td>1565109934094</td>\n",
       "      <td>1</td>\n",
       "    </tr>\n",
       "    <tr>\n",
       "      <th>4</th>\n",
       "      <td>20629</td>\n",
       "      <td>1565109935097</td>\n",
       "      <td>1</td>\n",
       "    </tr>\n",
       "    <tr>\n",
       "      <th>...</th>\n",
       "      <td>...</td>\n",
       "      <td>...</td>\n",
       "      <td>...</td>\n",
       "    </tr>\n",
       "    <tr>\n",
       "      <th>370</th>\n",
       "      <td>24289</td>\n",
       "      <td>1565110302030</td>\n",
       "      <td>4</td>\n",
       "    </tr>\n",
       "    <tr>\n",
       "      <th>371</th>\n",
       "      <td>24299</td>\n",
       "      <td>1565110303032</td>\n",
       "      <td>4</td>\n",
       "    </tr>\n",
       "    <tr>\n",
       "      <th>372</th>\n",
       "      <td>24309</td>\n",
       "      <td>1565110304034</td>\n",
       "      <td>4</td>\n",
       "    </tr>\n",
       "    <tr>\n",
       "      <th>373</th>\n",
       "      <td>24319</td>\n",
       "      <td>1565110305037</td>\n",
       "      <td>4</td>\n",
       "    </tr>\n",
       "    <tr>\n",
       "      <th>374</th>\n",
       "      <td>24329</td>\n",
       "      <td>1565110306039</td>\n",
       "      <td>4</td>\n",
       "    </tr>\n",
       "  </tbody>\n",
       "</table>\n",
       "<p>375 rows × 3 columns</p>\n",
       "</div>"
      ],
      "text/plain": [
       "     Unnamed: 0      timestamp  label\n",
       "0         20589  1565109931087      1\n",
       "1         20599  1565109932090      1\n",
       "2         20609  1565109933092      1\n",
       "3         20619  1565109934094      1\n",
       "4         20629  1565109935097      1\n",
       "..          ...            ...    ...\n",
       "370       24289  1565110302030      4\n",
       "371       24299  1565110303032      4\n",
       "372       24309  1565110304034      4\n",
       "373       24319  1565110305037      4\n",
       "374       24329  1565110306039      4\n",
       "\n",
       "[375 rows x 3 columns]"
      ]
     },
     "execution_count": 20,
     "metadata": {},
     "output_type": "execute_result"
    }
   ],
   "source": [
    "activity_labels"
   ]
  },
  {
   "cell_type": "code",
   "execution_count": 21,
   "id": "248d94b0-433b-4577-8bad-ef85f1c1d40e",
   "metadata": {},
   "outputs": [
    {
     "data": {
      "text/html": [
       "<div>\n",
       "<style scoped>\n",
       "    .dataframe tbody tr th:only-of-type {\n",
       "        vertical-align: middle;\n",
       "    }\n",
       "\n",
       "    .dataframe tbody tr th {\n",
       "        vertical-align: top;\n",
       "    }\n",
       "\n",
       "    .dataframe thead th {\n",
       "        text-align: right;\n",
       "    }\n",
       "</style>\n",
       "<table border=\"1\" class=\"dataframe\">\n",
       "  <thead>\n",
       "    <tr style=\"text-align: right;\">\n",
       "      <th></th>\n",
       "      <th>Unnamed: 0</th>\n",
       "      <th>timestamp</th>\n",
       "      <th>x</th>\n",
       "      <th>y</th>\n",
       "      <th>z</th>\n",
       "    </tr>\n",
       "  </thead>\n",
       "  <tbody>\n",
       "    <tr>\n",
       "      <th>0</th>\n",
       "      <td>20589</td>\n",
       "      <td>1565109931087</td>\n",
       "      <td>-0.053802</td>\n",
       "      <td>-0.987701</td>\n",
       "      <td>0.068985</td>\n",
       "    </tr>\n",
       "    <tr>\n",
       "      <th>1</th>\n",
       "      <td>20599</td>\n",
       "      <td>1565109932090</td>\n",
       "      <td>0.013718</td>\n",
       "      <td>-0.852371</td>\n",
       "      <td>-0.000870</td>\n",
       "    </tr>\n",
       "    <tr>\n",
       "      <th>2</th>\n",
       "      <td>20609</td>\n",
       "      <td>1565109933092</td>\n",
       "      <td>0.145584</td>\n",
       "      <td>-1.007843</td>\n",
       "      <td>-0.036819</td>\n",
       "    </tr>\n",
       "    <tr>\n",
       "      <th>3</th>\n",
       "      <td>20619</td>\n",
       "      <td>1565109934094</td>\n",
       "      <td>-0.099380</td>\n",
       "      <td>-1.209686</td>\n",
       "      <td>0.304489</td>\n",
       "    </tr>\n",
       "    <tr>\n",
       "      <th>4</th>\n",
       "      <td>20629</td>\n",
       "      <td>1565109935097</td>\n",
       "      <td>0.082794</td>\n",
       "      <td>-1.001434</td>\n",
       "      <td>-0.025375</td>\n",
       "    </tr>\n",
       "    <tr>\n",
       "      <th>...</th>\n",
       "      <td>...</td>\n",
       "      <td>...</td>\n",
       "      <td>...</td>\n",
       "      <td>...</td>\n",
       "      <td>...</td>\n",
       "    </tr>\n",
       "    <tr>\n",
       "      <th>370</th>\n",
       "      <td>24289</td>\n",
       "      <td>1565110302030</td>\n",
       "      <td>-0.641953</td>\n",
       "      <td>-1.469177</td>\n",
       "      <td>0.301041</td>\n",
       "    </tr>\n",
       "    <tr>\n",
       "      <th>371</th>\n",
       "      <td>24299</td>\n",
       "      <td>1565110303032</td>\n",
       "      <td>-0.171616</td>\n",
       "      <td>-0.366074</td>\n",
       "      <td>-0.059082</td>\n",
       "    </tr>\n",
       "    <tr>\n",
       "      <th>372</th>\n",
       "      <td>24309</td>\n",
       "      <td>1565110304034</td>\n",
       "      <td>0.401810</td>\n",
       "      <td>-1.077698</td>\n",
       "      <td>0.258911</td>\n",
       "    </tr>\n",
       "    <tr>\n",
       "      <th>373</th>\n",
       "      <td>24319</td>\n",
       "      <td>1565110305037</td>\n",
       "      <td>0.330338</td>\n",
       "      <td>-1.470062</td>\n",
       "      <td>0.303894</td>\n",
       "    </tr>\n",
       "    <tr>\n",
       "      <th>374</th>\n",
       "      <td>24329</td>\n",
       "      <td>1565110306039</td>\n",
       "      <td>0.689346</td>\n",
       "      <td>-0.991043</td>\n",
       "      <td>0.034973</td>\n",
       "    </tr>\n",
       "  </tbody>\n",
       "</table>\n",
       "<p>375 rows × 5 columns</p>\n",
       "</div>"
      ],
      "text/plain": [
       "     Unnamed: 0      timestamp         x         y         z\n",
       "0         20589  1565109931087 -0.053802 -0.987701  0.068985\n",
       "1         20599  1565109932090  0.013718 -0.852371 -0.000870\n",
       "2         20609  1565109933092  0.145584 -1.007843 -0.036819\n",
       "3         20619  1565109934094 -0.099380 -1.209686  0.304489\n",
       "4         20629  1565109935097  0.082794 -1.001434 -0.025375\n",
       "..          ...            ...       ...       ...       ...\n",
       "370       24289  1565110302030 -0.641953 -1.469177  0.301041\n",
       "371       24299  1565110303032 -0.171616 -0.366074 -0.059082\n",
       "372       24309  1565110304034  0.401810 -1.077698  0.258911\n",
       "373       24319  1565110305037  0.330338 -1.470062  0.303894\n",
       "374       24329  1565110306039  0.689346 -0.991043  0.034973\n",
       "\n",
       "[375 rows x 5 columns]"
      ]
     },
     "execution_count": 21,
     "metadata": {},
     "output_type": "execute_result"
    }
   ],
   "source": [
    "acc_data"
   ]
  },
  {
   "cell_type": "code",
   "execution_count": 22,
   "id": "860a5662-a919-4729-96d9-2aaa19b3046b",
   "metadata": {},
   "outputs": [],
   "source": [
    "data = pd.concat([acc_data, activity_labels[\"label\"]],axis=1, ignore_index=False)"
   ]
  },
  {
   "cell_type": "code",
   "execution_count": 23,
   "id": "51923e84-3799-4713-b2b6-d4412d4bbe53",
   "metadata": {},
   "outputs": [
    {
     "data": {
      "text/html": [
       "<div>\n",
       "<style scoped>\n",
       "    .dataframe tbody tr th:only-of-type {\n",
       "        vertical-align: middle;\n",
       "    }\n",
       "\n",
       "    .dataframe tbody tr th {\n",
       "        vertical-align: top;\n",
       "    }\n",
       "\n",
       "    .dataframe thead th {\n",
       "        text-align: right;\n",
       "    }\n",
       "</style>\n",
       "<table border=\"1\" class=\"dataframe\">\n",
       "  <thead>\n",
       "    <tr style=\"text-align: right;\">\n",
       "      <th></th>\n",
       "      <th>Unnamed: 0</th>\n",
       "      <th>timestamp</th>\n",
       "      <th>x</th>\n",
       "      <th>y</th>\n",
       "      <th>z</th>\n",
       "      <th>label</th>\n",
       "    </tr>\n",
       "  </thead>\n",
       "  <tbody>\n",
       "    <tr>\n",
       "      <th>0</th>\n",
       "      <td>20589</td>\n",
       "      <td>1565109931087</td>\n",
       "      <td>-0.053802</td>\n",
       "      <td>-0.987701</td>\n",
       "      <td>0.068985</td>\n",
       "      <td>1</td>\n",
       "    </tr>\n",
       "    <tr>\n",
       "      <th>1</th>\n",
       "      <td>20599</td>\n",
       "      <td>1565109932090</td>\n",
       "      <td>0.013718</td>\n",
       "      <td>-0.852371</td>\n",
       "      <td>-0.000870</td>\n",
       "      <td>1</td>\n",
       "    </tr>\n",
       "    <tr>\n",
       "      <th>2</th>\n",
       "      <td>20609</td>\n",
       "      <td>1565109933092</td>\n",
       "      <td>0.145584</td>\n",
       "      <td>-1.007843</td>\n",
       "      <td>-0.036819</td>\n",
       "      <td>1</td>\n",
       "    </tr>\n",
       "    <tr>\n",
       "      <th>3</th>\n",
       "      <td>20619</td>\n",
       "      <td>1565109934094</td>\n",
       "      <td>-0.099380</td>\n",
       "      <td>-1.209686</td>\n",
       "      <td>0.304489</td>\n",
       "      <td>1</td>\n",
       "    </tr>\n",
       "    <tr>\n",
       "      <th>4</th>\n",
       "      <td>20629</td>\n",
       "      <td>1565109935097</td>\n",
       "      <td>0.082794</td>\n",
       "      <td>-1.001434</td>\n",
       "      <td>-0.025375</td>\n",
       "      <td>1</td>\n",
       "    </tr>\n",
       "    <tr>\n",
       "      <th>...</th>\n",
       "      <td>...</td>\n",
       "      <td>...</td>\n",
       "      <td>...</td>\n",
       "      <td>...</td>\n",
       "      <td>...</td>\n",
       "      <td>...</td>\n",
       "    </tr>\n",
       "    <tr>\n",
       "      <th>370</th>\n",
       "      <td>24289</td>\n",
       "      <td>1565110302030</td>\n",
       "      <td>-0.641953</td>\n",
       "      <td>-1.469177</td>\n",
       "      <td>0.301041</td>\n",
       "      <td>4</td>\n",
       "    </tr>\n",
       "    <tr>\n",
       "      <th>371</th>\n",
       "      <td>24299</td>\n",
       "      <td>1565110303032</td>\n",
       "      <td>-0.171616</td>\n",
       "      <td>-0.366074</td>\n",
       "      <td>-0.059082</td>\n",
       "      <td>4</td>\n",
       "    </tr>\n",
       "    <tr>\n",
       "      <th>372</th>\n",
       "      <td>24309</td>\n",
       "      <td>1565110304034</td>\n",
       "      <td>0.401810</td>\n",
       "      <td>-1.077698</td>\n",
       "      <td>0.258911</td>\n",
       "      <td>4</td>\n",
       "    </tr>\n",
       "    <tr>\n",
       "      <th>373</th>\n",
       "      <td>24319</td>\n",
       "      <td>1565110305037</td>\n",
       "      <td>0.330338</td>\n",
       "      <td>-1.470062</td>\n",
       "      <td>0.303894</td>\n",
       "      <td>4</td>\n",
       "    </tr>\n",
       "    <tr>\n",
       "      <th>374</th>\n",
       "      <td>24329</td>\n",
       "      <td>1565110306039</td>\n",
       "      <td>0.689346</td>\n",
       "      <td>-0.991043</td>\n",
       "      <td>0.034973</td>\n",
       "      <td>4</td>\n",
       "    </tr>\n",
       "  </tbody>\n",
       "</table>\n",
       "<p>375 rows × 6 columns</p>\n",
       "</div>"
      ],
      "text/plain": [
       "     Unnamed: 0      timestamp         x         y         z  label\n",
       "0         20589  1565109931087 -0.053802 -0.987701  0.068985      1\n",
       "1         20599  1565109932090  0.013718 -0.852371 -0.000870      1\n",
       "2         20609  1565109933092  0.145584 -1.007843 -0.036819      1\n",
       "3         20619  1565109934094 -0.099380 -1.209686  0.304489      1\n",
       "4         20629  1565109935097  0.082794 -1.001434 -0.025375      1\n",
       "..          ...            ...       ...       ...       ...    ...\n",
       "370       24289  1565110302030 -0.641953 -1.469177  0.301041      4\n",
       "371       24299  1565110303032 -0.171616 -0.366074 -0.059082      4\n",
       "372       24309  1565110304034  0.401810 -1.077698  0.258911      4\n",
       "373       24319  1565110305037  0.330338 -1.470062  0.303894      4\n",
       "374       24329  1565110306039  0.689346 -0.991043  0.034973      4\n",
       "\n",
       "[375 rows x 6 columns]"
      ]
     },
     "execution_count": 23,
     "metadata": {},
     "output_type": "execute_result"
    }
   ],
   "source": [
    "data"
   ]
  },
  {
   "cell_type": "code",
   "execution_count": 52,
   "id": "f04d6bf5-06fc-45b2-952b-7acddb4b4bb4",
   "metadata": {},
   "outputs": [],
   "source": [
    "test = pd.read_csv(\"C:\\\\Users\\\\Anoba\\\\Documents\\\\Python\\\\Using_Python_for_Research\\\\Final_project\\\\test_time_series.csv\")"
   ]
  },
  {
   "cell_type": "code",
   "execution_count": 53,
   "id": "4b45cb0b-8289-4be1-a066-e9ba0ae26e08",
   "metadata": {},
   "outputs": [],
   "source": [
    "test = test.drop(columns=[\"UTC time\",\"accuracy\"])"
   ]
  },
  {
   "cell_type": "code",
   "execution_count": 54,
   "id": "cedb6189-fa8c-41d8-a29b-4b4cb94d4008",
   "metadata": {},
   "outputs": [],
   "source": [
    "test_label = pd.read_csv(\"C:\\\\Users\\\\Anoba\\\\Documents\\\\Python\\\\Using_Python_for_Research\\\\Final_project\\\\test_labels.csv\")"
   ]
  },
  {
   "cell_type": "code",
   "execution_count": 55,
   "id": "e711e4a2-ba6f-4466-aaf6-8df3918e64cb",
   "metadata": {},
   "outputs": [],
   "source": [
    "test = test.iloc[range(9,1250,10)]"
   ]
  },
  {
   "cell_type": "code",
   "execution_count": 56,
   "id": "da35ddbb-6642-423b-bbb7-081c827a710f",
   "metadata": {},
   "outputs": [
    {
     "data": {
      "text/html": [
       "<div>\n",
       "<style scoped>\n",
       "    .dataframe tbody tr th:only-of-type {\n",
       "        vertical-align: middle;\n",
       "    }\n",
       "\n",
       "    .dataframe tbody tr th {\n",
       "        vertical-align: top;\n",
       "    }\n",
       "\n",
       "    .dataframe thead th {\n",
       "        text-align: right;\n",
       "    }\n",
       "</style>\n",
       "<table border=\"1\" class=\"dataframe\">\n",
       "  <thead>\n",
       "    <tr style=\"text-align: right;\">\n",
       "      <th></th>\n",
       "      <th>Unnamed: 0</th>\n",
       "      <th>timestamp</th>\n",
       "      <th>x</th>\n",
       "      <th>y</th>\n",
       "      <th>z</th>\n",
       "    </tr>\n",
       "  </thead>\n",
       "  <tbody>\n",
       "    <tr>\n",
       "      <th>0</th>\n",
       "      <td>24339</td>\n",
       "      <td>1565110307041</td>\n",
       "      <td>0.098282</td>\n",
       "      <td>-0.833771</td>\n",
       "      <td>0.118042</td>\n",
       "    </tr>\n",
       "    <tr>\n",
       "      <th>1</th>\n",
       "      <td>24349</td>\n",
       "      <td>1565110308043</td>\n",
       "      <td>0.348465</td>\n",
       "      <td>-0.946701</td>\n",
       "      <td>-0.051041</td>\n",
       "    </tr>\n",
       "    <tr>\n",
       "      <th>2</th>\n",
       "      <td>24359</td>\n",
       "      <td>1565110309046</td>\n",
       "      <td>0.377335</td>\n",
       "      <td>-0.849243</td>\n",
       "      <td>-0.026474</td>\n",
       "    </tr>\n",
       "    <tr>\n",
       "      <th>3</th>\n",
       "      <td>24369</td>\n",
       "      <td>1565110310048</td>\n",
       "      <td>0.110077</td>\n",
       "      <td>-0.520325</td>\n",
       "      <td>0.312714</td>\n",
       "    </tr>\n",
       "    <tr>\n",
       "      <th>4</th>\n",
       "      <td>24379</td>\n",
       "      <td>1565110311050</td>\n",
       "      <td>0.283478</td>\n",
       "      <td>-0.892548</td>\n",
       "      <td>-0.085876</td>\n",
       "    </tr>\n",
       "    <tr>\n",
       "      <th>...</th>\n",
       "      <td>...</td>\n",
       "      <td>...</td>\n",
       "      <td>...</td>\n",
       "      <td>...</td>\n",
       "      <td>...</td>\n",
       "    </tr>\n",
       "    <tr>\n",
       "      <th>120</th>\n",
       "      <td>25539</td>\n",
       "      <td>1565110427366</td>\n",
       "      <td>-0.043915</td>\n",
       "      <td>-0.242416</td>\n",
       "      <td>0.068802</td>\n",
       "    </tr>\n",
       "    <tr>\n",
       "      <th>121</th>\n",
       "      <td>25549</td>\n",
       "      <td>1565110428369</td>\n",
       "      <td>0.118271</td>\n",
       "      <td>-1.212097</td>\n",
       "      <td>0.357468</td>\n",
       "    </tr>\n",
       "    <tr>\n",
       "      <th>122</th>\n",
       "      <td>25559</td>\n",
       "      <td>1565110429371</td>\n",
       "      <td>0.667404</td>\n",
       "      <td>-0.978851</td>\n",
       "      <td>0.171906</td>\n",
       "    </tr>\n",
       "    <tr>\n",
       "      <th>123</th>\n",
       "      <td>25569</td>\n",
       "      <td>1565110430373</td>\n",
       "      <td>0.371384</td>\n",
       "      <td>-1.021927</td>\n",
       "      <td>-0.244446</td>\n",
       "    </tr>\n",
       "    <tr>\n",
       "      <th>124</th>\n",
       "      <td>25579</td>\n",
       "      <td>1565110431376</td>\n",
       "      <td>-0.089462</td>\n",
       "      <td>-0.734573</td>\n",
       "      <td>-0.100876</td>\n",
       "    </tr>\n",
       "  </tbody>\n",
       "</table>\n",
       "<p>125 rows × 5 columns</p>\n",
       "</div>"
      ],
      "text/plain": [
       "     Unnamed: 0      timestamp         x         y         z\n",
       "0         24339  1565110307041  0.098282 -0.833771  0.118042\n",
       "1         24349  1565110308043  0.348465 -0.946701 -0.051041\n",
       "2         24359  1565110309046  0.377335 -0.849243 -0.026474\n",
       "3         24369  1565110310048  0.110077 -0.520325  0.312714\n",
       "4         24379  1565110311050  0.283478 -0.892548 -0.085876\n",
       "..          ...            ...       ...       ...       ...\n",
       "120       25539  1565110427366 -0.043915 -0.242416  0.068802\n",
       "121       25549  1565110428369  0.118271 -1.212097  0.357468\n",
       "122       25559  1565110429371  0.667404 -0.978851  0.171906\n",
       "123       25569  1565110430373  0.371384 -1.021927 -0.244446\n",
       "124       25579  1565110431376 -0.089462 -0.734573 -0.100876\n",
       "\n",
       "[125 rows x 5 columns]"
      ]
     },
     "execution_count": 56,
     "metadata": {},
     "output_type": "execute_result"
    }
   ],
   "source": [
    "test = test.reset_index().drop(\"index\",axis=1)\n",
    "test"
   ]
  },
  {
   "cell_type": "code",
   "execution_count": 57,
   "id": "0310f103-0828-45aa-9b49-9523d682853a",
   "metadata": {},
   "outputs": [
    {
     "data": {
      "text/html": [
       "<div>\n",
       "<style scoped>\n",
       "    .dataframe tbody tr th:only-of-type {\n",
       "        vertical-align: middle;\n",
       "    }\n",
       "\n",
       "    .dataframe tbody tr th {\n",
       "        vertical-align: top;\n",
       "    }\n",
       "\n",
       "    .dataframe thead th {\n",
       "        text-align: right;\n",
       "    }\n",
       "</style>\n",
       "<table border=\"1\" class=\"dataframe\">\n",
       "  <thead>\n",
       "    <tr style=\"text-align: right;\">\n",
       "      <th></th>\n",
       "      <th>Unnamed: 0</th>\n",
       "      <th>timestamp</th>\n",
       "      <th>UTC time</th>\n",
       "      <th>label</th>\n",
       "    </tr>\n",
       "  </thead>\n",
       "  <tbody>\n",
       "    <tr>\n",
       "      <th>0</th>\n",
       "      <td>24339</td>\n",
       "      <td>1565110307041</td>\n",
       "      <td>2019-08-06T16:51:47.041</td>\n",
       "      <td>NaN</td>\n",
       "    </tr>\n",
       "    <tr>\n",
       "      <th>1</th>\n",
       "      <td>24349</td>\n",
       "      <td>1565110308043</td>\n",
       "      <td>2019-08-06T16:51:48.043</td>\n",
       "      <td>NaN</td>\n",
       "    </tr>\n",
       "    <tr>\n",
       "      <th>2</th>\n",
       "      <td>24359</td>\n",
       "      <td>1565110309046</td>\n",
       "      <td>2019-08-06T16:51:49.046</td>\n",
       "      <td>NaN</td>\n",
       "    </tr>\n",
       "    <tr>\n",
       "      <th>3</th>\n",
       "      <td>24369</td>\n",
       "      <td>1565110310048</td>\n",
       "      <td>2019-08-06T16:51:50.048</td>\n",
       "      <td>NaN</td>\n",
       "    </tr>\n",
       "    <tr>\n",
       "      <th>4</th>\n",
       "      <td>24379</td>\n",
       "      <td>1565110311050</td>\n",
       "      <td>2019-08-06T16:51:51.050</td>\n",
       "      <td>NaN</td>\n",
       "    </tr>\n",
       "    <tr>\n",
       "      <th>...</th>\n",
       "      <td>...</td>\n",
       "      <td>...</td>\n",
       "      <td>...</td>\n",
       "      <td>...</td>\n",
       "    </tr>\n",
       "    <tr>\n",
       "      <th>120</th>\n",
       "      <td>25539</td>\n",
       "      <td>1565110427366</td>\n",
       "      <td>2019-08-06T16:53:47.366</td>\n",
       "      <td>NaN</td>\n",
       "    </tr>\n",
       "    <tr>\n",
       "      <th>121</th>\n",
       "      <td>25549</td>\n",
       "      <td>1565110428369</td>\n",
       "      <td>2019-08-06T16:53:48.369</td>\n",
       "      <td>NaN</td>\n",
       "    </tr>\n",
       "    <tr>\n",
       "      <th>122</th>\n",
       "      <td>25559</td>\n",
       "      <td>1565110429371</td>\n",
       "      <td>2019-08-06T16:53:49.371</td>\n",
       "      <td>NaN</td>\n",
       "    </tr>\n",
       "    <tr>\n",
       "      <th>123</th>\n",
       "      <td>25569</td>\n",
       "      <td>1565110430373</td>\n",
       "      <td>2019-08-06T16:53:50.373</td>\n",
       "      <td>NaN</td>\n",
       "    </tr>\n",
       "    <tr>\n",
       "      <th>124</th>\n",
       "      <td>25579</td>\n",
       "      <td>1565110431376</td>\n",
       "      <td>2019-08-06T16:53:51.376</td>\n",
       "      <td>NaN</td>\n",
       "    </tr>\n",
       "  </tbody>\n",
       "</table>\n",
       "<p>125 rows × 4 columns</p>\n",
       "</div>"
      ],
      "text/plain": [
       "     Unnamed: 0      timestamp                 UTC time  label\n",
       "0         24339  1565110307041  2019-08-06T16:51:47.041    NaN\n",
       "1         24349  1565110308043  2019-08-06T16:51:48.043    NaN\n",
       "2         24359  1565110309046  2019-08-06T16:51:49.046    NaN\n",
       "3         24369  1565110310048  2019-08-06T16:51:50.048    NaN\n",
       "4         24379  1565110311050  2019-08-06T16:51:51.050    NaN\n",
       "..          ...            ...                      ...    ...\n",
       "120       25539  1565110427366  2019-08-06T16:53:47.366    NaN\n",
       "121       25549  1565110428369  2019-08-06T16:53:48.369    NaN\n",
       "122       25559  1565110429371  2019-08-06T16:53:49.371    NaN\n",
       "123       25569  1565110430373  2019-08-06T16:53:50.373    NaN\n",
       "124       25579  1565110431376  2019-08-06T16:53:51.376    NaN\n",
       "\n",
       "[125 rows x 4 columns]"
      ]
     },
     "execution_count": 57,
     "metadata": {},
     "output_type": "execute_result"
    }
   ],
   "source": [
    "test_label"
   ]
  },
  {
   "cell_type": "code",
   "execution_count": 58,
   "id": "1b659f89-b081-4e44-ab96-7dc7fed034ce",
   "metadata": {},
   "outputs": [],
   "source": [
    "from sklearn.neighbors import KNeighborsClassifier"
   ]
  },
  {
   "cell_type": "code",
   "execution_count": 59,
   "id": "e4382df3-8006-455d-ba89-46c82c01b9de",
   "metadata": {},
   "outputs": [],
   "source": [
    "neigh = KNeighborsClassifier(n_neighbors=3)\n",
    "model = neigh.fit(data[[\"x\",\"y\",\"z\"]], data.label)"
   ]
  },
  {
   "cell_type": "code",
   "execution_count": 60,
   "id": "8abbf421-3222-4e1a-84fe-fa53e5cc624c",
   "metadata": {},
   "outputs": [],
   "source": [
    "knn_predictions1 = model.predict(test[[\"x\",\"y\",\"z\"]])"
   ]
  },
  {
   "cell_type": "code",
   "execution_count": 61,
   "id": "1c2f8957-1df7-4669-a36b-a029a4d562f3",
   "metadata": {},
   "outputs": [
    {
     "data": {
      "text/plain": [
       "array([1, 2, 2, 2, 1, 2, 4, 4, 2, 2, 3, 3, 2, 2, 2, 3, 2, 3, 1, 2, 2, 3,\n",
       "       2, 2, 2, 3, 2, 2, 2, 4, 2, 2, 1, 1, 1, 1, 2, 1, 1, 1, 1, 1, 1, 1,\n",
       "       1, 1, 1, 1, 1, 1, 1, 1, 1, 1, 2, 3, 4, 2, 2, 2, 2, 1, 3, 2, 3, 2,\n",
       "       3, 3, 2, 2, 2, 2, 2, 3, 3, 2, 2, 2, 4, 2, 2, 3, 2, 3, 3, 3, 3, 3,\n",
       "       2, 2, 2, 2, 2, 2, 2, 2, 2, 2, 2, 2, 1, 3, 2, 2, 3, 2, 2, 1, 2, 2,\n",
       "       2, 2, 1, 4, 2, 2, 2, 2, 2, 2, 2, 2, 4, 2, 2], dtype=int64)"
      ]
     },
     "execution_count": 61,
     "metadata": {},
     "output_type": "execute_result"
    }
   ],
   "source": [
    "knn_predictions1"
   ]
  },
  {
   "cell_type": "code",
   "execution_count": 62,
   "id": "2d27b5ec-6bf5-403b-a0e1-672f6d868b95",
   "metadata": {},
   "outputs": [
    {
     "data": {
      "text/plain": [
       "125"
      ]
     },
     "execution_count": 62,
     "metadata": {},
     "output_type": "execute_result"
    }
   ],
   "source": [
    "len(knn_predictions1)"
   ]
  },
  {
   "cell_type": "code",
   "execution_count": 63,
   "id": "17d459ac-a902-4c67-8b8d-0d2d05fe705d",
   "metadata": {},
   "outputs": [
    {
     "data": {
      "text/plain": [
       "array([1, 2, 2, 2, 1, 2, 2, 3, 2, 2, 3, 3, 2, 2, 2, 1, 2, 3, 2, 2, 2, 3,\n",
       "       1, 2, 1, 3, 2, 2, 2, 2, 2, 3, 1, 1, 1, 1, 2, 1, 1, 1, 1, 1, 1, 1,\n",
       "       1, 1, 1, 1, 1, 1, 1, 1, 1, 2, 2, 3, 3, 2, 2, 2, 2, 1, 3, 2, 2, 2,\n",
       "       3, 3, 2, 2, 2, 2, 2, 3, 2, 2, 2, 2, 2, 2, 2, 3, 2, 3, 2, 3, 2, 2,\n",
       "       2, 2, 2, 2, 2, 2, 2, 2, 2, 2, 2, 2, 2, 3, 2, 2, 2, 2, 2, 1, 2, 2,\n",
       "       2, 2, 2, 3, 2, 2, 2, 2, 2, 3, 2, 2, 3, 2, 2], dtype=int64)"
      ]
     },
     "execution_count": 63,
     "metadata": {},
     "output_type": "execute_result"
    }
   ],
   "source": [
    "neigh = KNeighborsClassifier(n_neighbors=2)\n",
    "model = neigh.fit(data[[\"x\",\"y\",\"z\"]], data.label)\n",
    "knn_predictions2 = model.predict(test[[\"x\",\"y\",\"z\"]])\n",
    "knn_predictions2"
   ]
  },
  {
   "cell_type": "code",
   "execution_count": 64,
   "id": "ee5a5576-8b5d-49bf-be81-d240c507ba2a",
   "metadata": {},
   "outputs": [
    {
     "data": {
      "text/plain": [
       "0.824"
      ]
     },
     "execution_count": 64,
     "metadata": {},
     "output_type": "execute_result"
    }
   ],
   "source": [
    "np.mean(knn_predictions1 == knn_predictions2)"
   ]
  },
  {
   "cell_type": "markdown",
   "id": "d8705cfb-c968-4130-8563-9422431521c4",
   "metadata": {},
   "source": [
    "**The best value for k in knn predictions is the square root of test samples ($\\sqrt{N}$)**"
   ]
  },
  {
   "cell_type": "code",
   "execution_count": 65,
   "id": "0160f603-ade7-444c-9773-885d590b1fdf",
   "metadata": {},
   "outputs": [
    {
     "data": {
      "text/plain": [
       "array([2, 2, 2, 3, 2, 2, 3, 3, 2, 2, 3, 3, 1, 2, 2, 2, 2, 3, 2, 2, 2, 2,\n",
       "       2, 2, 2, 3, 2, 2, 2, 2, 1, 2, 2, 1, 1, 2, 2, 1, 1, 1, 1, 1, 1, 1,\n",
       "       1, 1, 1, 1, 1, 1, 1, 1, 1, 1, 3, 3, 4, 2, 3, 2, 2, 1, 2, 2, 3, 2,\n",
       "       3, 3, 4, 3, 2, 2, 2, 3, 2, 2, 2, 2, 2, 2, 2, 2, 2, 2, 3, 3, 3, 2,\n",
       "       2, 2, 2, 2, 2, 2, 2, 2, 2, 2, 2, 2, 2, 3, 2, 2, 2, 2, 2, 2, 2, 2,\n",
       "       4, 2, 2, 2, 2, 2, 2, 1, 2, 2, 2, 2, 2, 2, 2], dtype=int64)"
      ]
     },
     "execution_count": 65,
     "metadata": {},
     "output_type": "execute_result"
    }
   ],
   "source": [
    "neigh = KNeighborsClassifier(n_neighbors=11)\n",
    "model = neigh.fit(data[[\"x\",\"y\",\"z\"]], data.label)\n",
    "knn_predictions = model.predict(test[[\"x\",\"y\",\"z\"]])\n",
    "knn_predictions"
   ]
  },
  {
   "cell_type": "code",
   "execution_count": 66,
   "id": "b898d08d-1933-4c8a-997b-88a136c33462",
   "metadata": {},
   "outputs": [
    {
     "data": {
      "text/plain": [
       "11.180339887498949"
      ]
     },
     "execution_count": 66,
     "metadata": {},
     "output_type": "execute_result"
    }
   ],
   "source": [
    "np.sqrt(125)"
   ]
  },
  {
   "cell_type": "code",
   "execution_count": null,
   "id": "f2c344da-9f75-4374-b614-e4217a713a0c",
   "metadata": {},
   "outputs": [],
   "source": []
  },
  {
   "cell_type": "code",
   "execution_count": null,
   "id": "b2d33e7e-40bb-4d72-9307-7f1eb9625106",
   "metadata": {},
   "outputs": [],
   "source": []
  },
  {
   "cell_type": "code",
   "execution_count": 68,
   "id": "ba15b51a-0fa4-4349-9867-c309d7e970a9",
   "metadata": {},
   "outputs": [],
   "source": [
    "train = [ tuple(data[[\"x\",\"y\",\"z\"]].iloc[i]) for i in range(0,375) ]"
   ]
  },
  {
   "cell_type": "code",
   "execution_count": 79,
   "id": "8df623ec-d514-40ad-a95b-6c4c2177ee81",
   "metadata": {},
   "outputs": [
    {
     "data": {
      "text/plain": [
       "(-0.053802490234375, -0.987701416015625, 0.0689849853515625)"
      ]
     },
     "execution_count": 79,
     "metadata": {},
     "output_type": "execute_result"
    }
   ],
   "source": [
    "train[0]"
   ]
  },
  {
   "cell_type": "code",
   "execution_count": 70,
   "id": "a242dcb9-1bca-4513-a0ba-fe3fd8086f44",
   "metadata": {},
   "outputs": [],
   "source": [
    "test = [ tuple(test[[\"x\",\"y\",\"z\"]].iloc[i]) for i in range(0,125) ]"
   ]
  },
  {
   "cell_type": "code",
   "execution_count": 80,
   "id": "8a120a90-b2f9-424e-8729-b3faf321853b",
   "metadata": {},
   "outputs": [
    {
     "data": {
      "text/plain": [
       "(0.0982818603515625, -0.833770751953125, 0.1180419921875)"
      ]
     },
     "execution_count": 80,
     "metadata": {},
     "output_type": "execute_result"
    }
   ],
   "source": [
    "test[0]"
   ]
  },
  {
   "cell_type": "code",
   "execution_count": 78,
   "id": "c5786a3c-dc5e-4a3c-89f0-26ab82e4fc98",
   "metadata": {},
   "outputs": [],
   "source": [
    "#distance(train,test)"
   ]
  },
  {
   "cell_type": "code",
   "execution_count": 95,
   "id": "83f7facb-c7e7-4da3-aebe-0eeb31ed21fe",
   "metadata": {},
   "outputs": [],
   "source": [
    "def distance(p1,p2):\n",
    "    \"\"\"Finds the Euclidean distance between the two supplied three dimensional coordinates\"\"\"\n",
    "    import numpy as np\n",
    "    a = np.array(p1)\n",
    "    b = np.array(p2)\n",
    "    return np.sqrt(np.sum(np.power(a-b, 2)))"
   ]
  },
  {
   "cell_type": "code",
   "execution_count": 96,
   "id": "04826ef9-19a0-40d3-b52f-905b4454d95c",
   "metadata": {},
   "outputs": [],
   "source": [
    "def nearest_neighbour(p,points,k=5):\n",
    "    import numpy as np\n",
    "    \"\"\"Takes an unknown point - p, existing dataset - points and \n",
    "    the needed number of nearest neighbours - k to return k number of nearest\n",
    "    neighbours to the unknown point p\"\"\"\n",
    "    distances = np.zeros(len(points))\n",
    "    for i in range(0, len(distances)):\n",
    "        distances[i] = distance(p, points[i])\n",
    "    return np.argsort(distances)[0:k] # returns the indices of k nearest neighbours"
   ]
  },
  {
   "cell_type": "code",
   "execution_count": 97,
   "id": "7c8bc941-19bd-4730-9196-c86cf9ff50db",
   "metadata": {},
   "outputs": [],
   "source": [
    "def majority_vote(sequence_object):\n",
    "    import random\n",
    "    vote_counts = dict()\n",
    "    highest_f = []  # in case multiple elements have the highest frequency\n",
    "    for vote in sequence_object:\n",
    "        if vote in vote_counts:\n",
    "            vote_counts[vote] += 1\n",
    "        else:\n",
    "            vote_counts[vote] = 1\n",
    "    max_vote_count = max(vote_counts.values())\n",
    "    for vote,count in vote_counts.items():\n",
    "        if count == max_vote_count:  # if the selected frequency is that of the vote with maximum frequency\n",
    "            highest_f.append(vote)\n",
    "    return random.choice(highest_f) # when there are many elements with highest frequencies, randomly selecting any one will be good enough"
   ]
  },
  {
   "cell_type": "code",
   "execution_count": 98,
   "id": "765f2fce-f809-4afc-a588-4552e03977fb",
   "metadata": {},
   "outputs": [],
   "source": [
    "def kNN_predict(p,points,outcomes,k=5):  # here points, outcomes are the training datasets\n",
    "    ind = nearest_neighbour(p,points,k)\n",
    "    return majority_vote(outcomes[ind])"
   ]
  },
  {
   "cell_type": "code",
   "execution_count": 99,
   "id": "f749b195-e982-49d0-8b3e-44ca22e8e484",
   "metadata": {},
   "outputs": [],
   "source": [
    "for t in test:\n",
    "    kNN_predict(t,train,np.array(data.label),11)"
   ]
  },
  {
   "cell_type": "code",
   "execution_count": null,
   "id": "3caa05ad-d819-4f77-b402-03cfdbbbdab7",
   "metadata": {},
   "outputs": [],
   "source": []
  },
  {
   "cell_type": "code",
   "execution_count": null,
   "id": "781c4bdb-4288-4004-aa35-199774971afc",
   "metadata": {},
   "outputs": [],
   "source": []
  },
  {
   "cell_type": "code",
   "execution_count": null,
   "id": "06371009-4581-4de8-ab73-72f6dce6bf15",
   "metadata": {},
   "outputs": [],
   "source": []
  },
  {
   "cell_type": "code",
   "execution_count": null,
   "id": "20d1b1a5-b72f-4b72-a7ec-f16be0c9fcc7",
   "metadata": {},
   "outputs": [],
   "source": []
  },
  {
   "cell_type": "code",
   "execution_count": null,
   "id": "778f6887-8a2b-45c9-87e5-aafd05658c3a",
   "metadata": {},
   "outputs": [],
   "source": []
  },
  {
   "cell_type": "code",
   "execution_count": null,
   "id": "9f9ef50c-c6f2-4ba0-9814-968cfe31f42c",
   "metadata": {},
   "outputs": [],
   "source": []
  },
  {
   "cell_type": "code",
   "execution_count": null,
   "id": "8ca25dc3-21e0-4f8a-a468-64cd501d2e11",
   "metadata": {},
   "outputs": [],
   "source": []
  },
  {
   "cell_type": "code",
   "execution_count": null,
   "id": "4b804aca-b7a3-4cf9-9c14-2d7b91338948",
   "metadata": {},
   "outputs": [],
   "source": []
  },
  {
   "cell_type": "code",
   "execution_count": null,
   "id": "5ea1aa45-85e7-4a40-a734-9aebe325e6b7",
   "metadata": {},
   "outputs": [],
   "source": []
  },
  {
   "cell_type": "code",
   "execution_count": null,
   "id": "979be20f-2523-401e-90a0-b7fc1c0b6a04",
   "metadata": {},
   "outputs": [],
   "source": []
  },
  {
   "cell_type": "code",
   "execution_count": null,
   "id": "eea24de1-1800-4597-8854-1dfade7b499a",
   "metadata": {},
   "outputs": [],
   "source": []
  }
 ],
 "metadata": {
  "kernelspec": {
   "display_name": "Python 3 (ipykernel)",
   "language": "python",
   "name": "python3"
  },
  "language_info": {
   "codemirror_mode": {
    "name": "ipython",
    "version": 3
   },
   "file_extension": ".py",
   "mimetype": "text/x-python",
   "name": "python",
   "nbconvert_exporter": "python",
   "pygments_lexer": "ipython3",
   "version": "3.9.7"
  }
 },
 "nbformat": 4,
 "nbformat_minor": 5
}
