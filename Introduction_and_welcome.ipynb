{
 "cells": [
  {
   "cell_type": "code",
   "execution_count": 2,
   "id": "ee8c417a-43ab-48ad-a9e6-a4ca301480e1",
   "metadata": {},
   "outputs": [],
   "source": [
    "import math"
   ]
  },
  {
   "cell_type": "code",
   "execution_count": 3,
   "id": "fff3d364-c437-4189-a7e0-f52196eea8d8",
   "metadata": {},
   "outputs": [
    {
     "name": "stdout",
     "output_type": "stream",
     "text": [
      "-1.0\n"
     ]
    }
   ],
   "source": [
    "print(math.cos(math.pi))"
   ]
  },
  {
   "cell_type": "markdown",
   "id": "6c7dd803-0132-4e84-9b88-d7d039d40858",
   "metadata": {},
   "source": [
    "What type of object is math.pi?"
   ]
  },
  {
   "cell_type": "code",
   "execution_count": 5,
   "id": "d0183a90-9d62-422b-a65c-371c09afa052",
   "metadata": {},
   "outputs": [
    {
     "data": {
      "text/plain": [
       "float"
      ]
     },
     "execution_count": 5,
     "metadata": {},
     "output_type": "execute_result"
    }
   ],
   "source": [
    "type(math.pi)"
   ]
  },
  {
   "cell_type": "markdown",
   "id": "62728b58-b810-473d-a845-7dc3896e6772",
   "metadata": {},
   "source": [
    "What type of object is math.cos?"
   ]
  },
  {
   "cell_type": "code",
   "execution_count": 6,
   "id": "852b5ec6-9582-497d-af39-8315f266b0b4",
   "metadata": {},
   "outputs": [
    {
     "data": {
      "text/plain": [
       "builtin_function_or_method"
      ]
     },
     "execution_count": 6,
     "metadata": {},
     "output_type": "execute_result"
    }
   ],
   "source": [
    "type(math.cos)"
   ]
  },
  {
   "cell_type": "code",
   "execution_count": 7,
   "id": "01875f4f-e375-452c-9db2-8bccbb804ab2",
   "metadata": {},
   "outputs": [
    {
     "name": "stdout",
     "output_type": "stream",
     "text": [
      "4\n"
     ]
    }
   ],
   "source": [
    "nums = set([1,1,2,2,3,3,3,4])\n",
    "print(len(nums))"
   ]
  },
  {
   "cell_type": "markdown",
   "id": "9d891eba-c655-4723-a241-28e391539036",
   "metadata": {},
   "source": [
    "A set can only contain unique elements, thus when typecasting a list to a set replicates are ignored!"
   ]
  },
  {
   "cell_type": "code",
   "execution_count": 9,
   "id": "349946e9-d07a-4852-a8d9-073cca2e43e3",
   "metadata": {},
   "outputs": [
    {
     "data": {
      "text/plain": [
       "[1, 4, 3]"
      ]
     },
     "execution_count": 9,
     "metadata": {},
     "output_type": "execute_result"
    }
   ],
   "source": [
    "a = [1,2,3]\n",
    "a[1] = 4\n",
    "a"
   ]
  },
  {
   "cell_type": "markdown",
   "id": "a3b09dcc-cedd-49ef-afff-bce448d82a33",
   "metadata": {},
   "source": [
    "a is a list. List is a mutable Python object. Thus a[1] = 4 assigns the value 4 for the second element in the list a. Note indexing in Python starts at 0."
   ]
  },
  {
   "cell_type": "code",
   "execution_count": 10,
   "id": "cfe62beb-e9fa-4572-b0ad-d1f570d24b72",
   "metadata": {},
   "outputs": [
    {
     "ename": "TypeError",
     "evalue": "'tuple' object does not support item assignment",
     "output_type": "error",
     "traceback": [
      "\u001b[1;31m---------------------------------------------------------------------------\u001b[0m",
      "\u001b[1;31mTypeError\u001b[0m                                 Traceback (most recent call last)",
      "\u001b[1;32m~\\AppData\\Local\\Temp/ipykernel_4276/213532400.py\u001b[0m in \u001b[0;36m<module>\u001b[1;34m\u001b[0m\n\u001b[0;32m      1\u001b[0m \u001b[0ma\u001b[0m \u001b[1;33m=\u001b[0m \u001b[1;33m(\u001b[0m\u001b[1;36m2\u001b[0m\u001b[1;33m,\u001b[0m\u001b[1;36m3\u001b[0m\u001b[1;33m,\u001b[0m\u001b[1;36m6\u001b[0m\u001b[1;33m)\u001b[0m\u001b[1;33m\u001b[0m\u001b[1;33m\u001b[0m\u001b[0m\n\u001b[1;32m----> 2\u001b[1;33m \u001b[0ma\u001b[0m\u001b[1;33m[\u001b[0m\u001b[1;36m1\u001b[0m\u001b[1;33m]\u001b[0m \u001b[1;33m=\u001b[0m \u001b[1;36m9\u001b[0m\u001b[1;33m\u001b[0m\u001b[1;33m\u001b[0m\u001b[0m\n\u001b[0m",
      "\u001b[1;31mTypeError\u001b[0m: 'tuple' object does not support item assignment"
     ]
    }
   ],
   "source": [
    "a = (2,3,6)\n",
    "a[1] = 9"
   ]
  },
  {
   "cell_type": "markdown",
   "id": "f826710a-ce7e-459a-91a4-ec0fd5fe1f96",
   "metadata": {},
   "source": [
    "TypeError\n",
    "Because here a is declared as a tuple. Tuples are immutable. "
   ]
  },
  {
   "cell_type": "code",
   "execution_count": 12,
   "id": "651fb040-e37d-4d2e-ae23-fd68a06215f5",
   "metadata": {},
   "outputs": [],
   "source": [
    "a = [1,2,3]\n",
    "b = a"
   ]
  },
  {
   "cell_type": "code",
   "execution_count": 13,
   "id": "da5b6eb3-0554-4ace-b507-5ba3c4f0a57d",
   "metadata": {},
   "outputs": [
    {
     "data": {
      "text/plain": [
       "True"
      ]
     },
     "execution_count": 13,
     "metadata": {},
     "output_type": "execute_result"
    }
   ],
   "source": [
    "a == b"
   ]
  },
  {
   "cell_type": "markdown",
   "id": "0c4e4542-3b1e-491a-a43f-b2d4822ef9cf",
   "metadata": {},
   "source": [
    "For mutables = makesthe right object refer to the left object."
   ]
  },
  {
   "cell_type": "code",
   "execution_count": 14,
   "id": "47d19bf0-c5ea-4606-a050-14f2685838d4",
   "metadata": {},
   "outputs": [
    {
     "data": {
      "text/plain": [
       "True"
      ]
     },
     "execution_count": 14,
     "metadata": {},
     "output_type": "execute_result"
    }
   ],
   "source": [
    "a is b"
   ]
  },
  {
   "cell_type": "code",
   "execution_count": 15,
   "id": "b07db8aa-a454-4ffa-86f4-455de94c23c8",
   "metadata": {},
   "outputs": [],
   "source": [
    "b = a[:]"
   ]
  },
  {
   "cell_type": "code",
   "execution_count": 16,
   "id": "b1fca905-355c-4939-9eef-da6450d11c00",
   "metadata": {},
   "outputs": [
    {
     "data": {
      "text/plain": [
       "True"
      ]
     },
     "execution_count": 16,
     "metadata": {},
     "output_type": "execute_result"
    }
   ],
   "source": [
    "a == b"
   ]
  },
  {
   "cell_type": "code",
   "execution_count": 17,
   "id": "6912d6cb-7fd0-416e-b11e-c1b2317ab4fb",
   "metadata": {},
   "outputs": [
    {
     "data": {
      "text/plain": [
       "False"
      ]
     },
     "execution_count": 17,
     "metadata": {},
     "output_type": "execute_result"
    }
   ],
   "source": [
    "a is b"
   ]
  },
  {
   "cell_type": "markdown",
   "id": "e45b442c-a1ab-4490-9374-73c9c5602426",
   "metadata": {},
   "source": [
    "Python's shortcut with indexing \":\" makes a copy of the mutable with its elements.\n",
    "Thus when declaring b = a[:] a new object b is made.\n",
    "b is identical to a but they are two different objects"
   ]
  },
  {
   "cell_type": "code",
   "execution_count": 22,
   "id": "d62cac30-2aa2-436c-81a8-f91b5762ba74",
   "metadata": {},
   "outputs": [
    {
     "name": "stdout",
     "output_type": "stream",
     "text": [
      "_world!\n"
     ]
    }
   ],
   "source": [
    "x = \"Hello world!\"\n",
    "y = x[5:]\n",
    "print(y)"
   ]
  },
  {
   "cell_type": "markdown",
   "id": "5e562e44-df45-4172-8949-18565cc20fe4",
   "metadata": {},
   "source": [
    "Indexing [5:] returns all the characters from the position 5 and after.\n",
    "Note that the space before \"w\" is included in y.(index = 5)"
   ]
  },
  {
   "cell_type": "code",
   "execution_count": 23,
   "id": "a867bf2e-477e-42ac-96a9-fe4b4985d7dc",
   "metadata": {},
   "outputs": [
    {
     "name": "stdout",
     "output_type": "stream",
     "text": [
      "_world!\n"
     ]
    }
   ],
   "source": [
    "x = \"Hello_world!\"\n",
    "y = x[5:]\n",
    "print(y)"
   ]
  },
  {
   "cell_type": "markdown",
   "id": "aeb9908b-954f-4b5a-9032-0cea3e18ea0f",
   "metadata": {},
   "source": [
    "Note the underscore!"
   ]
  },
  {
   "cell_type": "code",
   "execution_count": 25,
   "id": "78ff0797-450c-4df6-8e24-0ef3dc83911c",
   "metadata": {},
   "outputs": [
    {
     "data": {
      "text/plain": [
       "[0, 1, 4, 9, 16]"
      ]
     },
     "execution_count": 25,
     "metadata": {},
     "output_type": "execute_result"
    }
   ],
   "source": [
    "y = [x**2 for x in range (5)]\n",
    "y"
   ]
  },
  {
   "cell_type": "markdown",
   "id": "bddc2243-f8a7-4959-8978-c107ec3f91ca",
   "metadata": {},
   "source": [
    "** in Python is square (equivalent to R's ^). Squaring is done for all the elements of iterable"
   ]
  },
  {
   "cell_type": "code",
   "execution_count": 29,
   "id": "9bcb7e6a-4bc8-4d1a-b4ae-61f67cf76b71",
   "metadata": {},
   "outputs": [
    {
     "data": {
      "text/plain": [
       "[0, 1, 2, 3, 4]"
      ]
     },
     "execution_count": 29,
     "metadata": {},
     "output_type": "execute_result"
    }
   ],
   "source": [
    "list(range(5))"
   ]
  },
  {
   "cell_type": "markdown",
   "id": "402124d1-c8ef-4a27-9245-e5f0d4960be8",
   "metadata": {},
   "source": [
    "range(n) creates an integer series staring from default lower limit 0 to upper limit n-1\n",
    "range(7,65) would create an integer series starting from 7 to 64!"
   ]
  },
  {
   "cell_type": "code",
   "execution_count": 30,
   "id": "f5c98554-862b-4f9a-876c-7afa8f6e461b",
   "metadata": {},
   "outputs": [
    {
     "data": {
      "text/plain": [
       "[7,\n",
       " 8,\n",
       " 9,\n",
       " 10,\n",
       " 11,\n",
       " 12,\n",
       " 13,\n",
       " 14,\n",
       " 15,\n",
       " 16,\n",
       " 17,\n",
       " 18,\n",
       " 19,\n",
       " 20,\n",
       " 21,\n",
       " 22,\n",
       " 23,\n",
       " 24,\n",
       " 25,\n",
       " 26,\n",
       " 27,\n",
       " 28,\n",
       " 29,\n",
       " 30,\n",
       " 31,\n",
       " 32,\n",
       " 33,\n",
       " 34,\n",
       " 35,\n",
       " 36,\n",
       " 37,\n",
       " 38,\n",
       " 39,\n",
       " 40,\n",
       " 41,\n",
       " 42,\n",
       " 43,\n",
       " 44,\n",
       " 45,\n",
       " 46,\n",
       " 47,\n",
       " 48,\n",
       " 49,\n",
       " 50,\n",
       " 51,\n",
       " 52,\n",
       " 53,\n",
       " 54,\n",
       " 55,\n",
       " 56,\n",
       " 57,\n",
       " 58,\n",
       " 59,\n",
       " 60,\n",
       " 61,\n",
       " 62,\n",
       " 63,\n",
       " 64]"
      ]
     },
     "execution_count": 30,
     "metadata": {},
     "output_type": "execute_result"
    }
   ],
   "source": [
    "list(range(7,65))"
   ]
  },
  {
   "cell_type": "code",
   "execution_count": 31,
   "id": "9c0ae595-d9ae-4661-b4d1-a851a73b01ba",
   "metadata": {},
   "outputs": [
    {
     "name": "stdout",
     "output_type": "stream",
     "text": [
      "1\n",
      "2\n",
      "1\n"
     ]
    }
   ],
   "source": [
    "x = 1\n",
    "def my_function():\n",
    "    x = 2\n",
    "    print(x)\n",
    "\n",
    "print(x)\n",
    "my_function()\n",
    "print(x)"
   ]
  },
  {
   "cell_type": "markdown",
   "id": "c5f80df7-0ed8-49e4-bbe2-ec718c14ed39",
   "metadata": {},
   "source": [
    "x is declared equivalent to 1 as a global variable.\n",
    "x is declared equivalent to 2 as a local variable; local variables only exist inside the scope of their function!\n",
    "print(x) would return the global variable x, which is 1\n",
    "my_function() will print the locally declared x variable, which is 2"
   ]
  },
  {
   "cell_type": "markdown",
   "id": "5b929219-a6cb-4e67-a47c-30ba3359cb1e",
   "metadata": {},
   "source": [
    "When a process needs to be reiterated until a criterion is met; there is a clear definition or goal but the number of steps aren't explicitly stated, it depends on the process!\n",
    "For this kind of situations _**While**_ loop is best."
   ]
  },
  {
   "cell_type": "markdown",
   "id": "4652f3ef-17e6-4f85-935e-165cd736eed7",
   "metadata": {},
   "source": [
    "When a process needs to be reiterated a defined number of times and the results need to be summarized, number of steps or repetitions are explicitly stated but the final goal or the outcome isn't specified, it depends on the process!.\n",
    "For this kind of situations _**For**_ loop is best."
   ]
  },
  {
   "cell_type": "code",
   "execution_count": 2,
   "id": "f62ba816-f104-4785-a314-af2ca251abba",
   "metadata": {},
   "outputs": [
    {
     "name": "stdout",
     "output_type": "stream",
     "text": [
      "2\n",
      "4\n",
      "6\n",
      "8\n"
     ]
    }
   ],
   "source": [
    "x = 1\n",
    "\n",
    "while x < 5:\n",
    "    print(x*2)\n",
    "    x = x+1"
   ]
  },
  {
   "cell_type": "markdown",
   "id": "f47754fb-d4a2-4e8d-997f-16300490a670",
   "metadata": {},
   "source": [
    "The last output wil be 8."
   ]
  },
  {
   "cell_type": "code",
   "execution_count": 4,
   "id": "f2928daf-1b3d-492a-ad98-74210fa6dd7e",
   "metadata": {},
   "outputs": [
    {
     "name": "stdout",
     "output_type": "stream",
     "text": [
      "Negative\n",
      "Positive\n",
      "Positive\n"
     ]
    }
   ],
   "source": [
    "for integer in (-1,3,5):\n",
    "    if integer < 0:\n",
    "        print(\"Negative\")\n",
    "    else:\n",
    "        print(\"Positive\")"
   ]
  },
  {
   "cell_type": "markdown",
   "id": "ef79d194-684a-4bec-9f43-9b09bc7cb2f6",
   "metadata": {},
   "source": [
    "Output will consist of 3 lines."
   ]
  },
  {
   "cell_type": "markdown",
   "id": "aba03726-9c94-49b5-8b89-a2f312f2ca09",
   "metadata": {},
   "source": [
    "In Python a dictionary object has keys and their cognate values.\n",
    "Keys are immutable.\n",
    "Keys and values can be of any data type.\n",
    "Key can only be a single element! Not a tuple,list,set like objects(iterables)!\n",
    "Values can be a single element or iterables!"
   ]
  },
  {
   "cell_type": "code",
   "execution_count": null,
   "id": "b1890d43-ca5f-416f-9a6a-bc3c0202be39",
   "metadata": {},
   "outputs": [
    {
     "name": "stdout",
     "output_type": "stream",
     "text": [
      "StringString\n",
      "20\n"
     ]
    },
    {
     "ename": "TypeError",
     "evalue": "can only concatenate str (not \"int\") to str",
     "output_type": "error",
     "traceback": [
      "\u001b[1;31m---------------------------------------------------------------------------\u001b[0m",
      "\u001b[1;31mTypeError\u001b[0m                                 Traceback (most recent call last)",
      "\u001b[1;32m~\\AppData\\Local\\Temp/ipykernel_3564/3971793153.py\u001b[0m in \u001b[0;36m<module>\u001b[1;34m\u001b[0m\n\u001b[0;32m      5\u001b[0m \u001b[0mprint\u001b[0m\u001b[1;33m(\u001b[0m\u001b[0mx\u001b[0m\u001b[1;33m+\u001b[0m\u001b[0mx\u001b[0m\u001b[1;33m)\u001b[0m\u001b[1;33m\u001b[0m\u001b[1;33m\u001b[0m\u001b[0m\n\u001b[0;32m      6\u001b[0m \u001b[0mprint\u001b[0m\u001b[1;33m(\u001b[0m\u001b[0my\u001b[0m\u001b[1;33m+\u001b[0m\u001b[0my\u001b[0m\u001b[1;33m)\u001b[0m\u001b[1;33m\u001b[0m\u001b[1;33m\u001b[0m\u001b[0m\n\u001b[1;32m----> 7\u001b[1;33m \u001b[0mprint\u001b[0m\u001b[1;33m(\u001b[0m\u001b[0mx\u001b[0m\u001b[1;33m+\u001b[0m\u001b[0my\u001b[0m\u001b[1;33m)\u001b[0m\u001b[1;33m\u001b[0m\u001b[1;33m\u001b[0m\u001b[0m\n\u001b[0m\u001b[0;32m      8\u001b[0m \u001b[0mprint\u001b[0m\u001b[1;33m(\u001b[0m\u001b[0my\u001b[0m\u001b[1;33m+\u001b[0m\u001b[0mz\u001b[0m\u001b[1;33m)\u001b[0m\u001b[1;33m\u001b[0m\u001b[1;33m\u001b[0m\u001b[0m\n",
      "\u001b[1;31mTypeError\u001b[0m: can only concatenate str (not \"int\") to str"
     ]
    }
   ],
   "source": [
    "x = \"String\"\n",
    "y = 10\n",
    "z = 5.0\n",
    "\n",
    "print(x+x)\n",
    "print(y+y)\n",
    "print(x+y)\n",
    "print(y+z)"
   ]
  },
  {
   "cell_type": "markdown",
   "id": "655ac814-da53-4b81-8f16-73a044534947",
   "metadata": {},
   "source": [
    "print(x+y) will give a _**TypeError**_ since the operation addition cannot be performed with a string and an integer!"
   ]
  }
 ],
 "metadata": {
  "kernelspec": {
   "display_name": "Python 3 (ipykernel)",
   "language": "python",
   "name": "python3"
  },
  "language_info": {
   "codemirror_mode": {
    "name": "ipython",
    "version": 3
   },
   "file_extension": ".py",
   "mimetype": "text/x-python",
   "name": "python",
   "nbconvert_exporter": "python",
   "pygments_lexer": "ipython3",
   "version": "3.9.7"
  }
 },
 "nbformat": 4,
 "nbformat_minor": 5
}
